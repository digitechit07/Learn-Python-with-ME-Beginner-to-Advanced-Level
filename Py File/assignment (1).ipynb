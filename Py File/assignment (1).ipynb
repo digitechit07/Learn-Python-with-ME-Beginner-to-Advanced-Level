{
 "cells": [
  {
   "cell_type": "markdown",
   "metadata": {},
   "source": [
    "## Q.1. What are keywords in python? Using the keyword library, print all the python keywords."
   ]
  },
  {
   "cell_type": "markdown",
   "metadata": {},
   "source": [
    "### keywords are the reserved  words in a programming langauge  rserve words means they are pre  defind in the  programming langautge and they have there    specific task to do   .. in python we  have 35 . wer cannot uise these words as a  simple variable\n"
   ]
  },
  {
   "cell_type": "code",
   "execution_count": 4,
   "metadata": {},
   "outputs": [
    {
     "name": "stdout",
     "output_type": "stream",
     "text": [
      "['False', 'None', 'True', 'and', 'as', 'assert', 'async', 'await', 'break', 'class', 'continue', 'def', 'del', 'elif', 'else', 'except', 'finally', 'for', 'from', 'global', 'if', 'import', 'in', 'is', 'lambda', 'nonlocal', 'not', 'or', 'pass', 'raise', 'return', 'try', 'while', 'with', 'yield']\n"
     ]
    }
   ],
   "source": [
    "import keyword\n",
    "\n",
    "print(keyword.kwlist)"
   ]
  },
  {
   "cell_type": "markdown",
   "metadata": {},
   "source": [
    "## Q.2. What are the rules to create variables in python?"
   ]
  },
  {
   "cell_type": "markdown",
   "metadata": {},
   "source": [
    "### Start with a Letter or Underscore: Variable names must begin with a letter (a-z, A-Z) or an underscore (_).\n",
    "\n"
   ]
  },
  {
   "cell_type": "code",
   "execution_count": null,
   "metadata": {},
   "outputs": [],
   "source": [
    "my_variable = 10\n",
    "_myVariable = 20"
   ]
  },
  {
   "cell_type": "markdown",
   "metadata": {},
   "source": [
    "### Use Letters, Numbers, or Underscores: After the first character, you can use letters, numbers, or underscores."
   ]
  },
  {
   "cell_type": "code",
   "execution_count": null,
   "metadata": {},
   "outputs": [],
   "source": [
    "variable1 = 30\n",
    "another_variable = 40\n"
   ]
  },
  {
   "cell_type": "markdown",
   "metadata": {},
   "source": [
    "### No Spaces or Special Characters: You can't use spaces or special characters like @, #, !, etc."
   ]
  },
  {
   "cell_type": "code",
   "execution_count": null,
   "metadata": {},
   "outputs": [],
   "source": [
    "my variable = 50  # Invalid because of space\n",
    "my@variable = 60  # Invalid because of @"
   ]
  },
  {
   "cell_type": "markdown",
   "metadata": {},
   "source": [
    "### Case Sensitive: Variable names are case-sensitive. myVariable and myvariable are different."
   ]
  },
  {
   "cell_type": "code",
   "execution_count": null,
   "metadata": {},
   "outputs": [],
   "source": [
    "myVariable = 70\n",
    "myvariable = 80"
   ]
  },
  {
   "cell_type": "markdown",
   "metadata": {},
   "source": [
    "### Don't Use Reserved Words: You can't use Python's reserved words (like class, for, if) as variable names.\n"
   ]
  },
  {
   "cell_type": "code",
   "execution_count": null,
   "metadata": {},
   "outputs": [],
   "source": [
    "class = 90  # Invalid because 'class' is a keyword\n",
    "\n",
    "for = 100   # Invalid because 'for' is a keyword"
   ]
  },
  {
   "cell_type": "markdown",
   "metadata": {},
   "source": [
    "### Use Meaningful Names: Use names that describe what the variable is for."
   ]
  },
  {
   "cell_type": "code",
   "execution_count": null,
   "metadata": {},
   "outputs": [],
   "source": [
    "\n",
    "age = 25\n",
    "total_price = 99.99"
   ]
  },
  {
   "cell_type": "markdown",
   "metadata": {},
   "source": [
    "### Use Snake Case: Write variable names in lowercase with underscores between words."
   ]
  },
  {
   "cell_type": "code",
   "execution_count": null,
   "metadata": {},
   "outputs": [],
   "source": [
    "user_name = \"Alice\"\n",
    "account_balance = 1500.75"
   ]
  },
  {
   "cell_type": "code",
   "execution_count": null,
   "metadata": {},
   "outputs": [],
   "source": [
    "# Valid\n",
    "user_name = \"Alice\"\n",
    "user_age = 30\n",
    "_account_balance = 1500.75\n",
    "total_price2 = 99.99\n",
    "\n",
    "# Invalid\n",
    "2user_name = \"Bob\"     # Invalid: starts with a number\n",
    "user-age = 25          # Invalid: contains a hyphen\n",
    "user name = \"Charlie\"  # Invalid: contains a space\n",
    "class = \"Math\"         # Invalid: 'class' is a keyword"
   ]
  },
  {
   "cell_type": "markdown",
   "metadata": {},
   "source": [
    "## Q.3. What are the standards and conventions followed for the nomenclature of variables in python to improve code readability and maintainability?"
   ]
  },
  {
   "cell_type": "markdown",
   "metadata": {},
   "source": [
    "## 1. Use Meaningful Names\n",
    "### Choose variable names that clearly describe the data they hold.\n",
    "\n",
    "\n"
   ]
  },
  {
   "cell_type": "code",
   "execution_count": null,
   "metadata": {},
   "outputs": [],
   "source": [
    "user_age = 25\n",
    "total_price = 99.99"
   ]
  },
  {
   "cell_type": "markdown",
   "metadata": {},
   "source": [
    "## 2. Use Snake Case\n",
    "### Write variable names in snake_case, using lowercase letters and underscores to separate words."
   ]
  },
  {
   "cell_type": "code",
   "execution_count": null,
   "metadata": {},
   "outputs": [],
   "source": [
    "first_name = \"John\"\n",
    "account_balance = 1500.75\n"
   ]
  },
  {
   "cell_type": "markdown",
   "metadata": {},
   "source": [
    "## 3. Avoid Single-Letter Names\n",
    "### Except for short-lived variables like loop counters, avoid single-letter names."
   ]
  },
  {
   "cell_type": "code",
   "execution_count": null,
   "metadata": {},
   "outputs": [],
   "source": [
    "for i in range(10):  # Acceptable for loop counters\n",
    "    print(i)\n",
    "\n",
    "user_age = 30  # Better than using 'u' or 'x'\n"
   ]
  },
  {
   "cell_type": "markdown",
   "metadata": {},
   "source": [
    "## 4. Consistency\n",
    "### Be consistent with naming conventions throughout your code."
   ]
  },
  {
   "cell_type": "code",
   "execution_count": null,
   "metadata": {},
   "outputs": [],
   "source": [
    "# Consistent naming\n",
    "user_name = \"Alice\"\n",
    "user_age = 30\n",
    "\n",
    "# Inconsistent naming (avoid)\n",
    "user_name = \"Alice\"\n",
    "userAge = 30\n"
   ]
  },
  {
   "cell_type": "markdown",
   "metadata": {},
   "source": [
    "## 5. Use Lowercase with Underscores for Variables\n",
    "### Use all lowercase letters with underscores to improve readability."
   ]
  },
  {
   "cell_type": "code",
   "execution_count": null,
   "metadata": {},
   "outputs": [],
   "source": [
    "first_name = \"John\"\n",
    "last_name = \"Doe\"\n"
   ]
  },
  {
   "cell_type": "markdown",
   "metadata": {},
   "source": [
    "## 6. Avoid Using Python Keywords\n",
    "### Don't use Python's reserved words (keywords) as variable names."
   ]
  },
  {
   "cell_type": "code",
   "execution_count": null,
   "metadata": {},
   "outputs": [],
   "source": [
    "class = \"Math\"  # Invalid because 'class' is a keyword\n",
    "return = 100    # Invalid because 'return' is a keyword\n"
   ]
  },
  {
   "cell_type": "markdown",
   "metadata": {},
   "source": [
    "## 7. Use Descriptive Names for Boolean Variables\n",
    "### Prefix Boolean variables with is, has, or can to indicate their type."
   ]
  },
  {
   "cell_type": "code",
   "execution_count": null,
   "metadata": {},
   "outputs": [],
   "source": [
    "is_valid = True\n",
    "has_permission = False\n",
    "can_execute = True\n"
   ]
  },
  {
   "cell_type": "markdown",
   "metadata": {},
   "source": [
    "## 8. Avoid Abbreviations and Acronyms\n",
    "### Use complete words instead of abbreviations or acronyms unless they are widely understood."
   ]
  },
  {
   "cell_type": "code",
   "execution_count": null,
   "metadata": {},
   "outputs": [],
   "source": [
    "# Avoid\n",
    "usr_nm = \"John\"\n",
    "acc_bal = 1500.75\n",
    "\n",
    "# Use\n",
    "user_name = \"John\"\n",
    "account_balance = 1500.75\n"
   ]
  },
  {
   "cell_type": "markdown",
   "metadata": {},
   "source": [
    "## Q.4. What will happen if a keyword is used as a variable name?"
   ]
  },
  {
   "cell_type": "markdown",
   "metadata": {},
   "source": [
    "### If we use a keyword as a variable name in Python, you'll encounter a syntax error. Python's keywords are reserved for specific language constructs, and using them as variable names will prevent the interpreter from understanding your code correctly."
   ]
  },
  {
   "cell_type": "markdown",
   "metadata": {},
   "source": [
    "## Example of Using a Keyword as a Variable Name"
   ]
  },
  {
   "cell_type": "code",
   "execution_count": 5,
   "metadata": {},
   "outputs": [
    {
     "ename": "SyntaxError",
     "evalue": "invalid syntax (3179062888.py, line 2)",
     "output_type": "error",
     "traceback": [
      "\u001b[1;36m  Cell \u001b[1;32mIn[5], line 2\u001b[1;36m\u001b[0m\n\u001b[1;33m    class = \"Math\"\u001b[0m\n\u001b[1;37m          ^\u001b[0m\n\u001b[1;31mSyntaxError\u001b[0m\u001b[1;31m:\u001b[0m invalid syntax\n"
     ]
    }
   ],
   "source": [
    "# Attempting to use a keyword as a variable name\n",
    "class = \"Math\"\n"
   ]
  },
  {
   "cell_type": "markdown",
   "metadata": {},
   "source": [
    "### Keywords are part of Python's syntax and have predefined meanings. For example, class is used to define a class, for is used in loops, and if is used in conditional statements. If you try to use these words as variable names, Python will not be able to parse your code correctly, leading to a SyntaxError.\n",
    "\n"
   ]
  },
  {
   "cell_type": "markdown",
   "metadata": {},
   "source": [
    "."
   ]
  },
  {
   "cell_type": "markdown",
   "metadata": {},
   "source": [
    "## Q.5. For what purpose def keyword is used?"
   ]
  },
  {
   "cell_type": "markdown",
   "metadata": {},
   "source": [
    "## The def keyword in Python is used to define a function. Functions are a way to group a set of statements together so they can be run more than once, and they can also be used to return values and take arguments."
   ]
  },
  {
   "cell_type": "code",
   "execution_count": 1,
   "metadata": {},
   "outputs": [],
   "source": [
    "def greet(name):\n",
    "    print(f\"Hello, {name}!\")\n"
   ]
  },
  {
   "cell_type": "markdown",
   "metadata": {},
   "source": [
    "## Q.6. What is the operation of this special character ‘\\’?"
   ]
  },
  {
   "cell_type": "markdown",
   "metadata": {},
   "source": [
    "### the backslash character \\ in Python is used as an escape character. This means it is used to indicate that the following character has a special meaning or should be treated differently than it normally would be. Here are some common uses of the backslash character:"
   ]
  },
  {
   "cell_type": "code",
   "execution_count": 2,
   "metadata": {},
   "outputs": [
    {
     "name": "stdout",
     "output_type": "stream",
     "text": [
      "Hello\n",
      "World\n",
      "Hello\tWorld\n"
     ]
    }
   ],
   "source": [
    "print(\"Hello\\nWorld\")  # Prints \"Hello\" and \"World\" on separate lines\n",
    "print(\"Hello\\tWorld\")  # Prints \"Hello\" followed by a tab and then \"World\"\n"
   ]
  },
  {
   "cell_type": "markdown",
   "metadata": {},
   "source": [
    "## Q.7. Give an example of the following conditions:\n",
    "### (i) Homogeneous list\n",
    "### (ii) Heterogeneous set\n",
    "### (iii) Homogeneous tuple"
   ]
  },
  {
   "cell_type": "markdown",
   "metadata": {},
   "source": [
    "## (i) Homogeneous list:\n",
    "### A homogeneous list is a list in which all elements are of the same type."
   ]
  },
  {
   "cell_type": "code",
   "execution_count": 3,
   "metadata": {},
   "outputs": [],
   "source": [
    "# Example of a homogeneous list with all elements being integers\n",
    "homogeneous_list = [1, 2, 3, 4, 5]\n"
   ]
  },
  {
   "cell_type": "markdown",
   "metadata": {},
   "source": [
    "## (ii) Heterogeneous set:\n",
    "### A heterogeneous set is a set in which elements are of different types."
   ]
  },
  {
   "cell_type": "code",
   "execution_count": null,
   "metadata": {},
   "outputs": [],
   "source": [
    "# Example of a heterogeneous set with elements of different types\n",
    "heterogeneous_set = {1, \"hello\", 3.14, (2, 3)}\n"
   ]
  },
  {
   "cell_type": "markdown",
   "metadata": {},
   "source": [
    "## (iii) Homogeneous tuple:\n",
    "### A homogeneous tuple is a tuple in which all elements are of the same type."
   ]
  },
  {
   "cell_type": "code",
   "execution_count": 4,
   "metadata": {},
   "outputs": [],
   "source": [
    "# Example of a homogeneous tuple with all elements being strings\n",
    "homogeneous_tuple = (\"apple\", \"banana\", \"cherry\")\n"
   ]
  },
  {
   "cell_type": "markdown",
   "metadata": {},
   "source": [
    ".\n"
   ]
  },
  {
   "cell_type": "markdown",
   "metadata": {},
   "source": [
    "## Q.8. Explain the mutable and immutable data types with proper explanation & examples."
   ]
  },
  {
   "cell_type": "markdown",
   "metadata": {},
   "source": [
    "## Mutable Data Types\n",
    "### Mutable data types are those whose values can be changed in place after they are created. This means you can modify, add, or remove elements without creating a new object."
   ]
  },
  {
   "cell_type": "code",
   "execution_count": 5,
   "metadata": {},
   "outputs": [
    {
     "name": "stdout",
     "output_type": "stream",
     "text": [
      "[10, 2, 3, 4]\n"
     ]
    }
   ],
   "source": [
    "my_list = [1, 2, 3]\n",
    "my_list[0] = 10  # Modifying an element\n",
    "my_list.append(4)  # Adding an element\n",
    "print(my_list)  "
   ]
  },
  {
   "cell_type": "code",
   "execution_count": 6,
   "metadata": {},
   "outputs": [
    {
     "name": "stdout",
     "output_type": "stream",
     "text": [
      "{'a': 10, 'b': 2, 'c': 3}\n"
     ]
    }
   ],
   "source": [
    "my_dict = {'a': 1, 'b': 2}\n",
    "my_dict['a'] = 10  # Modifying a value\n",
    "my_dict['c'] = 3  # Adding a new key-value pair\n",
    "print(my_dict)  \n"
   ]
  },
  {
   "cell_type": "code",
   "execution_count": 7,
   "metadata": {},
   "outputs": [
    {
     "name": "stdout",
     "output_type": "stream",
     "text": [
      "{1, 3, 4}\n"
     ]
    }
   ],
   "source": [
    "\n",
    "my_set = {1, 2, 3}\n",
    "my_set.add(4)  # Adding an element\n",
    "my_set.remove(2)  # Removing an element\n",
    "print(my_set) "
   ]
  },
  {
   "cell_type": "markdown",
   "metadata": {},
   "source": [
    "## Immutable Data Types\n",
    "### Immutable data types are those whose values cannot be changed once they are created. If you need to modify their value, you have to create a new object."
   ]
  },
  {
   "cell_type": "code",
   "execution_count": 8,
   "metadata": {},
   "outputs": [
    {
     "name": "stdout",
     "output_type": "stream",
     "text": [
      "jello\n",
      "hello\n"
     ]
    }
   ],
   "source": [
    "my_string = \"hello\"\n",
    "new_string = my_string.replace('h', 'j')  # Creating a new string\n",
    "print(new_string) \n",
    "print(my_string)  \n"
   ]
  },
  {
   "cell_type": "code",
   "execution_count": 9,
   "metadata": {},
   "outputs": [
    {
     "name": "stdout",
     "output_type": "stream",
     "text": [
      "(10, 2, 3)\n",
      "(1, 2, 3)\n"
     ]
    }
   ],
   "source": [
    "my_tuple = (1, 2, 3)\n",
    "# my_tuple[0] = 10  # This would raise an error because tuples are immutable\n",
    "new_tuple = (10, 2, 3)  # Creating a new tuple\n",
    "print(new_tuple)  \n",
    "print(my_tuple)  \n"
   ]
  },
  {
   "cell_type": "markdown",
   "metadata": {},
   "source": [
    "## Q.9. Write a code to create the given structure using only for loop.(praymid)\n"
   ]
  },
  {
   "cell_type": "code",
   "execution_count": 18,
   "metadata": {},
   "outputs": [],
   "source": [
    "def print_pyramid(rows):\n",
    "    \n",
    "    for i in range(rows):\n",
    "        \n",
    "        for j in range(rows-i-1):\n",
    "            print(\" \",end=\"\")\n",
    "            \n",
    "        for k in range(2*i+1):\n",
    "            \n",
    "            print(\"*\", end=\"\")\n",
    "            \n",
    "        print()"
   ]
  },
  {
   "cell_type": "code",
   "execution_count": 19,
   "metadata": {},
   "outputs": [
    {
     "name": "stdout",
     "output_type": "stream",
     "text": [
      "      *\n",
      "     ***\n",
      "    *****\n",
      "   *******\n",
      "  *********\n",
      " ***********\n",
      "*************\n"
     ]
    }
   ],
   "source": [
    "rows = 7\n",
    "print_pyramid(rows)"
   ]
  },
  {
   "cell_type": "markdown",
   "metadata": {},
   "source": [
    "## Q.10. Write a code to create the given structure using while loop.(opposite pyramid with pipe symbol)\n"
   ]
  },
  {
   "cell_type": "code",
   "execution_count": 21,
   "metadata": {},
   "outputs": [
    {
     "name": "stdout",
     "output_type": "stream",
     "text": [
      "|||||||||\n",
      " |||||||\n",
      "  |||||\n",
      "   |||\n",
      "    |\n"
     ]
    }
   ],
   "source": [
    "def print_structure(rows):\n",
    "    for i in range(rows, 0, -1):\n",
    "        # Print leading spaces\n",
    "        spaces = rows - i\n",
    "        for _ in range(spaces):\n",
    "            print(\" \", end=\"\")\n",
    "        # Print pipes\n",
    "        print(\"|\" * (2 * i - 1))\n",
    "\n",
    "# Number of rows (height of the structure)\n",
    "rows = 5\n",
    "print_structure(rows)\n",
    "\n"
   ]
  },
  {
   "cell_type": "code",
   "execution_count": null,
   "metadata": {},
   "outputs": [],
   "source": []
  }
 ],
 "metadata": {
  "kernelspec": {
   "display_name": "Python 3",
   "language": "python",
   "name": "python3"
  },
  "language_info": {
   "codemirror_mode": {
    "name": "ipython",
    "version": 3
   },
   "file_extension": ".py",
   "mimetype": "text/x-python",
   "name": "python",
   "nbconvert_exporter": "python",
   "pygments_lexer": "ipython3",
   "version": "3.11.4"
  }
 },
 "nbformat": 4,
 "nbformat_minor": 2
}
