{
 "cells": [
  {
   "cell_type": "markdown",
   "metadata": {},
   "source": [
    "DAY - 1"
   ]
  },
  {
   "cell_type": "code",
   "execution_count": 2,
   "metadata": {},
   "outputs": [
    {
     "name": "stdout",
     "output_type": "stream",
     "text": [
      "Integer: 10\n",
      "Float: 3.14\n",
      "String: Hello, world!\n",
      "Boolean: True\n",
      "Swapped numbers: 20 10\n",
      "Celsius: 30.0\n",
      "Area: 15\n",
      "Perimeter: 16\n"
     ]
    }
   ],
   "source": [
    "def print_data_types():\n",
    "    \"\"\"Prints values of different data types.\"\"\"\n",
    "    integer_var = 10\n",
    "    float_var = 3.14\n",
    "    string_var = \"Hello, world!\"\n",
    "    boolean_var = True\n",
    "\n",
    "    print(\"Integer:\", integer_var)\n",
    "    print(\"Float:\", float_var)\n",
    "    print(\"String:\", string_var)\n",
    "    print(\"Boolean:\", boolean_var)\n",
    "\n",
    "def swap_numbers(num1, num2):\n",
    "    \"\"\"Swaps two numbers without using a third variable.\"\"\"\n",
    "    num1 = num1 + num2\n",
    "    num2 = num1 - num2\n",
    "    num1 = num1 - num2\n",
    "    return num1, num2\n",
    "\n",
    "def convert_temperature(temperature, unit):\n",
    "    \"\"\"Converts temperature between Fahrenheit and Celsius.\"\"\"\n",
    "    if unit == \"F\":\n",
    "        celsius = (temperature - 32) * 5 / 9\n",
    "        return celsius\n",
    "    elif unit == \"C\":\n",
    "        fahrenheit = (temperature * 9 / 5) + 32\n",
    "        return fahrenheit\n",
    "    else:\n",
    "        return \"Invalid unit\"\n",
    "\n",
    "def calculate_area_perimeter(length, width):\n",
    "    \"\"\"Calculates the area and perimeter of a rectangle.\"\"\"\n",
    "    area = length * width\n",
    "    perimeter = 2 * (length + width)\n",
    "    return area, perimeter\n",
    "\n",
    "# Example usage\n",
    "print_data_types()\n",
    "\n",
    "num1, num2 = swap_numbers(10, 20)\n",
    "print(\"Swapped numbers:\", num1, num2)\n",
    "\n",
    "fahrenheit = 86\n",
    "celsius = convert_temperature(fahrenheit, \"F\")\n",
    "print(\"Celsius:\", celsius)\n",
    "\n",
    "length = 5\n",
    "width = 3\n",
    "area, perimeter = calculate_area_perimeter(length, width)\n",
    "print(\"Area:\", area)\n",
    "print(\"Perimeter:\", perimeter)"
   ]
  },
  {
   "cell_type": "code",
   "execution_count": null,
   "metadata": {},
   "outputs": [],
   "source": [
    "print(\"darshan\")"
   ]
  },
  {
   "cell_type": "code",
   "execution_count": 6,
   "metadata": {},
   "outputs": [
    {
     "name": "stdout",
     "output_type": "stream",
     "text": [
      "[10, 20, 30, True, 'darshan', 298.877, 30, 10, 20]\n",
      "[10, 20, 30, True, 'darshan', 298.877, 30, 10, 20, 2027]\n",
      "[10, 20, True, 'darshan', 298.877, 30, 10, 20, 2027]\n"
     ]
    }
   ],
   "source": [
    "l=[10,20,30,True,\"darshan\",298.877,30,10,20]\n",
    "print(l)\n",
    "l.append(2027)\n",
    "print(l)\n",
    "l.remove(30)\n",
    "print(l)"
   ]
  },
  {
   "cell_type": "code",
   "execution_count": 9,
   "metadata": {},
   "outputs": [
    {
     "name": "stdout",
     "output_type": "stream",
     "text": [
      "(10, 20, 30, 40, 50, True, 76.876, 10, 20, 30)\n"
     ]
    },
    {
     "data": {
      "text/plain": [
       "2"
      ]
     },
     "execution_count": 9,
     "metadata": {},
     "output_type": "execute_result"
    }
   ],
   "source": [
    "t=(10,20,30,40,50,True,76.876,10,20,30)\n",
    "print(t)\n",
    "t.count(10)"
   ]
  },
  {
   "cell_type": "code",
   "execution_count": 13,
   "metadata": {},
   "outputs": [
    {
     "name": "stdout",
     "output_type": "stream",
     "text": [
      "{0.98877, True, 3045, 10, 2027, 20, 988, 30}\n"
     ]
    }
   ],
   "source": [
    "s={10,20,30,2027,3045,988,True,.98877,10,20,30}\n",
    "print(s)\n"
   ]
  },
  {
   "cell_type": "code",
   "execution_count": 16,
   "metadata": {},
   "outputs": [
    {
     "name": "stdout",
     "output_type": "stream",
     "text": [
      "{1: 'darshan', 2: 'rahul', 3: 'sudeep', 4: 'darshan'}\n",
      "<built-in method keys of dict object at 0x000001A31D549D40>\n"
     ]
    }
   ],
   "source": [
    "d={1:\"darshan\",2:\"rahul\",3:\"sudeep\",4:\"darshan\"}\n",
    "print(d)\n",
    "print(d.keys)"
   ]
  },
  {
   "cell_type": "code",
   "execution_count": 3,
   "metadata": {},
   "outputs": [
    {
     "name": "stdout",
     "output_type": "stream",
     "text": [
      "17 is a prime number.\n",
      "Factorial of 5 : 120\n",
      "2 raised to the power of 3 : 8\n",
      "2024 is a leap year.\n"
     ]
    }
   ],
   "source": [
    "def is_prime(number):\n",
    "    \"\"\"Checks if a number is prime.\"\"\"\n",
    "    if number <= 1:\n",
    "        return False\n",
    "    for i in range(2, int(number**0.5) + 1):\n",
    "        if number % i == 0:\n",
    "            return False\n",
    "    return True\n",
    "\n",
    "def factorial_recursive(num):\n",
    "    \"\"\"Calculates the factorial of a number using recursion.\"\"\"\n",
    "    if num == 0:\n",
    "        return 1\n",
    "    else:\n",
    "        return num * factorial_recursive(num - 1)\n",
    "\n",
    "def calculate_power(base, exponent):\n",
    "    \"\"\"Calculates the power of a number using recursion.\"\"\"\n",
    "    if exponent == 0:\n",
    "        return 1\n",
    "    else:\n",
    "        return base * calculate_power(base, exponent - 1)\n",
    "\n",
    "def is_leap_year(year):\n",
    "    \"\"\"Checks if a given year is a leap year.\"\"\"\n",
    "    if year % 4 == 0 and (year % 100 != 0 or year % 400 == 0):\n",
    "        return True\n",
    "    else:\n",
    "        return False\n",
    "\n",
    "# Example usage\n",
    "number = 17\n",
    "if is_prime(number):\n",
    "    print(number, \"is a prime number.\")\n",
    "else:\n",
    "    print(number, \"is not a prime number.\")\n",
    "\n",
    "num = 5\n",
    "factorial = factorial_recursive(num)\n",
    "print(\"Factorial of\", num, \":\", factorial)\n",
    "\n",
    "base = 2\n",
    "exponent = 3\n",
    "power = calculate_power(base, exponent)\n",
    "print(base, \"raised to the power of\", exponent, \":\", power)\n",
    "\n",
    "year = 2024\n",
    "if is_leap_year(year):\n",
    "    print(year, \"is a leap year.\")\n",
    "else:\n",
    "    print(year, \"is not a leap year.\")"
   ]
  },
  {
   "cell_type": "code",
   "execution_count": 4,
   "metadata": {},
   "outputs": [
    {
     "name": "stdout",
     "output_type": "stream",
     "text": [
      "0 1 1 2 3 5 8 13 21 34 Largest element: 9\n",
      "Sorted array: [1, 2, 5, 8, 9]\n"
     ]
    }
   ],
   "source": [
    "def print_fibonacci(terms):\n",
    "    \"\"\"Prints the Fibonacci series up to a given term.\"\"\"\n",
    "    first_term = 0\n",
    "    second_term = 1\n",
    "    print(first_term, second_term, end=\" \")\n",
    "    for i in range(2, terms):\n",
    "        next_term = first_term + second_term\n",
    "        print(next_term, end=\" \")\n",
    "        first_term, second_term = second_term, next_term\n",
    "\n",
    "def find_largest_element(array):\n",
    "    \"\"\"Finds the largest element in an array.\"\"\"\n",
    "    largest = array[0]\n",
    "    for num in array:\n",
    "        if num > largest:\n",
    "            largest = num\n",
    "    return largest\n",
    "\n",
    "def bubble_sort(array):\n",
    "    \"\"\"Sorts an array in ascending order using bubble sort.\"\"\"\n",
    "    n = len(array)\n",
    "    for i in range(n):\n",
    "        for j in range(0, n - i - 1):\n",
    "            if array[j] > array[j + 1]:\n",
    "                array[j], array[j + 1] = array[j + 1], array[j]\n",
    "\n",
    "def simple_calculator():\n",
    "    \"\"\"Implements a simple calculator with basic arithmetic operations.\"\"\"\n",
    "    while True:\n",
    "        num1 = float(input(\"Enter the first number: \"))\n",
    "        operator = input(\"Enter the operator (+, -, *, /): \")\n",
    "        num2 = float(input(\"Enter the second number: \"))\n",
    "\n",
    "        if operator == \"+\":\n",
    "            result = num1 + num2\n",
    "        elif operator == \"-\":\n",
    "            result = num1 - num2\n",
    "        elif operator == \"*\":\n",
    "            result = num1 * num2\n",
    "        elif operator == \"/\":\n",
    "            if num2 == 0:\n",
    "                print(\"Error: Cannot divide by zero.\")\n",
    "            else:\n",
    "                result = num1 / num2\n",
    "        else:\n",
    "            print(\"Invalid operator.\")\n",
    "\n",
    "        print(\"Result:\", result)\n",
    "\n",
    "        choice = input(\"Do you want to continue? (y/n): \")\n",
    "        if choice.lower() != \"y\":\n",
    "            break\n",
    "\n",
    "# Example usage\n",
    "print_fibonacci(10)\n",
    "array = [5, 2, 8, 1, 9]\n",
    "largest = find_largest_element(array)\n",
    "print(\"Largest element:\", largest)\n",
    "bubble_sort(array)\n",
    "print(\"Sorted array:\", array)\n",
    "simple_calculator()"
   ]
  },
  {
   "cell_type": "code",
   "execution_count": 20,
   "metadata": {},
   "outputs": [
    {
     "name": "stdout",
     "output_type": "stream",
     "text": [
      "6\n",
      "7\n",
      "0\n",
      "15\n",
      "13\n",
      "-11\n",
      "109\n",
      "-1001\n",
      "64\n",
      "1\n",
      "5\n",
      "2\n",
      "1\n",
      "4\n",
      "50\n",
      "200\n"
     ]
    }
   ],
   "source": [
    "print(6&7)\n",
    "print(6|7)\n",
    "print(5&10)\n",
    "print(5|10)\n",
    "print(10^7)\n",
    "\n",
    "print(~10)\n",
    "print(~-110)\n",
    "print(~1000)\n",
    "\n",
    "print(8<<3)\n",
    "print(8>>3)\n",
    "print(10>>1)\n",
    "print(8>>2)\n",
    "print(8>>3)\n",
    "print(8>>1)\n",
    "print(100>>1)\n",
    "print(100<<1)"
   ]
  },
  {
   "cell_type": "code",
   "execution_count": null,
   "metadata": {},
   "outputs": [],
   "source": []
  },
  {
   "cell_type": "code",
   "execution_count": 24,
   "metadata": {},
   "outputs": [
    {
     "name": "stdout",
     "output_type": "stream",
     "text": [
      "True\n",
      "False\n",
      "True\n",
      "False\n"
     ]
    }
   ],
   "source": [
    "fruits=[\"apple\",\"mango\",\"orange\",\"banana\"]\n",
    "print(\"banana\" in fruits)\n",
    "print(\"pppp\" in fruits)\n",
    "print(\"pppp\"  not in fruits)\n",
    "print(\"apple\"  not in fruits)"
   ]
  },
  {
   "cell_type": "code",
   "execution_count": 1,
   "metadata": {},
   "outputs": [
    {
     "name": "stdout",
     "output_type": "stream",
     "text": [
      "Factorial of 5 : 120\n",
      "racecar is a palindrome.\n",
      "Area of circle: 78.53975\n",
      "GCD of 12 and 18 : 6\n"
     ]
    }
   ],
   "source": [
    "def factorial(num):\n",
    "    \"\"\"Calculates the factorial of a number.\"\"\"\n",
    "    if num == 0:\n",
    "        return 1\n",
    "    else:\n",
    "        return num * factorial(num - 1)\n",
    "\n",
    "def is_palindrome(string):\n",
    "    \"\"\"Checks if a string is a palindrome.\"\"\"\n",
    "    return string == string[::-1]\n",
    "\n",
    "def calculate_circle_area(radius):\n",
    "    \"\"\"Calculates the area of a circle.\"\"\"\n",
    "    return 3.14159 * radius * radius\n",
    "\n",
    "def gcd(a, b):\n",
    "    \"\"\"Finds the greatest common divisor (GCD) of two numbers.\"\"\"\n",
    "    while b != 0:\n",
    "        a, b = b, a % b\n",
    "    return a\n",
    "\n",
    "# Example usage\n",
    "num = 5\n",
    "factorial = factorial(num)\n",
    "print(\"Factorial of\", num, \":\", factorial)\n",
    "\n",
    "string = \"racecar\"\n",
    "if is_palindrome(string):\n",
    "    print(string, \"is a palindrome.\")\n",
    "else:\n",
    "    print(string, \"is not a palindrome.\")\n",
    "\n",
    "radius = 5\n",
    "area = calculate_circle_area(radius)\n",
    "print(\"Area of circle:\", area)\n",
    "\n",
    "a = 12\n",
    "b = 18\n",
    "gcd_value = gcd(a, b)\n",
    "print(\"GCD of\", a, \"and\", b, \":\", gcd_value)"
   ]
  },
  {
   "cell_type": "code",
   "execution_count": 34,
   "metadata": {},
   "outputs": [
    {
     "name": "stdout",
     "output_type": "stream",
     "text": [
      "False\n",
      "False\n",
      "True\n",
      "True\n"
     ]
    }
   ],
   "source": [
    "a=[10,20,30,40]\n",
    "b=[10,20,30,40,90]\n",
    "print(a is  b)\n",
    "print(b is a)\n",
    "b=[10,20,30,40,90]\n",
    "d=[10,20,30,40,90]\n",
    "c=b\n",
    "print(b is c)\n",
    "print(d is not  c)"
   ]
  },
  {
   "cell_type": "code",
   "execution_count": 49,
   "metadata": {},
   "outputs": [
    {
     "name": "stdout",
     "output_type": "stream",
     "text": [
      "[1, 2, 3, 4, 5, True, 90.87, 'darshan', 1, 1, 1, 1]\n",
      "<class 'list'>\n",
      "[1, 2, 3, 4, 5, True, 90.87, 'darshan', 1, 1, 1, 1, 'engioneer']\n",
      "[1, 'darshabn', 2, 3, 4, 5, True, 90.87, 'darshan', 1, 1, 1, 1, 'engioneer']\n",
      "['darshabn', 2, 3, 4, 5, True, 90.87, 'darshan', 1, 1, 1, 1, 'engioneer']\n",
      "['darshabn', 2, 3, 4, 5, True, 90.87, 1, 1, 1, 1, 'engioneer']\n",
      "0\n",
      "['engioneer', 1, 1, 1, 1, 90.87, True, 5, 4, 3, 2, 'darshabn']\n",
      "hello  darshan  good  morning\n",
      "['engioneer', 1, 1, 1, 1, 90.87, True, 5, 4, 3, 2, 'darshabn']\n"
     ]
    }
   ],
   "source": [
    "#  list  methods\n",
    "l=[1,2,3,4,5,True,90.87,\"darshan\",1,1,1,1]\n",
    "print(l)\n",
    "print(type(l))\n",
    "l.append(\"engioneer\")\n",
    "print(l)\n",
    "l.insert(1,\"darshabn\")\n",
    "print(l)\n",
    "l.remove(1)\n",
    "print(l)\n",
    "l.remove(\"darshan\")\n",
    "print(l)\n",
    "print(l.count(\"darshan\"))\n",
    "l.reverse()\n",
    "print(l)\n",
    "print(\"hello  darshan  good  morning\")\n",
    "\n",
    "print(l)\n",
    "print(l)"
   ]
  },
  {
   "cell_type": "code",
   "execution_count": 66,
   "metadata": {},
   "outputs": [
    {
     "name": "stdout",
     "output_type": "stream",
     "text": [
      "[1, 2, 3, 4, 5, True, 90.87, 'darshan', 1, 1, 1, 1, 'cse', 'cse', 2, 2, 2, 2]\n",
      "[1, 2, 3, 4, 5, True, 90.87, 'darshan', 1, 1, 1, 1, 'cse', 'cse', 2, 2, 2]\n",
      "[1, 2, 3, 4, 5, True, 'engineer', 90.87, 'darshan', 1, 1, 1, 1, 'cse', 2, 2, 2]\n",
      "6\n",
      "[2, 2, 2, 'cse', 1, 1, 1, 1, 'darshan', 90.87, 'engineer', True, 5, 4, 3, 2, 1]\n",
      "4\n"
     ]
    }
   ],
   "source": [
    "l=[1,2,3,4,5,True,90.87,\"darshan\",1,1,1,1,\"cse\",\"cse\",2,2,2,2]\n",
    "print(l)\n",
    "l.pop()\n",
    "print(l)\n",
    "l.remove(\"cse\")\n",
    "l.insert(6,\"engineer\")\n",
    "print(l)\n",
    "print(l.count(1))\n",
    "l.reverse()\n",
    "print(l)"
   ]
  },
  {
   "cell_type": "code",
   "execution_count": 70,
   "metadata": {},
   "outputs": [
    {
     "name": "stdout",
     "output_type": "stream",
     "text": [
      "(1, 2, 3, 34, 4, 5, 6, 67, 'darshan', 'bro', 'irfan', 'irfan', 'darshan')\n",
      "2\n"
     ]
    }
   ],
   "source": [
    "t=(1,2,3,34,4,5,6,67,\"darshan\",\"bro\",\"irfan\",\"irfan\",\"darshan\")\n",
    "print(t)\n",
    "print(t.count(\"darshan\"))"
   ]
  },
  {
   "cell_type": "code",
   "execution_count": 2,
   "metadata": {},
   "outputs": [
    {
     "name": "stdout",
     "output_type": "stream",
     "text": [
      "Reversed list: [9, 1, 8, 2, 5]\n",
      "Second largest element: 9\n",
      "Merged list: [1, 2, 3, 4, 5, 6]\n",
      "Error: 'tuple' object does not support item assignment\n"
     ]
    }
   ],
   "source": [
    "def reverse_list(lst):\n",
    "    \"\"\"Reverses a list without using the reverse() method.\"\"\"\n",
    "    start = 0\n",
    "    end = len(lst) - 1\n",
    "    while start < end:\n",
    "        lst[start], lst[end] = lst[end], lst[start]\n",
    "        start += 1\n",
    "        end -= 1\n",
    "\n",
    "def find_second_largest(lst):\n",
    "    \"\"\"Finds the second largest element in a list.\"\"\"\n",
    "    if len(lst) < 2:\n",
    "        return None\n",
    "    largest = lst[0]\n",
    "    second_largest = lst[0]\n",
    "    for num in lst:\n",
    "        if num > largest:\n",
    "            second_largest = largest\n",
    "            largest = num\n",
    "        elif num > second_largest and num != largest:\n",
    "            second_largest = num\n",
    "    return second_largest\n",
    "\n",
    "def merge_sorted_lists(list1, list2):\n",
    "    \"\"\"Merges two sorted lists into a single sorted list.\"\"\"\n",
    "    merged_list = []\n",
    "    i = 0\n",
    "    j = 0\n",
    "    while i < len(list1) and j < len(list2):\n",
    "        if list1[i] < list2[j]:\n",
    "            merged_list.append(list1[i])\n",
    "            i += 1\n",
    "        else:\n",
    "            merged_list.append(list2[j])\n",
    "            j += 1\n",
    "    merged_list += list1[i:]\n",
    "    merged_list += list2[j:]\n",
    "    return merged_list\n",
    "\n",
    "def demonstrate_immutability():\n",
    "    \"\"\"Demonstrates the immutability of tuples.\"\"\"\n",
    "    tuple_example = (1, 2, 3)\n",
    "    try:\n",
    "        tuple_example[0] = 10\n",
    "    except TypeError as e:\n",
    "        print(\"Error:\", e)\n",
    "\n",
    "# Example usage\n",
    "my_list = [5, 2, 8, 1, 9]\n",
    "reverse_list(my_list)\n",
    "print(\"Reversed list:\", my_list)\n",
    "\n",
    "second_largest = find_second_largest(my_list)\n",
    "print(\"Second largest element:\", second_largest)\n",
    "\n",
    "list1 = [1, 3, 5]\n",
    "list2 = [2, 4, 6]\n",
    "merged_list = merge_sorted_lists(list1, list2)\n",
    "print(\"Merged list:\", merged_list)\n",
    "\n",
    "demonstrate_immutability()"
   ]
  },
  {
   "cell_type": "code",
   "execution_count": 3,
   "metadata": {},
   "outputs": [
    {
     "name": "stdout",
     "output_type": "stream",
     "text": [
      "Word frequency: {'This': 2, 'is': 2, 'a': 1, 'sample': 1, 'text.': 1, 'another': 1, 'sentence.': 1}\n"
     ]
    }
   ],
   "source": [
    "def count_word_frequency(text):\n",
    "    \"\"\"Counts the word frequency in a given text.\"\"\"\n",
    "    word_count = {}\n",
    "    words = text.split()\n",
    "    for word in words:\n",
    "        word_count[word] = word_count.get(word, 0) + 1\n",
    "    return word_count\n",
    "\n",
    "def implement_phonebook():\n",
    "    \"\"\"Implements a simple phonebook using a dictionary.\"\"\"\n",
    "    phonebook = {}\n",
    "    while True:\n",
    "        choice = input(\"Enter your choice:\\n1. Add contact\\n2. Find contact\\n3. Exit\\n\")\n",
    "        if choice == \"1\":\n",
    "            name = input(\"Enter name: \")\n",
    "            phone_number = input(\"Enter phone number: \")\n",
    "            phonebook[name] = phone_number\n",
    "            print(\"Contact added successfully.\")\n",
    "        elif choice == \"2\":\n",
    "            name = input(\"Enter name to find: \")\n",
    "            if name in phonebook:\n",
    "                print(\"Phone number:\", phonebook[name])\n",
    "            else:\n",
    "                print(\"Contact not found.\")\n",
    "        elif choice == \"3\":\n",
    "            print(\"Exiting...\")\n",
    "            break\n",
    "        else:\n",
    "            print(\"Invalid choice.\")\n",
    "\n",
    "def find_most_frequent_character(string):\n",
    "    \"\"\"Finds the most frequent character in a string.\"\"\"\n",
    "    char_count = {}\n",
    "    for char in string:\n",
    "        char_count[char] = char_count.get(char, 0) + 1\n",
    "    most_frequent_char = max(char_count, key=char_count.get)\n",
    "    return most_frequent_char\n",
    "\n",
    "def merge_dictionaries(dict1, dict2):\n",
    "    \"\"\"Merges two dictionaries.\"\"\"\n",
    "    merged_dict = dict1.copy()\n",
    "    merged_dict.update(dict2)\n",
    "    return merged_dict\n",
    "\n",
    "# Example usage\n",
    "text = \"This is a sample text. This is another sentence.\"\n",
    "word_count = count_word_frequency(text)\n",
    "print(\"Word frequency:\", word_count)\n",
    "\n",
    "implement_phonebook()\n",
    "\n",
    "string = \"hello world\"\n",
    "most_frequent_char = find_most_frequent_character(string)\n",
    "print(\"Most frequent character:\", most_frequent_char)\n",
    "\n",
    "dict1 = {\"a\": 1, \"b\": 2}\n",
    "dict2 = {\"c\": 3, \"d\": 4}\n",
    "merged_dict = merge_dictionaries(dict1, dict2)\n",
    "print(\"Merged dictionary:\", merged_dict)"
   ]
  },
  {
   "cell_type": "code",
   "execution_count": null,
   "metadata": {},
   "outputs": [],
   "source": [
    "def sum_of_digits(num):\n",
    "    \"\"\"Finds the sum of digits of a number.\"\"\"\n",
    "    sum = 0\n",
    "    while num > 0:\n",
    "        sum += num % 10\n",
    "        num //= 10\n",
    "    return sum\n",
    "\n",
    "def is_pangram(string):\n",
    "    \"\"\"Checks if a given string is a pangram.\"\"\"\n",
    "    alphabet = set(string.lower())\n",
    "    return len(alphabet) == 26\n",
    "\n",
    "def find_prime_factors(num):\n",
    "    \"\"\"Finds the prime factors of a number.\"\"\"\n",
    "    prime_factors = []\n",
    "    i = 2\n",
    "    while i * i <= num:\n",
    "        while num % i == 0:\n",
    "            prime_factors.append(i)\n",
    "            num //= i\n",
    "        i += 1\n",
    "    if num > 1:\n",
    "        prime_factors.append(num)\n",
    "    return prime_factors\n",
    "\n",
    "def calculate_square_root(num):\n",
    "    \"\"\"Calculates the square root of a number.\"\"\"\n",
    "    return num ** 0.5\n",
    "\n",
    "def adventure_game():\n",
    "    \"\"\"Implements a simple text-based adventure game.\"\"\"\n",
    "    # Game logic here\n",
    "\n",
    "def simulate_dice_roll():\n",
    "    \"\"\"Simulates a dice roll.\"\"\"\n",
    "    import random\n",
    "    return random.randint(1, 6)\n",
    "\n",
    "def generate_random_password(length):\n",
    "    \"\"\"Generates a random password of a given length.\"\"\"\n",
    "    import string\n",
    "    import random\n",
    "    characters = string.ascii_letters + string.digits + string.punctuation\n",
    "    password = ''.join(random.choice(characters) for _ in range(length))\n",
    "    return password\n",
    "\n",
    "def guessing_game():\n",
    "    \"\"\"Implements a simple guessing game.\"\"\"\n",
    "    import random\n",
    "    secret_number = random.randint(1, 100)\n",
    "    attempts = 0\n",
    "    while True:\n",
    "        guess = int(input(\"Guess a number between 1 and 100: \"))\n",
    "        attempts += 1\n",
    "        if guess == secret_number:\n",
    "            print(\"Congratulations! You guessed the number in\", attempts, \"attempts.\")\n",
    "            break\n",
    "        elif guess < secret_number:\n",
    "            print(\"Too low. Try again.\")\n",
    "        else:\n",
    "            print(\"Too high. Try again.\")\n",
    "\n",
    "def calculate_triangle_area(side1, side2)"
   ]
  },
  {
   "cell_type": "code",
   "execution_count": null,
   "metadata": {},
   "outputs": [],
   "source": []
  },
  {
   "cell_type": "code",
   "execution_count": null,
   "metadata": {},
   "outputs": [],
   "source": [
    "def check_disjoint_sets(set1, set2):\n",
    "    \"\"\"Checks if two sets are disjoint.\"\"\"\n",
    "    return set1.isdisjoint(set2)\n",
    "\n",
    "def find_union_intersection(set1, set2):\n",
    "    \"\"\"Finds the union and intersection of two sets.\"\"\"\n",
    "    union_set = set1.union(set2)\n",
    "    intersection_set = set1.intersection(set2)\n",
    "    return union_set, intersection_set\n",
    "\n",
    "def is_subset(set1, set2):\n",
    "    \"\"\"Determines if a set is a subset of another set.\"\"\"\n",
    "    return set1.issubset(set2)\n",
    "\n",
    "def remove_duplicates_using_set(lst):\n",
    "    \"\"\"Removes duplicates from a list using a set.\"\"\"\n",
    "    unique_set = set(lst)\n",
    "    return list(unique_set)\n",
    "\n",
    "# Example usage\n",
    "set1 = {1, 2, 3}\n",
    "set2 = {3, 4, 5}\n",
    "if check_disjoint_sets(set1, set2):\n",
    "    print(\"Sets are disjoint.\")\n",
    "else:\n",
    "    print(\"Sets are not disjoint.\")\n",
    "\n",
    "union_set, intersection_set = find_union_intersection(set1, set2)\n",
    "print(\"Union:\", union_set)\n",
    "print(\"Intersection:\", intersection_set)\n",
    "\n",
    "if set1.issubset(set2):\n",
    "    print(\"Set 1 is a subset of Set 2.\")\n",
    "else:\n",
    "    print(\"Set 1 is not a subset of Set 2.\")\n",
    "\n",
    "lst = [1, 2, 3, 2, 4, 1]\n",
    "unique_list = remove_duplicates_using_set(lst)\n",
    "print(\"Unique elements:\", unique_list)"
   ]
  },
  {
   "cell_type": "code",
   "execution_count": 10,
   "metadata": {},
   "outputs": [
    {
     "name": "stdout",
     "output_type": "stream",
     "text": [
      "{8, 9, 7}\n",
      "{1, 2, 3, 5, 6, 7, 8, 9}\n",
      "{1, 2, 3}\n",
      "{5, 6, 7, 8, 9}\n"
     ]
    }
   ],
   "source": [
    "l1={1,2,3,9,8,7}\n",
    "l2={1,2,3,5,6}\n",
    "print(l1.difference(l2))\n",
    "print(l1.union(l2))\n",
    "print(l1.intersection(l2))\n",
    "print(l1.symmetric_difference(l2))"
   ]
  },
  {
   "cell_type": "code",
   "execution_count": 1,
   "metadata": {},
   "outputs": [
    {
     "name": "stdout",
     "output_type": "stream",
     "text": [
      "darshan\n",
      "<class 'str'>\n"
     ]
    }
   ],
   "source": [
    "\n",
    "\n",
    "print(\"darshan\")\n",
    "print(type(\"darshan\"))"
   ]
  },
  {
   "cell_type": "code",
   "execution_count": 3,
   "metadata": {},
   "outputs": [
    {
     "name": "stdout",
     "output_type": "stream",
     "text": [
      "<class 'int'>\n",
      "<class 'str'>\n",
      "<class 'float'>\n",
      "<class 'bool'>\n"
     ]
    }
   ],
   "source": [
    "print(type(2027))\n",
    "print(type(\"darshan\"))\n",
    "print(type(76.7676))\n",
    "print(type(True))"
   ]
  },
  {
   "cell_type": "code",
   "execution_count": 4,
   "metadata": {},
   "outputs": [
    {
     "name": "stdout",
     "output_type": "stream",
     "text": [
      "<class 'int'>\n",
      "<class 'str'>\n",
      "<class 'str'>\n",
      "<class 'bool'>\n",
      "<class 'float'>\n",
      "<class 'complex'>\n"
     ]
    }
   ],
   "source": [
    "a=2029\n",
    "b=\"darshan\"\n",
    "c=True\n",
    "d=2027.2727\n",
    "e=676+87j\n",
    "print(type(a))\n",
    "print(type(b))\n",
    "print(type(b))\n",
    "print(type(c))\n",
    "print(type(d))\n",
    "print(type(e))"
   ]
  },
  {
   "cell_type": "code",
   "execution_count": 7,
   "metadata": {},
   "outputs": [
    {
     "name": "stdout",
     "output_type": "stream",
     "text": [
      "darshan\n",
      "darshan  good  morning\n",
      "darshan\n",
      "2054\n"
     ]
    }
   ],
   "source": [
    "a=\"darshan\"\n",
    "A=\"darshan  good  morning\"\n",
    "print(a)\n",
    "print(A)\n",
    "_=\"darshan\"\n",
    "print(_)\n",
    "_=2027\n",
    "__=27\n",
    "print(_+__)"
   ]
  },
  {
   "cell_type": "code",
   "execution_count": null,
   "metadata": {},
   "outputs": [],
   "source": [
    "#comments  in  python  comments  are   ignored  by  the  comipler\n",
    "#it   supports  BODMAS rule\n",
    "#B=Bracket\n",
    "#O=order\n",
    "#D=division\n",
    "#m=minus\n",
    "#A=add\n",
    "#s=sUbtraction\n"
   ]
  },
  {
   "cell_type": "code",
   "execution_count": 18,
   "metadata": {},
   "outputs": [
    {
     "name": "stdout",
     "output_type": "stream",
     "text": [
      "<class 'int'>\n",
      "<class 'float'>\n",
      "<class 'str'>\n",
      "<class 'complex'>\n",
      "<class 'bool'>\n",
      "<class 'list'>\n",
      "[1, 2, 3, 4, 5, 6, 7, 8, 98, 76, 1, 2, 3, 4, 54, 5, 3, 4, 'darshan', 234.55, True]\n",
      "<class 'tuple'>\n",
      "{'darshan', True, 50, 20, 40, 10, 30}\n",
      "<class 'set'>\n",
      "<class 'dict'>\n",
      "{1: 'sunday', 2: 'monday', 3: 'darshan'}\n"
     ]
    }
   ],
   "source": [
    "print(type(2027))\n",
    "print(type(2027.654))\n",
    "print(type(\"adrsgahn\"))\n",
    "print(type(23+2j))\n",
    "print(type(True))\n",
    "l=[1,2,3,4,5,6,7,8,98,76,1,2,3,4,54,5,3,4,\"darshan\",234.55,True]\n",
    "print(type(l))\n",
    "print(l)\n",
    "t=(10,20,30,40,50,60,12,10,20,True,\"daeshan\")\n",
    "print(type(t))\n",
    "s={10,20,30,40,50,10,20,30,40,\"darshan\",True}\n",
    "print(s)\n",
    "print(type(s))\n",
    "d={1:\"sunday\",2:\"monday\",3:\"tuesday\",3:\"darshan\"}\n",
    "print(type(d))\n",
    "print(d)"
   ]
  },
  {
   "cell_type": "code",
   "execution_count": 33,
   "metadata": {},
   "outputs": [
    {
     "name": "stdout",
     "output_type": "stream",
     "text": [
      "4050\n",
      "-4\n",
      "4100621\n",
      "9.0\n",
      "8\n",
      "-3\n",
      "-4\n",
      "4\n",
      "27\n",
      "1\n",
      "2\n",
      "2\n",
      "True\n"
     ]
    }
   ],
   "source": [
    "#arithmetic  operators\n",
    "print(2023+2027)\n",
    "print(2023-2027)\n",
    "print(2023*2027)\n",
    "print(63/7)\n",
    "print(62//7)\n",
    "print(-5//2)\n",
    "print(-7//2)\n",
    "print(2**2)\n",
    "print(3**3)\n",
    "print(2023%2)\n",
    "print(50%3)\n",
    "print(100%7)\n",
    "x=20\n",
    "y=30\n",
    "print(not(x>10  and y<2))"
   ]
  },
  {
   "cell_type": "code",
   "execution_count": 37,
   "metadata": {},
   "outputs": [
    {
     "name": "stdout",
     "output_type": "stream",
     "text": [
      "10\n",
      "13\n",
      "-21\n",
      "19\n"
     ]
    }
   ],
   "source": [
    "a=10\n",
    "print(a)\n",
    "a+=3\n",
    "print(a)\n",
    "print(~20)\n",
    "print(~-20)\n"
   ]
  },
  {
   "cell_type": "code",
   "execution_count": 38,
   "metadata": {},
   "outputs": [
    {
     "name": "stdout",
     "output_type": "stream",
     "text": [
      "-20\n"
     ]
    }
   ],
   "source": [
    "print(~19)"
   ]
  },
  {
   "cell_type": "code",
   "execution_count": 8,
   "metadata": {},
   "outputs": [
    {
     "name": "stdout",
     "output_type": "stream",
     "text": [
      "darshan  good  morning\n"
     ]
    }
   ],
   "source": [
    "if True:\n",
    "    print(\"darshan  good  morning\")\n",
    "else:\n",
    "    print(\"bye bye darshan\")"
   ]
  },
  {
   "cell_type": "code",
   "execution_count": 9,
   "metadata": {},
   "outputs": [
    {
     "name": "stdout",
     "output_type": "stream",
     "text": [
      "bye bye darshan\n"
     ]
    }
   ],
   "source": [
    "if False:\n",
    "    print(\"darshan  good  morning\")\n",
    "else:\n",
    "    print(\"bye bye darshan\")"
   ]
  },
  {
   "cell_type": "code",
   "execution_count": 10,
   "metadata": {},
   "outputs": [
    {
     "name": "stdout",
     "output_type": "stream",
     "text": [
      "odd\n"
     ]
    }
   ],
   "source": [
    "a=29\n",
    "if a%2==0:\n",
    "    print(\"  even\")\n",
    "else:\n",
    "    print(\"odd\")"
   ]
  },
  {
   "cell_type": "code",
   "execution_count": 15,
   "metadata": {},
   "outputs": [
    {
     "name": "stdout",
     "output_type": "stream",
     "text": [
      "darshan GOOD MORNING\n",
      "<class 'str'>\n",
      "darshan good morning\n",
      "DARSHAN GOOD MORNING\n",
      "Darshan good morning\n"
     ]
    }
   ],
   "source": [
    "a=\"darshan GOOD MORNING\"\n",
    "print(a)\n",
    "print(type(a))\n",
    "print(a.lower())\n",
    "k=a.upper()\n",
    "print(k)\n",
    "print(a.capitalize())\n",
    "\n"
   ]
  },
  {
   "cell_type": "code",
   "execution_count": 16,
   "metadata": {},
   "outputs": [
    {
     "name": "stdout",
     "output_type": "stream",
     "text": [
      "darshan\n",
      "darshan\n",
      "hghsghvghv\n",
      "mbmbn\n"
     ]
    }
   ],
   "source": [
    "a='darshan'  #   single  line  quotes\n",
    "b=\"darshan\"  #  \n",
    "c='''hghsghvghv\n",
    "mbmbn'''\n",
    "print(a)\n",
    "print(b)\n",
    "print(c)"
   ]
  },
  {
   "cell_type": "code",
   "execution_count": 17,
   "metadata": {},
   "outputs": [
    {
     "name": "stdout",
     "output_type": "stream",
     "text": [
      "positive\n"
     ]
    }
   ],
   "source": [
    "a=90\n",
    "if a==0:\n",
    "    print(\"zero\")\n",
    "elif a>0:\n",
    "    print(\"positive\")\n",
    "else:\n",
    "    print(\"negative\")"
   ]
  },
  {
   "cell_type": "code",
   "execution_count": 19,
   "metadata": {},
   "outputs": [
    {
     "name": "stdout",
     "output_type": "stream",
     "text": [
      "darshabnnn\n"
     ]
    }
   ],
   "source": [
    "a=\"darshabnnn!@#$#$)(*^)\"\n",
    "print(a.strip(\"(*&^%$#@!)\"))"
   ]
  },
  {
   "cell_type": "code",
   "execution_count": 24,
   "metadata": {},
   "outputs": [
    {
     "name": "stdout",
     "output_type": "stream",
     "text": [
      "darshan\n",
      "darshan&&&&\n",
      "****darshan\n",
      "darshan\n"
     ]
    }
   ],
   "source": [
    "a=\"darshan####\"\n",
    "print(a.strip(\"#\"))\n",
    "b=\"****darshan&&&&\"\n",
    "print(b.lstrip(\"*\"))\n",
    "print(b.rstrip(\"&\"))\n",
    "print(b.strip(\"&*\"))"
   ]
  },
  {
   "cell_type": "code",
   "execution_count": 26,
   "metadata": {},
   "outputs": [
    {
     "name": "stdout",
     "output_type": "stream",
     "text": [
      "2028 20290\n",
      "20290 2028\n"
     ]
    }
   ],
   "source": [
    "a,b=2028,20290\n",
    "print(a,b)\n",
    "a,b=b,a\n",
    "print(a,b)"
   ]
  },
  {
   "cell_type": "markdown",
   "metadata": {},
   "source": [
    "DAY - 2"
   ]
  },
  {
   "cell_type": "code",
   "execution_count": 2,
   "metadata": {},
   "outputs": [
    {
     "name": "stdout",
     "output_type": "stream",
     "text": [
      "2 4 6 8 "
     ]
    }
   ],
   "source": [
    "for  i  in  range(2,10,2):\n",
    "    print(i,end=\" \")"
   ]
  },
  {
   "cell_type": "code",
   "execution_count": 28,
   "metadata": {},
   "outputs": [
    {
     "name": "stdout",
     "output_type": "stream",
     "text": [
      "2030\n",
      "2024\n",
      "6081\n",
      "675.6666666666666\n",
      "675\n",
      "2\n"
     ]
    }
   ],
   "source": [
    "a=2027\n",
    "b=3\n",
    "print(a+b)\n",
    "print(a-b)\n",
    "print(a*b)\n",
    "print(a/b)\n",
    "print(a//b)#floor division\n",
    "print(a%b)#reminder"
   ]
  },
  {
   "cell_type": "code",
   "execution_count": 3,
   "metadata": {},
   "outputs": [
    {
     "name": "stdout",
     "output_type": "stream",
     "text": [
      "729\n"
     ]
    }
   ],
   "source": [
    "a=9\n",
    "b=3\n",
    "print(a**b)# porwer"
   ]
  },
  {
   "cell_type": "code",
   "execution_count": 30,
   "metadata": {},
   "outputs": [
    {
     "name": "stdout",
     "output_type": "stream",
     "text": [
      "False\n",
      "False\n",
      "False\n",
      "True\n",
      "True\n",
      "True\n"
     ]
    }
   ],
   "source": [
    "#comparision  operators   in  python \n",
    "a=20\n",
    "b=30\n",
    "print(a==b)\n",
    "print(a>b)\n",
    "print(a>=b)\n",
    "print(a<b)\n",
    "print(a<=b)\n",
    "print(a!=b)\n"
   ]
  },
  {
   "cell_type": "code",
   "execution_count": 31,
   "metadata": {},
   "outputs": [
    {
     "name": "stdout",
     "output_type": "stream",
     "text": [
      "eligible  to  vote\n"
     ]
    }
   ],
   "source": [
    "a=20\n",
    "if a>=18:\n",
    "    print(\"eligible  to  vote\")\n",
    "else:\n",
    "    print(\"  not  eligible  to  vote\")"
   ]
  },
  {
   "cell_type": "code",
   "execution_count": 32,
   "metadata": {},
   "outputs": [
    {
     "name": "stdout",
     "output_type": "stream",
     "text": [
      "b\n"
     ]
    }
   ],
   "source": [
    "#logical  operators  in  python\n",
    "a=9\n",
    "b=7\n",
    "if a==b and a>b:\n",
    "    print(\"a\")\n",
    "elif a==b or b<a:\n",
    "    print('b')\n",
    "else:\n",
    "    print('darshan')"
   ]
  },
  {
   "cell_type": "code",
   "execution_count": 4,
   "metadata": {},
   "outputs": [
    {
     "name": "stdout",
     "output_type": "stream",
     "text": [
      "10\n",
      "9\n",
      "8\n",
      "7\n",
      "6\n",
      "5\n",
      "4\n",
      "3\n",
      "2\n",
      "1\n"
     ]
    }
   ],
   "source": [
    "import time as t\n",
    "n=10\n",
    "while n>0:\n",
    "    print(n)\n",
    "    n=n-1\n",
    "    t.sleep(1)"
   ]
  },
  {
   "cell_type": "markdown",
   "metadata": {},
   "source": [
    "        DAY-3"
   ]
  },
  {
   "cell_type": "code",
   "execution_count": null,
   "metadata": {},
   "outputs": [],
   "source": [
    "#DSA CONCEPTS\n",
    "#LIST\n",
    "#TUPLE\n",
    "#DICTIONARY\n",
    "#SET\n"
   ]
  },
  {
   "cell_type": "markdown",
   "metadata": {},
   "source": [
    "LIST\n"
   ]
  },
  {
   "cell_type": "code",
   "execution_count": 5,
   "metadata": {},
   "outputs": [
    {
     "name": "stdout",
     "output_type": "stream",
     "text": [
      "<class 'list'>\n",
      "['dartshan', True, False, 'darshan', 67787, 98.87, 'anvi']\n",
      "[10, 29, 38, 'darshan', True]\n",
      "<class 'list'>\n"
     ]
    }
   ],
   "source": [
    "#   we    can  add  and  delete  elemets  easily   update  data   easily\n",
    "#in  list  it  can  stores  the  different  types  of   datatypes\n",
    "l=[\"dartshan\",True,False,\"darshan\",67787,98.87]\n",
    "print(type(l))\n",
    "l.append(\"anvi\")\n",
    "print(l)\n",
    "#  in  list  order  is   always  maintained\n",
    "# index  valued  can  acces  easily\n",
    "s=[10,29,38,\"darshan\",True]\n",
    "print(s[::])\n",
    "print(type(l))"
   ]
  },
  {
   "cell_type": "code",
   "execution_count": 38,
   "metadata": {},
   "outputs": [
    {
     "name": "stdout",
     "output_type": "stream",
     "text": [
      "[True, 'darshan', 38, 29, 10]\n"
     ]
    }
   ],
   "source": [
    "print(s[::-1])"
   ]
  },
  {
   "cell_type": "code",
   "execution_count": 39,
   "metadata": {},
   "outputs": [
    {
     "name": "stdout",
     "output_type": "stream",
     "text": [
      "[10, 29, 38, 'darshan', True, 1, 2, 3, 4, 5, 6, 7, 8]\n"
     ]
    }
   ],
   "source": [
    "s.extend([1,2,3,4,5,6,7,8])\n",
    "print(s)"
   ]
  },
  {
   "cell_type": "code",
   "execution_count": 40,
   "metadata": {},
   "outputs": [
    {
     "name": "stdout",
     "output_type": "stream",
     "text": [
      "[10, 'prajval', 29, 38, 'darshan', True, 1, 2, 3, 4, 5, 6, 7, 8]\n"
     ]
    }
   ],
   "source": [
    "s.insert(1,'prajval')\n",
    "print(s)"
   ]
  },
  {
   "cell_type": "code",
   "execution_count": 41,
   "metadata": {},
   "outputs": [
    {
     "name": "stdout",
     "output_type": "stream",
     "text": [
      "['prajval', 29, 38, 'darshan', True, 1, 2, 3, 4, 5, 6, 7, 8]\n"
     ]
    }
   ],
   "source": [
    "del s[0]\n",
    "print(s)"
   ]
  },
  {
   "cell_type": "markdown",
   "metadata": {},
   "source": [
    "TUPLE"
   ]
  },
  {
   "cell_type": "code",
   "execution_count": 46,
   "metadata": {},
   "outputs": [
    {
     "name": "stdout",
     "output_type": "stream",
     "text": [
      "(1, 2, 3, 4, 87, 9, 8, 7, 9, 8, 7)\n",
      "('darshan', 887, 998, True)\n",
      "<class 'tuple'>\n"
     ]
    }
   ],
   "source": [
    "#  in  tuple   doesnot  allow   the   add or  delete  or  update   existing  data\n",
    "#   once  created   we cannot  addd  delete  and  update  the   data  existing     tuple\n",
    "t=(1,2,3,4,87,9,8,7,9,8,7)\n",
    "print(t)\n",
    "t=('darshan',887,998,True)\n",
    "print(t)\n",
    "print(type(t))"
   ]
  },
  {
   "cell_type": "markdown",
   "metadata": {},
   "source": [
    "DICTIONARY"
   ]
  },
  {
   "cell_type": "code",
   "execution_count": 49,
   "metadata": {},
   "outputs": [
    {
     "name": "stdout",
     "output_type": "stream",
     "text": [
      "{1: 'darshan', 2: 'amar'}\n",
      "<class 'dict'>\n",
      "dict_keys([1, 2])\n",
      "dict_values(['darshan', 'amar'])\n"
     ]
    }
   ],
   "source": [
    "#  order  is  not  maintained \n",
    "#  here  doesnot  allow    diuplicate   key  values\n",
    "#allowes  the  duplicate   values  but  not  not  keys\n",
    "d={1:\"darshan\",2:\"amar\"}\n",
    "print(d)\n",
    "print(type(d))\n",
    "print(d.keys())\n",
    "print(d.values())"
   ]
  },
  {
   "cell_type": "markdown",
   "metadata": {},
   "source": [
    "BREAK  IN  PYTHON"
   ]
  },
  {
   "cell_type": "code",
   "execution_count": 13,
   "metadata": {},
   "outputs": [
    {
     "name": "stdout",
     "output_type": "stream",
     "text": [
      "2 4 6 8 "
     ]
    }
   ],
   "source": [
    "for i  in range(1,10,1):\n",
    "    if i%2==0:\n",
    "        print(i,end=\" \")\n",
    "        pass"
   ]
  },
  {
   "cell_type": "markdown",
   "metadata": {},
   "source": [
    "PASS  KEYWORD  IN  PYTHON"
   ]
  },
  {
   "cell_type": "code",
   "execution_count": 15,
   "metadata": {},
   "outputs": [
    {
     "name": "stdout",
     "output_type": "stream",
     "text": [
      "3 4 5 6 7 8 9 "
     ]
    }
   ],
   "source": [
    "for i  in range(1,10,1):\n",
    "    if i>=3:\n",
    "        print(i,end=\" \")\n",
    "        continue"
   ]
  },
  {
   "cell_type": "markdown",
   "metadata": {},
   "source": [
    "PRIME NUMBER   OR  NOT IN  PYTHON"
   ]
  },
  {
   "cell_type": "code",
   "execution_count": 58,
   "metadata": {},
   "outputs": [
    {
     "name": "stdout",
     "output_type": "stream",
     "text": [
      "  prime number\n"
     ]
    }
   ],
   "source": [
    "n=2027\n",
    "k=0\n",
    "for i  in  range(2,n):\n",
    "    if n%i==0:\n",
    "        k=1\n",
    "if k==1:\n",
    "    print('  nor  prime  number')\n",
    "else:\n",
    "    print('  prime number')"
   ]
  },
  {
   "cell_type": "markdown",
   "metadata": {},
   "source": [
    "SET  IN  PYTHON"
   ]
  },
  {
   "cell_type": "code",
   "execution_count": null,
   "metadata": {},
   "outputs": [],
   "source": [
    "#  in  sets    does  not   allow  duplicate  valyes   but  in  sets  order  is  not  maintained "
   ]
  },
  {
   "cell_type": "code",
   "execution_count": 65,
   "metadata": {},
   "outputs": [
    {
     "name": "stdout",
     "output_type": "stream",
     "text": [
      "{1, 2, 3, 4, 5, 6, 9, 79, 'darshan'}\n",
      "<class 'set'>\n",
      "{1, 2, 3, 4, 5, 6, 7, 8, 9, 45}\n",
      "{1, 2, 3, 4, 5, 6, 7, 8, 9, 2028, 45}\n",
      "{2, 3, 4, 5, 6, 7, 8, 9, 2028, 45}\n",
      "{3, 4, 5, 6, 7, 8, 9, 2028, 45}\n"
     ]
    }
   ],
   "source": [
    "s={1,2,3,4,5,6,79,9,9,'darshan'}\n",
    "print(s)\n",
    "print(type(s))\n",
    "k={1,2,3,4,5,6,7,8,9,1,2,3,45,6,7,8}\n",
    "print(k)\n",
    "k.add(2028)\n",
    "print(k)\n",
    "k.remove(1)\n",
    "print(k)\n",
    "k.pop()\n",
    "print(k)"
   ]
  },
  {
   "cell_type": "code",
   "execution_count": 66,
   "metadata": {},
   "outputs": [
    {
     "name": "stdout",
     "output_type": "stream",
     "text": [
      "[1, 2, 3, 4, 5, 6, 21]\n"
     ]
    }
   ],
   "source": [
    "l=[1,2,3,4,5,6,6,5,4,3,21,1]\n",
    "m=list(set(l))\n",
    "print(m)"
   ]
  },
  {
   "cell_type": "markdown",
   "metadata": {},
   "source": [
    "METHODS  IN  SET"
   ]
  },
  {
   "cell_type": "code",
   "execution_count": 74,
   "metadata": {},
   "outputs": [
    {
     "name": "stdout",
     "output_type": "stream",
     "text": [
      "{1}\n",
      "{1, 2, 3, 4, 5, 6, 7, 8, 9}\n",
      "{2, 3, 4, 5}\n",
      "False\n",
      "False\n",
      "{1, 6, 7, 8, 9}\n"
     ]
    }
   ],
   "source": [
    "a={1,2,3,4,5}\n",
    "b={2,3,4,5,6,7,8,9}\n",
    "print(a.difference(b))\n",
    "print(a.union(b))\n",
    "print(a.intersection(b))\n",
    "print(a.isdisjoint(b))\n",
    "print(a.issubset(b))\n",
    "print(a.symmetric_difference(b))"
   ]
  },
  {
   "cell_type": "code",
   "execution_count": 36,
   "metadata": {},
   "outputs": [
    {
     "name": "stdout",
     "output_type": "stream",
     "text": [
      "13\n",
      "[1, 1, 1, 1, 1, 1, 2, 3, 4, 5, 6, 7, 8]\n",
      "occurance of 1 :\n",
      " 6\n",
      " nor  occurance 1 : \n",
      " 7\n"
     ]
    }
   ],
   "source": [
    "li=[1,2,3,4,5,6,7,8,1,1,1,1,1]\n",
    "n=len(li)\n",
    "ones=[]\n",
    "cont=0\n",
    "print(n)\n",
    "ans=0\n",
    "for i in range(n):\n",
    "    if li[i]==1:\n",
    "        cont=cont+1\n",
    "        ones.append(li[i])\n",
    "#print(ones)\n",
    "for i in range(n):\n",
    "    if li[i]!=1:\n",
    "        ones.append(li[i])\n",
    "print(ones)\n",
    "print(\"occurance of 1 :\\n\",cont)\n",
    "print(\" nor  occurance 1 : \\n\",n-cont)"
   ]
  },
  {
   "cell_type": "code",
   "execution_count": 37,
   "metadata": {},
   "outputs": [
    {
     "name": "stdout",
     "output_type": "stream",
     "text": [
      "10\n",
      "9\n"
     ]
    }
   ],
   "source": [
    "ar=[1,2,90,87,65,54,423,56,43,27]\n",
    "key=27\n",
    "k=len(ar)\n",
    "print(k)\n",
    "\n",
    "def arry():\n",
    "    for i in range(k):\n",
    "       if ar[i]==key:\n",
    "           return i\n",
    "    else:\n",
    "           return -1\n",
    "print(arry())\n",
    "    \n",
    "      \n",
    "   "
   ]
  },
  {
   "cell_type": "code",
   "execution_count": 38,
   "metadata": {},
   "outputs": [
    {
     "name": "stdout",
     "output_type": "stream",
     "text": [
      "401\n"
     ]
    }
   ],
   "source": [
    "ar=[10,20,30,49,56,78,65,45,32,16]\n",
    "l=len(ar)\n",
    "max(ar)\n",
    "s=0\n",
    "for i in range(l):\n",
    "    s=s+ar[i]\n",
    "print(s)\n"
   ]
  },
  {
   "cell_type": "markdown",
   "metadata": {},
   "source": [
    "swapping\n"
   ]
  },
  {
   "cell_type": "code",
   "execution_count": 39,
   "metadata": {},
   "outputs": [
    {
     "name": "stdout",
     "output_type": "stream",
     "text": [
      "before swaping: 2027 2023\n",
      "2023 2029 2027\n"
     ]
    }
   ],
   "source": [
    "\n",
    "a=2027\n",
    "b=2023\n",
    "c=2029\n",
    "print(\"before swaping:\",a,b)\n",
    "a,b,c=b,c,a\n",
    "print(a,b,c)"
   ]
  },
  {
   "cell_type": "markdown",
   "metadata": {},
   "source": [
    "find MIN MAX\n"
   ]
  },
  {
   "cell_type": "code",
   "execution_count": 11,
   "metadata": {},
   "outputs": [
    {
     "name": "stdout",
     "output_type": "stream",
     "text": [
      "29\n"
     ]
    }
   ],
   "source": [
    "a=[2027,203,29]\n",
    "k=a[0]\n",
    "l=len(a)\n",
    "for i in range(l):\n",
    "    if a[i]<k:\n",
    "        k=a[i]\n",
    "print(k)"
   ]
  },
  {
   "cell_type": "code",
   "execution_count": 41,
   "metadata": {},
   "outputs": [
    {
     "name": "stdout",
     "output_type": "stream",
     "text": [
      "2090\n"
     ]
    }
   ],
   "source": [
    "a=[2027,2023,2003,1987,2090]\n",
    "max1=a[0]\n",
    "l=len(a)\n",
    "for k in  range(l):\n",
    "    if max1<a[k]:\n",
    "        max1=a[k]\n",
    "print(max1)\n",
    "#print(max(a))"
   ]
  },
  {
   "cell_type": "markdown",
   "metadata": {},
   "source": [
    "SUM OF NATURAL NUMBERS\n"
   ]
  },
  {
   "cell_type": "code",
   "execution_count": 42,
   "metadata": {},
   "outputs": [
    {
     "name": "stdout",
     "output_type": "stream",
     "text": [
      "55\n"
     ]
    }
   ],
   "source": [
    "n=10\n",
    "s=0\n",
    "for i in range(n+1):\n",
    "    s=s+i\n",
    "print(s)"
   ]
  },
  {
   "cell_type": "code",
   "execution_count": 43,
   "metadata": {},
   "outputs": [
    {
     "name": "stdout",
     "output_type": "stream",
     "text": [
      "165\n"
     ]
    }
   ],
   "source": [
    "n1=10\n",
    "n2=20\n",
    "s=0\n",
    "for i in range(n1,n2+1):\n",
    "    s=s+i\n",
    "print(s)"
   ]
  },
  {
   "cell_type": "markdown",
   "metadata": {},
   "source": [
    "Leap Year"
   ]
  },
  {
   "cell_type": "code",
   "execution_count": 44,
   "metadata": {},
   "outputs": [
    {
     "name": "stdout",
     "output_type": "stream",
     "text": [
      "leap year\n"
     ]
    }
   ],
   "source": [
    "year=1976\n",
    "if((year%4==0 and year%100!=0 or year%400==0)):\n",
    "    print(\"leap year\")\n",
    "else:\n",
    "    print(\"normal year\")\n"
   ]
  },
  {
   "cell_type": "markdown",
   "metadata": {},
   "source": [
    "SEPARATE DATATYPE\n"
   ]
  },
  {
   "cell_type": "code",
   "execution_count": 18,
   "metadata": {},
   "outputs": [
    {
     "ename": "TypeError",
     "evalue": "list indices must be integers or slices, not str",
     "output_type": "error",
     "traceback": [
      "\u001b[1;31m---------------------------------------------------------------------------\u001b[0m",
      "\u001b[1;31mTypeError\u001b[0m                                 Traceback (most recent call last)",
      "Cell \u001b[1;32mIn[18], line 13\u001b[0m\n\u001b[0;32m     11\u001b[0m     lf\u001b[38;5;241m.\u001b[39mappend(values[value])\n\u001b[0;32m     12\u001b[0m \u001b[38;5;28;01mif\u001b[39;00m(\u001b[38;5;28mtype\u001b[39m(value)\u001b[38;5;241m==\u001b[39m\u001b[38;5;28mstr\u001b[39m):\n\u001b[1;32m---> 13\u001b[0m     ls\u001b[38;5;241m.\u001b[39mappend(\u001b[43mvalues\u001b[49m\u001b[43m[\u001b[49m\u001b[43mvalue\u001b[49m\u001b[43m]\u001b[49m)\n\u001b[0;32m     14\u001b[0m \u001b[38;5;28;01mif\u001b[39;00m(\u001b[38;5;28mtype\u001b[39m(value)\u001b[38;5;241m==\u001b[39m\u001b[38;5;28mbool\u001b[39m):\n\u001b[0;32m     15\u001b[0m     lb\u001b[38;5;241m.\u001b[39mappend(values[value])\n",
      "\u001b[1;31mTypeError\u001b[0m: list indices must be integers or slices, not str"
     ]
    }
   ],
   "source": [
    "values=[True,False,1,2,2,3,4,4,'ddsds',\"dareshan\",1212,\"darshan\",\"anvar\",False,True,889.87]\n",
    "li=[]\n",
    "ls=[]\n",
    "lb=[]\n",
    "lf=[]\n",
    "l=len(values)\n",
    "for value in values:\n",
    "    if(type(value)==int):\n",
    "        li.append(value)\n",
    "    if(type(value)==float):\n",
    "        lf.append(values[value])\n",
    "    if(type(value)==str):\n",
    "        ls.append(values[value])\n",
    "    if(type(value)==bool):\n",
    "        lb.append(values[value])\n",
    "print(\"list  of  integers:\",li)\n",
    "print('list of  strings:',ls)\n",
    "print('list of  boolean:',lb)\n",
    "print('list of  decimals:',lf)"
   ]
  },
  {
   "cell_type": "code",
   "execution_count": 24,
   "metadata": {},
   "outputs": [
    {
     "name": "stdout",
     "output_type": "stream",
     "text": [
      "[True, False, False, True]\n",
      "['ddsds', 'dareshan', 'darshan', 'anvar']\n",
      "[1, 2, 2, 3, 4, 4, 1212]\n",
      "[889.87]\n"
     ]
    }
   ],
   "source": [
    "values=[True,False,1,2,2,3,4,4,'ddsds',\"dareshan\",1212,\"darshan\",\"anvar\",False,True,889.87]\n",
    "li=[]\n",
    "ls=[]\n",
    "lb=[]\n",
    "lf=[]\n",
    "for val in values:\n",
    "    if type(val)==bool:\n",
    "        lb.append(val)\n",
    "    if type(val)==int:\n",
    "        li.append(val)\n",
    "    if type(val)==float:\n",
    "        lf.append(val)\n",
    "    if type(val)==str:\n",
    "        ls.append(val)\n",
    "    \n",
    "print(lb)\n",
    "print(ls)\n",
    "print(li)\n",
    "print(lf)"
   ]
  },
  {
   "cell_type": "code",
   "execution_count": null,
   "metadata": {},
   "outputs": [],
   "source": []
  },
  {
   "cell_type": "markdown",
   "metadata": {},
   "source": [
    "PRIMENUMBERS\n"
   ]
  },
  {
   "cell_type": "code",
   "execution_count": 46,
   "metadata": {},
   "outputs": [
    {
     "name": "stdout",
     "output_type": "stream",
     "text": [
      "prime\n"
     ]
    }
   ],
   "source": [
    "num=2027\n",
    "f=0\n",
    "for i in range(2,num):\n",
    "    if num%i==0:\n",
    "        f=1\n",
    "        break\n",
    "if f==1:\n",
    "    print(\"not prime\")\n",
    "else:\n",
    "    print(\"prime\")"
   ]
  },
  {
   "cell_type": "code",
   "execution_count": 26,
   "metadata": {},
   "outputs": [
    {
     "data": {
      "text/plain": [
       "False"
      ]
     },
     "execution_count": 26,
     "metadata": {},
     "output_type": "execute_result"
    }
   ],
   "source": [
    "def prime():\n",
    "    num=20272\n",
    "    for i in range(2,num):\n",
    "        if num%i==0:\n",
    "            return False\n",
    "        else:\n",
    "            return  True\n",
    "prime()\n",
    "    "
   ]
  },
  {
   "cell_type": "code",
   "execution_count": 47,
   "metadata": {},
   "outputs": [
    {
     "name": "stdout",
     "output_type": "stream",
     "text": [
      "4050\n",
      "4050\n",
      "darshan good  morning\n"
     ]
    }
   ],
   "source": [
    "n1=2027\n",
    "n2=2023\n",
    "print(n1+n2)\n",
    "k=n1+n2\n",
    "print(k)\n",
    "\n",
    "print(\"darshan good  morning\")"
   ]
  },
  {
   "cell_type": "code",
   "execution_count": 27,
   "metadata": {},
   "outputs": [
    {
     "name": "stdout",
     "output_type": "stream",
     "text": [
      "2.8284271247461903\n",
      "5.0\n"
     ]
    }
   ],
   "source": [
    "p=64\n",
    "#s=p**(0.5)\n",
    "s=p**(1/4)\n",
    "print(s)\n",
    "import math\n",
    "n=25\n",
    "k=math.sqrt(n)\n",
    "print(k)"
   ]
  },
  {
   "cell_type": "code",
   "execution_count": 49,
   "metadata": {},
   "outputs": [
    {
     "name": "stdout",
     "output_type": "stream",
     "text": [
      "602.7\n"
     ]
    }
   ],
   "source": [
    "b=12.3\n",
    "h=98\n",
    "a=0.5*b*h\n",
    "print(a)\n"
   ]
  },
  {
   "cell_type": "code",
   "execution_count": 50,
   "metadata": {},
   "outputs": [
    {
     "name": "stdout",
     "output_type": "stream",
     "text": [
      "20290 2029\n",
      "2028 2027\n"
     ]
    }
   ],
   "source": [
    "a=2029\n",
    "b=20290\n",
    "a,b=b,a\n",
    "print(a,b)\n",
    "p=2027\n",
    "q=2028\n",
    "t=p\n",
    "p=q\n",
    "q=t\n",
    "print(p,q)"
   ]
  },
  {
   "cell_type": "code",
   "execution_count": 36,
   "metadata": {},
   "outputs": [
    {
     "name": "stdout",
     "output_type": "stream",
     "text": [
      "you win the  match\n",
      "2\n"
     ]
    }
   ],
   "source": [
    "n=2\n",
    "import random\n",
    "k=random.randrange(0,7)\n",
    "if k==n:\n",
    "    print(\"you win the  match\")\n",
    "else:\n",
    "    print(\" not\")\n",
    "print(k)"
   ]
  },
  {
   "cell_type": "code",
   "execution_count": 52,
   "metadata": {},
   "outputs": [
    {
     "name": "stdout",
     "output_type": "stream",
     "text": [
      "14.20503\n"
     ]
    }
   ],
   "source": [
    "km=23\n",
    "mil=float(23*0.61761)\n",
    "print(mil)"
   ]
  },
  {
   "cell_type": "markdown",
   "metadata": {},
   "source": [
    "degree to  farenheit\n"
   ]
  },
  {
   "cell_type": "code",
   "execution_count": 53,
   "metadata": {},
   "outputs": [
    {
     "name": "stdout",
     "output_type": "stream",
     "text": [
      "98.60000000000001\n"
     ]
    }
   ],
   "source": [
    "c=37\n",
    "f=(c*1.8)+32\n",
    "print(f)"
   ]
  },
  {
   "cell_type": "code",
   "execution_count": 54,
   "metadata": {},
   "outputs": [
    {
     "name": "stdout",
     "output_type": "stream",
     "text": [
      "negative\n"
     ]
    }
   ],
   "source": [
    "num=-98\n",
    "if  num==0:\n",
    "    print(\"zero\")\n",
    "elif num>0:\n",
    "    print(\"positive\")\n",
    "else:\n",
    "    print(\"negative\")"
   ]
  },
  {
   "cell_type": "code",
   "execution_count": 55,
   "metadata": {},
   "outputs": [
    {
     "name": "stdout",
     "output_type": "stream",
     "text": [
      "even\n"
     ]
    }
   ],
   "source": [
    "num=98\n",
    "if  num==0:\n",
    "    print(\"zero\")\n",
    "elif num%2==0:\n",
    "    print(\"even\")\n",
    "else:\n",
    "    print(\"odd\")"
   ]
  },
  {
   "cell_type": "code",
   "execution_count": 56,
   "metadata": {},
   "outputs": [
    {
     "name": "stdout",
     "output_type": "stream",
     "text": [
      "normal year\n"
     ]
    }
   ],
   "source": [
    "year=200\n",
    "if((year%4==0 and year%100!=0)or(year%400==0)):\n",
    "    print(\"leap year\")\n",
    "else:\n",
    "    print(\"normal year\")"
   ]
  },
  {
   "cell_type": "code",
   "execution_count": 57,
   "metadata": {},
   "outputs": [
    {
     "name": "stdout",
     "output_type": "stream",
     "text": [
      "209877\n"
     ]
    }
   ],
   "source": [
    "n1=2023\n",
    "n2=209877\n",
    "n3=98765\n",
    "max1=0\n",
    "if n1>n2 and n1>n3:\n",
    "    max1=n1\n",
    "elif n2>n1 and n2>n3:\n",
    "    max1=n2\n",
    "else:\n",
    "    max1=n3\n",
    "print(max1)"
   ]
  },
  {
   "cell_type": "code",
   "execution_count": 58,
   "metadata": {},
   "outputs": [
    {
     "name": "stdout",
     "output_type": "stream",
     "text": [
      "23  29  31  37  41  43  47  53  59  61  67  71  73  79  83  89  97  101  103  107  109  113  127  131  137  139  149  151  157  163  167  173  179  181  191  193  197  199  211  223  227  229  233  239  241  251  257  263  269  271  277  281  283  293  "
     ]
    }
   ],
   "source": [
    "low=20\n",
    "upp=300\n",
    "for num in range(low,upp+1):\n",
    "    if num>1:\n",
    "        for i in range(2,num):\n",
    "            if num%i==0:\n",
    "                break\n",
    "        else:\n",
    "            print(num,\" \",end='')"
   ]
  },
  {
   "cell_type": "code",
   "execution_count": 59,
   "metadata": {},
   "outputs": [
    {
     "name": "stdout",
     "output_type": "stream",
     "text": [
      "209877\n"
     ]
    }
   ],
   "source": [
    "n1=2023\n",
    "n2=209877\n",
    "n3=98765\n",
    "max1=n1\n",
    "if n1>n2 and n1>n3 and n2>n3:\n",
    "    max1=n1\n",
    "    print(max1)\n",
    "\n",
    "elif n2>n1 and n2>n3:\n",
    "    max1=n2\n",
    "else:\n",
    "    max1=n3\n",
    "print(max1)"
   ]
  },
  {
   "cell_type": "code",
   "execution_count": 60,
   "metadata": {},
   "outputs": [
    {
     "name": "stdout",
     "output_type": "stream",
     "text": [
      "prime\n"
     ]
    }
   ],
   "source": [
    "num=99871\n",
    "f=0\n",
    "for i in range(2,num):\n",
    "    if num%i==0:\n",
    "        f=1\n",
    "        break\n",
    "if f==1:\n",
    "    print('not prime ')\n",
    "else:\n",
    "    print(\"prime\")\n"
   ]
  },
  {
   "cell_type": "code",
   "execution_count": 61,
   "metadata": {},
   "outputs": [
    {
     "name": "stdout",
     "output_type": "stream",
     "text": [
      "11   13   17   19   23   29   31   37   41   43   47   "
     ]
    }
   ],
   "source": [
    "low=10\n",
    "up=50\n",
    "for i in range(low,up+1):\n",
    "    if i>1:\n",
    "        for k in range(2,i):\n",
    "            if i%k==0:\n",
    "                break\n",
    "        else:\n",
    "            print(i,\" \",end=\" \")"
   ]
  },
  {
   "cell_type": "code",
   "execution_count": 62,
   "metadata": {},
   "outputs": [
    {
     "name": "stdout",
     "output_type": "stream",
     "text": [
      "720\n"
     ]
    }
   ],
   "source": [
    "num=6\n",
    "f=1\n",
    "for k in range(1,num+1):\n",
    "    f=f*k\n",
    "print(f)\n",
    "\n",
    "\n"
   ]
  },
  {
   "cell_type": "code",
   "execution_count": 63,
   "metadata": {},
   "outputs": [
    {
     "name": "stdout",
     "output_type": "stream",
     "text": [
      "720\n"
     ]
    }
   ],
   "source": [
    "def fact(n):\n",
    "    if n==0:\n",
    "        return 1\n",
    "    else:\n",
    "        return n*fact(n-1)\n",
    "print(fact(6))"
   ]
  },
  {
   "cell_type": "code",
   "execution_count": 64,
   "metadata": {},
   "outputs": [
    {
     "name": "stdout",
     "output_type": "stream",
     "text": [
      "27 x 1 = 27\n",
      "27 x 2 = 54\n",
      "27 x 3 = 81\n",
      "27 x 4 = 108\n",
      "27 x 5 = 135\n",
      "27 x 6 = 162\n",
      "27 x 7 = 189\n",
      "27 x 8 = 216\n",
      "27 x 9 = 243\n",
      "27 x 10 = 270\n"
     ]
    }
   ],
   "source": [
    "num=27\n",
    "for i in range(1,11):\n",
    "    print(num,'x',i,\"=\",num*i)\n"
   ]
  },
  {
   "cell_type": "code",
   "execution_count": 65,
   "metadata": {},
   "outputs": [
    {
     "name": "stdout",
     "output_type": "stream",
     "text": [
      "0 1 "
     ]
    }
   ],
   "source": [
    "num=1\n",
    "n1=0\n",
    "n2=1\n",
    "n3=1\n",
    "for i in range(0,num+1):\n",
    "    print(n1,end=\" \")\n",
    "    n1=n2\n",
    "    n2=n3\n",
    "    n3=n1+n2\n"
   ]
  },
  {
   "cell_type": "markdown",
   "metadata": {},
   "source": [
    "Armstrong number"
   ]
  },
  {
   "cell_type": "code",
   "execution_count": 66,
   "metadata": {},
   "outputs": [
    {
     "name": "stdout",
     "output_type": "stream",
     "text": [
      "6\n",
      "548834\n",
      "armstrong number\n"
     ]
    }
   ],
   "source": [
    "num=548834\n",
    "count=0\n",
    "temp=num\n",
    "n=num\n",
    "arm=0\n",
    "while num>0:\n",
    "    count=count+1\n",
    "    num=num//10\n",
    "print(count)\n",
    "while(n>0):\n",
    "    r=n%10\n",
    "    arm=arm+(r**count)\n",
    "    n=n//10\n",
    "print(arm)\n",
    "if temp==arm:\n",
    "    print(\"armstrong number\")\n",
    "else:\n",
    "    print('not  armstrong number')\n"
   ]
  },
  {
   "cell_type": "markdown",
   "metadata": {},
   "source": [
    "DISPLAY powers of TWO"
   ]
  },
  {
   "cell_type": "code",
   "execution_count": 67,
   "metadata": {},
   "outputs": [
    {
     "name": "stdout",
     "output_type": "stream",
     "text": [
      "[1, 2, 4, 8, 16, 32, 64] \n",
      "\n",
      "2 pow 0 is 1\n",
      "2 pow 1 is 2\n",
      "2 pow 2 is 4\n",
      "2 pow 3 is 8\n",
      "2 pow 4 is 16\n",
      "2 pow 5 is 32\n",
      "2 pow 6 is 64\n"
     ]
    }
   ],
   "source": [
    "terms=6\n",
    "result=list(map(lambda x:2**x,range(terms+1)))\n",
    "print(result,\"\\n\")\n",
    "for i in range(terms+1):\n",
    "    print(\"2 pow\",i,'is',result[i])"
   ]
  },
  {
   "cell_type": "code",
   "execution_count": 68,
   "metadata": {},
   "outputs": [
    {
     "name": "stdout",
     "output_type": "stream",
     "text": [
      "1 2 3 4 5 6 8 10 12 15 20 24 25 30 40 50 60 75 100 120 150 200 300 600 "
     ]
    }
   ],
   "source": [
    "num=600\n",
    "for i in range(1,num+1):\n",
    "    if num%i==0:\n",
    "        print(i,end=\" \")"
   ]
  },
  {
   "cell_type": "code",
   "execution_count": 69,
   "metadata": {},
   "outputs": [
    {
     "name": "stdout",
     "output_type": "stream",
     "text": [
      "the conversion of  decimal number 10 is:\n",
      "0b1010 in binary\n",
      "0o12 in octal\n",
      "0xa in hexa\n"
     ]
    }
   ],
   "source": [
    "dec=10\n",
    "print(\"the conversion of  decimal number\",dec,\"is:\")\n",
    "print(bin(dec),\"in binary\")\n",
    "print(oct(dec),\"in octal\")\n",
    "print(hex(dec),\"in hexa\")"
   ]
  },
  {
   "cell_type": "markdown",
   "metadata": {},
   "source": [
    "find  the ascci charactetr\n"
   ]
  },
  {
   "cell_type": "code",
   "execution_count": 37,
   "metadata": {},
   "outputs": [
    {
     "name": "stdout",
     "output_type": "stream",
     "text": [
      "ascii valus  :\n",
      "97\n"
     ]
    }
   ],
   "source": [
    "c='a'\n",
    "print(\"ascii valus  :\")\n",
    "print(ord(c))"
   ]
  },
  {
   "cell_type": "markdown",
   "metadata": {},
   "source": [
    "HCF AND GCD\n"
   ]
  },
  {
   "cell_type": "code",
   "execution_count": 71,
   "metadata": {},
   "outputs": [
    {
     "name": "stdout",
     "output_type": "stream",
     "text": [
      "4\n",
      "LCM : 408.0\n"
     ]
    }
   ],
   "source": [
    "n1=24\n",
    "n2=68\n",
    "hcf=1\n",
    "max1=0\n",
    "if n1>n2:\n",
    "    max1=n1\n",
    "else:\n",
    "    max1=n2\n",
    "for i in range(1,max1):\n",
    "    if n1%i==0 and n2%i==0:\n",
    "        hcf=i\n",
    "print(hcf)\n",
    "print(\"LCM :\",(n1*n2)/hcf)\n"
   ]
  },
  {
   "cell_type": "code",
   "execution_count": 72,
   "metadata": {},
   "outputs": [
    {
     "name": "stdout",
     "output_type": "stream",
     "text": [
      "1 2 4 8 16 "
     ]
    }
   ],
   "source": [
    "num=32\n",
    "for k in range(1,num):\n",
    "    if num%k==0:\n",
    "        print(k,end=\" \")"
   ]
  },
  {
   "cell_type": "code",
   "execution_count": 73,
   "metadata": {},
   "outputs": [
    {
     "name": "stdout",
     "output_type": "stream",
     "text": [
      "    August 1947\n",
      "Mo Tu We Th Fr Sa Su\n",
      "             1  2  3\n",
      " 4  5  6  7  8  9 10\n",
      "11 12 13 14 15 16 17\n",
      "18 19 20 21 22 23 24\n",
      "25 26 27 28 29 30 31\n",
      "\n"
     ]
    }
   ],
   "source": [
    "import calendar\n",
    "year=1947\n",
    "month=8\n",
    "cal=calendar.month(year,month)\n",
    "print(cal)\n",
    "\n"
   ]
  },
  {
   "cell_type": "markdown",
   "metadata": {},
   "source": [
    "Fibanocci  SERIES USING RECUSRION\n"
   ]
  },
  {
   "cell_type": "code",
   "execution_count": 3,
   "metadata": {},
   "outputs": [
    {
     "data": {
      "text/plain": [
       "1"
      ]
     },
     "execution_count": 3,
     "metadata": {},
     "output_type": "execute_result"
    }
   ],
   "source": [
    "#n=10\n",
    "def fibo(n):\n",
    "    if n<=1:\n",
    "        return n\n",
    "    else:\n",
    "        return fibo(n-1)+fibo(n-2)\n",
    "fibo(1)"
   ]
  },
  {
   "cell_type": "code",
   "execution_count": 239,
   "metadata": {},
   "outputs": [
    {
     "name": "stdout",
     "output_type": "stream",
     "text": [
      "55\n"
     ]
    }
   ],
   "source": [
    "def natural(n):\n",
    "    if n<=1:\n",
    "        return n\n",
    "    else:\n",
    "        return (n)+natural(n-1)\n",
    "print(natural(10))\n"
   ]
  },
  {
   "cell_type": "code",
   "execution_count": 246,
   "metadata": {},
   "outputs": [
    {
     "name": "stdout",
     "output_type": "stream",
     "text": [
      "120\n"
     ]
    }
   ],
   "source": [
    "def factorial(n):\n",
    "    if n<=1:\n",
    "        return 1\n",
    "    else:\n",
    "        return  (n*factorial(n-1))\n",
    "print(factorial(5))"
   ]
  },
  {
   "cell_type": "markdown",
   "metadata": {},
   "source": [
    "DECIMAL TO BINARY"
   ]
  },
  {
   "cell_type": "code",
   "execution_count": 263,
   "metadata": {},
   "outputs": [
    {
     "name": "stdout",
     "output_type": "stream",
     "text": [
      "[1, 1, 1, 1, 1]\n"
     ]
    }
   ],
   "source": [
    "dec=31\n",
    "bina=[]\n",
    "while dec>0:\n",
    "    r=dec%2\n",
    "    bina.append(r)\n",
    "    dec=dec//2\n",
    "rev=bina[::-1]\n",
    "print(rev)\n"
   ]
  },
  {
   "cell_type": "markdown",
   "metadata": {},
   "source": [
    "DECIMAL TO OCTA"
   ]
  },
  {
   "cell_type": "code",
   "execution_count": 266,
   "metadata": {},
   "outputs": [
    {
     "name": "stdout",
     "output_type": "stream",
     "text": [
      "[6, 0]\n"
     ]
    }
   ],
   "source": [
    "dec=48\n",
    "bina=[]\n",
    "while dec>0:\n",
    "    r=dec%8\n",
    "    bina.append(r)\n",
    "    dec=dec//8\n",
    "rev=bina[::-1]\n",
    "print(rev)\n"
   ]
  },
  {
   "cell_type": "code",
   "execution_count": 270,
   "metadata": {},
   "outputs": [
    {
     "name": "stdout",
     "output_type": "stream",
     "text": [
      "\n",
      "palindrome\n"
     ]
    }
   ],
   "source": [
    "s=\"\"\n",
    "rev=s[::-1]\n",
    "print(rev)\n",
    "if rev==s:\n",
    "    print(\"palindrome\")\n",
    "else:\n",
    "    print(\"not palindrome\")"
   ]
  },
  {
   "cell_type": "markdown",
   "metadata": {},
   "source": [
    "REMOVE PUNCTUATIONS"
   ]
  },
  {
   "cell_type": "code",
   "execution_count": 283,
   "metadata": {},
   "outputs": [
    {
     "name": "stdout",
     "output_type": "stream",
     "text": [
      "darshan2027how are yoy\n"
     ]
    }
   ],
   "source": [
    "punc=\"[!@#$%^&*()+_)(&)]\"\n",
    "string=\"darshan2027how are yoy&^&^&\"\n",
    "empty=\"\"\n",
    "for i in string:\n",
    "    if i not in punc:\n",
    "        empty=empty+i\n",
    "print(empty)\n"
   ]
  },
  {
   "cell_type": "markdown",
   "metadata": {},
   "source": [
    "SORT SLPHABETIC ORDER"
   ]
  },
  {
   "cell_type": "code",
   "execution_count": 304,
   "metadata": {},
   "outputs": [
    {
     "name": "stdout",
     "output_type": "stream",
     "text": [
      "['Darhsn', 'good', 'Morning', 'how', '', 'are', 'you']\n",
      "Darhsn\n",
      "['darhsn', 'good', 'morning', 'how', '', 'are', 'you']\n",
      "['', 'are', 'darhsn', 'good', 'how', 'morning', 'you']\n",
      " are darhsn good how morning you "
     ]
    }
   ],
   "source": [
    "s=\"Darhsn good Morning how  are you\"\n",
    "l=len(s)\n",
    "w=s.split(\" \")\n",
    "print(w)\n",
    "print(w[0])\n",
    "for i in range(len(w)):\n",
    "    w[i]=w[i].lower()\n",
    "print(w)\n",
    "w.sort()\n",
    "print(w)\n",
    "for i in w:\n",
    "    print(i,end=' ')"
   ]
  },
  {
   "cell_type": "markdown",
   "metadata": {},
   "source": [
    "SET DIFFERENT OPERATIONS\n"
   ]
  },
  {
   "cell_type": "code",
   "execution_count": 313,
   "metadata": {},
   "outputs": [
    {
     "name": "stdout",
     "output_type": "stream",
     "text": [
      "{1, 2}\n",
      "{1, 2, 3, 4, 5, 6, 7, 8, 9}\n",
      "{3, 4, 5, 6, 7}\n",
      "{1, 2, 8, 9}\n",
      "None\n",
      "True\n",
      "False\n",
      "the union {1, 2, 3, 4, 5, 6, 7, 8, 9}\n",
      "intersection set()\n",
      "difference {3, 4, 5, 6, 7, 8, 9}\n",
      "symmetric difference is: {1, 2, 3, 4, 5, 6, 7, 8, 9}\n"
     ]
    }
   ],
   "source": [
    "s1={1,2,3,4,5,6,7}\n",
    "s2={9,8,7,6,5,4,3}\n",
    "print(s1.difference(s2))\n",
    "print(s1.union(s2))\n",
    "print(s1.intersection(s2))\n",
    "print(s1.symmetric_difference(s2))\n",
    "print(s1.difference_update(s2))\n",
    "print(s1.isdisjoint(s2))\n",
    "print(s1.issubset(s2))\n",
    "print(\"the union\",s1|s2)\n",
    "print(\"intersection \",s1&s2)\n",
    "print(\"difference\",s2-s1)\n",
    "print(\"symmetric difference is:\",s1^s2)"
   ]
  },
  {
   "cell_type": "markdown",
   "metadata": {},
   "source": [
    "    COUNT THE NUMBER OF EACH  VOWEL"
   ]
  },
  {
   "cell_type": "code",
   "execution_count": 7,
   "metadata": {},
   "outputs": [
    {
     "name": "stdout",
     "output_type": "stream",
     "text": [
      "{'a': 2, 'e': 0, 'i': 1, 'o': 3, 'u': 0}\n"
     ]
    }
   ],
   "source": [
    "a='darshan Good Morning'.lower()\n",
    "vowelss=\"aeiou\"\n",
    "count={}.fromkeys(vowelss,0)\n",
    "for c in a:\n",
    "    if c in count:\n",
    "        count[c]+=1\n",
    "print(count)"
   ]
  },
  {
   "cell_type": "markdown",
   "metadata": {},
   "source": [
    "RESOLUTION OF  A  IMAGE"
   ]
  },
  {
   "cell_type": "code",
   "execution_count": 323,
   "metadata": {},
   "outputs": [
    {
     "name": "stdout",
     "output_type": "stream",
     "text": [
      "1870 X 894\n"
     ]
    }
   ],
   "source": [
    "import PIL\n",
    "from PIL import Image\n",
    "import PIL.Image\n",
    "img=PIL.Image.open(r\"C:\\Users\\darsh\\OneDrive\\Pictures\\ANVI.png\")\n",
    "width,height=img.size\n",
    "print(width,\"X\",height)"
   ]
  },
  {
   "cell_type": "markdown",
   "metadata": {},
   "source": [
    "MERGE TWO DICTIONARY\n"
   ]
  },
  {
   "cell_type": "code",
   "execution_count": 11,
   "metadata": {},
   "outputs": [
    {
     "name": "stdout",
     "output_type": "stream",
     "text": [
      "{'darshan': 98, 'anvith': 99, 'deepak': 96}\n",
      "{'darshan': 98, 'anvith': 99, 'deepak': 96}\n"
     ]
    }
   ],
   "source": [
    "dict1={\"darshan\":98,\"anvith\":99}\n",
    "dict2={\"darshan\":98,\"deepak\":96}\n",
    "print(dict1|dict2)\n",
    "print({**dict1,**dict2})"
   ]
  },
  {
   "cell_type": "markdown",
   "metadata": {},
   "source": [
    "CREATE NESTED DIRECTORY"
   ]
  },
  {
   "cell_type": "code",
   "execution_count": 327,
   "metadata": {},
   "outputs": [],
   "source": [
    "from pathlib import Path\n",
    "Path(\"C:/Users/darsh/OneDrive/202327/new_dict/demo/dict\").mkdir(parents=True)"
   ]
  },
  {
   "cell_type": "markdown",
   "metadata": {},
   "source": [
    "FIND INDEX  OF  THE  ELEMEnt\n"
   ]
  },
  {
   "cell_type": "code",
   "execution_count": 333,
   "metadata": {},
   "outputs": [
    {
     "name": "stdout",
     "output_type": "stream",
     "text": [
      "1 12\n",
      "2 34\n",
      "3 555\n",
      "4 67\n",
      "5 98\n",
      "\n",
      "\n",
      "0 90\n",
      "1 87\n",
      "2 76\n",
      "3 64\n",
      "4 43\n"
     ]
    }
   ],
   "source": [
    "ls=[12,34,555,67,98]\n",
    "for i,val in enumerate(ls,start=1):\n",
    "    print(i,val)\n",
    "print(\"\\n\")\n",
    "lp=[90,87,76,64,43]\n",
    "for i in range(len(lp)):\n",
    "    value=lp[i]\n",
    "    print(i,value)\n",
    "\n",
    "\n"
   ]
  },
  {
   "cell_type": "markdown",
   "metadata": {},
   "source": [
    "    SLICE LIST IN PYTHON"
   ]
  },
  {
   "cell_type": "code",
   "execution_count": 342,
   "metadata": {},
   "outputs": [
    {
     "name": "stdout",
     "output_type": "stream",
     "text": [
      "['ramya', 'ram', 'anvith', 'darsh', 'darshan']\n",
      "['darshan', 'darsh', 'anvith', 'ram', 'ramya']\n",
      "['darshan', 'darsh']\n",
      "['darshan', 'darsh', 'anvith']\n",
      "['ramya']\n",
      "['darshan', 'darsh', 'anvith', 'ram', 'ramya']\n",
      "['darshan', 'darsh', 'anvith']\n",
      "['anvith', 'ram', 'ramya']\n",
      "['darshan', 'anvith', 'ramya']\n"
     ]
    }
   ],
   "source": [
    "ls=[\"darshan\",\"darsh\",\"anvith\",\"ram\",\"ramya\"]\n",
    "print(ls[::-1])\n",
    "print(ls[:])\n",
    "print(ls[:2])\n",
    "print(ls[:-2])\n",
    "print(ls[-1:])\n",
    "print(ls[::])\n",
    "print(ls[:3])\n",
    "print(ls[2:])\n",
    "print(ls[::2])\n",
    "#C:\\Users\\darsh\\OneDrive\\Desktop\\202327\\PYTHONCOURSE\\PYTHONDSA"
   ]
  },
  {
   "cell_type": "code",
   "execution_count": 8,
   "metadata": {},
   "outputs": [
    {
     "name": "stdout",
     "output_type": "stream",
     "text": [
      "kayak\n",
      "palindrome\n"
     ]
    }
   ],
   "source": [
    "s=\"kayak\"\n",
    "r=s[::-1]\n",
    "print(r)\n",
    "if s==r:\n",
    "    print(\"palindrome\")\n",
    "else:\n",
    "    print(\"  not pali\")"
   ]
  },
  {
   "cell_type": "markdown",
   "metadata": {},
   "source": [
    "SLICE LIST"
   ]
  },
  {
   "cell_type": "code",
   "execution_count": 345,
   "metadata": {},
   "outputs": [
    {
     "name": "stdout",
     "output_type": "stream",
     "text": [
      "{'darshan': 20, 'anvi': 1433, 'ram': 987}\n",
      "darshan : 20\n",
      "anvi : 1433\n",
      "ram : 987\n"
     ]
    }
   ],
   "source": [
    "friend={\"darshan\":20,\"anvi\":1433,\"ram\":987}\n",
    "print(friend)\n",
    "for key,value in friend.items():\n",
    "    print(key,\":\",value)\n",
    "\n",
    "\n"
   ]
  },
  {
   "cell_type": "code",
   "execution_count": 16,
   "metadata": {},
   "outputs": [
    {
     "name": "stdout",
     "output_type": "stream",
     "text": [
      "kayak\n",
      "kyk\n",
      "ka\n",
      "darshan goodmorning\n",
      "arshan goodmorning\n",
      "drhngomrig\n",
      "rh\n",
      "rsha\n",
      "  darshan\n",
      "rsha\n",
      "gninromdoog nahsrad\n"
     ]
    }
   ],
   "source": [
    "s=\"kayak\"\n",
    "print(s[::-1])\n",
    "print(s[::-2])\n",
    "print(s[::3])\n",
    "s=\"darshan goodmorning\"\n",
    "print(s[:])\n",
    "print(s[1:])\n",
    "print(s[::2])\n",
    "print(s[2:6:2])\n",
    "print(s[2:6:])\n",
    "print(\"  darshan\")\n",
    "print(s[2:6:])\n",
    "print(s[::-1])"
   ]
  },
  {
   "cell_type": "code",
   "execution_count": 19,
   "metadata": {},
   "outputs": [
    {
     "name": "stdout",
     "output_type": "stream",
     "text": [
      "gninrom doog olleh\n",
      "girmdo le\n",
      "gninrom doo\n"
     ]
    }
   ],
   "source": [
    "s=\"hello good morning\"\n",
    "print(s[::-1])\n",
    "print(s[::-2])\n",
    "print(s[:6:-1])"
   ]
  },
  {
   "cell_type": "markdown",
   "metadata": {},
   "source": [
    "SORT DICTIONAR by  values"
   ]
  },
  {
   "cell_type": "code",
   "execution_count": 349,
   "metadata": {},
   "outputs": [
    {
     "name": "stdout",
     "output_type": "stream",
     "text": [
      "dict_keys([1, 2])\n",
      "[(2, 'anvi'), (1, 'darshan')]\n"
     ]
    }
   ],
   "source": [
    "ds={1:\"darshan\",2:\"anvi\"}\n",
    "print(ds.keys())\n",
    "sv=sorted(ds.items(),key=lambda x:x[1])\n",
    "print(sv)"
   ]
  },
  {
   "cell_type": "markdown",
   "metadata": {},
   "source": [
    "CHECK LIST IS  EMPTY"
   ]
  },
  {
   "cell_type": "code",
   "execution_count": 353,
   "metadata": {},
   "outputs": [
    {
     "name": "stdout",
     "output_type": "stream",
     "text": [
      "True\n",
      "list  is  not  empyty\n",
      "k  is  empty\n"
     ]
    }
   ],
   "source": [
    "print(bool([90,872]))\n",
    "ls=[6166615171]\n",
    "if not ls:\n",
    "    print(\"the list is  empty\")\n",
    "else:\n",
    "    print(\"list  is  not  empyty\")\n",
    "k=[]\n",
    "if len(k)==0:\n",
    "    print(\"k  is  empty\")"
   ]
  },
  {
   "cell_type": "markdown",
   "metadata": {},
   "source": [
    "EXCEPTIONS  IN  PYTHON"
   ]
  },
  {
   "cell_type": "code",
   "execution_count": 358,
   "metadata": {},
   "outputs": [
    {
     "name": "stdout",
     "output_type": "stream",
     "text": [
      "occur  error\n",
      "thank you\n"
     ]
    }
   ],
   "source": [
    "s=\"darshan\"\n",
    "try:\n",
    "    n=int(2027)\n",
    "\n",
    "    print(s+n)\n",
    "except(ValueError,TypeError) as a:\n",
    "    print(\"occur  error\")\n",
    "    print(\"thank you\")\n",
    "  \n"
   ]
  },
  {
   "cell_type": "code",
   "execution_count": 359,
   "metadata": {},
   "outputs": [
    {
     "name": "stdout",
     "output_type": "stream",
     "text": [
      "[90, 98, 76, 'dsrhna', 'darshan', 'deeraj', 902, 981, 7698, 'dsrhna', 'darshan', 'deeraj']\n"
     ]
    }
   ],
   "source": [
    "l1=[90,98,76,\"dsrhna\",\"darshan\",\"deeraj\"]\n",
    "l2=[902,981,7698,\"dsrhna\",\"darshan\",\"deeraj\"]\n",
    "print(l1+l2)"
   ]
  },
  {
   "cell_type": "code",
   "execution_count": 364,
   "metadata": {},
   "outputs": [
    {
     "name": "stdout",
     "output_type": "stream",
     "text": [
      "it  is  present\n"
     ]
    }
   ],
   "source": [
    "names={'darshan':1,\"feepak\":2,\"amar\":3,\"amulya\":5}\n",
    "n=\"darshan\"\n",
    "if n in names.keys():\n",
    "    print(\"it  is  present\")\n",
    "else:\n",
    "    print(\"it  is  not  present\")"
   ]
  },
  {
   "cell_type": "markdown",
   "metadata": {},
   "source": [
    "STRING  TO INT FLOAT"
   ]
  },
  {
   "cell_type": "code",
   "execution_count": 368,
   "metadata": {},
   "outputs": [
    {
     "name": "stdout",
     "output_type": "stream",
     "text": [
      "<class 'str'>\n",
      "<class 'int'>\n"
     ]
    }
   ],
   "source": [
    "s=\"2027\"\n",
    "print(type(s))\n",
    "k=int(s)\n",
    "print(type(k))"
   ]
  },
  {
   "cell_type": "code",
   "execution_count": 405,
   "metadata": {},
   "outputs": [
    {
     "name": "stdout",
     "output_type": "stream",
     "text": [
      "1997-10-14 07:18:00\n",
      "2024-09-24 17:10:45.068701\n",
      "<class 'type'>\n"
     ]
    }
   ],
   "source": [
    "import datetime\n",
    "from datetime import datetime\n",
    "date=\"oct 14 1997 7:18AM\"\n",
    "dt=datetime.strptime(date,\"%b %d %Y %I:%M%p\")\n",
    "print(dt)\n",
    "k=datetime.now()\n",
    "print(k)\n",
    "print(type(datetime))\n"
   ]
  },
  {
   "cell_type": "markdown",
   "metadata": {},
   "source": [
    "GET  THE  LAST  ELEEMNST  OF  THE LIST"
   ]
  },
  {
   "cell_type": "code",
   "execution_count": 406,
   "metadata": {},
   "outputs": [
    {
     "name": "stdout",
     "output_type": "stream",
     "text": [
      "21\n"
     ]
    }
   ],
   "source": [
    "ls=[90,87,65,65,45,43,21]\n",
    "print(ls[-1])\n"
   ]
  },
  {
   "cell_type": "markdown",
   "metadata": {},
   "source": [
    "SUBSTRING OF  A  ARRAY"
   ]
  },
  {
   "cell_type": "code",
   "execution_count": 408,
   "metadata": {},
   "outputs": [
    {
     "name": "stdout",
     "output_type": "stream",
     "text": [
      "darshan  good\n"
     ]
    }
   ],
   "source": [
    "a=\"darshan  good  morning\"\n",
    "print(a[:13])"
   ]
  },
  {
   "cell_type": "code",
   "execution_count": 410,
   "metadata": {},
   "outputs": [
    {
     "name": "stdout",
     "output_type": "stream",
     "text": [
      "['darshan 76\\n', 'amar    98\\n', 'akbar   98\\n', 'anthoni 88']\n",
      "['darshan 76', 'amar    98', 'akbar   98', 'anthoni 88']\n"
     ]
    }
   ],
   "source": [
    "f=open(\"hello.txt\",'r')\n",
    "lines=f.readlines()\n",
    "print(lines)\n",
    "nline=[x.strip() for x in lines]\n",
    "print(nline)"
   ]
  },
  {
   "cell_type": "code",
   "execution_count": 412,
   "metadata": {},
   "outputs": [
    {
     "name": "stdout",
     "output_type": "stream",
     "text": [
      "2\n"
     ]
    }
   ],
   "source": [
    "ls=[10,20,30,40,50,10]\n",
    "k=ls.count(10)\n",
    "print(k)"
   ]
  },
  {
   "cell_type": "code",
   "execution_count": 414,
   "metadata": {},
   "outputs": [],
   "source": [
    "f=open(\"hello.txt\",'a')\n",
    "f.write(\"darshan this  is your personal\")\n",
    "f.close()\n",
    "#   a  is  mainly  is  used  to  append  the  data\n"
   ]
  },
  {
   "cell_type": "code",
   "execution_count": 415,
   "metadata": {},
   "outputs": [
    {
     "name": "stdout",
     "output_type": "stream",
     "text": [
      "{'feepak': 2, 'amar': 3, 'amulya': 5}\n"
     ]
    }
   ],
   "source": [
    "names={'darshan':1,\"feepak\":2,\"amar\":3,\"amulya\":5}\n",
    "del names[\"darshan\"]\n",
    "print(names)"
   ]
  },
  {
   "cell_type": "code",
   "execution_count": 416,
   "metadata": {},
   "outputs": [
    {
     "name": "stdout",
     "output_type": "stream",
     "text": [
      "tefdyehygdv\n",
      "      vwhvxhwvghv\n"
     ]
    }
   ],
   "source": [
    "print('''tefdyehygdv\n",
    "      vwhvxhwvghv''')"
   ]
  },
  {
   "cell_type": "code",
   "execution_count": 418,
   "metadata": {},
   "outputs": [
    {
     "name": "stdout",
     "output_type": "stream",
     "text": [
      ".java\n"
     ]
    }
   ],
   "source": [
    "import os\n",
    "fs=os.path.splitext(r\"C:\\Users\\darsh\\OneDrive\\202327\\JAVACOURSE\\ARRAYS\\arrayoperations.java\")\n",
    "print(fs[-1])"
   ]
  },
  {
   "cell_type": "code",
   "execution_count": 422,
   "metadata": {},
   "outputs": [
    {
     "name": "stdout",
     "output_type": "stream",
     "text": [
      "darshan  good morning\n"
     ]
    }
   ],
   "source": [
    "s=\"  darshan  good morning \"\n",
    "print(s.strip(\" \"))"
   ]
  },
  {
   "cell_type": "code",
   "execution_count": 1,
   "metadata": {},
   "outputs": [
    {
     "name": "stdout",
     "output_type": "stream",
     "text": [
      "87897\n",
      "<class 'int'>\n"
     ]
    }
   ],
   "source": [
    "n=87897\n",
    "print(n)\n",
    "print(type(n))"
   ]
  },
  {
   "cell_type": "code",
   "execution_count": 3,
   "metadata": {},
   "outputs": [
    {
     "name": "stdout",
     "output_type": "stream",
     "text": [
      "darshan deepak ramya\n"
     ]
    },
    {
     "data": {
      "text/plain": [
       "7"
      ]
     },
     "execution_count": 3,
     "metadata": {},
     "output_type": "execute_result"
    }
   ],
   "source": [
    "x=\"darshan\"\n",
    "y=\"deepak\"\n",
    "z=\"ramya\"\n",
    "print(x,y,z)\n",
    "len(x)"
   ]
  },
  {
   "cell_type": "markdown",
   "metadata": {},
   "source": [
    "STRING METHODS IN  PYTHON\n"
   ]
  },
  {
   "cell_type": "code",
   "execution_count": 16,
   "metadata": {},
   "outputs": [
    {
     "name": "stdout",
     "output_type": "stream",
     "text": [
      "darshan\n",
      "a\n",
      "arshan\n",
      "ars\n",
      "darshan\n",
      "nahsrad\n",
      "arshan\n",
      "arsh\n",
      "DARSHAN\n",
      "darshan\n",
      "d\n"
     ]
    }
   ],
   "source": [
    "s=\"darshan\"\n",
    "print(s)\n",
    "len(s)\n",
    "print(s[1])\n",
    "print(s[1:])\n",
    "print(s[1:4])\n",
    "print(s[:])\n",
    "print(s[::-1])\n",
    "print(s[-6::])\n",
    "print(s[1:5])\n",
    "print(s.upper())\n",
    "print(s.lower())\n",
    "print(s[0])"
   ]
  },
  {
   "cell_type": "markdown",
   "metadata": {},
   "source": [
    "    LIST TYPE"
   ]
  },
  {
   "cell_type": "code",
   "execution_count": 25,
   "metadata": {},
   "outputs": [
    {
     "name": "stdout",
     "output_type": "stream",
     "text": [
      "[10, 29, 38, 46, 10, 29, 37, 'darshan']\n",
      "[10, 29, 'darshan', 46, 10, 29, 37, 'darshan']\n",
      "[10, 29, 'darshan', 46, 10, 29, 37, 'darshan', 'anvi']\n",
      "[10, 29, 'darshan', 46, 10, 'rajkumar', 29, 37, 'darshan', 'anvi']\n"
     ]
    }
   ],
   "source": [
    "# ordered  can  be changed   duplicate  entries  are  present\n",
    "ls=[10,29,38,46,10,29,37,\"darshan\"]\n",
    "ls\n",
    "ls[2]\n",
    "print(ls)\n",
    "ls[2]=\"darshan\"\n",
    "print(ls)\n",
    "ls.append(\"anvi\")\n",
    "print(ls)\n",
    "ls.insert(5,\"rajkumar\")\n",
    "print(ls)"
   ]
  },
  {
   "cell_type": "markdown",
   "metadata": {},
   "source": [
    "DICTIONARY   UNORDERED  CAN  BE CHANGED  NO  DUPLICATE  ENTRIES  ARE PRESENT  key  value\n"
   ]
  },
  {
   "cell_type": "code",
   "execution_count": 28,
   "metadata": {},
   "outputs": [
    {
     "name": "stdout",
     "output_type": "stream",
     "text": [
      "{1: 'java', 2: 'python', 3: 'darshan'}\n",
      "dict_keys([1, 2, 3])\n",
      "java\n"
     ]
    }
   ],
   "source": [
    "#values  in  key  may  be   duplicate\n",
    "c={1:\"java\",\n",
    "   2:\"python\",\n",
    "   3:\"darshan\"}\n",
    "print(c)\n",
    "print(c.keys())\n",
    "print(c.get(1))"
   ]
  },
  {
   "cell_type": "markdown",
   "metadata": {},
   "source": [
    "ORDERD  CANNOT BE  CHANGED DUPLICATE  ENTRIES ARE  PRESENT"
   ]
  },
  {
   "cell_type": "code",
   "execution_count": 35,
   "metadata": {},
   "outputs": [
    {
     "name": "stdout",
     "output_type": "stream",
     "text": [
      "('darshan', 'tiger', 'amrutha', 'anvitha', 'rashmi', 983, 65, 87, 987)\n",
      "3\n"
     ]
    }
   ],
   "source": [
    "t=(\"darshan\",\"tiger\",\"amrutha\",\"anvitha\",\"rashmi\",983,65,87,987)\n",
    "print(t)\n",
    "t.count(\"darshan\")\n",
    "print(t.index(\"anvitha\"))\n"
   ]
  },
  {
   "cell_type": "markdown",
   "metadata": {},
   "source": [
    "SET UNORDERRD NO  DUPLICATES ARE PRESENT\n"
   ]
  },
  {
   "cell_type": "code",
   "execution_count": 77,
   "metadata": {},
   "outputs": [
    {
     "name": "stdout",
     "output_type": "stream",
     "text": [
      "{20, 10, 12, 13, 14}\n"
     ]
    }
   ],
   "source": [
    "sets={20,12,13,14,10,10,10}\n",
    "print(sets)"
   ]
  },
  {
   "cell_type": "code",
   "execution_count": 78,
   "metadata": {},
   "outputs": [
    {
     "data": {
      "text/plain": [
       "[0, 1, 2, 3, 4, 5, 6, 7, 8, 9, 10, 11, 12, 13, 14, 15, 16, 17, 18, 19]"
      ]
     },
     "execution_count": 78,
     "metadata": {},
     "output_type": "execute_result"
    }
   ],
   "source": [
    "list(range(20))"
   ]
  },
  {
   "cell_type": "code",
   "execution_count": 80,
   "metadata": {},
   "outputs": [
    {
     "name": "stdout",
     "output_type": "stream",
     "text": [
      "darshan2027\n"
     ]
    }
   ],
   "source": [
    "x=\"darshan\"\n",
    "y=2027\n",
    "print(x+str(y))"
   ]
  },
  {
   "cell_type": "markdown",
   "metadata": {},
   "source": [
    "    COLLECTIONS IN PYTHON"
   ]
  },
  {
   "cell_type": "markdown",
   "metadata": {},
   "source": [
    "LISTS\n",
    "TUPLES\n",
    "SETS\n",
    "DICTIONARY"
   ]
  },
  {
   "cell_type": "code",
   "execution_count": 90,
   "metadata": {},
   "outputs": [
    {
     "name": "stdout",
     "output_type": "stream",
     "text": [
      "array('i', [1, 2, 3, 4, 5, 6, 7])\n"
     ]
    }
   ],
   "source": [
    "import array as ar\n",
    "a=ar.array('i',[1,2,3,4,5,6,7])\n",
    "print(a)"
   ]
  },
  {
   "cell_type": "markdown",
   "metadata": {},
   "source": []
  },
  {
   "cell_type": "code",
   "execution_count": 4,
   "metadata": {},
   "outputs": [
    {
     "name": "stdout",
     "output_type": "stream",
     "text": [
      "odd\n"
     ]
    }
   ],
   "source": [
    "n=21\n",
    "if n&1==0:\n",
    "    print(\"even\")\n",
    "else:\n",
    "    print(\"odd\")"
   ]
  },
  {
   "cell_type": "code",
   "execution_count": 8,
   "metadata": {},
   "outputs": [
    {
     "name": "stdout",
     "output_type": "stream",
     "text": [
      "8\n",
      "80\n",
      "20\n",
      "384\n"
     ]
    }
   ],
   "source": [
    "#left shift  of  any  number  once  the  out  put  is  twice  a  given  number\n",
    "#a<<1==2a\n",
    "#a<<b=a*2pow(b)\n",
    "print(4<<1)\n",
    "\n",
    "print(40<<1)\n",
    "print(5<<2)\n",
    "print(6<<6)\n"
   ]
  },
  {
   "cell_type": "code",
   "execution_count": 12,
   "metadata": {},
   "outputs": [
    {
     "name": "stdout",
     "output_type": "stream",
     "text": [
      "0b1010\n",
      "0xa\n",
      "0o12\n"
     ]
    }
   ],
   "source": [
    "ord('0')\n",
    "print(bin(10))\n",
    "print(hex(10))\n",
    "print(oct(10))"
   ]
  },
  {
   "cell_type": "markdown",
   "metadata": {},
   "source": [
    "STRINGS"
   ]
  },
  {
   "cell_type": "code",
   "execution_count": 4,
   "metadata": {},
   "outputs": [
    {
     "name": "stdout",
     "output_type": "stream",
     "text": [
      "<class 'str'>\n",
      "darshan\n",
      "darshan\n",
      "darshan\n",
      "darshan good  morning\n"
     ]
    }
   ],
   "source": [
    "s=\"darshan\"\n",
    "print(type(s))\n",
    "s1='darshan'\n",
    "s2=\"\"\"darshan\"\"\"\n",
    "s3='''darshan\n",
    "darshan good  morning'''\n",
    "print(s1)\n",
    "print(s2)\n",
    "print(s3)"
   ]
  },
  {
   "cell_type": "code",
   "execution_count": 11,
   "metadata": {},
   "outputs": [
    {
     "name": "stdout",
     "output_type": "stream",
     "text": [
      "d\n",
      "n\n",
      "sha\n",
      "nahsrad\n",
      "nahsrad\n"
     ]
    }
   ],
   "source": [
    "s=\"darshan\"\n",
    "print(s[0])\n",
    "print(s[-1])\n",
    "print(s[3:-1])\n",
    "print(s[::-1])\n",
    "k=s[::-1]\n",
    "print(k)"
   ]
  },
  {
   "cell_type": "code",
   "execution_count": 1,
   "metadata": {},
   "outputs": [
    {
     "name": "stdout",
     "output_type": "stream",
     "text": [
      "['darshan', 'good', '', 'morning']\n"
     ]
    }
   ],
   "source": [
    "s=\"darshan good  morning\"\n",
    "k=s.split(\" \")\n",
    "reverse=\" \"\n",
    "for i  in range(len(s)):\n",
    "    for k in range(len(k)):\n",
    "        rev=\"\"\n",
    "        \n",
    "\n",
    "print(k)\n"
   ]
  },
  {
   "cell_type": "code",
   "execution_count": 12,
   "metadata": {},
   "outputs": [
    {
     "name": "stdout",
     "output_type": "stream",
     "text": [
      "4\n",
      "['akbar', 'amar', 'goodmorning', 'darshan']\n",
      "  nahsrad gninromdoog rama rabka \n"
     ]
    }
   ],
   "source": [
    "w=\"darshan goodmorning amar akbar\".split(\" \")\n",
    "print(len(w))\n",
    "reverse=\"  \"\n",
    "for k in range(len(w)):\n",
    "    rev=w[k][::-1]\n",
    "    reverse=reverse+rev+\" \"\n",
    "rev=w[::-1]\n",
    "print(rev)\n",
    "print(reverse)"
   ]
  },
  {
   "cell_type": "code",
   "execution_count": 18,
   "metadata": {},
   "outputs": [
    {
     "name": "stdout",
     "output_type": "stream",
     "text": [
      "['darshan', 'good', 'morning']\n",
      "d a r s h a n   g o o d   m o r n i n g "
     ]
    }
   ],
   "source": [
    "k=\"darshan good morning\"\n",
    "print(k.split(\" \"))\n",
    "for i in range(len(k)):\n",
    "    print(k[i],end=\" \")"
   ]
  },
  {
   "cell_type": "code",
   "execution_count": 24,
   "metadata": {},
   "outputs": [
    {
     "name": "stdout",
     "output_type": "stream",
     "text": [
      "perfect number\n",
      "28\n"
     ]
    }
   ],
   "source": [
    "n=28\n",
    "s=0\n",
    "for i in range(1,n):\n",
    "    if n%i==0:\n",
    "        #print(i,end=\" \")\n",
    "        s=s+i\n",
    "if s==n:\n",
    "    print(\"perfect number\")\n",
    "else:\n",
    "    print(\"not perfect number\")\n",
    "print(s)\n"
   ]
  },
  {
   "cell_type": "markdown",
   "metadata": {},
   "source": [
    "FILE HANDLING CONCEPT\n"
   ]
  },
  {
   "cell_type": "code",
   "execution_count": 1,
   "metadata": {},
   "outputs": [
    {
     "name": "stdout",
     "output_type": "stream",
     "text": [
      "darshan\n"
     ]
    }
   ],
   "source": [
    "#  WHAT  IS  FILE WHY  WE  NEED  TO  FILE\n",
    "\n",
    "'''  file  isnnnothing  but    name  of  the  memory  location of  disc   that  stores  data  permentally\n",
    "\n",
    "file  handling  ?\n",
    "file  handiling  is  a mechanicm   through   which   we  can\n",
    "  create\n",
    "  write\n",
    "  read\n",
    "  copy\n",
    "  delete\n",
    "  \n",
    "\n",
    "\n",
    "'''\n",
    "print(\"darshan\")\n"
   ]
  },
  {
   "cell_type": "code",
   "execution_count": null,
   "metadata": {},
   "outputs": [],
   "source": [
    "#create  read copy  delte\n",
    "'''\n",
    "x  :  create  a  new  file\n",
    "w  : write  something  a  new  file\n",
    "r  :  read  the file\n",
    "r+ :  read  and  write  both\n",
    "a  :  append\n",
    "'''"
   ]
  },
  {
   "cell_type": "code",
   "execution_count": 2,
   "metadata": {},
   "outputs": [],
   "source": [
    "#create  a  file\n",
    "k=open(\"abc\",'x')\n",
    "\n"
   ]
  },
  {
   "cell_type": "code",
   "execution_count": 6,
   "metadata": {},
   "outputs": [
    {
     "name": "stdout",
     "output_type": "stream",
     "text": [
      "data write  succefully\n"
     ]
    }
   ],
   "source": [
    "#writting  in  the  file  \n",
    "f=open(\"hello.txt\",'w')\n",
    "#  w  is  the  write  mode\n",
    "f.write(\"prjval  good  morning\")\n",
    "#  write  mode  it  will  remove  previous  written  info  and  re  write  the  file   with  new  file\n",
    "#  x    will  be  used  for  vreating  the  new  file\n",
    "print(\"data write  succefully\")\n",
    "\n",
    "\n"
   ]
  },
  {
   "cell_type": "code",
   "execution_count": 8,
   "metadata": {},
   "outputs": [
    {
     "data": {
      "text/plain": [
       "24"
      ]
     },
     "execution_count": 8,
     "metadata": {},
     "output_type": "execute_result"
    }
   ],
   "source": [
    "f=open(\"hello.txt\",'a')\n",
    "#   a  append  mode   it  helps  to  writte  the  new  linee s  without  removing  the  previous  information\n",
    "f.write(\"\\n \")\n"
   ]
  },
  {
   "cell_type": "code",
   "execution_count": 14,
   "metadata": {},
   "outputs": [
    {
     "name": "stdout",
     "output_type": "stream",
     "text": [
      "prjval  good  morningdarshan  good  morning\n",
      " darshan  good  morning\n"
     ]
    }
   ],
   "source": [
    "f=open(\"hello.txt\",'r')\n",
    "#  r  is  the  read  mode \n",
    "print(f.read(90))\n"
   ]
  },
  {
   "cell_type": "code",
   "execution_count": 15,
   "metadata": {},
   "outputs": [
    {
     "name": "stdout",
     "output_type": "stream",
     "text": [
      "prjval  good  morningdarshan  good  morning\n",
      "\n"
     ]
    }
   ],
   "source": [
    "f=open(\"hello.txt\",'r')\n",
    "#  r  is  the  read  mode \n",
    "print(f.readline())#  this  will  prints  the  first  line  of  the  file)\n"
   ]
  },
  {
   "cell_type": "code",
   "execution_count": null,
   "metadata": {},
   "outputs": [],
   "source": []
  },
  {
   "cell_type": "code",
   "execution_count": 17,
   "metadata": {},
   "outputs": [
    {
     "name": "stdout",
     "output_type": "stream",
     "text": [
      "[]\n"
     ]
    }
   ],
   "source": [
    "f=open(\"hello.txt\",'r')\n",
    "#  r  is  the  read  mode \n",
    "info=f.readlines()#  save  the  information  in  the  file\n",
    "print(f.readlines())\n",
    "#  all  the  data    stored  in  that  file  displaya\n",
    "\n"
   ]
  },
  {
   "cell_type": "code",
   "execution_count": 18,
   "metadata": {},
   "outputs": [
    {
     "name": "stdout",
     "output_type": "stream",
     "text": [
      "['prjval  good  morningdarshan  good  morning\\n', ' darshan  good  morning']\n"
     ]
    }
   ],
   "source": [
    "print(info)\n",
    "\n",
    "#  all  the  sores  in  the  form  of  list\n"
   ]
  },
  {
   "cell_type": "code",
   "execution_count": 19,
   "metadata": {},
   "outputs": [
    {
     "data": {
      "text/plain": [
       "['prjval  good  morningdarshan  good  morning\\n', ' darshan  good  morning']"
      ]
     },
     "execution_count": 19,
     "metadata": {},
     "output_type": "execute_result"
    }
   ],
   "source": [
    "info"
   ]
  },
  {
   "cell_type": "code",
   "execution_count": 28,
   "metadata": {},
   "outputs": [
    {
     "name": "stdout",
     "output_type": "stream",
     "text": [
      "prjval  good  morningdarshan  good  morning\n",
      "\n",
      " darshan  good  morning\n"
     ]
    }
   ],
   "source": [
    "st=\"\\n\".join(info)\n",
    "#   int  that \" \"  it   mainly  used  to   waht  we  need   to  add   inbetweeb  the two  lines  space  data\n",
    "print(st)"
   ]
  },
  {
   "cell_type": "markdown",
   "metadata": {},
   "source": [
    "EXCEPTION  HANDLING  CONCEPT  IN  PYTHON"
   ]
  },
  {
   "cell_type": "code",
   "execution_count": 31,
   "metadata": {},
   "outputs": [
    {
     "name": "stdout",
     "output_type": "stream",
     "text": [
      "occurs  an  errors\n",
      "this  is  the  default  statement\n"
     ]
    }
   ],
   "source": [
    "try:\n",
    "    f=open(\"hello123.txt\",'r')\n",
    "    print(f.read(90))\n",
    "except:\n",
    "    print(\"occurs  an  errors\")\n",
    "finally:#   it  excutes  this  is  the  use  case  of  exception  handling\n",
    "    print(\"this  is  the  default  statement\")\n",
    "\n",
    "\n",
    "    \n",
    "#  r  is  the  read  mode \n",
    "\n",
    "\n",
    "\n",
    "\n",
    "\n",
    "\n",
    "#finally:  it  works   according  to  the   else  statement"
   ]
  },
  {
   "cell_type": "markdown",
   "metadata": {},
   "source": [
    "    COPY  FILE"
   ]
  },
  {
   "cell_type": "code",
   "execution_count": 32,
   "metadata": {},
   "outputs": [
    {
     "name": "stdout",
     "output_type": "stream",
     "text": [
      "file  is   copied\n"
     ]
    }
   ],
   "source": [
    "#copy  file  from  one  file  to  another\n",
    "try:\n",
    "    with open(\"hello.txt\",'r') as f2:#  r  read mode x  create  a  file a  is  the  append   mode\n",
    "        with open(\"hello123.txt\",'w') as f3:#  w  is  the  write  mode\n",
    "            for i  in f2:# copying  the  text  fron  one  file   to  another  file\n",
    "                f3.write(i)\n",
    "    print(\"file  is   copied\")\n",
    "except:\n",
    "    print(\" file  is  not  found \")\n",
    "\n",
    "finally:\n",
    "    f2.close()\n",
    "\n",
    "\n"
   ]
  },
  {
   "cell_type": "code",
   "execution_count": 33,
   "metadata": {},
   "outputs": [
    {
     "name": "stdout",
     "output_type": "stream",
     "text": [
      "<_io.TextIOWrapper name='hello.txt' mode='r' encoding='cp1252'>\n"
     ]
    }
   ],
   "source": [
    "print(f2)"
   ]
  },
  {
   "cell_type": "markdown",
   "metadata": {},
   "source": [
    "DELETING  THE  FILE"
   ]
  },
  {
   "cell_type": "code",
   "execution_count": null,
   "metadata": {},
   "outputs": [],
   "source": [
    "import os\n",
    "if os.path.exists(\"hello.txt\"):\n",
    "    os.remove(\"hello.txt\")\n",
    "    print(\"file  is  removed\")\n",
    "else:\n",
    "    print('files  is  not  found ')\n"
   ]
  },
  {
   "cell_type": "markdown",
   "metadata": {},
   "source": [
    "DIFFRENT  TYPES  OF  FILES  "
   ]
  },
  {
   "cell_type": "code",
   "execution_count": null,
   "metadata": {},
   "outputs": [],
   "source": []
  },
  {
   "cell_type": "markdown",
   "metadata": {},
   "source": [
    "DAY-4"
   ]
  },
  {
   "cell_type": "markdown",
   "metadata": {},
   "source": [
    "MODULES  AND  LIBRARIES  IN PYTHON"
   ]
  },
  {
   "cell_type": "code",
   "execution_count": null,
   "metadata": {},
   "outputs": [],
   "source": [
    "'''                      Module: \n",
    "a  module  is  a  self  contsained  piece  of  code  that\n",
    "   provides  a  specific  functionality  or  set  of   functionalities\n",
    "   module  is  a  part  of  library\n",
    "\n",
    "            library:\n",
    "            library  is  a  collection  of  modules  and  classes  that  provide  a  border  range  of  functionality\n",
    "            it  contains  more  number  of  modules\n",
    "            every  module  is  part of  the  library\n",
    "\n",
    "            modules:\n",
    "            MATH\n",
    "            datetime\n",
    "   \n",
    "            \n",
    "            libraries :\n",
    "             numpy\n",
    "             pandas\n",
    "\n",
    "'''\n"
   ]
  },
  {
   "cell_type": "code",
   "execution_count": 4,
   "metadata": {},
   "outputs": [
    {
     "name": "stdout",
     "output_type": "stream",
     "text": [
      "3.141592653589793\n",
      "26.94438717061496\n",
      "6.283185307179586\n",
      "3.367295829986474\n",
      "2.718281828459045\n"
     ]
    }
   ],
   "source": [
    "import math as m#  this  is  a   way  of  importing  the  module\n",
    "#constraints  in math\n",
    "print(m.pi)\n",
    "print(m.sqrt(726))\n",
    "print(m.tau)\n",
    "print(m.log(29))\n",
    "print(m.e)\n"
   ]
  },
  {
   "cell_type": "code",
   "execution_count": 5,
   "metadata": {},
   "outputs": [
    {
     "name": "stdout",
     "output_type": "stream",
     "text": [
      "25.0\n"
     ]
    }
   ],
   "source": [
    "print(m.sqrt(625))"
   ]
  },
  {
   "cell_type": "code",
   "execution_count": 7,
   "metadata": {},
   "outputs": [
    {
     "name": "stdout",
     "output_type": "stream",
     "text": [
      "3631.681107549801\n"
     ]
    }
   ],
   "source": [
    "r=34\n",
    "a=m.pi*(r*r)\n",
    "print(a)"
   ]
  },
  {
   "cell_type": "code",
   "execution_count": 8,
   "metadata": {},
   "outputs": [
    {
     "data": {
      "text/plain": [
       "2027.768"
      ]
     },
     "execution_count": 8,
     "metadata": {},
     "output_type": "execute_result"
    }
   ],
   "source": [
    "round(2027.7677,3)"
   ]
  },
  {
   "cell_type": "code",
   "execution_count": 11,
   "metadata": {},
   "outputs": [
    {
     "name": "stdout",
     "output_type": "stream",
     "text": [
      "2027\n",
      "2028\n"
     ]
    }
   ],
   "source": [
    "print(m.floor(2027.23))#  rounded  ground  value\n",
    "print(m.ceil(2027.23))#  roundaed  to  the upper  value\n"
   ]
  },
  {
   "cell_type": "code",
   "execution_count": 13,
   "metadata": {},
   "outputs": [
    {
     "name": "stdout",
     "output_type": "stream",
     "text": [
      "0.8509035245341184\n",
      "0.0\n",
      "-0.9880316240928618\n",
      "0.5806111842123143\n",
      "0.8939966636005579\n"
     ]
    }
   ],
   "source": [
    "print(m.sin(45))\n",
    "print(m.sin(0))\n",
    "print(m.sin(30))\n",
    "print(m.sin(120))\n",
    "print(m.sin(90))"
   ]
  },
  {
   "cell_type": "code",
   "execution_count": 14,
   "metadata": {},
   "outputs": [
    {
     "name": "stdout",
     "output_type": "stream",
     "text": [
      "0.5253219888177297\n",
      "1.0\n",
      "0.15425144988758405\n",
      "0.8141809705265618\n",
      "-0.4480736161291701\n"
     ]
    }
   ],
   "source": [
    "print(m.cos(45))\n",
    "print(m.cos(0))\n",
    "print(m.cos(30))\n",
    "print(m.cos(120))\n",
    "print(m.cos(90))"
   ]
  },
  {
   "cell_type": "code",
   "execution_count": 15,
   "metadata": {},
   "outputs": [
    {
     "name": "stdout",
     "output_type": "stream",
     "text": [
      "1.6197751905438615\n",
      "0.0\n",
      "-6.405331196646276\n",
      "0.7131230097859091\n",
      "-1.995200412208242\n"
     ]
    }
   ],
   "source": [
    "print(m.tan(45))\n",
    "print(m.tan(0))\n",
    "print(m.tan(30))\n",
    "print(m.tan(120))\n",
    "print(m.tan(90))"
   ]
  },
  {
   "cell_type": "code",
   "execution_count": 16,
   "metadata": {},
   "outputs": [
    {
     "name": "stdout",
     "output_type": "stream",
     "text": [
      "1.7467135528742547e+19\n",
      "1.0\n",
      "5343237290762.231\n",
      "6.520904391968161e+51\n",
      "6.102016471589204e+38\n"
     ]
    }
   ],
   "source": [
    "print(m.cosh(45))\n",
    "print(m.cosh(0))\n",
    "print(m.cosh(30))\n",
    "print(m.cosh(120))\n",
    "print(m.cosh(90))"
   ]
  },
  {
   "cell_type": "code",
   "execution_count": 18,
   "metadata": {},
   "outputs": [
    {
     "name": "stdout",
     "output_type": "stream",
     "text": [
      "1.5707963267948966\n",
      "0.7853981633974483\n",
      "1.0471975511965976\n",
      "1.710422666954443\n",
      "2.0943951023931953\n",
      "3.141592653589793\n"
     ]
    }
   ],
   "source": [
    "print(m.radians(90))\n",
    "print(m.radians(45))\n",
    "print(m.radians(60))\n",
    "print(m.radians(98))\n",
    "print(m.radians(120))\n",
    "print(m.radians(180))"
   ]
  },
  {
   "cell_type": "code",
   "execution_count": null,
   "metadata": {},
   "outputs": [],
   "source": [
    "print(m.cos(45))\n",
    "print(m.cos(0))\n",
    "print(m.cos(30))\n",
    "print(m.cos(120))\n",
    "print(m.cos(90))"
   ]
  },
  {
   "cell_type": "code",
   "execution_count": 19,
   "metadata": {},
   "outputs": [
    {
     "name": "stdout",
     "output_type": "stream",
     "text": [
      "2024-10-01 11:29:21.510018\n"
     ]
    }
   ],
   "source": []
  },
  {
   "cell_type": "markdown",
   "metadata": {},
   "source": [
    "DATETIME"
   ]
  },
  {
   "cell_type": "code",
   "execution_count": null,
   "metadata": {},
   "outputs": [],
   "source": [
    "'''\n",
    "logging :  use  it log  the time  of  run\n",
    "insert_dt  in a     database  insert recodr\n",
    "converting a  string  column  to    a     date  column\n",
    "date\n",
    "time\n",
    "datetime\n",
    "timedelta\n",
    "\n",
    "\n",
    "'''"
   ]
  },
  {
   "cell_type": "code",
   "execution_count": 20,
   "metadata": {},
   "outputs": [
    {
     "name": "stdout",
     "output_type": "stream",
     "text": [
      "2024-10-01 11:32:51.037733\n"
     ]
    }
   ],
   "source": [
    "import  datetime \n",
    "k= datetime.datetime.now()\n",
    "print(k)"
   ]
  },
  {
   "cell_type": "code",
   "execution_count": 24,
   "metadata": {},
   "outputs": [
    {
     "name": "stdout",
     "output_type": "stream",
     "text": [
      "2027-12-25\n",
      "<class 'datetime.date'>\n"
     ]
    }
   ],
   "source": [
    "from datetime import datetime,timedelta,date,time\n",
    "dt=date(2027,12,25)\n",
    "print(dt)\n",
    "print(type(dt))"
   ]
  },
  {
   "cell_type": "code",
   "execution_count": 25,
   "metadata": {},
   "outputs": [
    {
     "name": "stdout",
     "output_type": "stream",
     "text": [
      "<class 'str'>\n"
     ]
    }
   ],
   "source": [
    "d='2027-12-25'\n",
    "print(type(d))"
   ]
  },
  {
   "cell_type": "code",
   "execution_count": 31,
   "metadata": {},
   "outputs": [
    {
     "name": "stdout",
     "output_type": "stream",
     "text": [
      "25\n",
      "5\n",
      "2027\n"
     ]
    }
   ],
   "source": [
    "print(dt.day)\n",
    "print(dt.weekday())\n",
    "\n",
    "print(dt.year)"
   ]
  },
  {
   "cell_type": "code",
   "execution_count": 38,
   "metadata": {},
   "outputs": [
    {
     "name": "stdout",
     "output_type": "stream",
     "text": [
      "11:40:45\n",
      "11\n",
      "45\n",
      "40\n"
     ]
    }
   ],
   "source": [
    "from datetime import date,time\n",
    "k=time(11,40,45)\n",
    "print(k)\n",
    "print(k.hour)\n",
    "print(k.second)\n",
    "print(k.minute)"
   ]
  },
  {
   "cell_type": "code",
   "execution_count": 40,
   "metadata": {},
   "outputs": [
    {
     "data": {
      "text/plain": [
       "datetime.timedelta(days=110)"
      ]
     },
     "execution_count": 40,
     "metadata": {},
     "output_type": "execute_result"
    }
   ],
   "source": [
    "import datetime\n",
    "xms=timedelta(days=10)\n",
    "xms+timedelta(days=100)"
   ]
  },
  {
   "cell_type": "code",
   "execution_count": 45,
   "metadata": {},
   "outputs": [
    {
     "name": "stdout",
     "output_type": "stream",
     "text": [
      "2024-10-01 11:46:36.793693\n"
     ]
    }
   ],
   "source": [
    "k=datetime.datetime.now()\n",
    "print(k)"
   ]
  },
  {
   "cell_type": "code",
   "execution_count": 50,
   "metadata": {},
   "outputs": [
    {
     "name": "stdout",
     "output_type": "stream",
     "text": [
      "[9, 8, 7, 6, 5, 4, 3, 1, 2, 3, 4, 5, 6, 7]\n",
      "[9, 8, 7, 6, 5, 4, 3, 1, 2, 3, 4, 5, 6, 7]\n",
      "7\n"
     ]
    }
   ],
   "source": [
    "import numpy as np\n",
    "l=[1,2,3,4,5,6,7]\n",
    "s=[9,8,7,6,5,4,3]\n",
    "k=s+l\n",
    "print(s+l)\n",
    "print(k)\n",
    "total=[]\n",
    "for i in range(len(k)):\n",
    "    sum=k[i]\n",
    "    total.append(sum)\n",
    "print(sum)"
   ]
  },
  {
   "cell_type": "code",
   "execution_count": null,
   "metadata": {},
   "outputs": [],
   "source": [
    "a1=[1,2,3,4,5,6]"
   ]
  },
  {
   "cell_type": "code",
   "execution_count": 12,
   "metadata": {},
   "outputs": [
    {
     "name": "stdout",
     "output_type": "stream",
     "text": [
      "2027\n",
      "2028\n",
      "2.302585092994046\n",
      "5.0\n",
      "2.0\n",
      "False\n",
      "False\n",
      "2.3978952727983707\n",
      "1.3010299956639813\n"
     ]
    }
   ],
   "source": [
    "import math as m\n",
    "print(m.floor(2027.27))\n",
    "print(m.ceil(2027.27))\n",
    "print(m.log(10))\n",
    "print(m.sqrt(25))\n",
    "print(m.fabs(2))\n",
    "print(m.isnan(2027))\n",
    "print(m.isnan(0))\n",
    "print(m.log1p(10))\n",
    "print(m.log10(20))"
   ]
  },
  {
   "cell_type": "code",
   "execution_count": 14,
   "metadata": {},
   "outputs": [
    {
     "name": "stdout",
     "output_type": "stream",
     "text": [
      "120\n",
      "1.6197751905438615\n"
     ]
    }
   ],
   "source": [
    "print(m.factorial(5))\n",
    "print(m.tan(45))"
   ]
  },
  {
   "cell_type": "code",
   "execution_count": 42,
   "metadata": {},
   "outputs": [
    {
     "name": "stdout",
     "output_type": "stream",
     "text": [
      "2024-10-02 05:46:36.660083\n",
      "5\n",
      "46\n",
      "36\n",
      "660083\n",
      "2\n",
      "2024-10-02 05:46:36.660083+05:30\n",
      "2024-10-02 05:46:36.661041\n"
     ]
    }
   ],
   "source": [
    "from datetime import date,time,datetime\n",
    "k=datetime.now()\n",
    "print(k)\n",
    "print(k.hour)\n",
    "print(k.minute)\n",
    "print(k.second)\n",
    "print(k.microsecond)\n",
    "print(k.weekday())\n",
    "print(k.astimezone())\n",
    "#print(k.fromisocalendar(2027))\n",
    "print(k.today())"
   ]
  },
  {
   "cell_type": "code",
   "execution_count": 44,
   "metadata": {},
   "outputs": [
    {
     "name": "stdout",
     "output_type": "stream",
     "text": [
      "Series([], dtype: object)\n",
      "pandas  series:  0    d\n",
      "1    a\n",
      "2    r\n",
      "3    s\n",
      "4    h\n",
      "5    a\n",
      "6    n\n",
      "dtype: object\n"
     ]
    }
   ],
   "source": [
    "import  numpy  as  np\n",
    "import pandas   as  pd\n",
    "ser=pd.Series()\n",
    "print(ser)\n",
    "data=np.array(['d','a','r','s','h','a','n'])\n",
    "ser=pd.Series(data)\n",
    "print(\"pandas  series: \",ser)"
   ]
  },
  {
   "cell_type": "code",
   "execution_count": 45,
   "metadata": {},
   "outputs": [
    {
     "name": "stdout",
     "output_type": "stream",
     "text": [
      "         0\n",
      "0  darshan\n",
      "1  prajwal\n",
      "2     amar\n",
      "3    akbar\n",
      "4  anthoni\n"
     ]
    }
   ],
   "source": [
    "ls=[\"darshan\",\"prajwal\",\"amar\",'akbar','anthoni']\n",
    "pf=pd.DataFrame(ls)\n",
    "print(pf)"
   ]
  },
  {
   "cell_type": "code",
   "execution_count": 46,
   "metadata": {},
   "outputs": [
    {
     "name": "stdout",
     "output_type": "stream",
     "text": [
      "darshan    1\n",
      "amar       2\n",
      "ram        3\n",
      "suresh     4\n",
      "hanuman    5\n",
      "dtype: int64\n",
      "<class 'pandas.core.series.Series'>\n"
     ]
    }
   ],
   "source": [
    "data=pd.Series([1,2,3,4,5],index=[\"darshan\",\"amar\",\"ram\",\"suresh\",\"hanuman\"])\n",
    "print(data)\n",
    "print(type(data))"
   ]
  },
  {
   "cell_type": "code",
   "execution_count": 47,
   "metadata": {},
   "outputs": [
    {
     "name": "stdout",
     "output_type": "stream",
     "text": [
      "      name degree  score\n",
      "0  darshan     BE     90\n",
      "1  hanuman    BCA     98\n",
      "2      ram  MTECH    987\n",
      "3    rahul    MBA     86\n",
      "<class 'pandas.core.frame.DataFrame'>\n"
     ]
    }
   ],
   "source": [
    "data={'name':[\"darshan\",\"hanuman\",\"ram\",\"rahul\"],\n",
    "      'degree':[\"BE\",\"BCA\",\"MTECH\",\"MBA\"],\n",
    "      'score':[90,98,987,86]}\n",
    "df=pd.DataFrame(data)\n",
    "print(df)\n",
    "print(type(df))"
   ]
  },
  {
   "cell_type": "code",
   "execution_count": 48,
   "metadata": {},
   "outputs": [
    {
     "name": "stdout",
     "output_type": "stream",
     "text": [
      "{'Name': ['vinay', 'vishal', 'amar', 'akbar'], 'Age': [27, 24, 22, 24], 'Address': ['Delhi', 'Kanpur', 'Allahabad', 'Kannauj'], 'Qualification': ['Msc', 'MA', 'MCA', 'Phd']}\n",
      "     Name  Age    Address Qualification\n",
      "0   vinay   27      Delhi           Msc\n",
      "1  vishal   24     Kanpur            MA\n",
      "2    amar   22  Allahabad           MCA\n",
      "3   akbar   24    Kannauj           Phd\n"
     ]
    }
   ],
   "source": [
    "data={'Name':['vinay', 'vishal', 'amar', 'akbar'], \n",
    "        'Age':[27, 24, 22, 24], \n",
    "        'Address':['Delhi', 'Kanpur', 'Allahabad', 'Kannauj'], \n",
    "        'Qualification':['Msc', 'MA', 'MCA', 'Phd']} \n",
    "print(data)\n",
    "df=pd.DataFrame(data)\n",
    "df[\"Name\"]=df[\"Name\"].str.lower()\n",
    "print(df)"
   ]
  },
  {
   "cell_type": "code",
   "execution_count": null,
   "metadata": {},
   "outputs": [],
   "source": [
    "data=pd.read_csv(\"C:\\Users\\darsh\\OneDrive\\202327\\PYTHONCOURSE\\sample.csv\")\n",
    "data['Name']=data[\"Age\"].str.upper()\n",
    "print(data)"
   ]
  },
  {
   "cell_type": "code",
   "execution_count": 50,
   "metadata": {},
   "outputs": [
    {
     "name": "stdout",
     "output_type": "stream",
     "text": [
      "     0    1\n",
      "0  NaN  NaN\n",
      "1  NaN  NaN\n",
      "2  NaN  NaN\n",
      "3  NaN  NaN\n",
      "4  NaN  NaN\n",
      "5  NaN  NaN\n",
      "6  NaN  NaN\n"
     ]
    }
   ],
   "source": [
    "s=pd.Series([\"d\",'a','r','s','h','a','n'])\n",
    "n=s.str.extract(r'([ab])(\\d)')\n",
    "print(n)"
   ]
  },
  {
   "cell_type": "code",
   "execution_count": 51,
   "metadata": {},
   "outputs": [
    {
     "name": "stdout",
     "output_type": "stream",
     "text": [
      "Empty DataFrame\n",
      "Columns: []\n",
      "Index: []\n",
      "<class 'pandas.core.frame.DataFrame'>\n"
     ]
    }
   ],
   "source": [
    "import pandas as p\n",
    "df=p.DataFrame()\n",
    "print(df)\n",
    "print(type(df))"
   ]
  },
  {
   "cell_type": "code",
   "execution_count": null,
   "metadata": {},
   "outputs": [],
   "source": [
    "ls=[\"darshan\",\"prajwal\",\"ram\",'hanuman']\n",
    "df=p.DataFrame(ls)\n",
    "print(df)"
   ]
  },
  {
   "cell_type": "code",
   "execution_count": null,
   "metadata": {},
   "outputs": [],
   "source": [
    "data={'name':['darshan',\"amar\",\"akbar\",\"anthoni\",\"hanuman\"],'age':[10,20,39,47,50]}\n",
    "df=p.DataFrame(data)\n",
    "print(df)"
   ]
  },
  {
   "cell_type": "code",
   "execution_count": null,
   "metadata": {},
   "outputs": [],
   "source": [
    "data={'name':[\"darshan\",\"prajwal\",\"amar\",'akbar',\"veeraj\"],\n",
    "      'degree':[\"bca\",'btech','be',\"bsc\",\"bpharmacy\"],\n",
    "      'score':[10,29,39,48,67]}\n",
    "df=p.DataFrame(data)\n",
    "print(df)"
   ]
  },
  {
   "cell_type": "code",
   "execution_count": 54,
   "metadata": {},
   "outputs": [
    {
     "name": "stdout",
     "output_type": "stream",
     "text": [
      "array  with rank : \n",
      "  [1 2 3 4 5 6]\n",
      "[1 2 3 4 5 6]\n"
     ]
    }
   ],
   "source": [
    "import  numpy as n\n",
    "arr=n.array([1,2,3,4,5,6])\n",
    "print(\"array  with rank : \\n \",arr)\n",
    "print(arr)"
   ]
  },
  {
   "cell_type": "code",
   "execution_count": 53,
   "metadata": {},
   "outputs": [
    {
     "name": "stdout",
     "output_type": "stream",
     "text": [
      "pali\n"
     ]
    }
   ],
   "source": [
    "n=\"malayalam\"\n",
    "rev=n[::-1]\n",
    "if rev==n:\n",
    "    print(\"pali\")\n",
    "else:\n",
    "    print(\"not pali\")\n",
    "# print(rev)"
   ]
  },
  {
   "cell_type": "code",
   "execution_count": 52,
   "metadata": {},
   "outputs": [
    {
     "name": "stdout",
     "output_type": "stream",
     "text": [
      "before  swapping : \n",
      " n1: 2027 \n",
      " n2: 2023\n",
      "after swapping : \n",
      " n1: 2023 \n",
      " n2: 2027\n"
     ]
    }
   ],
   "source": [
    "n1=2027\n",
    "n2=2023\n",
    "print(\"before  swapping : \\n n1:\",n1,\"\\n n2:\",n2)\n",
    "n1,n2=n2,n1\n",
    "print(\"after swapping : \\n n1:\",n1,\"\\n n2:\",n2)\n"
   ]
  },
  {
   "cell_type": "markdown",
   "metadata": {},
   "source": [
    "EXCEPTIO  HANDLING   CONCEPTS"
   ]
  },
  {
   "cell_type": "code",
   "execution_count": 28,
   "metadata": {},
   "outputs": [
    {
     "name": "stdout",
     "output_type": "stream",
     "text": [
      " error  cannot  divide  by  zero\n"
     ]
    }
   ],
   "source": [
    "try:\n",
    "    n1=2027\n",
    "    n2=0\n",
    "    print(n1/n2)\n",
    "except ZeroDivisionError:\n",
    "    print(\" error  cannot  divide  by  zero\")"
   ]
  },
  {
   "cell_type": "code",
   "execution_count": 4,
   "metadata": {},
   "outputs": [
    {
     "name": "stdout",
     "output_type": "stream",
     "text": [
      "file not found\n"
     ]
    }
   ],
   "source": [
    "try:\n",
    "    f=open(\"helloh.txt\",'r')\n",
    "    c=f.read()\n",
    "    print(f)\n",
    "except FileNotFoundError:\n",
    "    print(\"file not found\")"
   ]
  },
  {
   "cell_type": "code",
   "execution_count": 7,
   "metadata": {},
   "outputs": [
    {
     "name": "stdout",
     "output_type": "stream",
     "text": [
      "  string  cannot   convert  to  int\n"
     ]
    }
   ],
   "source": [
    "try:\n",
    "    num=int(\"dar\")#inside  the  sting  it  contains   only integers string\n",
    "    print(num)\n",
    "except:\n",
    "    print(\"  string  cannot   convert  to  int\")\n"
   ]
  },
  {
   "cell_type": "code",
   "execution_count": 14,
   "metadata": {},
   "outputs": [
    {
     "name": "stdout",
     "output_type": "stream",
     "text": [
      "prjval  good  morningdarshan  good  morning\n",
      " darshan  good  morning\n",
      "2027\n"
     ]
    }
   ],
   "source": [
    "try:\n",
    "    file = open(\"hello.txt\", \"r\")\n",
    "    content = file.read()\n",
    "    print(content)\n",
    "    num = int(\"2027\")  # Raises a ValueError\n",
    "    print(num)\n",
    "except FileNotFoundError:\n",
    "    print(\"File not found.\")\n",
    "except ValueError:\n",
    "    print(\"Invalid input: Cannot convert string to integer.\")\n"
   ]
  },
  {
   "cell_type": "code",
   "execution_count": 1,
   "metadata": {},
   "outputs": [
    {
     "name": "stdout",
     "output_type": "stream",
     "text": [
      "darshan\n"
     ]
    }
   ],
   "source": [
    "print(\"darshan\")"
   ]
  },
  {
   "cell_type": "markdown",
   "metadata": {},
   "source": [
    "MATH MODULE IN PYTHON"
   ]
  },
  {
   "cell_type": "code",
   "execution_count": 4,
   "metadata": {},
   "outputs": [
    {
     "name": "stdout",
     "output_type": "stream",
     "text": [
      "Trigonometric functions:\n",
      "1.0\n",
      "-1.0\n",
      "0.9999999999999999\n",
      "1.5707963267948966\n",
      "1.5707963267948966\n",
      "0.7853981633974483\n",
      "\n",
      "Hyperbolic functions:\n",
      "0.0\n",
      "1.0\n",
      "0.7615941559557649\n",
      "0.0\n",
      "0.0\n",
      "0.0\n",
      "\n",
      "Logarithmic functions:\n",
      "2.302585092994046\n",
      "2.0\n",
      "3.0\n",
      "\n",
      "Exponential functions:\n",
      "2.718281828459045\n",
      "1.718281828459045\n",
      "0.6931471805599453\n",
      "\n",
      "Power and root functions:\n",
      "8.0\n",
      "5.0\n",
      "120\n",
      "\n",
      "Ceiling and floor functions:\n",
      "4\n",
      "3\n",
      "\n",
      "Rounding functions:\n",
      "3\n",
      "\n",
      "Constants:\n",
      "3.141592653589793\n",
      "2.718281828459045\n"
     ]
    }
   ],
   "source": [
    "import math\n",
    "\n",
    "# Trigonometric functions\n",
    "print(\"Trigonometric functions:\")\n",
    "print(math.sin(math.pi / 2))  # Sine of 90 degrees\n",
    "print(math.cos(math.pi))  # Cosine of 180 degrees\n",
    "print(math.tan(math.pi / 4))  # Tangent of 45 degrees\n",
    "print(math.asin(1))  # Arcsine of 1\n",
    "print(math.acos(0))  # Arccosine of 0\n",
    "print(math.atan(1))  # Arctangent of 1\n",
    "\n",
    "# Hyperbolic functions\n",
    "print(\"\\nHyperbolic functions:\")\n",
    "print(math.sinh(0))  # Hyperbolic sine of 0\n",
    "print(math.cosh(0))  # Hyperbolic cosine of 0\n",
    "print(math.tanh(1))  # Hyperbolic tangent of 1\n",
    "print(math.asinh(0))  # Inverse hyperbolic sine of 0\n",
    "print(math.acosh(1))  # Inverse hyperbolic cosine of 1\n",
    "print(math.atanh(0))  # Inverse hyperbolic tangent of 0\n",
    "\n",
    "# Logarithmic functions\n",
    "print(\"\\nLogarithmic functions:\")\n",
    "print(math.log(10))  # Natural logarithm of 10\n",
    "print(math.log10(100))  # Base-10 logarithm of 100\n",
    "print(math.log2(8))  # Base-2 logarithm of 8\n",
    "\n",
    "# Exponential functions\n",
    "print(\"\\nExponential functions:\")\n",
    "print(math.exp(1))  # Exponential function of 1\n",
    "print(math.expm1(1))  # Exponential function minus 1\n",
    "print(math.log1p(1))  # Natural logarithm of 1+x\n",
    "\n",
    "# Power and root functions\n",
    "print(\"\\nPower and root functions:\")\n",
    "print(math.pow(2, 3))  # 2 raised to the power of 3\n",
    "print(math.sqrt(25))  # Square root of 25\n",
    "print(math.factorial(5))  # Factorial of 5\n",
    "\n",
    "# Ceiling and floor functions\n",
    "print(\"\\nCeiling and floor functions:\")\n",
    "print(math.ceil(3.14))  # Ceiling of 3.14\n",
    "print(math.floor(3.14))  # Floor of 3.14\n",
    "\n",
    "# Rounding functions\n",
    "print(\"\\nRounding functions:\")\n",
    "# print(math.round(3.14),2)  # Rounding to the nearest integer\n",
    "print(math.trunc(3.14))  # Truncating the decimal part\n",
    "\n",
    "# Constants\n",
    "print(\"\\nConstants:\")\n",
    "print(math.pi)  # Pi\n",
    "print(math.e)  # Euler's number"
   ]
  },
  {
   "cell_type": "markdown",
   "metadata": {},
   "source": [
    "DATE TIME MODULE IN PYTHON"
   ]
  },
  {
   "cell_type": "code",
   "execution_count": 5,
   "metadata": {},
   "outputs": [
    {
     "name": "stdout",
     "output_type": "stream",
     "text": [
      "Time-related functions:\n",
      "00:00:00\n",
      "12:30:45\n",
      "00:00:00\n",
      "23:59:59.999999\n",
      "\n",
      "Date-related functions:\n",
      "2024-10-02\n",
      "2023-12-25\n",
      "0001-01-01\n",
      "9999-12-31\n",
      "\n",
      "Datetime functions:\n",
      "2024-10-02 15:25:20.930901\n",
      "2023-12-25 12:30:45\n",
      "1970-01-01 05:30:00\n",
      "2024-10-02 09:55:20.930901\n",
      "\n",
      "Timedelta functions:\n",
      "3 days, 5:10:00\n",
      "2024-10-05 20:35:20.930901\n",
      "2024-09-29 10:15:20.930901\n",
      "\n",
      "Formatting functions:\n",
      "2024-10-02 15:25:20\n",
      "2023-12-25 12:30:45\n",
      "\n",
      "Other functions:\n",
      "1970-01-01 00:00:00\n",
      "2023-12-25 12:30:45\n"
     ]
    },
    {
     "name": "stderr",
     "output_type": "stream",
     "text": [
      "C:\\Users\\darsh\\AppData\\Local\\Temp\\ipykernel_15620\\55011029.py:22: DeprecationWarning: datetime.datetime.utcnow() is deprecated and scheduled for removal in a future version. Use timezone-aware objects to represent datetimes in UTC: datetime.datetime.now(datetime.UTC).\n",
      "  print(datetime.datetime.utcnow())  # Current UTC datetime\n",
      "C:\\Users\\darsh\\AppData\\Local\\Temp\\ipykernel_15620\\55011029.py:38: DeprecationWarning: datetime.datetime.utcfromtimestamp() is deprecated and scheduled for removal in a future version. Use timezone-aware objects to represent datetimes in UTC: datetime.datetime.fromtimestamp(timestamp, datetime.UTC).\n",
      "  print(datetime.datetime.utcfromtimestamp(0))  # UTC datetime from timestamp\n"
     ]
    }
   ],
   "source": [
    "import datetime\n",
    "\n",
    "# Time-related functions\n",
    "print(\"Time-related functions:\")\n",
    "print(datetime.time())  # Current time\n",
    "print(datetime.time(hour=12, minute=30, second=45))  # Specific time\n",
    "print(datetime.time.min)  # Minimum time\n",
    "print(datetime.time.max)  # Maximum time\n",
    "\n",
    "# Date-related functions\n",
    "print(\"\\nDate-related functions:\")\n",
    "print(datetime.date.today())  # Current date\n",
    "print(datetime.date(2023, 12, 25))  # Specific date\n",
    "print(datetime.date.min)  # Minimum date\n",
    "print(datetime.date.max)  # Maximum date\n",
    "\n",
    "# Datetime functions\n",
    "print(\"\\nDatetime functions:\")\n",
    "print(datetime.datetime.now())  # Current datetime\n",
    "print(datetime.datetime(2023, 12, 25, 12, 30, 45))  # Specific datetime\n",
    "print(datetime.datetime.fromtimestamp(0))  # Datetime from timestamp\n",
    "print(datetime.datetime.utcnow())  # Current UTC datetime\n",
    "\n",
    "# Timedelta functions\n",
    "print(\"\\nTimedelta functions:\")\n",
    "timedelta = datetime.timedelta(days=3, hours=5, minutes=10)\n",
    "print(timedelta)\n",
    "print(datetime.datetime.now() + timedelta)  # Adding timedelta to current datetime\n",
    "print(datetime.datetime.now() - timedelta)  # Subtracting timedelta from current datetime\n",
    "\n",
    "# Formatting functions\n",
    "print(\"\\nFormatting functions:\")\n",
    "print(datetime.datetime.now().strftime(\"%Y-%m-%d %H:%M:%S\"))  # Formatting datetime\n",
    "print(datetime.datetime.strptime(\"2023-12-25 12:30:45\", \"%Y-%m-%d %H:%M:%S\"))  # Parsing datetime string\n",
    "\n",
    "# Other functions\n",
    "print(\"\\nOther functions:\")\n",
    "print(datetime.datetime.utcfromtimestamp(0))  # UTC datetime from timestamp\n",
    "print(datetime.datetime.fromisoformat(\"2023-12-25T12:30:45\"))  # Parsing ISO 8601 formatted datetime"
   ]
  },
  {
   "cell_type": "markdown",
   "metadata": {},
   "source": [
    "ARRAY  CREATION "
   ]
  },
  {
   "cell_type": "code",
   "execution_count": 13,
   "metadata": {},
   "outputs": [
    {
     "name": "stdout",
     "output_type": "stream",
     "text": [
      "Array creation from other Python structures:\n",
      "[1 2 3 4]\n",
      "[5 6 7 8]\n",
      "\n",
      "Intrinsic NumPy array creation functions:\n",
      "[0. 0. 0. 0. 0.]\n",
      "[[1. 1. 1.]\n",
      " [1. 1. 1.]]\n",
      "[[7 7]\n",
      " [7 7]\n",
      " [7 7]]\n",
      "[0 2 4 6 8]\n",
      "[0.   0.25 0.5  0.75 1.  ]\n",
      "[[0.35078981 0.68940775 0.90295558]\n",
      " [0.25480291 0.52154798 0.66657913]]\n",
      "[[ 0.36795161  0.72654616  1.66970521]\n",
      " [ 0.18509334 -1.92100861 -1.57804962]\n",
      " [ 2.09868863 -1.15693608 -1.48465534]]\n",
      "[[5 2 6]\n",
      " [2 5 2]]\n"
     ]
    }
   ],
   "source": [
    "import numpy as np\n",
    "\n",
    "# Array creation from other Python structures\n",
    "print(\"Array creation from other Python structures:\")\n",
    "list1 = [1, 2, 3, 4]\n",
    "array1 = np.array(list1)\n",
    "print(array1)\n",
    "\n",
    "tuple1 = (5, 6, 7, 8)\n",
    "array2 = np.array(tuple1)\n",
    "print(array2)\n",
    "\n",
    "# Intrinsic NumPy array creation functions\n",
    "print(\"\\nIntrinsic NumPy array creation functions:\")\n",
    "array3 = np.zeros(5)\n",
    "print(array3)\n",
    "\n",
    "array4 = np.ones((2, 3))\n",
    "print(array4)\n",
    "\n",
    "array5 = np.full((3, 2), 7)\n",
    "print(array5)\n",
    "\n",
    "array6 = np.arange(0, 10, 2)\n",
    "print(array6)\n",
    "\n",
    "array7 = np.linspace(0, 1, 5)\n",
    "print(array7)\n",
    "\n",
    "array8 = np.random.rand(2, 3)\n",
    "print(array8)\n",
    "\n",
    "array9 = np.random.randn(3, 3)\n",
    "print(array9)\n",
    "\n",
    "array10 = np.random.randint(1, 11, (2, 3))\n",
    "print(array10)"
   ]
  },
  {
   "cell_type": "markdown",
   "metadata": {},
   "source": [
    "MATHEMATICAL OPERATIONS  using numpy"
   ]
  },
  {
   "cell_type": "code",
   "execution_count": 1,
   "metadata": {},
   "outputs": [
    {
     "name": "stdout",
     "output_type": "stream",
     "text": [
      "Arithmetic operations:\n",
      "[5 7 9]\n",
      "[-3 -3 -3]\n",
      "[ 4 10 18]\n",
      "[0.25 0.4  0.5 ]\n",
      "[0 0 0]\n",
      "[1 2 3]\n",
      "[  1  32 729]\n",
      "\n",
      "Trigonometric functions:\n",
      "[0.84147098 0.90929743 0.14112001]\n",
      "[ 0.54030231 -0.41614684 -0.9899925 ]\n",
      "[ 1.55740772 -2.18503986 -0.14254654]\n",
      "[1.57079633        nan        nan]\n",
      "[ 0. nan nan]\n",
      "[0.78539816 1.10714872 1.24904577]\n",
      "\n",
      "Logarithmic functions:\n",
      "[0.         0.69314718 1.09861229]\n",
      "[0.         0.30103    0.47712125]\n",
      "[0.        1.        1.5849625]\n",
      "\n",
      "Exponential functions:\n",
      "[ 2.71828183  7.3890561  20.08553692]\n",
      "[ 1.71828183  6.3890561  19.08553692]\n",
      "[0.69314718 1.09861229 1.38629436]\n",
      "\n",
      "Power and root functions:\n",
      "[1 4 9]\n",
      "[1.         1.41421356 1.73205081]\n",
      "[1.         1.25992105 1.44224957]\n",
      "\n",
      "Ceiling and floor functions:\n",
      "[1. 2. 3.]\n",
      "[1. 2. 3.]\n",
      "\n",
      "Rounding functions:\n",
      "[1 2 3]\n",
      "[1. 2. 3.]\n",
      "\n",
      "Constants:\n",
      "3.141592653589793\n",
      "2.718281828459045\n"
     ]
    },
    {
     "name": "stderr",
     "output_type": "stream",
     "text": [
      "C:\\Users\\darsh\\AppData\\Local\\Temp\\ipykernel_14284\\1376768572.py:21: RuntimeWarning: invalid value encountered in arcsin\n",
      "  print(np.arcsin(x))  # Inverse sine of x (in radians)\n",
      "C:\\Users\\darsh\\AppData\\Local\\Temp\\ipykernel_14284\\1376768572.py:22: RuntimeWarning: invalid value encountered in arccos\n",
      "  print(np.arccos(x))  # Inverse cosine of x (in radians)\n"
     ]
    }
   ],
   "source": [
    "import numpy as np\n",
    "\n",
    "# Arithmetic operations\n",
    "x = np.array([1, 2, 3])\n",
    "y = np.array([4, 5, 6])\n",
    "\n",
    "print(\"Arithmetic operations:\")\n",
    "print(np.add(x, y))  # Element-wise addition\n",
    "print(np.subtract(x, y))  # Element-wise subtraction\n",
    "print(np.multiply(x, y))  # Element-wise multiplication\n",
    "print(np.divide(x, y))  # Element-wise division\n",
    "print(np.floor_divide(x, y))  # Element-wise floor division\n",
    "print(np.mod(x, y))  # Element-wise modulo operation\n",
    "print(np.power(x, y))  # Element-wise power\n",
    "\n",
    "# Trigonometric functions\n",
    "print(\"\\nTrigonometric functions:\")\n",
    "print(np.sin(x))  # Sine of x (in radians)\n",
    "print(np.cos(x))  # Cosine of x (in radians)\n",
    "print(np.tan(x))  # Tangent of x (in radians)\n",
    "print(np.arcsin(x))  # Inverse sine of x (in radians)\n",
    "print(np.arccos(x))  # Inverse cosine of x (in radians)\n",
    "print(np.arctan(x))  # Inverse tangent of x (in radians)\n",
    "\n",
    "\n",
    "# Logarithmic functions\n",
    "print(\"\\nLogarithmic functions:\")\n",
    "print(np.log(x))  # Natural logarithm of x\n",
    "print(np.log10(x))  # Base-10 logarithm of x\n",
    "print(np.log2(x))  # Base-2 logarithm of x\n",
    "\n",
    "# Exponential functions\n",
    "print(\"\\nExponential functions:\")\n",
    "print(np.exp(x))  # Exponential function of x\n",
    "print(np.expm1(x))  # Exponential function of x minus 1\n",
    "print(np.log1p(x))  # Natural logarithm of 1+x\n",
    "\n",
    "# Power and root functions\n",
    "print(\"\\nPower and root functions:\")\n",
    "print(np.power(x, 2))  # Element-wise power\n",
    "print(np.sqrt(x))  # Square root of x\n",
    "print(np.cbrt(x))  # Cube root of x\n",
    "\n",
    "# Ceiling and floor functions\n",
    "print(\"\\nCeiling and floor functions:\")\n",
    "print(np.ceil(x))  # Ceiling of x (round up to the nearest integer)\n",
    "print(np.floor(x))  # Floor of x (round down to the nearest integer)\n",
    "\n",
    "# Rounding functions\n",
    "print(\"\\nRounding functions:\")\n",
    "print(np.round(x))  # Round x to the nearest integer\n",
    "print(np.trunc(x))  # Truncate x (remove the decimal part)\n",
    "\n",
    "# Constants\n",
    "print(\"\\nConstants:\")\n",
    "print(np.pi)  # Pi\n",
    "print(np.e)  # Euler's number"
   ]
  },
  {
   "cell_type": "markdown",
   "metadata": {},
   "source": [
    "STATISTICAL  FUNCTION  IN NUMPY"
   ]
  },
  {
   "cell_type": "code",
   "execution_count": 18,
   "metadata": {},
   "outputs": [
    {
     "name": "stdout",
     "output_type": "stream",
     "text": [
      "Mean: 3.0\n",
      "Median: 3.0\n",
      "Standard Deviation: 1.4142135623730951\n",
      "Variance: 2.0\n",
      "Minimum value: 1\n",
      "Maximum value: 5\n",
      "Index of minimum value: 0\n",
      "Index of maximum value: 4\n",
      "25th percentile: 2.0\n",
      "75th percentile: 4.0\n",
      "Quantiles: [2. 3. 4.]\n",
      "Correlation coefficient: 1.0\n",
      "Covariance: 1.0\n"
     ]
    }
   ],
   "source": [
    "import numpy as np\n",
    "\n",
    "# Statistical functions\n",
    "\n",
    "# Mean\n",
    "data = np.array([1, 2, 3, 4, 5])\n",
    "mean_value = np.mean(data)\n",
    "print(\"Mean:\", mean_value)\n",
    "\n",
    "# Median\n",
    "median_value = np.median(data)\n",
    "print(\"Median:\", median_value)\n",
    "\n",
    "# Standard deviation\n",
    "std_dev = np.std(data)\n",
    "print(\"Standard Deviation:\", std_dev)\n",
    "\n",
    "# Variance\n",
    "variance = np.var(data)\n",
    "print(\"Variance:\", variance)\n",
    "\n",
    "# Minimum and maximum values\n",
    "min_value = np.min(data)\n",
    "max_value = np.max(data)\n",
    "print(\"Minimum value:\", min_value)\n",
    "print(\"Maximum value:\", max_value)\n",
    "\n",
    "# Argument of minimum and maximum values\n",
    "min_index = np.argmin(data)\n",
    "max_index = np.argmax(data)\n",
    "print(\"Index of minimum value:\", min_index)\n",
    "print(\"Index of maximum value:\", max_index)\n",
    "\n",
    "# Percentiles\n",
    "percentile_25 = np.percentile(data, 25)\n",
    "percentile_75 = np.percentile(data, 75)\n",
    "print(\"25th percentile:\", percentile_25)\n",
    "print(\"75th percentile:\", percentile_75)\n",
    "\n",
    "# Quantiles\n",
    "quantiles = np.quantile(data, [0.25, 0.5, 0.75])\n",
    "print(\"Quantiles:\", quantiles)\n",
    "\n",
    "\n",
    "# Correlation coefficient\n",
    "x = np.array([1, 2, 3])\n",
    "y = np.array([4, 5, 6])\n",
    "correlation_coeff = np.corrcoef(x, y)[0, 1]\n",
    "print(\"Correlation coefficient:\", correlation_coeff)\n",
    "\n",
    "# Covariance\n",
    "covariance = np.cov(x, y)[0, 1]\n",
    "print(\"Covariance:\", covariance)"
   ]
  },
  {
   "cell_type": "markdown",
   "metadata": {},
   "source": [
    "LINEAR ALGEBRA"
   ]
  },
  {
   "cell_type": "code",
   "execution_count": 20,
   "metadata": {},
   "outputs": [
    {
     "name": "stdout",
     "output_type": "stream",
     "text": [
      "Matrix operations:\n",
      "[[ 6  8]\n",
      " [10 12]]\n",
      "[[-4 -4]\n",
      " [-4 -4]]\n",
      "[[19 22]\n",
      " [43 50]]\n",
      "[[1 3]\n",
      " [2 4]]\n",
      "[[-2.   1. ]\n",
      " [ 1.5 -0.5]]\n",
      "\n",
      "Eigenvalues and eigenvectors:\n",
      "Eigenvalues: [-0.37228132  5.37228132]\n",
      "Eigenvectors: [[-0.82456484 -0.41597356]\n",
      " [ 0.56576746 -0.90937671]]\n",
      "\n",
      "Determinant and trace:\n",
      "Determinant: -2.0000000000000004\n",
      "Trace: 5\n",
      "\n",
      "Singular value decomposition (SVD):\n",
      "U: [[-0.40455358 -0.9145143 ]\n",
      " [-0.9145143   0.40455358]]\n",
      "Sigma: [5.4649857  0.36596619]\n",
      "VT: [[-0.57604844 -0.81741556]\n",
      " [ 0.81741556 -0.57604844]]\n",
      "\n",
      "QR decomposition:\n",
      "Q: [[-0.31622777 -0.9486833 ]\n",
      " [-0.9486833   0.31622777]]\n",
      "R: [[-3.16227766 -4.42718872]\n",
      " [ 0.         -0.63245553]]\n",
      "\n",
      "Solving linear equations:\n",
      "Solution: [ 7. -6.]\n"
     ]
    }
   ],
   "source": [
    "import numpy as np\n",
    "\n",
    "# Matrix creation\n",
    "matrix1 = np.array([[1, 2], [3, 4]])\n",
    "matrix2 = np.array([[5, 6], [7, 8]])\n",
    "\n",
    "# Matrix operations\n",
    "print(\"Matrix operations:\")\n",
    "print(np.add(matrix1, matrix2))  # Matrix addition\n",
    "print(np.subtract(matrix1, matrix2))  # Matrix subtraction\n",
    "print(np.dot(matrix1, matrix2))  # Matrix multiplication\n",
    "print(np.transpose(matrix1))  # Matrix transpose\n",
    "print(np.linalg.inv(matrix1))  # Matrix inverse\n",
    "\n",
    "# Eigenvalues and eigenvectors\n",
    "print(\"\\nEigenvalues and eigenvectors:\")\n",
    "eigenvalues, eigenvectors = np.linalg.eig(matrix1)\n",
    "print(\"Eigenvalues:\", eigenvalues)\n",
    "print(\"Eigenvectors:\", eigenvectors)\n",
    "\n",
    "# Determinant and trace\n",
    "print(\"\\nDeterminant and trace:\")\n",
    "determinant = np.linalg.det(matrix1)\n",
    "trace = np.trace(matrix1)\n",
    "print(\"Determinant:\", determinant)\n",
    "print(\"Trace:\", trace)\n",
    "\n",
    "# Singular value decomposition (SVD)\n",
    "print(\"\\nSingular value decomposition (SVD):\")\n",
    "U, sigma, VT = np.linalg.svd(matrix1)\n",
    "print(\"U:\", U)\n",
    "print(\"Sigma:\", sigma)\n",
    "print(\"VT:\", VT)\n",
    "\n",
    "# QR decomposition\n",
    "print(\"\\nQR decomposition:\")\n",
    "Q, R = np.linalg.qr(matrix1)\n",
    "print(\"Q:\", Q)\n",
    "print(\"R:\", R)\n",
    "\n",
    "#\n",
    "\n",
    "# Solving linear equations\n",
    "print(\"\\nSolving linear equations:\")\n",
    "coefficients = np.array([[2, 1], [5, 3]])\n",
    "constants = np.array([8, 17])\n",
    "solution = np.linalg.solve(coefficients, constants)\n",
    "print(\"Solution:\", solution)"
   ]
  },
  {
   "cell_type": "markdown",
   "metadata": {},
   "source": [
    "RANDOM NUMBERS "
   ]
  },
  {
   "cell_type": "code",
   "execution_count": 21,
   "metadata": {},
   "outputs": [
    {
     "name": "stdout",
     "output_type": "stream",
     "text": [
      "Random integer: 9\n",
      "Random float: 0.9767395363551664\n",
      "Random randrange: 5\n",
      "Random choice: 4\n",
      "Shuffled sequence: [3, 2, 1, 5, 4]\n",
      "Random uniform: [0.94977966 0.75160341 0.9161187  0.08135339 0.10239824]\n",
      "Random normal: [ 0.75306396 -0.25734456 -1.27294598  0.77568328 -0.8415704 ]\n",
      "Random integers: [9 6 7 4 8]\n",
      "Random number with seed: 2\n"
     ]
    }
   ],
   "source": [
    "import random\n",
    "import numpy as np\n",
    "\n",
    "# Generate random integers within a specified range\n",
    "random_integer = random.randint(1, 10)\n",
    "print(\"Random integer:\", random_integer)\n",
    "\n",
    "# Generate random floating-point numbers between 0 and 1\n",
    "random_float = random.random()\n",
    "print(\"Random float:\", random_float)\n",
    "\n",
    "# Generate random integers within a specified range with a step size\n",
    "random_randrange = random.randrange(1, 10, 2)\n",
    "print(\"Random randrange:\", random_randrange)\n",
    "\n",
    "# Generate a random choice from a sequence\n",
    "sequence = [1, 2, 3, 4, 5]\n",
    "random_choice = random.choice(sequence)\n",
    "print(\"Random choice:\", random_choice)\n",
    "\n",
    "# Shuffle a sequence\n",
    "random.shuffle(sequence)\n",
    "print(\"Shuffled sequence:\", sequence)\n",
    "\n",
    "# Generate random samples from a uniform distribution\n",
    "random_uniform = np.random.rand(5)\n",
    "print(\"Random uniform:\", random_uniform)\n",
    "\n",
    "# Generate random samples from a standard normal distribution\n",
    "random_normal = np.random.randn(5)\n",
    "print(\"Random normal:\", random_normal)\n",
    "\n",
    "# Generate random integers within a specified range\n",
    "random_integers = np.random.randint(1, 10, size=5)\n",
    "print(\"Random integers:\", random_integers)\n",
    "\n",
    "# Seed the random number generator for reproducible results\n",
    "random.seed(42)\n",
    "random_number = random.randint(1, 10)\n",
    "print(\"Random number with seed:\", random_number)"
   ]
  },
  {
   "cell_type": "markdown",
   "metadata": {},
   "source": [
    "NUMPY METHODS  AND FUNCTIONS  IN PYTHON"
   ]
  },
  {
   "cell_type": "code",
   "execution_count": 22,
   "metadata": {},
   "outputs": [
    {
     "name": "stdout",
     "output_type": "stream",
     "text": [
      "\n",
      "File I/O:\n",
      "[1 2 3 4]\n",
      "\n",
      "Other functions:\n",
      "[1 2 3 4]\n",
      "[]\n",
      "[1 2 3 4]\n",
      "[1 2 3 4 5 6 7 8]\n"
     ]
    }
   ],
   "source": [
    "print(\"\\nFile I/O:\")\n",
    "np.save(\"array.npy\", array1)\n",
    "loaded_array = np.load(\"array.npy\")\n",
    "print(loaded_array)\n",
    "\n",
    "# Other functions\n",
    "print(\"\\nOther functions:\")\n",
    "print(np.unique(array1))\n",
    "print(np.intersect1d(array1, array2))\n",
    "print(np.setdiff1d(array1, array2))\n",
    "print(np.union1d(array1, array2))"
   ]
  },
  {
   "cell_type": "code",
   "execution_count": 23,
   "metadata": {},
   "outputs": [
    {
     "name": "stdout",
     "output_type": "stream",
     "text": [
      "\n",
      "File I/O:\n",
      "[1 2 3 4 2]\n",
      "\n",
      "Other functions:\n",
      "Unique values in array1: [1 2 3 4]\n",
      "Intersection of array1 and array2: [3 4]\n",
      "Difference of array1 and array2 (elements in array1 only): [1 2]\n",
      "Union of array1 and array2: [1 2 3 4 5 6]\n"
     ]
    }
   ],
   "source": [
    "import numpy as np\n",
    "\n",
    "# Create sample arrays\n",
    "array1 = np.array([1, 2, 3, 4, 2])\n",
    "array2 = np.array([3, 4, 5, 6])\n",
    "\n",
    "# File I/O using NumPy\n",
    "print(\"\\nFile I/O:\")\n",
    "np.save(\"array.npy\", array1)\n",
    "loaded_array = np.load(\"array.npy\")\n",
    "print(loaded_array)  # Output: [1 2 3 4 2]\n",
    "\n",
    "# Other NumPy functions\n",
    "print(\"\\nOther functions:\")\n",
    "# Unique values\n",
    "unique_values = np.unique(array1)\n",
    "print(\"Unique values in array1:\", unique_values)  # Output: [1 2 3 4]\n",
    "\n",
    "# Intersection (common elements)\n",
    "intersection = np.intersect1d(array1, array2)\n",
    "print(\"Intersection of array1 and array2:\", intersection)  # Output: [3 4]\n",
    "\n",
    "# Difference (elements in array1 but not array2)\n",
    "difference = np.setdiff1d(array1, array2)\n",
    "print(\"Difference of array1 and array2 (elements in array1 only):\", difference)  # Output: [1 2]\n",
    "\n",
    "# Union (all unique elements from both arrays)\n",
    "union = np.union1d(array1, array2)\n",
    "print(\"Union of array1 and array2:\", union)  # Output: [1 2 3 4 5 6]"
   ]
  },
  {
   "cell_type": "markdown",
   "metadata": {},
   "source": [
    "PANDAS\n",
    "data  creation"
   ]
  },
  {
   "cell_type": "code",
   "execution_count": null,
   "metadata": {},
   "outputs": [],
   "source": []
  },
  {
   "cell_type": "markdown",
   "metadata": {},
   "source": [
    "PANDAS LIBRARY IN python"
   ]
  },
  {
   "cell_type": "code",
   "execution_count": null,
   "metadata": {},
   "outputs": [],
   "source": []
  },
  {
   "cell_type": "code",
   "execution_count": 5,
   "metadata": {},
   "outputs": [
    {
     "name": "stdout",
     "output_type": "stream",
     "text": [
      "<class 'module'>\n",
      "<class 'module'>\n"
     ]
    }
   ],
   "source": [
    "import numpy as np\n",
    "import pandas as p\n",
    "'''\n",
    "\n",
    "info():\n",
    "ddf.info()\n",
    "it  provides  the summery of  the  data\n",
    "column names\n",
    "number of  rows\n",
    "datatype\n",
    "number of Non null vlaues\n",
    "'''\n",
    "print(type(np))\n",
    "print(type(p))"
   ]
  },
  {
   "cell_type": "code",
   "execution_count": 16,
   "metadata": {},
   "outputs": [
    {
     "name": "stdout",
     "output_type": "stream",
     "text": [
      "      Name  Marks\n",
      "4  darshan     95\n",
      "2  darshan     90\n",
      "8      Ivy     88\n",
      "0    Alice     85\n",
      "6    Grace     82\n",
      "5    Frank     78\n",
      "9  darshan     75\n",
      "1      Bob     72\n",
      "3    David     68\n",
      "7    Harry     65\n"
     ]
    }
   ],
   "source": [
    "import pandas as p\n",
    "sd = {\n",
    "    'Name': ['Alice', 'Bob', 'darshan', 'David', 'darshan', 'Frank', 'Grace', 'Harry', 'Ivy', 'darshan'],\n",
    "    'Marks': [85, 72, 90, 68, 95, 78, 82, 65, 88, 75]\n",
    "}\n",
    "f=p.DataFrame(sd)\n",
    "#print(f)\n",
    "k=f.sort_values(by=[\"Marks\"],ascending=False)\n",
    "#  sorting  the  data   ascending  or  descending  formate\n",
    "\n",
    "print(k)\n"
   ]
  },
  {
   "cell_type": "markdown",
   "metadata": {},
   "source": [
    "FILTERING  DATA"
   ]
  },
  {
   "cell_type": "code",
   "execution_count": 18,
   "metadata": {},
   "outputs": [
    {
     "name": "stdout",
     "output_type": "stream",
     "text": [
      "0    False\n",
      "1    False\n",
      "2     True\n",
      "3    False\n",
      "4     True\n",
      "5    False\n",
      "6    False\n",
      "7    False\n",
      "8    False\n",
      "9     True\n",
      "Name: Name, dtype: bool\n"
     ]
    }
   ],
   "source": [
    "f=f[\"Name\"]==\"darshan\"\n",
    "print(f)\n",
    "print(type(f))"
   ]
  },
  {
   "cell_type": "code",
   "execution_count": 19,
   "metadata": {},
   "outputs": [
    {
     "name": "stdout",
     "output_type": "stream",
     "text": [
      "      Name     USN Department  Age  Marks\n",
      "0    Alice  123456        CSE   20     85\n",
      "1      Bob  234567        ECE   21     72\n",
      "2  Charlie  345678        EEE   19     90\n",
      "3    David  456789         ME   22     68\n",
      "4      Eve  567890         CE   20     95\n",
      "5    Frank  678901        CSE   21     78\n",
      "6    Grace  789012        ECE   19     82\n",
      "7    Harry  890123        EEE   22     65\n",
      "8      Ivy  901234         ME   20     88\n",
      "9     Jack  012345         CE   21     75\n"
     ]
    }
   ],
   "source": [
    "import pandas as pd\n",
    "\n",
    "# Create a dictionary containing student details\n",
    "student_data = {\n",
    "    'Name': ['Alice', 'Bob', 'Charlie', 'David', 'Eve', 'Frank', 'Grace', 'Harry', 'Ivy', 'Jack'],\n",
    "    'USN': ['123456', '234567', '345678', '456789', '567890', '678901', '789012', '890123', '901234', '012345'],\n",
    "    'Department': ['CSE', 'ECE', 'EEE', 'ME', 'CE', 'CSE', 'ECE', 'EEE', 'ME', 'CE'],\n",
    "    'Age': [20, 21, 19, 22, 20, 21, 19, 22, 20, 21],\n",
    "    'Marks': [85, 72, 90, 68, 95, 78, 82, 65, 88, 75]\n",
    "}\n",
    "\n",
    "# Create a Pandas DataFrame from the dictionary\n",
    "df = pd.DataFrame(student_data)\n",
    "\n",
    "# Print the DataFrame\n",
    "print(df)"
   ]
  },
  {
   "cell_type": "code",
   "execution_count": 22,
   "metadata": {},
   "outputs": [
    {
     "name": "stdout",
     "output_type": "stream",
     "text": [
      "Department\n",
      "CE     20.5\n",
      "CSE    20.5\n",
      "ECE    20.0\n",
      "EEE    20.5\n",
      "ME     21.0\n",
      "Name: Age, dtype: float64\n"
     ]
    }
   ],
   "source": [
    "'''  \n",
    " Group By:\n",
    "\n",
    "\n",
    "'''\n",
    "k=df.groupby([\"Department\"])[\"Age\"].mean()\n",
    "print(k)"
   ]
  },
  {
   "cell_type": "markdown",
   "metadata": {},
   "source": [
    "EXCEPTION HANDLING"
   ]
  },
  {
   "cell_type": "code",
   "execution_count": null,
   "metadata": {},
   "outputs": [],
   "source": [
    "#try:     contains the \n",
    "#except:\n",
    "#handles the specific exception  that  was  raised you  can catch specific exceptions\n"
   ]
  },
  {
   "cell_type": "code",
   "execution_count": 27,
   "metadata": {},
   "outputs": [
    {
     "name": "stdout",
     "output_type": "stream",
     "text": [
      "darshan\n",
      "this will  prints  no  matter  what\n"
     ]
    }
   ],
   "source": [
    "try:\n",
    "    n=20\n",
    "    r=n/0\n",
    "except Exception as e:\n",
    "     print(\"darshan\")\n",
    "\n",
    "\n",
    "\n",
    "else:\n",
    "     print(\"hello\",r)\n",
    "finally:\n",
    "     print(\"this will  prints  no  matter  what\")\n",
    "     \n",
    "\n",
    "\n",
    "\n",
    "\n",
    "\n"
   ]
  },
  {
   "cell_type": "markdown",
   "metadata": {},
   "source": [
    "OOPS CONCEPT"
   ]
  },
  {
   "cell_type": "code",
   "execution_count": null,
   "metadata": {},
   "outputs": [],
   "source": [
    "'''\n",
    "oops  object  oriented  programming  system\n",
    "class :  define  the  blue print for  object\n",
    "onject: an instance of a class\n",
    "attribute :characterstics  of  an object\n",
    "method; actions an object can perform\n",
    "inheritance: child  class inherit  from parent  class\n",
    "polymorphism: objects  have  behav  similarity\n",
    "encapsulation: hide  the internal  details\n",
    "abstraction: focus  on the  essential features\n",
    "'''\n",
    "class car:\n",
    "    def __init__(self,color,model):\n",
    "        self.color=color#  attribute\n",
    "        #self:  is  the reference to the current instance of the class\n",
    "        #self.color=color: assign the value of color to the instance attribute\n",
    "        self.model=model\n",
    "    def drive(self):# method\n",
    "        print(f\"the {self.color} {self.model}is  driving\")"
   ]
  },
  {
   "cell_type": "code",
   "execution_count": null,
   "metadata": {},
   "outputs": [],
   "source": [
    "c1=car(\"red\",\"benz\")\n",
    "c2=car(\"red\",\"benz\")\n",
    "c3=car(\"green\",\"tata\")\n",
    "c1.drive()\n",
    "c2.drive()\n",
    "c3.drive()"
   ]
  },
  {
   "cell_type": "code",
   "execution_count": 18,
   "metadata": {},
   "outputs": [
    {
     "name": "stdout",
     "output_type": "stream",
     "text": [
      "hello anvi\n",
      "morning\n",
      "wooof\n",
      "wooof\n"
     ]
    }
   ],
   "source": [
    "class dog:\n",
    "    def __init__(self,name,breed):\n",
    "        self.name=name\n",
    "        self.breed=breed\n",
    "    def bark(self):\n",
    "        print(\"wooof\")\n",
    "#creating objects\n",
    "d1=dog(\"hello anvi\",\"good moring\")\n",
    "d2=dog(\"hello deepaaak\",\"morning\")\n",
    "#access    attributes\n",
    "print(d1.name)\n",
    "print(d2.breed)\n",
    "#call  method\n",
    "d1.bark()\n",
    "d2.bark()"
   ]
  },
  {
   "cell_type": "markdown",
   "metadata": {},
   "source": [
    "INHERITANCE:"
   ]
  },
  {
   "cell_type": "markdown",
   "metadata": {},
   "source": [
    "ENCAPSULATION"
   ]
  },
  {
   "cell_type": "code",
   "execution_count": 19,
   "metadata": {},
   "outputs": [
    {
     "name": "stdout",
     "output_type": "stream",
     "text": [
      "Buddy\n",
      "Labrador\n",
      "Woof!\n",
      "Woof!\n"
     ]
    }
   ],
   "source": [
    "class Dog:\n",
    "    def __init__(self, name, breed):\n",
    "        self.name = name\n",
    "        self.breed = breed\n",
    "\n",
    "    def bark(self):\n",
    "        print(\"Woof!\")\n",
    "\n",
    "# Create objects\n",
    "dog1 = Dog(\"Buddy\", \"Golden Retriever\")\n",
    "dog2 = Dog(\"Max\", \"Labrador\")\n",
    "\n",
    "# Access attributes\n",
    "print(dog1.name)  # Output: Buddy\n",
    "print(dog2.breed)  # Output: Labrador\n",
    "\n",
    "# Call methods\n",
    "dog1.bark()  # Output: Woof!\n",
    "dog2.bark()  # Output: Woof!"
   ]
  },
  {
   "cell_type": "code",
   "execution_count": 17,
   "metadata": {},
   "outputs": [
    {
     "name": "stdout",
     "output_type": "stream",
     "text": [
      "darshan\n"
     ]
    },
    {
     "ename": "TypeError",
     "evalue": "'str' object is not callable",
     "output_type": "error",
     "traceback": [
      "\u001b[1;31m---------------------------------------------------------------------------\u001b[0m",
      "\u001b[1;31mTypeError\u001b[0m                                 Traceback (most recent call last)",
      "Cell \u001b[1;32mIn[17], line 13\u001b[0m\n\u001b[0;32m     11\u001b[0m         \u001b[38;5;28;01mreturn\u001b[39;00m \u001b[38;5;28mself\u001b[39m\u001b[38;5;241m.\u001b[39mage\n\u001b[0;32m     12\u001b[0m p1\u001b[38;5;241m=\u001b[39mperson(\u001b[38;5;241m7\u001b[39m,\u001b[38;5;124m\"\u001b[39m\u001b[38;5;124mdarshan\u001b[39m\u001b[38;5;124m\"\u001b[39m)\u001b[38;5;66;03m#object\u001b[39;00m\n\u001b[1;32m---> 13\u001b[0m \u001b[43mp1\u001b[49m\u001b[38;5;241;43m.\u001b[39;49m\u001b[43mname\u001b[49m\u001b[43m(\u001b[49m\u001b[43m)\u001b[49m\n",
      "\u001b[1;31mTypeError\u001b[0m: 'str' object is not callable"
     ]
    }
   ],
   "source": [
    "print(\"darshan\")\n",
    "'''\n",
    "\n",
    "\n",
    "'''\n",
    "class person:\n",
    "    def __init__(self,age,name):#constructor\n",
    "        self.age=age\n",
    "        self.name=name\n",
    "    def getage(self):\n",
    "        return self.age\n",
    "p1=person(7,\"darshan\")#object\n",
    "p1.name()\n"
   ]
  },
  {
   "cell_type": "code",
   "execution_count": 4,
   "metadata": {},
   "outputs": [
    {
     "name": "stdout",
     "output_type": "stream",
     "text": [
      "darshan\n"
     ]
    },
    {
     "data": {
      "text/plain": [
       "3"
      ]
     },
     "execution_count": 4,
     "metadata": {},
     "output_type": "execute_result"
    }
   ],
   "source": [
    "print(\"darshan\")\n",
    "k={1,2,3,2,1}\n",
    "l=list(k)\n",
    "\n",
    "\n"
   ]
  },
  {
   "cell_type": "code",
   "execution_count": 13,
   "metadata": {},
   "outputs": [
    {
     "name": "stdout",
     "output_type": "stream",
     "text": [
      "darshandaradsgh1232425637abn\n"
     ]
    }
   ],
   "source": [
    "s=\"darshandarADSGH1232425637ABn\".lower().replace(\"[^a-z]\",\"\")\n",
    "print(s)"
   ]
  },
  {
   "cell_type": "code",
   "execution_count": null,
   "metadata": {},
   "outputs": [],
   "source": []
  }
 ],
 "metadata": {
  "kernelspec": {
   "display_name": "venv",
   "language": "python",
   "name": "python3"
  },
  "language_info": {
   "codemirror_mode": {
    "name": "ipython",
    "version": 3
   },
   "file_extension": ".py",
   "mimetype": "text/x-python",
   "name": "python",
   "nbconvert_exporter": "python",
   "pygments_lexer": "ipython3",
   "version": "3.13.1"
  }
 },
 "nbformat": 4,
 "nbformat_minor": 2
}
