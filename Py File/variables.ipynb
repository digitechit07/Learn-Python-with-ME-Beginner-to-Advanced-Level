{
 "cells": [
  {
   "cell_type": "code",
   "execution_count": 1,
   "id": "f735bbe9",
   "metadata": {},
   "outputs": [
    {
     "name": "stdout",
     "output_type": "stream",
     "text": [
      "<class 'int'>\n"
     ]
    }
   ],
   "source": [
    "# 1. Check the Type of Numeric Values\n",
    "a = 8\n",
    "print(type(a))"
   ]
  },
  {
   "cell_type": "code",
   "execution_count": 12,
   "id": "2a540190",
   "metadata": {},
   "outputs": [
    {
     "name": "stdout",
     "output_type": "stream",
     "text": [
      "5\n"
     ]
    }
   ],
   "source": [
    "a = 5.0\n",
    "print(int(a))"
   ]
  },
  {
   "cell_type": "code",
   "execution_count": null,
   "id": "61064655",
   "metadata": {},
   "outputs": [
    {
     "name": "stdout",
     "output_type": "stream",
     "text": [
      "6.0\n",
      "<class 'NoneType'>\n"
     ]
    }
   ],
   "source": [
    "# 2. Convert Integer to Float and Find the Data Types\n",
    "a = 6\n",
    "b = print(float(a))\n",
    "print(type(b))"
   ]
  },
  {
   "cell_type": "code",
   "execution_count": null,
   "id": "3f3ae16e",
   "metadata": {},
   "outputs": [
    {
     "name": "stdout",
     "output_type": "stream",
     "text": [
      "<class 'int'>\n",
      "-1\n",
      "30\n"
     ]
    }
   ],
   "source": [
    "# 3. Print Arithmetic with All Numeric Types\n",
    "a = 5\n",
    "b = 6\n",
    "print(type(a+b))\n",
    "print(a-b)\n",
    "print(a*b)"
   ]
  },
  {
   "cell_type": "code",
   "execution_count": null,
   "id": "434ba193",
   "metadata": {},
   "outputs": [
    {
     "name": "stdout",
     "output_type": "stream",
     "text": [
      "10.2\n",
      "-1.2000000000000002\n",
      "25.650000000000002\n"
     ]
    }
   ],
   "source": [
    "a = 4.5\n",
    "b = 5.7\n",
    "print(a+b)\n",
    "print(a-b)\n",
    "print(a*b)"
   ]
  },
  {
   "cell_type": "code",
   "execution_count": null,
   "id": "1cbd1536",
   "metadata": {},
   "outputs": [
    {
     "name": "stdout",
     "output_type": "stream",
     "text": [
      "33.0\n",
      "44.0\n"
     ]
    }
   ],
   "source": [
    "# 4. Real And Imginary parts of an Complex Numbers\n",
    "a = 33+44j\n",
    "print(a.real)\n",
    "print(a.imag)"
   ]
  },
  {
   "cell_type": "code",
   "execution_count": null,
   "id": "928049ff",
   "metadata": {},
   "outputs": [
    {
     "name": "stdout",
     "output_type": "stream",
     "text": [
      "2.0\n"
     ]
    }
   ],
   "source": [
    "# 5. Divisions of Integers and Floats\n",
    "a = 2\n",
    "b = 1.0\n",
    "print(a/b)"
   ]
  },
  {
   "cell_type": "code",
   "execution_count": null,
   "id": "eefb72ee",
   "metadata": {},
   "outputs": [
    {
     "name": "stdout",
     "output_type": "stream",
     "text": [
      "(7+11j)\n"
     ]
    }
   ],
   "source": [
    "# 6. Addition Of Two Complex Numbers\n",
    "a = 3+4j\n",
    "b = 4+7j\n",
    "print(a+b)"
   ]
  },
  {
   "cell_type": "code",
   "execution_count": null,
   "id": "2f328bcc",
   "metadata": {},
   "outputs": [
    {
     "name": "stdout",
     "output_type": "stream",
     "text": [
      "0.0\n"
     ]
    }
   ],
   "source": [
    "# 7 . Modulus with Float Numbers\n",
    "a = 5.0\n",
    "b = 2.5\n",
    "print(a%b)"
   ]
  },
  {
   "cell_type": "code",
   "execution_count": null,
   "id": "6b1b6e7b",
   "metadata": {},
   "outputs": [
    {
     "name": "stdout",
     "output_type": "stream",
     "text": [
      "(0.6923076923076924-0.038461538461538484j)\n"
     ]
    }
   ],
   "source": [
    "# 8. Divide Complex Numbers\n",
    "a = 3+4j\n",
    "b = 4+6j\n",
    "print(a/b)"
   ]
  },
  {
   "cell_type": "markdown",
   "id": "646406b6",
   "metadata": {},
   "source": [
    "## Sequence Data Type"
   ]
  },
  {
   "cell_type": "code",
   "execution_count": 2,
   "id": "0a31505f",
   "metadata": {},
   "outputs": [
    {
     "name": "stdout",
     "output_type": "stream",
     "text": [
      "S\n"
     ]
    }
   ],
   "source": [
    "# 1. Print the First Character of a String\n",
    "a = \"Sovit\"\n",
    "print(a[:1])"
   ]
  },
  {
   "cell_type": "code",
   "execution_count": null,
   "id": "7745377d",
   "metadata": {},
   "outputs": [
    {
     "name": "stdout",
     "output_type": "stream",
     "text": [
      "S\n"
     ]
    }
   ],
   "source": [
    "a = input()  # we take a as Input\n",
    "print(a[:1])"
   ]
  },
  {
   "cell_type": "code",
   "execution_count": 5,
   "id": "5be3f983",
   "metadata": {},
   "outputs": [
    {
     "name": "stdout",
     "output_type": "stream",
     "text": [
      "t\n"
     ]
    }
   ],
   "source": [
    "## 2. Print the last Character of a string\n",
    "a = \"Sovit\"\n",
    "print(a[4:])"
   ]
  },
  {
   "cell_type": "code",
   "execution_count": 6,
   "id": "69766377",
   "metadata": {},
   "outputs": [
    {
     "name": "stdout",
     "output_type": "stream",
     "text": [
      "t\n"
     ]
    }
   ],
   "source": [
    "a = input()  # we take a as Input\n",
    "print(a[4:])"
   ]
  },
  {
   "cell_type": "code",
   "execution_count": 7,
   "id": "5cdd38ae",
   "metadata": {},
   "outputs": [
    {
     "name": "stdout",
     "output_type": "stream",
     "text": [
      "ovi\n"
     ]
    }
   ],
   "source": [
    "## 3. Print a Substring\n",
    "name = \"Sovit\"\n",
    "print(name[1:4])"
   ]
  },
  {
   "cell_type": "code",
   "execution_count": 9,
   "id": "e16ec05c",
   "metadata": {},
   "outputs": [
    {
     "name": "stdout",
     "output_type": "stream",
     "text": [
      "SovitNaik\n"
     ]
    }
   ],
   "source": [
    "# 4. Concatenate Two Strings\n",
    "First_name = \"Sovit\"\n",
    "Last_name = \"Naik\"\n",
    "print(First_name+Last_name)"
   ]
  },
  {
   "cell_type": "code",
   "execution_count": 17,
   "id": "c27f2f91",
   "metadata": {},
   "outputs": [
    {
     "name": "stdout",
     "output_type": "stream",
     "text": [
      "RamRamRam\n",
      "Ram\n",
      "Ram\n",
      "Ram\n",
      "Ram\n",
      "Ram\n",
      "Ram\n",
      "Ram\n",
      "Ram\n",
      "Ram\n",
      "Ram\n",
      "\n"
     ]
    }
   ],
   "source": [
    "# 5. Repeat a String 3 times\n",
    "Name = \"Ram\"\n",
    "print(Name*3)\n",
    "\n",
    "## If we want to print line by line then \n",
    "Name = \"Ram\"\n",
    "for i in range(5):\n",
    "    print(Name)\n",
    "\n",
    "\n",
    "## Without using For loops we also print it multiple times\n",
    "Name = \"Ram\"\n",
    "\n",
    "\n",
    "print((\"Ram\\n\") * 5)"
   ]
  },
  {
   "cell_type": "code",
   "execution_count": null,
   "id": "7d6ea8c6",
   "metadata": {},
   "outputs": [
    {
     "data": {
      "text/plain": [
       "1"
      ]
     },
     "execution_count": 19,
     "metadata": {},
     "output_type": "execute_result"
    }
   ],
   "source": [
    "# 6. Check if a letter exists in a string\n",
    "Name = \"Sovit\"\n",
    "Name.find(\"o\")  # It will give the index Number of the Letter . if there are more than one Letter then it will print the index of the first letter"
   ]
  },
  {
   "cell_type": "code",
   "execution_count": 21,
   "id": "8bb31065",
   "metadata": {},
   "outputs": [
    {
     "data": {
      "text/plain": [
       "5"
      ]
     },
     "execution_count": 21,
     "metadata": {},
     "output_type": "execute_result"
    }
   ],
   "source": [
    "# 7. Get the Length of a string\n",
    "Name = \"Sovit\"\n",
    "len(Name)"
   ]
  },
  {
   "cell_type": "code",
   "execution_count": 22,
   "id": "bfe978ee",
   "metadata": {},
   "outputs": [
    {
     "name": "stdout",
     "output_type": "stream",
     "text": [
      "So\n"
     ]
    }
   ],
   "source": [
    "# 8. Join the characters manually\n",
    "a = \"S\"\n",
    "b = \"o\"\n",
    "print(a+b)"
   ]
  },
  {
   "cell_type": "code",
   "execution_count": null,
   "id": "edb57ba2",
   "metadata": {},
   "outputs": [
    {
     "name": "stdout",
     "output_type": "stream",
     "text": [
      "ovit\n"
     ]
    }
   ],
   "source": [
    "# 9. Print Everything except the first Character\n",
    "Name = \"Sovit\"\n",
    "print(Name[1:])\n"
   ]
  },
  {
   "cell_type": "code",
   "execution_count": 26,
   "id": "b52ecede",
   "metadata": {},
   "outputs": [
    {
     "name": "stdout",
     "output_type": "stream",
     "text": [
      "Sovi\n"
     ]
    }
   ],
   "source": [
    "# 10. Print Everything except the last Character\n",
    "Name = \"Sovit\"\n",
    "print(Name[:4])"
   ]
  },
  {
   "cell_type": "markdown",
   "id": "b3b18400",
   "metadata": {},
   "source": [
    "### Questions"
   ]
  },
  {
   "cell_type": "code",
   "execution_count": 31,
   "id": "b5974081",
   "metadata": {},
   "outputs": [
    {
     "name": "stdout",
     "output_type": "stream",
     "text": [
      "122122122122122"
     ]
    }
   ],
   "source": [
    "# 1. Write a program to reverse the digit?  ( Takes Input from the user )\n",
    "digit = int(input())\n",
    "#print(digit[::-1])\n",
    "#digit.reverse()\n",
    "for i in range(n):\n",
    "    print(digit-1 , end = \"\")\n"
   ]
  },
  {
   "cell_type": "code",
   "execution_count": 32,
   "id": "309ed6f5",
   "metadata": {},
   "outputs": [
    {
     "name": "stdout",
     "output_type": "stream",
     "text": [
      "5\n"
     ]
    }
   ],
   "source": [
    "# 2. write a program to print the length of String ( Takes User Input )\n",
    "string = input()\n",
    "print(len(string))"
   ]
  },
  {
   "cell_type": "code",
   "execution_count": 33,
   "id": "73d7e299",
   "metadata": {},
   "outputs": [
    {
     "name": "stdout",
     "output_type": "stream",
     "text": [
      "4\n"
     ]
    }
   ],
   "source": [
    "# 3. Write a program that reads a word and print(l-1) where l is the length of the word \n",
    "word = input()\n",
    "l = len(word)\n",
    "print(l-1)\n"
   ]
  },
  {
   "cell_type": "code",
   "execution_count": null,
   "id": "25c6a12f",
   "metadata": {},
   "outputs": [
    {
     "name": "stdout",
     "output_type": "stream",
     "text": [
      "4\n"
     ]
    }
   ],
   "source": [
    "# 4. write a program that reads a word and print the index of the last character of the word\n",
    "word = input()\n",
    "l = len(word)\n",
    "print(l-1)"
   ]
  },
  {
   "cell_type": "code",
   "execution_count": null,
   "id": "f519f62c",
   "metadata": {},
   "outputs": [
    {
     "name": "stdout",
     "output_type": "stream",
     "text": [
      "3\n"
     ]
    }
   ],
   "source": [
    "# 5 . write a program that reads a word and prints the length of word excluding the First and last Characters\n",
    "word = input()\n",
    "l = len(word)\n",
    "print(l-2)  ## Because Here we have to Exclude 2 character so we do l-2"
   ]
  },
  {
   "cell_type": "code",
   "execution_count": null,
   "id": "abf29b81",
   "metadata": {},
   "outputs": [
    {
     "name": "stdout",
     "output_type": "stream",
     "text": [
      "S\n"
     ]
    },
    {
     "data": {
      "text/plain": [
       "'for i in range(word):\\n    print(\"*\")'"
      ]
     },
     "execution_count": 6,
     "metadata": {},
     "output_type": "execute_result"
    }
   ],
   "source": [
    "# 6. Write a program that reads a word and print the first letter of word and star instead of other letter\n",
    "word = input()\n",
    "print(word[0])\n"
   ]
  },
  {
   "cell_type": "code",
   "execution_count": 10,
   "id": "57baea0c",
   "metadata": {},
   "outputs": [
    {
     "name": "stdout",
     "output_type": "stream",
     "text": [
      "******So vit******\n"
     ]
    }
   ],
   "source": [
    "# 7. write a program that reads a word and print the word in the Given Format.The Format is :-\n",
    "#              input : - Sovit \n",
    "#              output :- ***** Sovit *****\n",
    "name = input()\n",
    "for i in range(1):\n",
    "    print(\"*\" * len(name) + name + \"*\" * len(name))\n",
    "\n"
   ]
  },
  {
   "cell_type": "code",
   "execution_count": null,
   "id": "27ed0367",
   "metadata": {},
   "outputs": [],
   "source": [
    "# 8. Write a program that reads a word and prints the First and last Characters of the Letter on two lines ? \n",
    "name = input()\n",
    "\n"
   ]
  },
  {
   "cell_type": "code",
   "execution_count": null,
   "id": "719d45a1",
   "metadata": {},
   "outputs": [],
   "source": [
    "# 9. Write a program that reads the string and prints the First and last character of the string and print * instead of the remaining characters?\n",
    "name = input()\n",
    "print(name[0] + \"\")\n"
   ]
  }
 ],
 "metadata": {
  "kernelspec": {
   "display_name": "Python 3 (ipykernel)",
   "language": "python",
   "name": "python3"
  },
  "language_info": {
   "codemirror_mode": {
    "name": "ipython",
    "version": 3
   },
   "file_extension": ".py",
   "mimetype": "text/x-python",
   "name": "python",
   "nbconvert_exporter": "python",
   "pygments_lexer": "ipython3",
   "version": "3.12.7"
  }
 },
 "nbformat": 4,
 "nbformat_minor": 5
}
