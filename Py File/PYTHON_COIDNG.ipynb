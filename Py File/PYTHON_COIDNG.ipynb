{
 "cells": [
  {
   "cell_type": "code",
   "execution_count": 2,
   "metadata": {},
   "outputs": [
    {
     "name": "stdout",
     "output_type": "stream",
     "text": [
      "darshan\n"
     ]
    }
   ],
   "source": [
    "print(\"darshan\")"
   ]
  },
  {
   "cell_type": "code",
   "execution_count": 4,
   "metadata": {},
   "outputs": [
    {
     "name": "stdout",
     "output_type": "stream",
     "text": [
      "0 1 2 3 4 5 6 7 8 9 "
     ]
    }
   ],
   "source": [
    "for i in range(0,10):\n",
    "    print(i,end=\" \")"
   ]
  },
  {
   "cell_type": "code",
   "execution_count": 1,
   "metadata": {},
   "outputs": [
    {
     "name": "stdout",
     "output_type": "stream",
     "text": [
      "sum: 9181.8171 + 918171.918171 = 927353.735271\n"
     ]
    }
   ],
   "source": [
    "num1 = 9181.8171\n",
    "num2 = 918171.918171\n",
    "sum_result = num1 + num2\n",
    "print(f\"sum: {num1} + {num2} = {sum_result}\")\n"
   ]
  },
  {
   "cell_type": "code",
   "execution_count": 2,
   "metadata": {},
   "outputs": [
    {
     "name": "stdout",
     "output_type": "stream",
     "text": [
      "Division: 91091.8272 / 91812.8767 = 0.9921465318818401\n"
     ]
    }
   ],
   "source": [
    "num3 = 91091.8272\n",
    "num4 = 91812.8767\n",
    "if num4 == 0:\n",
    " print(\"Error: Division by zero is not allowed.\")\n",
    "else:\n",
    " div_result = num3 / num4\n",
    " print(f\"Division: {num3} / {num4} = {div_result}\")"
   ]
  },
  {
   "cell_type": "code",
   "execution_count": 3,
   "metadata": {},
   "outputs": [
    {
     "name": "stdout",
     "output_type": "stream",
     "text": [
      "The area of the triangle is: 37517230.12837805\n"
     ]
    }
   ],
   "source": [
    "base = 9181.9181\n",
    "height = 8171.981\n",
    "# Calculate the area of the triangle\n",
    "area = 0.5 * base * height\n",
    "# Display the result\n",
    "print(f\"The area of the triangle is: {area}\")\n"
   ]
  },
  {
   "cell_type": "code",
   "execution_count": 4,
   "metadata": {},
   "outputs": [
    {
     "name": "stdout",
     "output_type": "stream",
     "text": [
      "Original values: a = 2023, b = 2027\n",
      "Swapped values: a = 2027, b = 2023\n"
     ]
    }
   ],
   "source": [
    "a = 2023\n",
    "b = 2027\n",
    "# Display the original values\n",
    "print(f\"Original values: a = {a}, b = {b}\")\n",
    "# Swap the values using a temporary variable\n",
    "temp = a\n",
    "a = b\n",
    "b = temp\n",
    "# Display the swapped values\n",
    "print(f\"Swapped values: a = {a}, b = {b}\")"
   ]
  },
  {
   "cell_type": "code",
   "execution_count": 36,
   "metadata": {},
   "outputs": [
    {
     "name": "stdout",
     "output_type": "stream",
     "text": [
      "Random number: 84\n"
     ]
    }
   ],
   "source": [
    "import random\n",
    "print(f\"Random number: {random.randint(1, 100)}\")\n"
   ]
  },
  {
   "cell_type": "code",
   "execution_count": 37,
   "metadata": {},
   "outputs": [
    {
     "name": "stdout",
     "output_type": "stream",
     "text": [
      "9181.9181 kilometers is equal to 5705.3776317151005 miles\n"
     ]
    }
   ],
   "source": [
    "kilometers = 9181.9181\n",
    "# Conversion factor: 1 kilometer = 0.621371 miles\n",
    "conversion_factor = 0.621371\n",
    "miles = kilometers * conversion_factor\n",
    "print(f\"{kilometers} kilometers is equal to {miles} miles\")\n"
   ]
  },
  {
   "cell_type": "code",
   "execution_count": 38,
   "metadata": {},
   "outputs": [
    {
     "name": "stdout",
     "output_type": "stream",
     "text": [
      "918171.9181 degrees Celsius is equal to 1652741.45258 degrees Fahrenhit\n"
     ]
    }
   ],
   "source": [
    "celsius = 918171.9181\n",
    "# Conversion formula: Fahrenheit = (Celsius * 9/5) + 32\n",
    "fahrenheit = (celsius * 9/5) + 32\n",
    "print(f\"{celsius} degrees Celsius is equal to {fahrenheit} degrees Fahrenhit\")"
   ]
  },
  {
   "cell_type": "code",
   "execution_count": 39,
   "metadata": {},
   "outputs": [
    {
     "name": "stdout",
     "output_type": "stream",
     "text": [
      "     June 2003\n",
      "Mo Tu We Th Fr Sa Su\n",
      "                   1\n",
      " 2  3  4  5  6  7  8\n",
      " 9 10 11 12 13 14 15\n",
      "16 17 18 19 20 21 22\n",
      "23 24 25 26 27 28 29\n",
      "30\n",
      "\n"
     ]
    }
   ],
   "source": [
    "import calendar\n",
    "year = 2003\n",
    "month = 6\n",
    "cal = calendar.month(year, month)\n",
    "print(cal)\n"
   ]
  },
  {
   "cell_type": "code",
   "execution_count": 40,
   "metadata": {},
   "outputs": [
    {
     "name": "stdout",
     "output_type": "stream",
     "text": [
      "Root 1: -1.002448448532111\n",
      "Root 2: -411.50215023899943\n"
     ]
    }
   ],
   "source": [
    "import math\n",
    "# Input coefficients\n",
    "a = 19.81\n",
    "b = 8171.7161\n",
    "c = 8171.817\n",
    "# Calculate the discriminant\n",
    "discriminant = b**2 - 4*a*c\n",
    "# Check if the discriminant is positive, negative, or zero\n",
    "if discriminant > 0:\n",
    " # Two real and distinct roots\n",
    " root1 = (-b + math.sqrt(discriminant)) / (2*a)\n",
    " root2 = (-b - math.sqrt(discriminant)) / (2*a)\n",
    " print(f\"Root 1: {root1}\")\n",
    " print(f\"Root 2: {root2}\")\n",
    "elif discriminant == 0:\n",
    " # One real root (repeated)\n",
    " root = -b / (2*a)\n",
    " print(f\"Root: {root}\")\n",
    "else:\n",
    " # Complex roots\n",
    " real_part = -b / (2*a)\n",
    " imaginary_part = math.sqrt(abs(discriminant)) / (2*a)\n",
    " print(f\"Root 1: {real_part} + {imaginary_part}i\")\n",
    " print(f\"Root 2: {real_part} - {imaginary_part}i\")\n"
   ]
  },
  {
   "cell_type": "code",
   "execution_count": 41,
   "metadata": {},
   "outputs": [
    {
     "name": "stdout",
     "output_type": "stream",
     "text": [
      "After swapping:\n",
      "a = 10\n",
      "b = 2027\n"
     ]
    }
   ],
   "source": [
    "a=2027\n",
    "b = 10\n",
    "# Swapping without a temporary variable\n",
    "a, b = b, a\n",
    "print(\"After swapping:\")\n",
    "print(\"a =\", a)\n",
    "print(\"b =\", b)\n"
   ]
  },
  {
   "cell_type": "code",
   "execution_count": 42,
   "metadata": {},
   "outputs": [
    {
     "name": "stdout",
     "output_type": "stream",
     "text": [
      "Positive number\n"
     ]
    }
   ],
   "source": [
    "num = 2027\n",
    "if num > 0:\n",
    " print(\"Positive number\")\n",
    "elif num == 0:\n",
    " print(\"Zero\")\n",
    "else:\n",
    " print(\"Negative number\")"
   ]
  },
  {
   "cell_type": "code",
   "execution_count": 43,
   "metadata": {},
   "outputs": [
    {
     "name": "stdout",
     "output_type": "stream",
     "text": [
      "2024 is a leap year\n"
     ]
    }
   ],
   "source": [
    "year = 2024\n",
    "# divided by 100 means century year (ending with 00)\n",
    "# century year divided by 400 is leap year\n",
    "if (year % 400 == 0) and (year % 100 == 0):\n",
    " print(\"{0} is a leap year\".format(year))\n",
    "# not divided by 100 means not a century year\n",
    "# year divided by 4 is a leap year\n",
    "elif (year % 4 ==0) and (year % 100 != 0):\n",
    " print(\"{0} is a leap year\".format(year))\n",
    "# if not divided by both 400 (century year) and 4 (not century year)\n",
    "# year is not leap year\n",
    "else:\n",
    " print(\"{0} is not a leap year\".format(year))\n"
   ]
  },
  {
   "cell_type": "code",
   "execution_count": 2,
   "metadata": {},
   "outputs": [
    {
     "name": "stdout",
     "output_type": "stream",
     "text": [
      "2027, is a prime number\n"
     ]
    }
   ],
   "source": [
    "num = 2027\n",
    "# define a flag variable\n",
    "flag = False\n",
    "if num == 1:\n",
    " print(f\"{num}, is not a prime number\")\n",
    "elif num > 1:\n",
    " # check for factors\n",
    " for i in range(2, num):\n",
    "    if (num % i) == 0:\n",
    "     flag = True # if factor is found, set flag to True\n",
    " # break out of loop\n",
    "    break\n",
    " # check if flag is True\n",
    "if flag:\n",
    " print(f\"{num}, is not a prime number\")\n",
    "else:\n",
    " print(f\"{num}, is a prime number\")"
   ]
  },
  {
   "cell_type": "code",
   "execution_count": 5,
   "metadata": {},
   "outputs": [
    {
     "name": "stdout",
     "output_type": "stream",
     "text": [
      "Prime numbers between 1 and 100 are:\n",
      "2 3 5 7 11 13 17 19 23 29 31 37 41 43 47 53 59 61 67 71 73 79 83 89 97 "
     ]
    }
   ],
   "source": [
    "lower = 1\n",
    "upper = 100\n",
    "print(\"Prime numbers between\", lower, \"and\", upper, \"are:\")\n",
    "for num in range(lower, upper + 1):\n",
    " # all prime numbers are greater than 1\n",
    " if num > 1:\n",
    "    for i in range(2, num):\n",
    "        if (num % i) == 0:\n",
    "            break\n",
    "    else:\n",
    "        print(num ,end=\" \")\n"
   ]
  },
  {
   "cell_type": "code",
   "execution_count": 9,
   "metadata": {},
   "outputs": [
    {
     "name": "stdout",
     "output_type": "stream",
     "text": [
      "The factorial of 4 is 24\n"
     ]
    }
   ],
   "source": [
    "num = 4\n",
    "factorial = 1\n",
    "if num <0:\n",
    " print(\"Factirial does not exist for negative numbers\")\n",
    "elif num == 0:\n",
    " print(\"Factorial of 0 is 1\")\n",
    "else:\n",
    " for i in range(1, num+1):\n",
    "    factorial = factorial*i\n",
    " print(f'The factorial of {num} is {factorial}')\n"
   ]
  },
  {
   "cell_type": "code",
   "execution_count": 10,
   "metadata": {},
   "outputs": [
    {
     "name": "stdout",
     "output_type": "stream",
     "text": [
      "2027 X 1 = 2027\n",
      "2027 X 2 = 4054\n",
      "2027 X 3 = 6081\n",
      "2027 X 4 = 8108\n",
      "2027 X 5 = 10135\n",
      "2027 X 6 = 12162\n",
      "2027 X 7 = 14189\n",
      "2027 X 8 = 16216\n",
      "2027 X 9 = 18243\n",
      "2027 X 10 = 20270\n"
     ]
    }
   ],
   "source": [
    "num = 2027\n",
    "for i in range(1, 11):\n",
    " print(f\"{num} X {i} = {num*i}\")"
   ]
  },
  {
   "cell_type": "code",
   "execution_count": 19,
   "metadata": {},
   "outputs": [
    {
     "name": "stdout",
     "output_type": "stream",
     "text": [
      "Fibonacci sequence:\n",
      "0 1 1 2 3 5 8 13 21 34 55 89 144 233 377 "
     ]
    }
   ],
   "source": [
    "nterms = 15\n",
    "# first two terms\n",
    "n1, n2 = 0, 1\n",
    "count = 0\n",
    "# check if the number of terms is valid\n",
    "if nterms <= 0:\n",
    "    print(\"Please enter a positive integer\")\n",
    "# if there is only one term, return n1\n",
    "elif nterms == 1:\n",
    "    print(\"Fibonacci sequence upto\",nterms,\":\")\n",
    "    print(n1)\n",
    "# generate fibonacci sequence\n",
    "else:\n",
    "    print(\"Fibonacci sequence:\")\n",
    "    while count < nterms:\n",
    "        print(n1,end=\" \")\n",
    "        nth = n1 + n2\n",
    " # update values\n",
    "        n1 = n2\n",
    "        n2 = nth\n",
    "        count += 1"
   ]
  },
  {
   "cell_type": "code",
   "execution_count": 22,
   "metadata": {},
   "outputs": [
    {
     "name": "stdout",
     "output_type": "stream",
     "text": [
      "371 is an Armstrong number.\n"
     ]
    }
   ],
   "source": [
    "num = 371\n",
    "# Calculate the number of digits in num\n",
    "num_str = str(num)\n",
    "num_digits = len(num_str)\n",
    "# Initialize variables\n",
    "sum_of_powers = 0\n",
    "temp_num = num\n",
    "# Calculate the sum of digits raised to the power of num_digits\n",
    "while temp_num > 0:\n",
    " digit = temp_num % 10\n",
    " sum_of_powers += digit ** num_digits\n",
    " temp_num //= 10\n",
    "# Check if it's an Armstrong number\n",
    "if sum_of_powers == num:\n",
    " print(f\"{num} is an Armstrong number.\")\n",
    "else:\n",
    " print(f\"{num} is not an Armstrong number.\")"
   ]
  },
  {
   "cell_type": "code",
   "execution_count": 26,
   "metadata": {},
   "outputs": [
    {
     "name": "stdout",
     "output_type": "stream",
     "text": [
      "1 2 3 4 5 6 7 8 9 153 370 371 407 "
     ]
    }
   ],
   "source": [
    "lower = 1\n",
    "upper = 1000\n",
    "for num in range(lower, upper + 1): # Iterate through the numbers i\n",
    "    order = len(str(num)) # Find the number of digits in 'num'\n",
    "    temp_num = num\n",
    "    sum = 0\n",
    "    while temp_num > 0:\n",
    "        digit = temp_num % 10\n",
    "        sum += digit ** order\n",
    "        temp_num //= 10\n",
    " # Check if 'num' is an Armstrong number\n",
    "    if num == sum:\n",
    "        print(num,end=\" \")\n"
   ]
  },
  {
   "cell_type": "code",
   "execution_count": 27,
   "metadata": {},
   "outputs": [
    {
     "name": "stdout",
     "output_type": "stream",
     "text": [
      "The sum of natural numbers up to 10 is: 55\n"
     ]
    }
   ],
   "source": [
    "limit =10\n",
    "# Initialize the sum\n",
    "sum = 0\n",
    "# Use a for loop to calculate the sum of natural numbers\n",
    "for i in range(1, limit + 1):\n",
    " sum += i\n",
    "# Print the sum\n",
    "print(\"The sum of natural numbers up to\", limit, \"is:\", sum)"
   ]
  },
  {
   "cell_type": "code",
   "execution_count": 31,
   "metadata": {},
   "outputs": [
    {
     "name": "stdout",
     "output_type": "stream",
     "text": [
      "The L.C.M. is 1566\n"
     ]
    }
   ],
   "source": [
    "def compute_lcm(x, y):\n",
    "    if x > y: # choose the greater number\n",
    "        greater = x\n",
    "    else:\n",
    "        greater = y\n",
    "    while(True):\n",
    "        if((greater % x == 0) and (greater % y == 0)):\n",
    "            lcm = greater\n",
    "            break\n",
    "        greater += 1\n",
    "    return lcm\n",
    "print(\"The L.C.M. is\", compute_lcm(27, 58))"
   ]
  },
  {
   "cell_type": "code",
   "execution_count": 32,
   "metadata": {},
   "outputs": [
    {
     "name": "stdout",
     "output_type": "stream",
     "text": [
      "The decimal value of 10 is:\n",
      "0b1010 in binary.\n",
      "0o12 in octal.\n",
      "0xa in hexadecimal.\n"
     ]
    }
   ],
   "source": [
    "dec_num = 10\n",
    "print(\"The decimal value of\", dec_num, \"is:\")\n",
    "print(bin(dec_num), \"in binary.\")\n",
    "print(oct(dec_num), \"in octal.\")\n",
    "print(hex(dec_num), \"in hexadecimal.\")\n"
   ]
  },
  {
   "cell_type": "code",
   "execution_count": 33,
   "metadata": {},
   "outputs": [
    {
     "name": "stdout",
     "output_type": "stream",
     "text": [
      "The ASCII value of 'd' is 100\n"
     ]
    }
   ],
   "source": [
    "char = 'd'\n",
    "print(\"The ASCII value of '\" + char + \"' is\", ord(char))\n"
   ]
  },
  {
   "cell_type": "code",
   "execution_count": 1,
   "metadata": {},
   "outputs": [
    {
     "name": "stdout",
     "output_type": "stream",
     "text": [
      "Welcome to the BMI calculator.\n",
      "Your BMI is:  0.19\n",
      "You are underweight.\n"
     ]
    }
   ],
   "source": [
    "def bodymassindex(height, weight):\n",
    " \n",
    "\n",
    "    return round((weight / height**2),2)\n",
    "h = 23\n",
    "w = 98\n",
    "print(\"Welcome to the BMI calculator.\")\n",
    "bmi = bodymassindex(h, w)\n",
    "print(\"Your BMI is: \", bmi)\n",
    "if bmi <= 18.5:\n",
    " print(\"You are underweight.\")\n",
    "elif 18.5 < bmi <= 24.9:\n",
    " print(\"Your weight is normal.\")\n",
    "elif 25 < bmi <= 29.29:\n",
    " print(\"You are overweight.\")\n",
    "else:\n",
    " print(\"You are obese.\")\n"
   ]
  },
  {
   "cell_type": "code",
   "execution_count": 2,
   "metadata": {},
   "outputs": [
    {
     "name": "stdout",
     "output_type": "stream",
     "text": [
      "The natural logarithm of 27 is: 3.295836866004329\n"
     ]
    }
   ],
   "source": [
    "import math\n",
    "num = 27\n",
    "if num <= 0:\n",
    " print(\"Please enter a positive number.\")\n",
    "else:\n",
    " # Calculate the natural logarithm (base e) of the number\n",
    " result = math.log(num)\n",
    " print(f\"The natural logarithm of {num} is: {result}\")\n"
   ]
  },
  {
   "cell_type": "code",
   "execution_count": 3,
   "metadata": {},
   "outputs": [
    {
     "name": "stdout",
     "output_type": "stream",
     "text": [
      "The cube sum of the first 10 natural numbers is: 3025\n"
     ]
    }
   ],
   "source": [
    "def cube_sum_of_natural_numbers(n):\n",
    "    if n <= 0:\n",
    "        return 0\n",
    "    else:\n",
    "        total = sum([i**3 for i in range(1, n + 1)])\n",
    "        return total\n",
    "# Input the number of natural numbers\n",
    "n = 10\n",
    "if n <= 0:\n",
    " print(\"Please enter a positive integer.\")\n",
    "else:\n",
    " result = cube_sum_of_natural_numbers(n)\n",
    " print(f\"The cube sum of the first {n} natural numbers is: {result}\")"
   ]
  },
  {
   "cell_type": "code",
   "execution_count": 4,
   "metadata": {},
   "outputs": [
    {
     "name": "stdout",
     "output_type": "stream",
     "text": [
      "Sum of the array is  6\n"
     ]
    }
   ],
   "source": [
    "# Finding Sum of Array Using sum()\n",
    "arr = [1,2,3]\n",
    "ans = sum(arr)\n",
    "print('Sum of the array is ', ans)\n"
   ]
  },
  {
   "cell_type": "code",
   "execution_count": 6,
   "metadata": {},
   "outputs": [
    {
     "name": "stdout",
     "output_type": "stream",
     "text": [
      "Sum of the array: 6\n"
     ]
    }
   ],
   "source": [
    "def sum_of_array(arr):\n",
    "    total = 0 # Initialize a variable to store the sum\n",
    " \n",
    "    for element in arr:\n",
    "        total += element # Add each element to the total\n",
    " \n",
    "    return total\n",
    "# Example usage:\n",
    "array = [1, 2, 3]\n",
    "result = sum_of_array(array)\n",
    "print(\"Sum of the array:\", result)\n"
   ]
  },
  {
   "cell_type": "code",
   "execution_count": 8,
   "metadata": {},
   "outputs": [
    {
     "name": "stdout",
     "output_type": "stream",
     "text": [
      "The largest element in the array is: 99\n"
     ]
    }
   ],
   "source": [
    "def find_largest_element(arr):\n",
    "    if not arr:\n",
    "        return \"Array is empty\"\n",
    " # Initialize the first element as the largest\n",
    "    largest_element = arr[0]\n",
    " # Iterate through the array to find the largest element\n",
    "    for element in arr:\n",
    "         if element > largest_element:\n",
    "            largest_element = element\n",
    "    return largest_element\n",
    "# Example usage:\n",
    "my_array = [10, 20, 30, 99]\n",
    "result = find_largest_element(my_array)\n",
    "print(f\"The largest element in the array is: {result}\")"
   ]
  },
  {
   "cell_type": "code",
   "execution_count": 11,
   "metadata": {},
   "outputs": [
    {
     "name": "stdout",
     "output_type": "stream",
     "text": [
      "Original Array: [1, 2, 3, 4, 5]\n",
      "Rotated Array: [3, 4, 5, 1, 2]\n"
     ]
    }
   ],
   "source": [
    "def rotate_array(arr, d):\n",
    "    n = len(arr)\n",
    " \n",
    " # Check if 'd' is valid, it should be within the range of array len\n",
    "    if d < 0 or d >= n:\n",
    "        return \"Invalid rotation value\"\n",
    " \n",
    " # Create a new array to store the rotated elements.\n",
    "    rotated_arr = [0] * n\n",
    " \n",
    " # Perform the rotation.\n",
    "    for i in range(n):\n",
    "         rotated_arr[i] = arr[(i + d) % n]\n",
    " \n",
    "    return rotated_arr\n",
    "# Input array\n",
    "arr = [1, 2, 3, 4, 5]\n",
    "# Number of positions to rotate\n",
    "d = 2\n",
    "# Call the rotate_array function\n",
    "result = rotate_array(arr, d)\n",
    "# Print the rotated array\n",
    "print(\"Original Array:\", arr)\n",
    "print(\"Rotated Array:\", result)\n"
   ]
  },
  {
   "cell_type": "code",
   "execution_count": 13,
   "metadata": {},
   "outputs": [
    {
     "name": "stdout",
     "output_type": "stream",
     "text": [
      "Original Array: [1, 2, 3, 4, 5]\n",
      "Array after splitting and adding: [4, 5, 1, 2, 3]\n"
     ]
    }
   ],
   "source": [
    "def split_and_add(arr, k):\n",
    "    if k <= 0 or k >= len(arr):\n",
    "        return arr \n",
    " # Split the array into two parts\n",
    "    first_part = arr[:k]\n",
    "    second_part = arr[k:]\n",
    " # Add the first part to the end of the second part\n",
    "    result = second_part + first_part\n",
    "    return result\n",
    "# Test the function\n",
    "arr = [1, 2, 3, 4, 5]\n",
    "k = 3\n",
    "result = split_and_add(arr, k)\n",
    "print(\"Original Array:\", arr)\n",
    "print(\"Array after splitting and adding:\", result)\n"
   ]
  },
  {
   "cell_type": "code",
   "execution_count": 14,
   "metadata": {},
   "outputs": [
    {
     "name": "stdout",
     "output_type": "stream",
     "text": [
      "arr1 is monotonic: True\n",
      "arr2 is monotonic: True\n",
      "arr3 is monotonic: False\n"
     ]
    }
   ],
   "source": [
    "def is_monotonic(arr):\n",
    "    increasing = decreasing = True\n",
    "    for i in range(1, len(arr)):\n",
    "        if arr[i] > arr[i - 1]:\n",
    "            decreasing = False\n",
    "        elif arr[i] < arr[i - 1]:\n",
    "            increasing = False\n",
    "    return increasing or decreasing\n",
    "# Test the function\n",
    "arr1 = [1, 2, 2, 3] # Monotonic (non-decreasing)\n",
    "arr2 = [3, 2, 1] # Monotonic (non-increasing)\n",
    "arr3 = [1, 3, 2, 4] # Not monotonic\n",
    "print(\"arr1 is monotonic:\", is_monotonic(arr1))\n",
    "print(\"arr2 is monotonic:\", is_monotonic(arr2))\n",
    "print(\"arr3 is monotonic:\", is_monotonic(arr3))"
   ]
  },
  {
   "cell_type": "code",
   "execution_count": 17,
   "metadata": {},
   "outputs": [
    {
     "name": "stdout",
     "output_type": "stream",
     "text": [
      "Sum of matrices:\n",
      "[10, 10, 10]\n"
     ]
    }
   ],
   "source": [
    "def add_matrices(mat1, mat2):\n",
    " # Check if the matrices have the same dimensions\n",
    "    if len(mat1) != len(mat2) or len(mat1[0]) != len(mat2[0]):\n",
    "        return \"Matrices must have the same dimensions for addition\"\n",
    " \n",
    " # Initialize an empty result matrix with the same dimensions\n",
    "    result = []\n",
    "    for i in range(len(mat1)):\n",
    "        row = []\n",
    "        for j in range(len(mat1[0])):\n",
    "            row.append(mat1[i][j] + mat2[i][j])\n",
    "    result.append(row)\n",
    " \n",
    "    return result\n",
    "# Input matrices\n",
    "matrix1 = [\n",
    " [1, 2, 3],\n",
    " [4, 5, 6],\n",
    " [7, 8, 9]\n",
    "]\n",
    "matrix2 = [\n",
    " [9, 8, 7],\n",
    " [6, 5, 4],\n",
    " [3, 2, 1]\n",
    "]\n",
    "# Call the add_matrices function\n",
    "result_matrix = add_matrices(matrix1, matrix2)\n",
    "if isinstance(result_matrix, str):\n",
    "    print(result_matrix)\n",
    "else:\n",
    "    print(\"Sum of matrices:\")\n",
    "    for row in result_matrix:\n",
    "        print(row)\n"
   ]
  },
  {
   "cell_type": "code",
   "execution_count": 18,
   "metadata": {},
   "outputs": [
    {
     "name": "stdout",
     "output_type": "stream",
     "text": [
      "Result of matrix multiplication:\n",
      "[58, 64]\n",
      "[139, 154]\n"
     ]
    }
   ],
   "source": [
    "def multiply_matrices(mat1, mat2):\n",
    " # Determine the dimensions of the input matrices\n",
    "    rows1 = len(mat1)\n",
    "    cols1 = len(mat1[0])\n",
    "    rows2 = len(mat2)\n",
    "    cols2 = len(mat2[0])\n",
    " # Check if multiplication is possible\n",
    "    if cols1 != rows2:\n",
    "        return \"Matrix multiplication is not possible. Number of column\"\n",
    " # Initialize the result matrix with zeros\n",
    "    result = [[0 for _ in range(cols2)] for _ in range(rows1)]\n",
    " # Perform matrix multiplication\n",
    "    for i in range(rows1):\n",
    "        for j in range(cols2):\n",
    "            for k in range(cols1):\n",
    "                result[i][j] += mat1[i][k] * mat2[k][j]\n",
    "    return result\n",
    "# Example matrices\n",
    "matrix1 = [[1, 2, 3],\n",
    " [4, 5, 6]]\n",
    "matrix2 = [[7, 8],\n",
    " [9, 10],\n",
    " [11, 12]]\n",
    "# Multiply the matrices\n",
    "result_matrix = multiply_matrices(matrix1, matrix2)\n",
    "# Display the result\n",
    "if isinstance(result_matrix, str):\n",
    "    print(result_matrix)\n",
    "else:\n",
    "    print(\"Result of matrix multiplication:\")\n",
    "    for row in result_matrix:\n",
    "        print(row)\n"
   ]
  },
  {
   "cell_type": "code",
   "execution_count": null,
   "metadata": {},
   "outputs": [],
   "source": []
  },
  {
   "cell_type": "code",
   "execution_count": 19,
   "metadata": {},
   "outputs": [
    {
     "name": "stdout",
     "output_type": "stream",
     "text": [
      "[1, 4]\n",
      "[2, 5]\n",
      "[3, 6]\n"
     ]
    }
   ],
   "source": [
    "def transpose_matrix(matrix):\n",
    "    rows, cols = len(matrix), len(matrix[0])\n",
    " # Create an empty matrix to store the transposed data\n",
    "    result = [[0 for _ in range(rows)] for _ in range(cols)]\n",
    "    for i in range(rows):\n",
    "        for j in range(cols):\n",
    "            result[j][i] = matrix[i][j]\n",
    "    return result\n",
    "# Input matrix\n",
    "matrix = [\n",
    " [1, 2, 3],\n",
    " [4, 5, 6]\n",
    "]\n",
    "# Transpose the matrix\n",
    "transposed_matrix = transpose_matrix(matrix)\n",
    "# Print the transposed matrix\n",
    "for row in transposed_matrix:\n",
    "    print(row)"
   ]
  },
  {
   "cell_type": "code",
   "execution_count": 1,
   "metadata": {},
   "outputs": [
    {
     "name": "stdout",
     "output_type": "stream",
     "text": [
      "The sorted words are:\n",
      "Darshan\n",
      "Good\n",
      "Morning\n"
     ]
    }
   ],
   "source": [
    "my_str = \"darshan  good  morning\"\n",
    "# breakdown the string into a list of words\n",
    "words = [word.capitalize() for word in my_str.split()]\n",
    "# sort the list\n",
    "words.sort()\n",
    "# display the sorted words\n",
    "print(\"The sorted words are:\")\n",
    "for word in words:\n",
    "    print(word)\n"
   ]
  },
  {
   "cell_type": "code",
   "execution_count": 4,
   "metadata": {},
   "outputs": [
    {
     "name": "stdout",
     "output_type": "stream",
     "text": [
      "darshangoodmorning\n"
     ]
    }
   ],
   "source": [
    "punctuations = '''!()-[]{};:'\"\\,<>./?@#$%^&*_~'''\n",
    "# To take input from the user\n",
    "my_str = \"darshangoodmorning@#$%^&*(&^%)\"\n",
    "# remove punctuation from the string\n",
    "no_punct = \"\"\n",
    "for char in my_str:\n",
    "    if char not in punctuations:\n",
    "         no_punct = no_punct + char\n",
    "# display the unpunctuated string\n",
    "print(no_punct)\n"
   ]
  },
  {
   "cell_type": "code",
   "execution_count": 12,
   "metadata": {},
   "outputs": [
    {
     "name": "stdout",
     "output_type": "stream",
     "text": [
      "89 is a Disarium number.\n"
     ]
    }
   ],
   "source": [
    "def is_disarium(number):\n",
    "    # Convert the number to a string to iterate over its digits\n",
    "    num_str = str(number)\n",
    "    \n",
    "    # Calculate the sum of digits raised to their respective positions\n",
    "    digit_sum = sum(int(digit) ** (index + 1) for index, digit in enumerate(num_str))\n",
    "    \n",
    "    # Check if the sum is equal to the original number\n",
    "    return digit_sum == number\n",
    "\n",
    "# Input a number from the user\n",
    "try:\n",
    "    num = 89\n",
    "    \n",
    "    # Check if it's a Disarium number\n",
    "    if is_disarium(num):\n",
    "        print(f\"{num} is a Disarium number.\")\n",
    "    else:\n",
    "        print(f\"{num} is not a Disarium number.\")\n",
    "except ValueError:\n",
    "    print(\"Invalid input. Please enter a valid number.\")\n"
   ]
  },
  {
   "cell_type": "code",
   "execution_count": 15,
   "metadata": {},
   "outputs": [
    {
     "name": "stdout",
     "output_type": "stream",
     "text": [
      "Disarium numbers between 1 and 100:\n",
      "1 | 2 | 3 | 4 | 5 | 6 | 7 | 8 | 9 | 89 | "
     ]
    }
   ],
   "source": [
    "def is_disarium(num):\n",
    "    num_str = str(num)\n",
    "    digit_sum = sum(int(digit) ** (index + 1) for index, digit in enumerate(num_str))\n",
    "    return num == digit_sum\n",
    "\n",
    "disarium_numbers = [num for num in range(1, 101) if is_disarium(num)]\n",
    "print(\"Disarium numbers between 1 and 100:\")\n",
    "for num in disarium_numbers:\n",
    "    print(num, end=\" | \")\n"
   ]
  },
  {
   "cell_type": "code",
   "execution_count": 17,
   "metadata": {},
   "outputs": [
    {
     "name": "stdout",
     "output_type": "stream",
     "text": [
      "23 is a Happy Number\n"
     ]
    }
   ],
   "source": [
    "def is_happy_number(num):\n",
    "    seen = set() # To store previously seen numbers\n",
    " \n",
    "    while num != 1 and num not in seen:\n",
    "        seen.add(num)\n",
    "        num = sum(int(i) ** 2 for i in str(num))\n",
    " \n",
    "    return num == 1\n",
    "# Test the function with a number\n",
    "num = 23\n",
    "if is_happy_number(num):\n",
    " print(f\"{num} is a Happy Number\")\n",
    "else:\n",
    " print(f\"{num} is not a Happy Number\")\n"
   ]
  },
  {
   "cell_type": "code",
   "execution_count": 18,
   "metadata": {},
   "outputs": [
    {
     "name": "stdout",
     "output_type": "stream",
     "text": [
      "Happy Numbers between 1 and 100:\n",
      "[1, 7, 10, 13, 19, 23, 28, 31, 32, 44, 49, 68, 70, 79, 82, 86, 91, 94, 97, 100]\n"
     ]
    }
   ],
   "source": [
    "def is_happy_number(num):\n",
    "    seen = set()\n",
    " \n",
    "    while num != 1 and num not in seen:\n",
    "        seen.add(num)\n",
    "        num = sum(int(i) ** 2 for i in str(num))\n",
    " \n",
    "    return num == 1\n",
    "happy_numbers = []\n",
    "for num in range(1, 101):\n",
    "    if is_happy_number(num):\n",
    "        happy_numbers.append(num)\n",
    "print(\"Happy Numbers between 1 and 100:\")\n",
    "print(happy_numbers)\n"
   ]
  },
  {
   "cell_type": "code",
   "execution_count": 19,
   "metadata": {},
   "outputs": [
    {
     "name": "stdout",
     "output_type": "stream",
     "text": [
      "6 is a Harshad Number.\n"
     ]
    }
   ],
   "source": [
    "def is_harshad_number(num):\n",
    " # Calculate the sum of the digits of the number\n",
    " digit_sum = sum(int(i) for i in str(num))\n",
    " # Check if the number is divisible by the sum of its digits\n",
    " return num % digit_sum == 0\n",
    "# Input a number\n",
    "num = 6\n",
    "# Check if it's a Harshad Number\n",
    "if is_harshad_number(num):\n",
    " print(f\"{num} is a Harshad Number.\")\n",
    "else:\n",
    " print(f\"{num} is not a Harshad Number.\")\n"
   ]
  },
  {
   "cell_type": "code",
   "execution_count": 20,
   "metadata": {},
   "outputs": [
    {
     "name": "stdout",
     "output_type": "stream",
     "text": [
      "Pronic numbers between 1 and 100 are:\n",
      "2 | 6 | 12 | 20 | 30 | 42 | 56 | 72 | 90 | "
     ]
    }
   ],
   "source": [
    "def is_pronic_number(num):\n",
    "    for n in range(1, int(num**0.5) + 1):\n",
    "        if n * (n + 1) == num:\n",
    "            return True\n",
    "    return False\n",
    "print(\"Pronic numbers between 1 and 100 are:\")\n",
    "for i in range(1, 101):\n",
    "    if is_pronic_number(i):\n",
    "        print(i, end=\" | \")\n"
   ]
  },
  {
   "cell_type": "code",
   "execution_count": 21,
   "metadata": {},
   "outputs": [
    {
     "name": "stdout",
     "output_type": "stream",
     "text": [
      "Sum of elements in the list: 150\n"
     ]
    }
   ],
   "source": [
    "numbers = [10, 20, 30, 40, 50]\n",
    "# Initialize a variable to store the sum\n",
    "sum_of_numbers = 0\n",
    "# Iterate through the list and accumulate the sum\n",
    "for i in numbers:\n",
    " sum_of_numbers += i\n",
    "# Print the sum\n",
    "print(\"Sum of elements in the list:\", sum_of_numbers)"
   ]
  },
  {
   "cell_type": "code",
   "execution_count": 22,
   "metadata": {},
   "outputs": [
    {
     "name": "stdout",
     "output_type": "stream",
     "text": [
      "Product of elements in the list: 12000000\n"
     ]
    }
   ],
   "source": [
    "numbers = [10, 20, 30, 40, 50]\n",
    "# Initialize a variable to store the product\n",
    "product_of_numbers = 1\n",
    "# Iterate through the list and accumulate the product\n",
    "for i in numbers:\n",
    " product_of_numbers *= i\n",
    "# Print the product\n",
    "print(\"Product of elements in the list:\", product_of_numbers)"
   ]
  },
  {
   "cell_type": "code",
   "execution_count": 23,
   "metadata": {},
   "outputs": [
    {
     "name": "stdout",
     "output_type": "stream",
     "text": [
      "The smallest number in the list is: -45\n"
     ]
    }
   ],
   "source": [
    "numbers = [30, 10, -45, 5, 20]\n",
    "# Initialize a variable to store the minimum value, initially set to th\n",
    "minimum = numbers[0]\n",
    "# Iterate through the list and update the minimum value if a smaller nu\n",
    "for i in numbers:\n",
    "    if i < minimum:\n",
    "        minimum = i\n",
    "# Print the minimum value\n",
    "print(\"The smallest number in the list is:\", minimum)"
   ]
  },
  {
   "cell_type": "code",
   "execution_count": 24,
   "metadata": {},
   "outputs": [
    {
     "name": "stdout",
     "output_type": "stream",
     "text": [
      "The largest number in the list is: 30\n"
     ]
    }
   ],
   "source": [
    "numbers = [30, 10, -45, 5, 20]\n",
    "# Initialize a variable to store the minimum value, initially set to th\n",
    "minimum = numbers[0]\n",
    "# Iterate through the list and update the minimum value if a smaller nu\n",
    "for i in numbers:\n",
    "    if i > minimum:\n",
    "         minimum = i\n",
    "# Print the minimum value\n",
    "print(\"The largest number in the list is:\", minimum)"
   ]
  },
  {
   "cell_type": "code",
   "execution_count": 25,
   "metadata": {},
   "outputs": [
    {
     "name": "stdout",
     "output_type": "stream",
     "text": [
      "The second largest number in the list is: 30\n"
     ]
    }
   ],
   "source": [
    "numbers = [30, 10, 45, 5, 20]\n",
    "# Sort the list in descending order\n",
    "numbers.sort(reverse=True)\n",
    "# Check if there are at least two elements in the list\n",
    "if len(numbers) >= 2:\n",
    "     second_largest = numbers[1]\n",
    "     print(\"The second largest number in the list is:\", second_largest)\n",
    "else:\n",
    "    print(\"The list does not contain a second largest number.\")"
   ]
  },
  {
   "cell_type": "code",
   "execution_count": 26,
   "metadata": {},
   "outputs": [
    {
     "name": "stdout",
     "output_type": "stream",
     "text": [
      "The 90 largest elements in the list are: [345, 100, 98, 87, 67, 54, 50, 45, 34, 30, 20, 15, 10, 5, 3]\n"
     ]
    }
   ],
   "source": [
    "def find_n_largest_elements(lst, n):\n",
    " # Sort the list in descending order\n",
    "    sorted_lst = sorted(lst, reverse=True)\n",
    " \n",
    " # Get the first N elements\n",
    "    largest_elements = sorted_lst[:n]\n",
    " \n",
    "    return largest_elements\n",
    "# Sample list of numbers\n",
    "numbers = [30, 10, 45, 5, 20, 50, 15, 3, 345, 54, 67, 87, 98, 100, 34] \n",
    "# Number of largest elements to find\n",
    "N = 90\n",
    "# Find the N largest elements from the list\n",
    "result = find_n_largest_elements(numbers, N)\n",
    "# Print the N largest elements\n",
    "print(f\"The {N} largest elements in the list are:\", result)\n"
   ]
  },
  {
   "cell_type": "code",
   "execution_count": 27,
   "metadata": {},
   "outputs": [
    {
     "name": "stdout",
     "output_type": "stream",
     "text": [
      "Even numbers in the list: [2, 4, 6, 8, 10]\n"
     ]
    }
   ],
   "source": [
    "numbers = [1, 2, 3, 4, 5, 6, 7, 8, 9, 10]\n",
    "# Using a list comprehension to filter even numbers\n",
    "even_numbers = [num for num in numbers if num % 2 == 0]\n",
    "# Print the even numbers\n",
    "print(\"Even numbers in the list:\", even_numbers)\n"
   ]
  },
  {
   "cell_type": "code",
   "execution_count": 28,
   "metadata": {},
   "outputs": [
    {
     "name": "stdout",
     "output_type": "stream",
     "text": [
      "Odd numbers in the list: [1, 3, 5, 7, 9]\n"
     ]
    }
   ],
   "source": [
    "numbers = [1, 2, 3, 4, 5, 6, 7, 8, 9, 10]\n",
    "# Using a list comprehension to filter even numbers\n",
    "even_numbers = [num for num in numbers if num % 2 != 0]\n",
    "# Print the even numbers\n",
    "print(\"Odd numbers in the list:\", even_numbers)\n"
   ]
  },
  {
   "cell_type": "code",
   "execution_count": 29,
   "metadata": {},
   "outputs": [
    {
     "name": "stdout",
     "output_type": "stream",
     "text": [
      "List after removing empty lists: [[1, 2, 3], [4, 5], [6, 7, 8]]\n"
     ]
    }
   ],
   "source": [
    "list_of_lists = [[1, 2, 3], [], [4, 5], [], [6, 7, 8], []]\n",
    "# Using a list comprehension to remove empty lists\n",
    "filtered_list = [i for i in list_of_lists if i]\n",
    "# Print the filtered list\n",
    "print(\"List after removing empty lists:\", filtered_list)"
   ]
  },
  {
   "cell_type": "code",
   "execution_count": 30,
   "metadata": {},
   "outputs": [
    {
     "name": "stdout",
     "output_type": "stream",
     "text": [
      "[1, 2, 3, 4, 5]\n"
     ]
    }
   ],
   "source": [
    "# 1. Using Using the Slice Operator\n",
    "original_list = [1, 2, 3, 4, 5]\n",
    "cloned_list = original_list[:]\n",
    "print(cloned_list)\n"
   ]
  },
  {
   "cell_type": "code",
   "execution_count": 31,
   "metadata": {},
   "outputs": [
    {
     "name": "stdout",
     "output_type": "stream",
     "text": [
      "[1, 2, 3, 4, 5]\n"
     ]
    }
   ],
   "source": [
    "original_list = [1, 2, 3, 4, 5]\n",
    "cloned_list = list(original_list)\n",
    "print(cloned_list)\n"
   ]
  },
  {
   "cell_type": "code",
   "execution_count": 32,
   "metadata": {},
   "outputs": [
    {
     "name": "stdout",
     "output_type": "stream",
     "text": [
      "[1, 2, 3, 4, 5]\n"
     ]
    }
   ],
   "source": [
    "original_list = [1, 2, 3, 4, 5]\n",
    "cloned_list = [item for item in original_list]\n",
    "print(cloned_list)\n"
   ]
  },
  {
   "cell_type": "code",
   "execution_count": 33,
   "metadata": {},
   "outputs": [
    {
     "name": "stdout",
     "output_type": "stream",
     "text": [
      "The element 2 appears 3\n"
     ]
    }
   ],
   "source": [
    "def count_occurrences(l, element):\n",
    " count = l.count(element)\n",
    " return count\n",
    "# Example usage:\n",
    "my_list = [1, 2, 3, 4, 2, 5, 2, 3, 4, 6, 5]\n",
    "element_to_count = 2\n",
    "occurrences = count_occurrences(my_list, element_to_count)\n",
    "print(f\"The element {element_to_count} appears {occurrences}\")"
   ]
  },
  {
   "cell_type": "code",
   "execution_count": 34,
   "metadata": {},
   "outputs": [
    {
     "name": "stdout",
     "output_type": "stream",
     "text": [
      "Words longer than 5 characters: ['banana', 'cherry', 'elderberry', 'dragon']\n"
     ]
    }
   ],
   "source": [
    "def find_words(words, k):\n",
    " # Create an empty list to store words greater than k\n",
    "    result = []\n",
    " # Iterate through each word in the list\n",
    "    for i in words:\n",
    " # Check if the length of the i is greater than k\n",
    "        if len(i) > k:\n",
    " # If yes, append it to the result list\n",
    "            result.append(i)\n",
    "    return result\n",
    "# Example usage\n",
    "word_list = [\"apple\", \"banana\", \"cherry\", \"date\", \"elderberry\", \"dragon\"]\n",
    "k = 5\n",
    "long_words = find_words(word_list, k)\n",
    "print(f\"Words longer than {k} characters: {long_words}\")"
   ]
  },
  {
   "cell_type": "code",
   "execution_count": 35,
   "metadata": {},
   "outputs": [
    {
     "name": "stdout",
     "output_type": "stream",
     "text": [
      "Original String: Hello, wWorld!\n",
      "String after removing 7th character : Hello, wWorld!\n"
     ]
    }
   ],
   "source": [
    "def remove_char(input_str, i):\n",
    " # Check if i is a valid index\n",
    "    if i < 0 or i >= len(input_str):\n",
    "        print(f\"Invalid index {i}. The string remains unchanged.\")\n",
    "    return input_str\n",
    " # Remove the i-th character using slicing\n",
    "    result_str = input_str[:i] + input_str[i + 1:]\n",
    "    return result_str\n",
    "# Input string\n",
    "input_str = \"Hello, wWorld!\"\n",
    "i = 7 # Index of the character to remove\n",
    "# Remove the i-th character\n",
    "new_str = remove_char(input_str, i)\n",
    "print(f\"Original String: {input_str}\")\n",
    "print(f\"String after removing {i}th character : {new_str}\")"
   ]
  },
  {
   "cell_type": "code",
   "execution_count": 36,
   "metadata": {},
   "outputs": [
    {
     "name": "stdout",
     "output_type": "stream",
     "text": [
      "Original String: Python program to split and join a string\n",
      "List of split Words: ['Python', 'program', 'to', 'split', 'and', 'join', 'a', 'string']\n",
      "Joined String: Python program to split and join a string\n"
     ]
    }
   ],
   "source": [
    "input_str = \"Python program to split and join a string\"\n",
    "word_list = input_str.split() # By default, split on whitespace\n",
    "# Join the list of words into a string\n",
    "separator = \" \" # specify the separator between words\n",
    "output_str = separator.join(word_list)\n",
    "# Print the results\n",
    "print(\"Original String:\", input_str)\n",
    "print(\"List of split Words:\", word_list)\n",
    "print(\"Joined String:\", output_str)\n"
   ]
  },
  {
   "cell_type": "code",
   "execution_count": 37,
   "metadata": {},
   "outputs": [
    {
     "name": "stdout",
     "output_type": "stream",
     "text": [
      "'1001110' is a binary string.\n"
     ]
    }
   ],
   "source": [
    "def is_binary_str(input_str):\n",
    " # Iterate through each character in the input string\n",
    "    for i in input_str:\n",
    " # Check if the i is not '0' or '1'\n",
    "        if i not in '01':\n",
    "            return False # If any character is not '0' or '1', it's no\n",
    "    return True # If all characters are '0' or '1', it's a binary stri\n",
    "# Input string to check\n",
    "input_str = \"1001110\"\n",
    "# Check if the input string is a binary string\n",
    "if is_binary_str(input_str):\n",
    "    print(f\"'{input_str}' is a binary string.\")\n",
    "else:\n",
    "     print(f\"'{input_str}' is not a binary string.\")"
   ]
  },
  {
   "cell_type": "code",
   "execution_count": 38,
   "metadata": {},
   "outputs": [
    {
     "name": "stdout",
     "output_type": "stream",
     "text": [
      "Uncommon words: ['second', 'first']\n"
     ]
    }
   ],
   "source": [
    "def uncommon_words(str1, str2):\n",
    " # Split the strings into words and convert them to sets\n",
    "    words1 = set(str1.split())\n",
    "    words2 = set(str2.split())\n",
    " \n",
    " # Find uncommon words by taking the set difference\n",
    "    uncommon_words_set = words1.symmetric_difference(words2)\n",
    " \n",
    " # Convert the set of uncommon words back to a list\n",
    "    uncommon_words_list = list(uncommon_words_set)\n",
    " \n",
    "    return uncommon_words_list\n",
    "# Input two strings\n",
    "string1 = \"This is the first string\"\n",
    "string2 = \"This is the second string\"\n",
    "# Find uncommon words between the two strings\n",
    "uncommon = uncommon_words(string1, string2)\n",
    "# Print the uncommon words\n",
    "print(\"Uncommon words:\", uncommon)\n"
   ]
  },
  {
   "cell_type": "code",
   "execution_count": 41,
   "metadata": {},
   "outputs": [
    {
     "name": "stdout",
     "output_type": "stream",
     "text": [
      "Duplicate characters: ['s', 'h', 'a']\n"
     ]
    }
   ],
   "source": [
    "def find_duplicates(input_str):\n",
    " # Create an empty dictionary to store character counts\n",
    "    char_count = {}\n",
    " \n",
    " # Initialize a list to store duplicate characters\n",
    "    duplicates = []\n",
    " \n",
    " # Iterate through each character in the input string\n",
    "    for i in input_str:\n",
    " # If the character is already in the dictionary, increment its \n",
    "        if i in char_count:\n",
    "            char_count[i] += 1\n",
    "        else:\n",
    "            char_count[i] = 1\n",
    " \n",
    " # Iterate through the dictionary and add characters with count > 1 \n",
    "    for i, count in char_count.items():\n",
    "        if count > 1:\n",
    "            duplicates.append(i)\n",
    " \n",
    "    return duplicates\n",
    "# Input a string\n",
    "input_string = \"piyush sharma\"\n",
    "# Find duplicate characters in the string\n",
    "duplicate_chars = find_duplicates(input_string)\n",
    "# Print the list of duplicate characters\n",
    "print(\"Duplicate characters:\", duplicate_chars)\n"
   ]
  },
  {
   "cell_type": "code",
   "execution_count": 44,
   "metadata": {},
   "outputs": [
    {
     "name": "stdout",
     "output_type": "stream",
     "text": [
      "The string does not contain special characters.\n"
     ]
    }
   ],
   "source": [
    "import re\n",
    "def check_special_char(in_str):\n",
    " # Define a regular expression pattern to match special characters\n",
    "    pattern = r'[!@#$%^&*()_+{}\\[\\]:;<>,.?~\\\\\\/\\'\"\\-=]'\n",
    " # Use re.search to find a match in the input string\n",
    "    if re.search(pattern, in_str):\n",
    "        return True\n",
    "    else:\n",
    "        return False\n",
    "# Input a string\n",
    "input_string = \"adrshan good  morning\"\n",
    "# Check if the string contains any special characters\n",
    "contains_special = check_special_char(input_string)\n",
    "# Print the result\n",
    "if contains_special:\n",
    "    print(\"The string contains special characters.\")\n",
    "else:\n",
    " print(\"The string does not contain special characters.\")"
   ]
  },
  {
   "cell_type": "code",
   "execution_count": 45,
   "metadata": {},
   "outputs": [
    {
     "name": "stdout",
     "output_type": "stream",
     "text": [
      "Unique values in the dictionary: [10, 20, 30]\n"
     ]
    }
   ],
   "source": [
    "my_dict = {\n",
    " 'a': 10,\n",
    " 'b': 20,\n",
    " 'c': 10,\n",
    " 'd': 30,\n",
    " 'e': 20\n",
    "}\n",
    "# Initialize an empty set to store unique values\n",
    "uni_val = set()\n",
    "# Iterate through the values of the dictionary\n",
    "for i in my_dict.values():\n",
    " # Add each value to the set\n",
    "    uni_val.add(i)\n",
    "# Convert the set of unique values back to a list (if needed)\n",
    "unique_values_list = list(uni_val)\n",
    "# Print the unique values\n",
    "print(\"Unique values in the dictionary:\", unique_values_list)"
   ]
  },
  {
   "cell_type": "code",
   "execution_count": 46,
   "metadata": {},
   "outputs": [
    {
     "name": "stdout",
     "output_type": "stream",
     "text": [
      "Sum of all items in the dictionary: 150\n"
     ]
    }
   ],
   "source": [
    "my_dict = {\n",
    " 'a': 10,\n",
    " 'b': 20,\n",
    " 'c': 30,\n",
    " 'd': 40,\n",
    " 'e': 50\n",
    "}\n",
    "# Initialize a variable to store the sum\n",
    "total_sum = 0\n",
    "# Iterate through the values of the dictionary and add them to the tota\n",
    "for i in my_dict.values():\n",
    "    total_sum += i\n",
    "# Print the sum of all items in the dictionary\n",
    "print(\"Sum of all items in the dictionary:\", total_sum)"
   ]
  },
  {
   "cell_type": "code",
   "execution_count": 47,
   "metadata": {},
   "outputs": [
    {
     "name": "stdout",
     "output_type": "stream",
     "text": [
      "Merged Dictionary (using update()): {'a': 1, 'b': 2, 'c': 3, 'd': 4}\n"
     ]
    }
   ],
   "source": [
    "dict1 = {'a': 1, 'b': 2}\n",
    "dict2 = {'c': 3, 'd': 4}\n",
    "dict1.update(dict2)\n",
    "# The merged dictionary is now in dict1\n",
    "print(\"Merged Dictionary (using update()):\", dict1)"
   ]
  },
  {
   "cell_type": "code",
   "execution_count": 48,
   "metadata": {},
   "outputs": [
    {
     "name": "stdout",
     "output_type": "stream",
     "text": [
      "Merged Dictionary (using dictionary unpacking): {'a': 1, 'b': 2, 'c': 3, 'd': 4}\n"
     ]
    }
   ],
   "source": [
    "dict1 = {'a': 1, 'b': 2}\n",
    "dict2 = {'c': 3, 'd': 4}\n",
    "# Merge dict2 into dict1 using dictionary unpacking\n",
    "merged_dict = {**dict1, **dict2}\n",
    "# The merged dictionary is now in merged_dict\n",
    "print(\"Merged Dictionary (using dictionary unpacking):\", merged_dict)"
   ]
  },
  {
   "cell_type": "code",
   "execution_count": 49,
   "metadata": {},
   "outputs": [
    {
     "name": "stdout",
     "output_type": "stream",
     "text": [
      "Flat Dictionary: {'a': 1, 'b': 2, 'c': 3, 'd': 4}\n"
     ]
    }
   ],
   "source": [
    "key_values_list = [('a', 1), ('b', 2), ('c', 3), ('d', 4)]\n",
    "# Initialize an empty dictionary\n",
    "flat_dict = {}\n",
    "# Iterate through the list and add key-value pairs to the dictionary\n",
    "for key, value in key_values_list:\n",
    " flat_dict[key] = value\n",
    "# Print the resulting flat dictionary\n",
    "print(\"Flat Dictionary:\", flat_dict)"
   ]
  },
  {
   "cell_type": "code",
   "execution_count": 1,
   "metadata": {},
   "outputs": [
    {
     "name": "stdout",
     "output_type": "stream",
     "text": [
      "Updated OrderedDict: OrderedDict([('a', 1), ('b', 2), ('c', 3), ('d', 4)])\n"
     ]
    }
   ],
   "source": [
    "from collections import OrderedDict\n",
    "# Create an OrderedDict\n",
    "ordered_dict = OrderedDict([('b', 2), ('c', 3), ('d', 4)])\n",
    "# Item to insert at the beginning\n",
    "new_item = ('a', 1)\n",
    "# Create a new OrderedDict with the new item as the first element\n",
    "new_ordered_dict = OrderedDict([new_item])\n",
    "# Merge the new OrderedDict with the original OrderedDict\n",
    "new_ordered_dict.update(ordered_dict)\n",
    "# Print the updated OrderedDict\n",
    "print(\"Updated OrderedDict:\", new_ordered_dict)"
   ]
  },
  {
   "cell_type": "code",
   "execution_count": 2,
   "metadata": {},
   "outputs": [
    {
     "name": "stdout",
     "output_type": "stream",
     "text": [
      "The order of characters in the input string matches the refe\n"
     ]
    }
   ],
   "source": [
    "from collections import OrderedDict\n",
    "def check_order(string, reference):\n",
    " # Create OrderedDicts for both strings\n",
    "    string_dict = OrderedDict.fromkeys(string)\n",
    "    reference_dict = OrderedDict.fromkeys(reference)\n",
    " \n",
    " # Check if the OrderedDict for the string matches the OrderedDict f\n",
    "    return string_dict == reference_dict\n",
    "# Input strings\n",
    "input_string = \"hello world\"\n",
    "reference_string = \"helo wrd\"\n",
    "# Check if the order of characters in input_string matches reference_st\n",
    "if check_order(input_string, reference_string):\n",
    "    print(\"The order of characters in the input string matches the refe\")\n",
    "else:\n",
    "     print(\"The order of characters in the input string does not ma\")"
   ]
  },
  {
   "cell_type": "code",
   "execution_count": 3,
   "metadata": {},
   "outputs": [
    {
     "name": "stdout",
     "output_type": "stream",
     "text": [
      "Sorted by keys:\n",
      "apple: 3\n",
      "banana: 1\n",
      "cherry: 2\n",
      "date: 4\n"
     ]
    }
   ],
   "source": [
    "sample_dict = {'apple': 3, 'banana': 1, 'cherry': 2, 'date': 4}\n",
    "sorted_dict_by_keys = dict(sorted(sample_dict.items()))\n",
    "print(\"Sorted by keys:\")\n",
    "for key, value in sorted_dict_by_keys.items():\n",
    "    print(f\"{key}: {value}\")\n"
   ]
  },
  {
   "cell_type": "code",
   "execution_count": 4,
   "metadata": {},
   "outputs": [
    {
     "name": "stdout",
     "output_type": "stream",
     "text": [
      "Sorted by values:\n",
      "banana: 1\n",
      "cherry: 2\n",
      "apple: 3\n",
      "date: 4\n"
     ]
    }
   ],
   "source": [
    "sample_dict = {'apple': 3, 'banana': 1, 'cherry': 2, 'date': 4}\n",
    "\n",
    "# Sorting the dictionary by values\n",
    "sorted_dict_by_values = dict(sorted(sample_dict.items(), key=lambda item: item[1]))\n",
    "\n",
    "print(\"Sorted by values:\")\n",
    "for key, value in sorted_dict_by_values.items():\n",
    "    print(f\"{key}: {value}\")\n"
   ]
  },
  {
   "cell_type": "code",
   "execution_count": 8,
   "metadata": {},
   "outputs": [
    {
     "name": "stdout",
     "output_type": "stream",
     "text": [
      "18,22,245,8,8\n"
     ]
    }
   ],
   "source": [
    "import math\n",
    "\n",
    "C = 50\n",
    "H = 30\n",
    "\n",
    "# Function to calculate Q\n",
    "def calculate_Q(D):\n",
    "    return int(math.sqrt((2 * C * D) / H))\n",
    "\n",
    "# Input comma-separated sequence of D values\n",
    "input_sequence = \"100,150,18018,22,24\"\n",
    "D_values = input_sequence.split(',')\n",
    "\n",
    "# Calculate and print Q for each D value\n",
    "result = [calculate_Q(int(D)) for D in D_values]\n",
    "print(','.join(map(str, result)))\n"
   ]
  },
  {
   "cell_type": "code",
   "execution_count": 12,
   "metadata": {},
   "outputs": [
    {
     "name": "stdout",
     "output_type": "stream",
     "text": [
      "[0, 0, 0]\n",
      "[0, 1, 2]\n",
      "[0, 2, 4]\n"
     ]
    }
   ],
   "source": [
    "# Corrected input for X and Y\n",
    "X, Y = map(int, \"3,3\".split(','))\n",
    "\n",
    "# Initialize a 2D array filled with zeros\n",
    "array = [[0 for j in range(Y)] for i in range(X)]\n",
    "\n",
    "# Fill the array with values i * j\n",
    "for i in range(X):\n",
    "    for j in range(Y):\n",
    "        array[i][j] = i * j\n",
    "\n",
    "# Print the 2D array\n",
    "for row in array:\n",
    "    print(row)\n"
   ]
  },
  {
   "cell_type": "code",
   "execution_count": 13,
   "metadata": {},
   "outputs": [
    {
     "name": "stdout",
     "output_type": "stream",
     "text": [
      "Sorted words: 10,20,30,40,50,60\n"
     ]
    }
   ],
   "source": [
    "input_sequence = \"10,20,30,40,50,60\"\n",
    "# Split the input into a list of words\n",
    "words = input_sequence.split(',')\n",
    "\n",
    "# Sort the words alphabetically\n",
    "sorted_words = sorted(words)\n",
    "\n",
    "# Join the sorted words into a comma-separated sequence\n",
    "sorted_sequence = ','.join(sorted_words)\n",
    "\n",
    "# Print the sorted sequence\n",
    "print(\"Sorted words:\", sorted_sequence)\n"
   ]
  },
  {
   "cell_type": "code",
   "execution_count": 14,
   "metadata": {},
   "outputs": [
    {
     "name": "stdout",
     "output_type": "stream",
     "text": [
      "Result: , ,anvi ,good darshan morning,hello\n"
     ]
    }
   ],
   "source": [
    "input_sequence = \"darshan  ,good , morning,hello  ,anvi\"\n",
    "# Split the input into words and convert it into a set to remove duplic\n",
    "words = set(input_sequence.split())\n",
    "# Sort the unique words alphanumerically\n",
    "sorted_words = sorted(words)\n",
    "# Join the sorted words into a string with whitespace separation\n",
    "result = ' '.join(sorted_words)\n",
    "# Print the result\n",
    "print(\"Result:\", result)\n"
   ]
  },
  {
   "cell_type": "code",
   "execution_count": 15,
   "metadata": {},
   "outputs": [
    {
     "name": "stdout",
     "output_type": "stream",
     "text": [
      "LETTERS 7\n",
      "DIGITS 8\n"
     ]
    }
   ],
   "source": [
    "sentence = \"darshan20272023\"\n",
    "# Initialize counters for letters and digits\n",
    "letter_count = 0\n",
    "digit_count = 0\n",
    "# Iterate through each character in the sentence\n",
    "for char in sentence:\n",
    " if char.isalpha():\n",
    "    letter_count += 1\n",
    " elif char.isdigit():\n",
    "    digit_count += 1\n",
    "# Print the results\n",
    "print(\"LETTERS\", letter_count)\n",
    "print(\"DIGITS\", digit_count)\n"
   ]
  },
  {
   "cell_type": "code",
   "execution_count": 1,
   "metadata": {},
   "outputs": [
    {
     "name": "stdout",
     "output_type": "stream",
     "text": [
      "\n"
     ]
    }
   ],
   "source": [
    "import re\n",
    "\n",
    "# Function to check if a password is valid\n",
    "def is_valid_password(password):\n",
    "    # Check the length of the password\n",
    "    if 6 <= len(password) <= 12:\n",
    "        # Check if the password matches all the criteria using regular expression\n",
    "        if re.match(r\"^(?=.*[a-z])(?=.*[A-Z])(?=.*[0-9])(?=.*[$#@]).+$\", password):\n",
    "            return True\n",
    "    return False\n",
    "\n",
    "# Accept input from the user as comma-separated passwords\n",
    "passwords = (\"darshan ,good , morning\").split(',')\n",
    "\n",
    "# Initialize a list to store valid passwords\n",
    "valid_passwords = []\n",
    "\n",
    "# Iterate through the passwords and check their validity\n",
    "for psw in passwords:\n",
    "    if is_valid_password(psw):\n",
    "        valid_passwords.append(psw)\n",
    "\n",
    "# Print the valid passwords separated by commas\n",
    "print(','.join(valid_passwords))\n"
   ]
  },
  {
   "cell_type": "code",
   "execution_count": 2,
   "metadata": {},
   "outputs": [],
   "source": [
    "class DivisibleBySeven:\n",
    "    def __init__(self,n):\n",
    "        self.n = n\n",
    " \n",
    "    def generate_divisible_by_seven(self):\n",
    "        for num in range(self.n + 1):\n",
    "            if num%7 == 0:\n",
    "                yield num"
   ]
  },
  {
   "cell_type": "code",
   "execution_count": 5,
   "metadata": {},
   "outputs": [
    {
     "name": "stdout",
     "output_type": "stream",
     "text": [
      "0 7 14 21 "
     ]
    }
   ],
   "source": [
    "class DivisibleBySeven:\n",
    "    def __init__(self, n):\n",
    "        self.n = n\n",
    "\n",
    "    def generate_divisible_by_seven(self):\n",
    "        for i in range(0, self.n + 1):\n",
    "            if i % 7 == 0:\n",
    "                yield i\n",
    "\n",
    "n = 27\n",
    "divisible_by_seven_generator = DivisibleBySeven(n).generate_divisible_by_seven()\n",
    "for num in divisible_by_seven_generator:\n",
    "    print(num,end=\" \")\n"
   ]
  },
  {
   "cell_type": "code",
   "execution_count": 6,
   "metadata": {},
   "outputs": [
    {
     "name": "stdout",
     "output_type": "stream",
     "text": [
      "darshan:1\n",
      "good:1\n",
      "morning:1\n"
     ]
    }
   ],
   "source": [
    "input_sentence = \"darshan  good  morning\"\n",
    "# Split the sentence into words\n",
    "words = input_sentence.split()\n",
    "# Create a dictionary to store word frequencies\n",
    "word_freq = {}\n",
    "# Count word frequencies\n",
    "for word in words:\n",
    " # Remove punctuation (., ?) from the word\n",
    "    word = word.strip('.,?')\n",
    " # Convert the word to lowercase to ensure case-insensitive counting\n",
    "    word = word.lower()\n",
    " # Update the word frequency in the dictionary\n",
    "    if word in word_freq:\n",
    "        word_freq[word] += 1\n",
    "    else:\n",
    "        word_freq[word] = 1\n",
    "# Sort the words alphanumerically\n",
    "sorted_words = sorted(word_freq.items())\n",
    "# Print the word frequencies\n",
    "for word, frequency in sorted_words:\n",
    "    print(f\"{word}:{frequency}\")\n"
   ]
  },
  {
   "cell_type": "code",
   "execution_count": 7,
   "metadata": {},
   "outputs": [],
   "source": [
    "class Person:\n",
    "    def getGender(self):\n",
    "        return \"Unknown\"\n",
    "class Male(Person):\n",
    "    def getGender(self):\n",
    "        return \"Male\"\n",
    "class Female(Person):\n",
    "    def getGender(self):\n",
    "        return \"Female\"\n"
   ]
  },
  {
   "cell_type": "code",
   "execution_count": 8,
   "metadata": {},
   "outputs": [
    {
     "name": "stdout",
     "output_type": "stream",
     "text": [
      "Unknown\n",
      "Male\n",
      "Female\n"
     ]
    }
   ],
   "source": [
    "person = Person()\n",
    "male = Male()\n",
    "female = Female()\n",
    "print(person.getGender()) \n",
    "print(male.getGender()) \n",
    "print(female.getGender()) \n"
   ]
  },
  {
   "cell_type": "code",
   "execution_count": 9,
   "metadata": {},
   "outputs": [
    {
     "name": "stdout",
     "output_type": "stream",
     "text": [
      "I Play Hockey.\n",
      "I Play Football.\n",
      "I Love Hockey.\n",
      "I Love Football.\n",
      "You Play Hockey.\n",
      "You Play Football.\n",
      "You Love Hockey.\n",
      "You Love Football.\n"
     ]
    }
   ],
   "source": [
    "subjects = [\"I\", \"You\"]\n",
    "verbs = [\"Play\", \"Love\"]\n",
    "objects = [\"Hockey\", \"Football\"]\n",
    "sentences = []\n",
    "for sub in subjects:\n",
    "    for vrb in verbs:\n",
    "        for obj in objects:\n",
    "            sentence = f\"{sub} {vrb} {obj}.\"\n",
    "            sentences.append(sentence)\n",
    "for sentence in sentences:\n",
    "    print(sentence)"
   ]
  },
  {
   "cell_type": "code",
   "execution_count": 10,
   "metadata": {},
   "outputs": [
    {
     "name": "stdout",
     "output_type": "stream",
     "text": [
      "Original String: hello world!hello world!hello world!hello world!\n",
      "Compressed String: b'x\\x9c\\xcbH\\xcd\\xc9\\xc9W(\\xcf/\\xcaIQ\\xcc \\x82\\r\\x00\\xbd[\\x11\\xf5'\n",
      "Decompressed String: hello world!hello world!hello world!hello world!\n"
     ]
    }
   ],
   "source": [
    "import zlib\n",
    "string = \"hello world!hello world!hello world!hello world!\"\n",
    "# Compress the string\n",
    "compressed_string = zlib.compress(string.encode())\n",
    "# Decompress the string\n",
    "decompressed_string = zlib.decompress(compressed_string).decode()\n",
    "print(\"Original String:\", string)\n",
    "print(\"Compressed String:\", compressed_string)\n",
    "print(\"Decompressed String:\", decompressed_string)"
   ]
  },
  {
   "cell_type": "code",
   "execution_count": 11,
   "metadata": {},
   "outputs": [
    {
     "name": "stdout",
     "output_type": "stream",
     "text": [
      "Element 4 found at index 3\n"
     ]
    }
   ],
   "source": [
    "def binary_search(arr, target):\n",
    "    left, right = 0, len(arr) - 1\n",
    "    while left <= right:\n",
    "        mid = (left + right) // 2\n",
    "        if arr[mid] == target:\n",
    "            return mid # Element found, return its index\n",
    "        elif arr[mid] < target:\n",
    "            left = mid + 1 # Target is in the right half\n",
    "        else:\n",
    "            right = mid - 1 # Target is in the left half\n",
    "    return -1 # Element not found in the list\n",
    "# Example usage:\n",
    "sorted_list = [1, 2, 3, 4, 5, 6, 7, 8, 9]\n",
    "target_element = 4\n",
    "result = binary_search(sorted_list, target_element)\n",
    "if result != -1:\n",
    "    print(f\"Element {target_element} found at index {result}\")\n",
    "else:\n",
    "    print(f\"Element {target_element} not found in the list\")"
   ]
  },
  {
   "cell_type": "code",
   "execution_count": 2,
   "metadata": {},
   "outputs": [
    {
     "name": "stdout",
     "output_type": "stream",
     "text": [
      "0,35,70\n"
     ]
    }
   ],
   "source": [
    "def divisible_by_5_and_7(n):\n",
    "    for num in range(n + 1):\n",
    "        if num % 5 == 0 and num % 7 == 0:\n",
    "            yield num\n",
    "try:\n",
    " n = 100\n",
    " result = divisible_by_5_and_7(n)\n",
    " print(','.join(map(str, result)))\n",
    "except ValueError:\n",
    " print(\"Invalid input. Please enter a valid integer for n.\")\n",
    "\n"
   ]
  },
  {
   "cell_type": "code",
   "execution_count": 3,
   "metadata": {},
   "outputs": [
    {
     "name": "stdout",
     "output_type": "stream",
     "text": [
      "0,2,4,6,8,10,12,14,16,18,20,22,24,26,28\n"
     ]
    }
   ],
   "source": [
    "def even_numbers(n):\n",
    "    for num in range(n + 1):\n",
    "        if num % 2 == 0:\n",
    "            yield num\n",
    "try:\n",
    "    n = 29\n",
    "    result = even_numbers(n)\n",
    "    print(','.join(map(str, result)))\n",
    "except ValueError:\n",
    " print(\"Invalid input. Please enter a valid integer for n.\")\n"
   ]
  },
  {
   "cell_type": "code",
   "execution_count": 4,
   "metadata": {},
   "outputs": [
    {
     "name": "stdout",
     "output_type": "stream",
     "text": [
      "0,1,1,2,3,5,8,13,21,34\n"
     ]
    }
   ],
   "source": [
    "def fibonacci(n):\n",
    " sequence = [0, 1] # Initializing the sequence with the first two F\n",
    " [sequence.append(sequence[-1] + sequence[-2]) for _ in range(2, n)]\n",
    " return sequence\n",
    "try:\n",
    " n =10\n",
    " result = fibonacci(n)\n",
    " print(','.join(map(str, result)))\n",
    "except ValueError:\n",
    " print(\"Invalid input. Please enter a valid integer for n.\")\n"
   ]
  },
  {
   "cell_type": "code",
   "execution_count": 5,
   "metadata": {},
   "outputs": [
    {
     "name": "stdout",
     "output_type": "stream",
     "text": [
      "darshanmn2327\n"
     ]
    }
   ],
   "source": [
    "def extract_username(email):\n",
    " # Split the email address at '@' to separate the username and domai\n",
    "    parts = email.split('@')\n",
    " \n",
    " # Check if the email address has the expected format\n",
    "    if len(parts) == 2:\n",
    "        return parts[0] # The username is the first part\n",
    "    else:\n",
    "        return \"Invalid email format\"\n",
    "try:\n",
    "    email = \"darshanmn2327@gmail.com\"\n",
    "    username = extract_username(email)\n",
    "    print(username)\n",
    "except ValueError:\n",
    "    print(\"Invalid input. Please enter a valid email address.\")\n",
    "\n"
   ]
  },
  {
   "cell_type": "code",
   "execution_count": 9,
   "metadata": {},
   "outputs": [
    {
     "name": "stdout",
     "output_type": "stream",
     "text": [
      "Shape's area by default: 0\n",
      "Area of the square: 400\n"
     ]
    }
   ],
   "source": [
    "class Shape:\n",
    "    def __init__(self):\n",
    "        pass # Default constructor, no need to initialize anything\n",
    "    def area(self):\n",
    "        return 0 # Shape's area is 0 by default\n",
    "class Square(Shape):\n",
    "    def __init__(self, length):\n",
    "        super().__init__() # Call the constructor of the parent class\n",
    "        self.length = length\n",
    "    def area(self):\n",
    "        return self.length ** 2 #\n",
    "shape = Shape()\n",
    "square = Square(20)\n",
    "# Calculate and print the areas\n",
    "print(\"Shape's area by default:\", shape.area()) \n",
    "print(\"Area of the square:\", square.area()) "
   ]
  },
  {
   "cell_type": "code",
   "execution_count": 10,
   "metadata": {},
   "outputs": [
    {
     "name": "stdout",
     "output_type": "stream",
     "text": [
      "in... in... incredible?\n",
      "en... en... enthusiastic?\n",
      "ou... ou... outstanding?\n"
     ]
    }
   ],
   "source": [
    "def stutter(word):\n",
    "    if len(word) < 2:\n",
    "        return \"Word must be at least two characters long.\"\n",
    " \n",
    "    stuttered_word = f\"{word[:2]}... {word[:2]}... {word}?\"\n",
    "    return stuttered_word\n",
    "print(stutter(\"incredible\")) \n",
    "print(stutter(\"enthusiastic\")) \n",
    "print(stutter(\"outstanding\"))\n"
   ]
  },
  {
   "cell_type": "markdown",
   "metadata": {},
   "source": [
    "Basic Array Creation\n"
   ]
  },
  {
   "cell_type": "code",
   "execution_count": null,
   "metadata": {},
   "outputs": [],
   "source": []
  },
  {
   "cell_type": "code",
   "execution_count": null,
   "metadata": {},
   "outputs": [],
   "source": []
  }
 ],
 "metadata": {
  "kernelspec": {
   "display_name": "Python 3",
   "language": "python",
   "name": "python3"
  },
  "language_info": {
   "codemirror_mode": {
    "name": "ipython",
    "version": 3
   },
   "file_extension": ".py",
   "mimetype": "text/x-python",
   "name": "python",
   "nbconvert_exporter": "python",
   "pygments_lexer": "ipython3",
   "version": "3.10.0"
  }
 },
 "nbformat": 4,
 "nbformat_minor": 2
}
