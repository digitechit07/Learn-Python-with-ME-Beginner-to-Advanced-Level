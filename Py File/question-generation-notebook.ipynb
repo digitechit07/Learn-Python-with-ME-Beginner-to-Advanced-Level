{
  "nbformat": 4,
  "nbformat_minor": 0,
  "metadata": {
    "colab": {
      "provenance": []
    },
    "kernelspec": {
      "name": "python3",
      "display_name": "Python 3"
    },
    "language_info": {
      "name": "python"
    },
    "gpuClass": "standard"
  },
  "cells": [
    {
      "cell_type": "markdown",
      "metadata": {
        "id": "cKyaGpSrl2rd"
      },
      "source": [
        "# Question Generation with GPT3\n",
        "Bhavesh Bhatt\n",
        "\n",
        "[**Link to my YouTube Channel**](https://www.youtube.com/BhaveshBhatt8791?sub_confirmation=1)"
      ]
    },
    {
      "cell_type": "markdown",
      "metadata": {
        "id": "2XZGTMchvJJ1"
      },
      "source": [
        "# Install OpenAI & Gradio"
      ]
    },
    {
      "cell_type": "code",
      "metadata": {
        "id": "0A95wLpYUneF",
        "colab": {
          "base_uri": "https://localhost:8080/"
        },
        "outputId": "a81ba28d-0136-4ae4-8390-c1d448937090"
      },
      "source": [
        "!pip install -q openai\n",
        "!pip install -q gradio"
      ],
      "execution_count": null,
      "outputs": [
        {
          "output_type": "stream",
          "name": "stdout",
          "text": [
            "\u001b[?25l\r\u001b[K     |███████▎                        | 10 kB 35.5 MB/s eta 0:00:01\r\u001b[K     |██████████████▋                 | 20 kB 21.3 MB/s eta 0:00:01\r\u001b[K     |██████████████████████          | 30 kB 12.5 MB/s eta 0:00:01\r\u001b[K     |█████████████████████████████▏  | 40 kB 11.2 MB/s eta 0:00:01\r\u001b[K     |████████████████████████████████| 44 kB 2.9 MB/s \n",
            "\u001b[?25h  Installing build dependencies ... \u001b[?25l\u001b[?25hdone\n",
            "  Getting requirements to build wheel ... \u001b[?25l\u001b[?25hdone\n",
            "    Preparing wheel metadata ... \u001b[?25l\u001b[?25hdone\n",
            "\u001b[K     |████████████████████████████████| 147 kB 57.6 MB/s \n",
            "\u001b[?25h  Building wheel for openai (PEP 517) ... \u001b[?25l\u001b[?25hdone\n",
            "\u001b[K     |████████████████████████████████| 13.8 MB 14.9 MB/s \n",
            "\u001b[K     |████████████████████████████████| 56 kB 6.4 MB/s \n",
            "\u001b[K     |████████████████████████████████| 278 kB 86.4 MB/s \n",
            "\u001b[K     |████████████████████████████████| 84 kB 4.5 MB/s \n",
            "\u001b[K     |████████████████████████████████| 2.3 MB 74.6 MB/s \n",
            "\u001b[K     |████████████████████████████████| 55 kB 4.9 MB/s \n",
            "\u001b[K     |████████████████████████████████| 84 kB 4.9 MB/s \n",
            "\u001b[K     |████████████████████████████████| 106 kB 85.5 MB/s \n",
            "\u001b[K     |████████████████████████████████| 64 kB 3.7 MB/s \n",
            "\u001b[K     |████████████████████████████████| 80 kB 12.0 MB/s \n",
            "\u001b[K     |████████████████████████████████| 68 kB 7.8 MB/s \n",
            "\u001b[K     |████████████████████████████████| 58 kB 7.5 MB/s \n",
            "\u001b[K     |████████████████████████████████| 50 kB 9.1 MB/s \n",
            "\u001b[?25h  Building wheel for ffmpy (setup.py) ... \u001b[?25l\u001b[?25hdone\n",
            "  Building wheel for python-multipart (setup.py) ... \u001b[?25l\u001b[?25hdone\n"
          ]
        }
      ]
    },
    {
      "cell_type": "markdown",
      "source": [
        "# Imports"
      ],
      "metadata": {
        "id": "xtWncPtO61F3"
      }
    },
    {
      "cell_type": "code",
      "metadata": {
        "id": "WeKxlflpgCBs"
      },
      "source": [
        "import openai\n",
        "import gradio as gr"
      ],
      "execution_count": null,
      "outputs": []
    },
    {
      "cell_type": "markdown",
      "source": [
        "# API Key\n",
        "openai.api_key = Replace this with your API key: https://beta.openai.com/docs/quickstart/add-your-api-key"
      ],
      "metadata": {
        "id": "8YEMy2MT67gH"
      }
    },
    {
      "cell_type": "code",
      "source": [
        "# Replace this with your API key: https://beta.openai.com/docs/quickstart/add-your-api-key\n",
        "openai.api_key = \"Replace this with your API key: https://beta.openai.com/docs/quickstart/add-your-api-key\""
      ],
      "metadata": {
        "id": "R7uRPnzg64f5"
      },
      "execution_count": null,
      "outputs": []
    },
    {
      "cell_type": "markdown",
      "source": [
        "# OpenAI Chat Function"
      ],
      "metadata": {
        "id": "QHB0s2op7JRL"
      }
    },
    {
      "cell_type": "code",
      "source": [
        "def openai_chat(input_prompt):\n",
        "    \n",
        "    template = \"\"\"\n",
        "    Sentence: India won the 1983 Cricket World Cup which was the 3rd edition of the Cricket World Cup tournament.\n",
        "    Question: Who won the 1983 Cricket World Cup ______ ? Answer: India\n",
        "    Sentence: Google was founded on September 4, 1998, by Larry Page and Sergey Brin.\n",
        "    Question: In which year was Google founded ______? Answer: 1998\n",
        "    \"\"\"\n",
        "\n",
        "    input_prompt = \"Sentence: \" + input_prompt\n",
        "    prompt = template + input_prompt\n",
        "\n",
        "    completion = openai.Completion.create(engine=\"davinci\", \n",
        "                                      prompt=prompt, \n",
        "                                      max_tokens=64, \n",
        "                                      temperature=0.7)\n",
        "\n",
        "    message = completion.choices[0].text\n",
        "    output_list = message.split(\"\\n\")\n",
        "    out_index = []\n",
        "    for idx, sentence in enumerate(output_list):\n",
        "        if \"Question\" in sentence:\n",
        "            out_index.append(idx)\n",
        "    \n",
        "    if out_index:\n",
        "        return output_list[min(out_index)]"
      ],
      "metadata": {
        "id": "qtdioRua7Htp"
      },
      "execution_count": null,
      "outputs": []
    },
    {
      "cell_type": "markdown",
      "source": [
        "# Gradio Interface Function"
      ],
      "metadata": {
        "id": "S1950rbVtbng"
      }
    },
    {
      "cell_type": "code",
      "source": [
        "gr.Interface(fn = openai_chat,\n",
        "             inputs = [\"text\"],\n",
        "             outputs = [\"text\"]).launch(debug = True)"
      ],
      "metadata": {
        "colab": {
          "base_uri": "https://localhost:8080/",
          "height": 653
        },
        "id": "tf7OLKNutXcr",
        "outputId": "aeabb614-9c77-43a3-b6fc-cb125da0e7a8"
      },
      "execution_count": null,
      "outputs": [
        {
          "output_type": "stream",
          "name": "stdout",
          "text": [
            "Colab notebook detected. This cell will run indefinitely so that you can see errors and logs. To turn off, set debug=False in launch().\n",
            "Note: opening Chrome Inspector may crash demo inside Colab notebooks.\n",
            "\n",
            "To create a public link, set `share=True` in `launch()`.\n"
          ]
        },
        {
          "output_type": "display_data",
          "data": {
            "text/plain": [
              "<IPython.core.display.Javascript object>"
            ],
            "application/javascript": [
              "(async (port, path, width, height, cache, element) => {\n",
              "                        if (!google.colab.kernel.accessAllowed && !cache) {\n",
              "                            return;\n",
              "                        }\n",
              "                        element.appendChild(document.createTextNode(''));\n",
              "                        const url = await google.colab.kernel.proxyPort(port, {cache});\n",
              "\n",
              "                        const external_link = document.createElement('div');\n",
              "                        external_link.innerHTML = `\n",
              "                            <div style=\"font-family: monospace; margin-bottom: 0.5rem\">\n",
              "                                Running on <a href=${new URL(path, url).toString()} target=\"_blank\">\n",
              "                                    https://localhost:${port}${path}\n",
              "                                </a>\n",
              "                            </div>\n",
              "                        `;\n",
              "                        element.appendChild(external_link);\n",
              "\n",
              "                        const iframe = document.createElement('iframe');\n",
              "                        iframe.src = new URL(path, url).toString();\n",
              "                        iframe.height = height;\n",
              "                        iframe.allow = \"autoplay; camera; microphone; clipboard-read; clipboard-write;\"\n",
              "                        iframe.width = width;\n",
              "                        iframe.style.border = 0;\n",
              "                        element.appendChild(iframe);\n",
              "                    })(7860, \"/\", \"100%\", 500, false, window.element)"
            ]
          },
          "metadata": {}
        },
        {
          "output_type": "stream",
          "name": "stdout",
          "text": [
            "Keyboard interruption in main thread... closing server.\n"
          ]
        },
        {
          "output_type": "execute_result",
          "data": {
            "text/plain": []
          },
          "metadata": {},
          "execution_count": 5
        }
      ]
    },
    {
      "cell_type": "code",
      "source": [],
      "metadata": {
        "id": "25VJOUH9tmgH"
      },
      "execution_count": null,
      "outputs": []
    }
  ]
}