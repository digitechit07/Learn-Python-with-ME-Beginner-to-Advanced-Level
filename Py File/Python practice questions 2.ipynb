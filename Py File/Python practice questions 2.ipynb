{
 "cells": [
  {
   "cell_type": "markdown",
   "id": "c21546de",
   "metadata": {},
   "source": [
    "# 28. Write a program to print whether a given number is prime number or not"
   ]
  },
  {
   "cell_type": "code",
   "execution_count": 1,
   "id": "70bb088c",
   "metadata": {},
   "outputs": [],
   "source": [
    "# Examples; 2,3,5,7,11,13,17,...................."
   ]
  },
  {
   "cell_type": "code",
   "execution_count": 4,
   "id": "d64a14e0",
   "metadata": {},
   "outputs": [],
   "source": [
    "# means \n",
    "# a prime number is a number which is divisible by 1 and itself only. And not divisible  by any other number."
   ]
  },
  {
   "cell_type": "code",
   "execution_count": 23,
   "id": "0505bdc1",
   "metadata": {},
   "outputs": [],
   "source": [
    "# means if a number is divisible by 2 or 3 or 4 or 5 or...............\n",
    "# then it is not a prime"
   ]
  },
  {
   "cell_type": "code",
   "execution_count": 24,
   "id": "a5d38233",
   "metadata": {},
   "outputs": [],
   "source": [
    "# 0 is neither prime nor composite"
   ]
  },
  {
   "cell_type": "code",
   "execution_count": 25,
   "id": "052c93e9",
   "metadata": {},
   "outputs": [],
   "source": [
    "# -ve numbers can't be prime "
   ]
  },
  {
   "cell_type": "code",
   "execution_count": 26,
   "id": "9a5611a5",
   "metadata": {},
   "outputs": [
    {
     "name": "stdout",
     "output_type": "stream",
     "text": [
      "2\n",
      "3\n",
      "4\n",
      "5\n",
      "6\n",
      "7\n",
      "8\n"
     ]
    }
   ],
   "source": [
    "n=9\n",
    "def is_prime(n):\n",
    "    for n in range (2,n):\n",
    "        print(n)\n",
    "\n",
    "is_prime(n)"
   ]
  },
  {
   "cell_type": "code",
   "execution_count": 37,
   "id": "da1c13b5",
   "metadata": {},
   "outputs": [
    {
     "name": "stdout",
     "output_type": "stream",
     "text": [
      "Enter a number : 9\n",
      "9 is a prime number\n",
      "9 is not a prime number\n"
     ]
    }
   ],
   "source": [
    "n=int(input(\"Enter a number : \"))\n",
    "\n",
    "def is_prime(n):\n",
    "    for i in range (2,n):\n",
    "        if n%i==0 and n>0:\n",
    "            print(f\"{n} is not a prime number\")\n",
    "            break\n",
    "        elif n==0:\n",
    "            print(f\"{n} is neither prime nor composite\")\n",
    "        elif n==1 or n<0:\n",
    "            print(f\"{n} is not a prime number\")\n",
    "        else:\n",
    "            print(f\"{n} is a prime number\")\n",
    "                   \n",
    "                \n",
    "        \n",
    "is_prime(n)"
   ]
  },
  {
   "cell_type": "code",
   "execution_count": 24,
   "id": "58f26863",
   "metadata": {},
   "outputs": [
    {
     "name": "stdout",
     "output_type": "stream",
     "text": [
      "Enter a number : 19\n",
      "19 is a prime number\n"
     ]
    }
   ],
   "source": [
    "n=int(input(\"Enter a number : \"))\n",
    "\n",
    "def is_prime(n):\n",
    "    \n",
    "    # base conditions\n",
    "    if n==0:\n",
    "        print(f\"{n} is neither prime nor composite number\")\n",
    "    elif n<0 or n==1: \n",
    "        print(f\"{n} is not a prime number\")\n",
    "    elif n==2:\n",
    "        print(f\"{n} is a prime number\")\n",
    "    # main logic\n",
    "    else:\n",
    "        for i in range (2,n):\n",
    "            if n%i==0:\n",
    "                print(f\"{n} is not a prime number\")\n",
    "                break     # break is used to get out of a loop      \n",
    "            else:\n",
    "                print(f\"{n} is a prime number\")\n",
    "                break     # break is used to get out of a loop       \n",
    "                \n",
    "        \n",
    "is_prime(n)"
   ]
  },
  {
   "cell_type": "code",
   "execution_count": 72,
   "id": "ba89e227",
   "metadata": {},
   "outputs": [],
   "source": [
    "# why 9 is prime\n",
    "# check why??????\n",
    "# tomorrow"
   ]
  },
  {
   "cell_type": "markdown",
   "id": "9a6a4c2f",
   "metadata": {},
   "source": [
    "# 29. Print all the armstrong numbers in the range 100-1000"
   ]
  },
  {
   "cell_type": "code",
   "execution_count": 38,
   "id": "c930e7a9",
   "metadata": {},
   "outputs": [],
   "source": [
    "# 101,102,103,......................,999"
   ]
  },
  {
   "cell_type": "code",
   "execution_count": 40,
   "id": "eca719e1",
   "metadata": {},
   "outputs": [
    {
     "data": {
      "text/plain": [
       "153"
      ]
     },
     "execution_count": 40,
     "metadata": {},
     "output_type": "execute_result"
    }
   ],
   "source": [
    "1**3+5**3+3**3"
   ]
  },
  {
   "cell_type": "code",
   "execution_count": 45,
   "id": "32be9851",
   "metadata": {},
   "outputs": [
    {
     "data": {
      "text/plain": [
       "1"
      ]
     },
     "execution_count": 45,
     "metadata": {},
     "output_type": "execute_result"
    }
   ],
   "source": [
    "(153%1000)//100"
   ]
  },
  {
   "cell_type": "code",
   "execution_count": 47,
   "id": "a999f3da",
   "metadata": {},
   "outputs": [
    {
     "data": {
      "text/plain": [
       "5"
      ]
     },
     "execution_count": 47,
     "metadata": {},
     "output_type": "execute_result"
    }
   ],
   "source": [
    "(153%100)//10"
   ]
  },
  {
   "cell_type": "code",
   "execution_count": 48,
   "id": "8e4c8da4",
   "metadata": {},
   "outputs": [
    {
     "data": {
      "text/plain": [
       "3"
      ]
     },
     "execution_count": 48,
     "metadata": {},
     "output_type": "execute_result"
    }
   ],
   "source": [
    "(153%10)//1"
   ]
  },
  {
   "cell_type": "code",
   "execution_count": 61,
   "id": "b3808588",
   "metadata": {},
   "outputs": [
    {
     "name": "stdout",
     "output_type": "stream",
     "text": [
      "Enter a number in the range 100-1000 : 371\n",
      "371 is an armstrong number\n"
     ]
    }
   ],
   "source": [
    "n=int(input(\"Enter a number in the range 100-1000 : \"))\n",
    "\n",
    "\n",
    "def armstrong_range_100_t0_1000(n):\n",
    "    if 100<n<1000:\n",
    "        n1=(n%1000)//100\n",
    "        n2=(n%100)//10\n",
    "        n3=(n%10)//1\n",
    "        if n==(n1**3)+(n2**3)+(n3**3):\n",
    "            print(f\"{n} is an armstrong number\")\n",
    "        else:\n",
    "            print(f\"{n} is not an armstrong number\")\n",
    "        \n",
    "    else:\n",
    "        print(\"Not in the range 100-1000. Enter again\")\n",
    "\n",
    "armstrong_range_100_t0_1000(n)"
   ]
  },
  {
   "cell_type": "markdown",
   "id": "4377b1a6",
   "metadata": {},
   "source": [
    "# 30. The current population of a town is 10000. The population of the town is increasing at the rate of 10% per year. You have to write a program to find out the population at the end of each of the last 10 years. For eg current population is 10000 so the output should be like this:\n",
    "    10th year - 10000\n",
    "    9th year - 9000\n",
    "    8th year - 8100 and so on"
   ]
  },
  {
   "cell_type": "code",
   "execution_count": 62,
   "id": "44a488cf",
   "metadata": {},
   "outputs": [
    {
     "data": {
      "text/plain": [
       "1000.0"
      ]
     },
     "execution_count": 62,
     "metadata": {},
     "output_type": "execute_result"
    }
   ],
   "source": [
    "10000*(10/100)"
   ]
  },
  {
   "cell_type": "code",
   "execution_count": 96,
   "id": "7c0ebec2",
   "metadata": {},
   "outputs": [
    {
     "name": "stdout",
     "output_type": "stream",
     "text": [
      "10\n",
      "9\n",
      "8\n",
      "7\n",
      "6\n",
      "5\n",
      "4\n",
      "3\n",
      "2\n",
      "1\n"
     ]
    }
   ],
   "source": [
    "for i in range(10,0,-1):\n",
    "    print(i)"
   ]
  },
  {
   "cell_type": "code",
   "execution_count": 105,
   "id": "6dee5745",
   "metadata": {},
   "outputs": [
    {
     "name": "stdout",
     "output_type": "stream",
     "text": [
      "10  year population is 9000.0\n",
      "9  year population is 9000.0\n",
      "8  year population is 9000.0\n",
      "7  year population is 9000.0\n",
      "6  year population is 9000.0\n",
      "5  year population is 9000.0\n",
      "4  year population is 9000.0\n",
      "3  year population is 9000.0\n",
      "2  year population is 9000.0\n",
      "1  year population is 9000.0\n"
     ]
    }
   ],
   "source": [
    "current_population = 10000\n",
    "\n",
    "\n",
    "rate=current_population*(10/100)\n",
    "current_population -= rate\n",
    "for i in range(10,0,-1):\n",
    "    print(f\"{i}  year population is {current_population}\")"
   ]
  },
  {
   "cell_type": "code",
   "execution_count": 104,
   "id": "4b54df9d",
   "metadata": {},
   "outputs": [
    {
     "name": "stdout",
     "output_type": "stream",
     "text": [
      "10 year population is 10000\n",
      "9  year population is 9000.0\n",
      "8  year population is 8100.0\n",
      "7  year population is 7290.0\n",
      "6  year population is 6561.0\n",
      "5  year population is 5904.9\n",
      "4  year population is 5314.41\n",
      "3  year population is 4782.969\n",
      "2  year population is 4304.6721\n",
      "1  year population is 3874.20489\n"
     ]
    }
   ],
   "source": [
    "current_population = 10000\n",
    "\n",
    "print(f\"10 year population is {current_population}\")\n",
    "\n",
    "for i in range(9,0,-1):\n",
    "    rate=current_population*(10/100)\n",
    "    current_population -= rate\n",
    "    print(f\"{i}  year population is {current_population}\")"
   ]
  },
  {
   "cell_type": "markdown",
   "id": "f664f36f",
   "metadata": {},
   "source": [
    "# 31. Write a program to print all unique combinations of 1,2,3 and 4"
   ]
  },
  {
   "cell_type": "code",
   "execution_count": 114,
   "id": "ab44b0d3",
   "metadata": {},
   "outputs": [
    {
     "name": "stdout",
     "output_type": "stream",
     "text": [
      "1 2 3 4\n",
      "1 2 4 3\n",
      "1 3 2 4\n",
      "1 3 4 2\n",
      "1 4 2 3\n",
      "1 4 3 2\n",
      "2 1 3 4\n",
      "2 1 4 3\n",
      "2 3 1 4\n",
      "2 3 4 1\n",
      "2 4 1 3\n",
      "2 4 3 1\n",
      "3 1 2 4\n",
      "3 1 4 2\n",
      "3 2 1 4\n",
      "3 2 4 1\n",
      "3 4 1 2\n",
      "3 4 2 1\n",
      "4 1 2 3\n",
      "4 1 3 2\n",
      "4 2 1 3\n",
      "4 2 3 1\n",
      "4 3 1 2\n",
      "4 3 2 1\n"
     ]
    }
   ],
   "source": [
    "L=[1,2,3,4]\n",
    "\n",
    "for i in range(4):\n",
    "    for j in range(4):\n",
    "        for k in range(4):\n",
    "            for l in range(4):\n",
    "                \n",
    "                # check if the indexes are not same\n",
    "                if (i!=j and j!=k and k!=l and l!=i and i!=k and j!=l and k!=i):\n",
    "                    print(L[i],L[j],L[k],L[l])"
   ]
  },
  {
   "cell_type": "markdown",
   "id": "563000d9",
   "metadata": {},
   "source": [
    "# 32. User will provide 2 numbers you have to find the HCF of those 2 numbers"
   ]
  },
  {
   "cell_type": "code",
   "execution_count": 118,
   "id": "3bb0b452",
   "metadata": {},
   "outputs": [],
   "source": [
    "# HCF of 24 and 36.\n",
    "\n",
    "# Factors of 24 : 1,2,3,4,6,8,12,24\n",
    "# Factors of 36 : 1,2,3,4,6,9,12,18,36\n",
    "    \n",
    "# The common factors are 1,2,3,4,6,12\n",
    "\n",
    "# And the highest common factor(HCF) is 12\n"
   ]
  },
  {
   "cell_type": "code",
   "execution_count": 22,
   "id": "4ba498ad",
   "metadata": {},
   "outputs": [],
   "source": [
    "# HCF is that factor which is divisble by both numbers and is maximum"
   ]
  },
  {
   "cell_type": "code",
   "execution_count": 15,
   "id": "a29eb5c3",
   "metadata": {},
   "outputs": [
    {
     "name": "stdout",
     "output_type": "stream",
     "text": [
      "Enter first number : 24\n",
      "Enter second number : 36\n",
      "The HCF of 24 and 36 is 12\n"
     ]
    }
   ],
   "source": [
    "num_1=int(input(\"Enter first number : \"))\n",
    "num_2=int(input(\"Enter second number : \"))\n",
    "\n",
    "def HCF(num_1,num_2):\n",
    "    if num_1<num_2:\n",
    "        smaller=num_1\n",
    "    else:\n",
    "        smaller=num_2\n",
    "        \n",
    "    for i in range(1,smaller+1):\n",
    "        if (num_1%i==0) and (num_2%i==0):\n",
    "            hcf=i\n",
    "    return hcf\n",
    "\n",
    "print(f\"The HCF of {num_1} and {num_2} is {HCF(num_1,num_2)}\")"
   ]
  },
  {
   "cell_type": "markdown",
   "id": "9333e1bc",
   "metadata": {},
   "source": [
    "# 33. User will provide 2 numbers you have to find the LCM of those 2 numbers"
   ]
  },
  {
   "cell_type": "code",
   "execution_count": null,
   "id": "0be4149f",
   "metadata": {},
   "outputs": [],
   "source": [
    "# LCM of 24 and 36 :\n",
    "#    24/2 and 36/2    -----> 2\n",
    "#    >12 and 18\n",
    "#    >12/2 and 18/2   -----> 2\n",
    "#    >6 and 9\n",
    "#    >6/3 and 9/3     -----> 3\n",
    "#    >2 and 3         -----> 2 and 3\n",
    "    \n",
    "# LCM=2*2*3*2*3=72"
   ]
  },
  {
   "cell_type": "code",
   "execution_count": 8,
   "id": "a45768ce",
   "metadata": {},
   "outputs": [
    {
     "data": {
      "text/plain": [
       "72"
      ]
     },
     "execution_count": 8,
     "metadata": {},
     "output_type": "execute_result"
    }
   ],
   "source": [
    "2*2*3*2*3"
   ]
  },
  {
   "cell_type": "code",
   "execution_count": null,
   "id": "de630694",
   "metadata": {},
   "outputs": [],
   "source": [
    "# LCM(a,b)=(a*b)/HCF(a,b)"
   ]
  },
  {
   "cell_type": "code",
   "execution_count": 22,
   "id": "f8576119",
   "metadata": {},
   "outputs": [
    {
     "name": "stdout",
     "output_type": "stream",
     "text": [
      "Enter first number : 24\n",
      "Enter second number : 36\n",
      "The LCM of 24 and 36 is 72.0\n"
     ]
    }
   ],
   "source": [
    "num_1=int(input(\"Enter first number : \"))\n",
    "num_2=int(input(\"Enter second number : \"))\n",
    "\n",
    "def LCM(num_1,num_2):\n",
    "    if num_1<num_2:\n",
    "        smaller=num_1\n",
    "    else:\n",
    "        smaller=num_2   \n",
    "    for i in range(1,smaller+1):\n",
    "        if (num_1%i==0) and (num_2%i==0):\n",
    "            hcf=i\n",
    "    return ((num_1*num_2)/hcf)\n",
    "\n",
    "print(f\"The LCM of {num_1} and {num_2} is {LCM(num_1,num_2)}\")"
   ]
  },
  {
   "cell_type": "markdown",
   "id": "c61633f3",
   "metadata": {},
   "source": [
    "# 34. Print the first 25 prime numbers"
   ]
  },
  {
   "cell_type": "code",
   "execution_count": 37,
   "id": "8f456844",
   "metadata": {},
   "outputs": [],
   "source": [
    "# Examples; 2,3,5,7,11,13,17,....................\n",
    "\n",
    "# means \n",
    "# a prime number is a number which is divisible by 1 and itself only. And not divisible  by any other number.\n",
    "\n",
    "# means if a number is divisible by 2 or 3 or 4 or 5 or...............n-1\n",
    "# then it is not a prime\n",
    "\n",
    "# 0 is neither prime nor composite\n",
    "\n",
    "# -ve numbers can't be prime \n"
   ]
  },
  {
   "cell_type": "code",
   "execution_count": 6,
   "id": "f1326fa6",
   "metadata": {},
   "outputs": [
    {
     "name": "stdout",
     "output_type": "stream",
     "text": [
      "3\n",
      "5\n",
      "7\n",
      "9\n",
      "11\n",
      "13\n",
      "15\n",
      "17\n",
      "19\n",
      "21\n",
      "23\n",
      "25\n",
      "27\n",
      "29\n",
      "31\n",
      "33\n",
      "35\n",
      "37\n",
      "39\n",
      "41\n",
      "43\n",
      "45\n",
      "47\n",
      "49\n"
     ]
    }
   ],
   "source": [
    "for i in range(2,51):\n",
    "    for j in range(2,51):\n",
    "        if i%j!=0:\n",
    "            print(i)\n",
    "        break\n",
    "    "
   ]
  },
  {
   "cell_type": "code",
   "execution_count": 8,
   "id": "d82cde3a",
   "metadata": {},
   "outputs": [
    {
     "name": "stdout",
     "output_type": "stream",
     "text": [
      "[2, 3, 4, 5, 6, 7, 8, 9, 10, 11, 12, 13, 14, 15, 16, 17, 18, 19, 20, 21, 22, 23, 24, 25, 26, 27, 28, 29, 30, 31, 32, 33, 34, 35, 36, 37, 38, 39, 40, 41, 42, 43, 44, 45, 46, 47, 48, 49, 50]\n"
     ]
    },
    {
     "data": {
      "text/plain": [
       "49"
      ]
     },
     "execution_count": 8,
     "metadata": {},
     "output_type": "execute_result"
    }
   ],
   "source": [
    "L=[]\n",
    "\n",
    "for i in range(2,51):\n",
    "    L.append(i)\n",
    "print(L)\n",
    "len(L)"
   ]
  },
  {
   "cell_type": "code",
   "execution_count": 11,
   "id": "dc92ba04",
   "metadata": {},
   "outputs": [
    {
     "name": "stdout",
     "output_type": "stream",
     "text": [
      "[2, 3, 4, 5, 6, 7, 8, 9, 10, 11, 12, 13, 14, 15, 16, 17, 18, 19, 20, 21, 22, 23, 24, 25, 26]\n"
     ]
    },
    {
     "data": {
      "text/plain": [
       "25"
      ]
     },
     "execution_count": 11,
     "metadata": {},
     "output_type": "execute_result"
    }
   ],
   "source": [
    "L=[]\n",
    "\n",
    "for i in range(2,51):\n",
    "    if len(L)<25:\n",
    "        L.append(i)\n",
    "        \n",
    "print(L)\n",
    "len(L)"
   ]
  },
  {
   "cell_type": "code",
   "execution_count": null,
   "id": "bce04d32",
   "metadata": {},
   "outputs": [],
   "source": []
  },
  {
   "cell_type": "code",
   "execution_count": null,
   "id": "258c9699",
   "metadata": {},
   "outputs": [],
   "source": []
  },
  {
   "cell_type": "code",
   "execution_count": null,
   "id": "0e7e4c67",
   "metadata": {},
   "outputs": [],
   "source": []
  },
  {
   "cell_type": "markdown",
   "id": "54a1e26a",
   "metadata": {},
   "source": [
    "# 35. Print the first 20 numbers of a Fibonacci series"
   ]
  },
  {
   "cell_type": "code",
   "execution_count": null,
   "id": "0ac5b62e",
   "metadata": {},
   "outputs": [],
   "source": []
  },
  {
   "cell_type": "code",
   "execution_count": null,
   "id": "27912437",
   "metadata": {},
   "outputs": [],
   "source": []
  }
 ],
 "metadata": {
  "kernelspec": {
   "display_name": "Python 3 (ipykernel)",
   "language": "python",
   "name": "python3"
  },
  "language_info": {
   "codemirror_mode": {
    "name": "ipython",
    "version": 3
   },
   "file_extension": ".py",
   "mimetype": "text/x-python",
   "name": "python",
   "nbconvert_exporter": "python",
   "pygments_lexer": "ipython3",
   "version": "3.7.7"
  }
 },
 "nbformat": 4,
 "nbformat_minor": 5
}
