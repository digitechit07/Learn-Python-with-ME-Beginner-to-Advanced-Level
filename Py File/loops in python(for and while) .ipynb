{
 "cells": [
  {
   "cell_type": "markdown",
   "id": "dd4dcd30",
   "metadata": {},
   "source": [
    "# for loop \n",
    "Used to iterate over a sequence or an iterable object(such as list,tuple,string)\n",
    "\n",
    "Used to repeatedly execute the code block while iterating over a sequence or an iterable object such as list,tuple,dict,sets"
   ]
  },
  {
   "cell_type": "markdown",
   "id": "e6b3ec3a",
   "metadata": {},
   "source": [
    "# 1. Print the first 10 natural numbers using for loop"
   ]
  },
  {
   "cell_type": "code",
   "execution_count": 5,
   "id": "5cbc8ccf",
   "metadata": {},
   "outputs": [
    {
     "name": "stdout",
     "output_type": "stream",
     "text": [
      "The first 10 natural numbers are : \n",
      "1\n",
      "2\n",
      "3\n",
      "4\n",
      "5\n",
      "6\n",
      "7\n",
      "8\n",
      "9\n",
      "10\n"
     ]
    }
   ],
   "source": [
    "print(\"The first 10 natural numbers are : \")\n",
    "\n",
    "for i in range (1,11):\n",
    "    print(i)"
   ]
  },
  {
   "cell_type": "markdown",
   "id": "38113c3f",
   "metadata": {},
   "source": [
    "# 2. Python program to print all the even numbers within the given range"
   ]
  },
  {
   "cell_type": "code",
   "execution_count": 4,
   "id": "ce05d2ee",
   "metadata": {},
   "outputs": [],
   "source": [
    "# 0 is considered an even number as 0%2==0"
   ]
  },
  {
   "cell_type": "code",
   "execution_count": 5,
   "id": "5b858c3e",
   "metadata": {},
   "outputs": [
    {
     "name": "stdout",
     "output_type": "stream",
     "text": [
      "Enter the range : 10\n",
      "The even numbers within the range 10 are: \n",
      "0\n",
      "2\n",
      "4\n",
      "6\n",
      "8\n"
     ]
    }
   ],
   "source": [
    "n=int(input(\"Enter the range : \"))\n",
    "\n",
    "print(f\"The even numbers within the range {n} are: \")\n",
    "\n",
    "for i in range(n):     # range(0,n)---------> 0<=i<n\n",
    "    if i%2==0:\n",
    "        print(i)"
   ]
  },
  {
   "cell_type": "markdown",
   "id": "80b070a7",
   "metadata": {},
   "source": [
    "# 3. Python program to calculate the sum of all numbers from 1 to a given number"
   ]
  },
  {
   "cell_type": "code",
   "execution_count": 14,
   "id": "9e1bdf51",
   "metadata": {},
   "outputs": [
    {
     "name": "stdout",
     "output_type": "stream",
     "text": [
      "Enter the number : 10\n",
      "The sum of all numbers from 1 to 10 is : 55.0 \n"
     ]
    }
   ],
   "source": [
    "n=int(input(\"Enter the number : \"))\n",
    "\n",
    "print(f\"The sum of all numbers from 1 to {n} is : {sum} \")\n",
    "\n",
    "for i in range(1,n+1):\n",
    "    sum=(n*(n+1))/2\n",
    "    "
   ]
  },
  {
   "cell_type": "markdown",
   "id": "b7fc8036",
   "metadata": {},
   "source": [
    "# 4. Python program to calculate the sum of all odd numbers within the given range"
   ]
  },
  {
   "cell_type": "code",
   "execution_count": 19,
   "id": "b09b5348",
   "metadata": {},
   "outputs": [
    {
     "data": {
      "text/plain": [
       "25"
      ]
     },
     "execution_count": 19,
     "metadata": {},
     "output_type": "execute_result"
    }
   ],
   "source": [
    "1+3+5+7+9"
   ]
  },
  {
   "cell_type": "code",
   "execution_count": 34,
   "id": "d3efb495",
   "metadata": {},
   "outputs": [
    {
     "name": "stdout",
     "output_type": "stream",
     "text": [
      "Enter the range : 10\n",
      "The sum of all odd numbers within the given range 10 is : 25\n"
     ]
    }
   ],
   "source": [
    "num=int(input(\"Enter the range : \"))\n",
    "\n",
    "sum=0\n",
    "\n",
    "for i in range(num):\n",
    "    if i%2!=0:\n",
    "        sum+=i\n",
    "        \n",
    "print(f\"The sum of all odd numbers within the given range {num} is : {sum}\")"
   ]
  },
  {
   "cell_type": "markdown",
   "id": "a1c766c7",
   "metadata": {},
   "source": [
    "# 5. Python program to print a multiplication table to a given number"
   ]
  },
  {
   "cell_type": "code",
   "execution_count": 39,
   "id": "f42744d7",
   "metadata": {},
   "outputs": [
    {
     "name": "stdout",
     "output_type": "stream",
     "text": [
      "Enter a number : 6\n",
      "The multiplication table of 6 is : \n",
      "6*1=6\n",
      "6*2=12\n",
      "6*3=18\n",
      "6*4=24\n",
      "6*5=30\n",
      "6*6=36\n",
      "6*7=42\n",
      "6*8=48\n",
      "6*9=54\n",
      "6*10=60\n"
     ]
    }
   ],
   "source": [
    "n=int(input(\"Enter a number : \"))\n",
    "\n",
    "print(f\"The multiplication table of {n} is : \")\n",
    "\n",
    "for i in range(1,11):\n",
    "    n*i\n",
    "    print(f\"{n}*{i}={n*i}\")"
   ]
  },
  {
   "cell_type": "markdown",
   "id": "ef33de14",
   "metadata": {},
   "source": [
    "# 6. Python program to display numbers from a list using a for loop"
   ]
  },
  {
   "cell_type": "code",
   "execution_count": 41,
   "id": "b11a5d7f",
   "metadata": {},
   "outputs": [
    {
     "name": "stdout",
     "output_type": "stream",
     "text": [
      "1\n",
      "24\n",
      "56\n",
      "90\n",
      "23\n",
      "0\n"
     ]
    }
   ],
   "source": [
    "List=[1,24,56,90,23,0]\n",
    "\n",
    "for i in List:\n",
    "    print(i)"
   ]
  },
  {
   "cell_type": "code",
   "execution_count": 46,
   "id": "68497891",
   "metadata": {},
   "outputs": [
    {
     "name": "stdout",
     "output_type": "stream",
     "text": [
      "1\n",
      "24\n",
      "56\n",
      "90\n",
      "23\n",
      "0\n",
      "[1, 24, 56, 90, 23, 0]\n"
     ]
    }
   ],
   "source": [
    "# converting numbers to a list \n",
    "\n",
    "List=[1,24,56,90,23,0]\n",
    "L=[]\n",
    "\n",
    "for i in List:\n",
    "    print(i)\n",
    "    L.append(i)\n",
    "    \n",
    "print(L)"
   ]
  },
  {
   "cell_type": "markdown",
   "id": "474390a8",
   "metadata": {},
   "source": [
    "# 7. Python program to count the total number of digits in a number"
   ]
  },
  {
   "cell_type": "code",
   "execution_count": 57,
   "id": "17845757",
   "metadata": {},
   "outputs": [
    {
     "name": "stdout",
     "output_type": "stream",
     "text": [
      "Enter a number : 13264\n",
      "The total number of digits in 13264 is 5\n"
     ]
    }
   ],
   "source": [
    "number=int(input(\"Enter a number : \"))\n",
    "\n",
    "number=str(number)\n",
    "\n",
    "count=0\n",
    "\n",
    "for i in number:\n",
    "    count+=1\n",
    "    \n",
    "print(f\"The total number of digits in {number} is {count}\")"
   ]
  },
  {
   "cell_type": "markdown",
   "id": "71e8f944",
   "metadata": {},
   "source": [
    "# 8. Python program to check if the given string is a palindrome"
   ]
  },
  {
   "cell_type": "code",
   "execution_count": 3,
   "id": "87e4205e",
   "metadata": {},
   "outputs": [],
   "source": [
    "# a palindrome string is a sequence of characters that reads the same backward as forword.\n",
    "# example; \"radar\"-------->\"radar\""
   ]
  },
  {
   "cell_type": "code",
   "execution_count": 30,
   "id": "ab6c8c3c",
   "metadata": {},
   "outputs": [
    {
     "data": {
      "text/plain": [
       "7"
      ]
     },
     "execution_count": 30,
     "metadata": {},
     "output_type": "execute_result"
    }
   ],
   "source": [
    "string='shayema'\n",
    "n=len(string)\n",
    "n"
   ]
  },
  {
   "cell_type": "code",
   "execution_count": 34,
   "id": "2d0c4a0d",
   "metadata": {},
   "outputs": [
    {
     "data": {
      "text/plain": [
       "'a'"
      ]
     },
     "execution_count": 34,
     "metadata": {},
     "output_type": "execute_result"
    }
   ],
   "source": [
    "string='shayema'\n",
    "string[2]\n"
   ]
  },
  {
   "cell_type": "code",
   "execution_count": 11,
   "id": "55d9d368",
   "metadata": {},
   "outputs": [
    {
     "name": "stdout",
     "output_type": "stream",
     "text": [
      "a\n",
      "m\n",
      "e\n",
      "y\n",
      "a\n",
      "h\n",
      "s\n",
      "shayema is not palindrome\n"
     ]
    }
   ],
   "source": [
    "string='shayema'\n",
    "n=len(string)\n",
    "\n",
    "# creating reverse string \n",
    "reverse_string=\"\"\n",
    "for i in range(n-1,-1,-1):\n",
    "    print(string[i])\n",
    "    reverse_string=reverse_string+string[i]\n",
    "reverse_string\n",
    "\n",
    "# main code\n",
    "if string==reverse_string:\n",
    "    print(f\"{string} is a palindrome\")\n",
    "else:\n",
    "    print(f\"{string} is not palindrome\")"
   ]
  },
  {
   "cell_type": "code",
   "execution_count": 16,
   "id": "9f8e36cf",
   "metadata": {},
   "outputs": [
    {
     "name": "stdout",
     "output_type": "stream",
     "text": [
      "Enter a string: madam\n",
      "madam is a palindrome\n"
     ]
    }
   ],
   "source": [
    "string=str(input(\"Enter a string: \"))\n",
    "n=len(string)\n",
    "\n",
    "# creating reverse string \n",
    "reverse_string=\"\"\n",
    "for i in range(n-1,-1,-1):\n",
    "    reverse_string=reverse_string+string[i]\n",
    "\n",
    "# main code\n",
    "if string==reverse_string:\n",
    "    print(f\"{string} is a palindrome\")\n",
    "else:\n",
    "    print(f\"{string} is not palindrome\")"
   ]
  },
  {
   "cell_type": "markdown",
   "id": "7170f854",
   "metadata": {},
   "source": [
    "# 9. Python program that accepts a word from the user and reverses it "
   ]
  },
  {
   "cell_type": "code",
   "execution_count": 19,
   "id": "d38b0328",
   "metadata": {},
   "outputs": [
    {
     "name": "stdout",
     "output_type": "stream",
     "text": [
      "Enter a string: naaz\n"
     ]
    },
    {
     "data": {
      "text/plain": [
       "'zaan'"
      ]
     },
     "execution_count": 19,
     "metadata": {},
     "output_type": "execute_result"
    }
   ],
   "source": [
    "string=str(input(\"Enter a string: \"))\n",
    "n=len(string)\n",
    "\n",
    "# creating reverse string \n",
    "reverse_string=\"\"\n",
    "for i in range(n-1,-1,-1):\n",
    "    reverse_string=reverse_string+string[i]\n",
    "reverse_string    "
   ]
  },
  {
   "cell_type": "markdown",
   "id": "5492a76c",
   "metadata": {},
   "source": [
    "# 10. Python program to check if a given number is an armstrong number"
   ]
  },
  {
   "cell_type": "code",
   "execution_count": 20,
   "id": "749f1c5b",
   "metadata": {},
   "outputs": [],
   "source": [
    "# 153= 1**3 + 5**3 + 3**3 = 1+125+27"
   ]
  },
  {
   "cell_type": "code",
   "execution_count": 49,
   "id": "8aaa8d1b",
   "metadata": {},
   "outputs": [],
   "source": [
    "# Examples;0,1,153,370,371,407,.........\n",
    "\n",
    "# -ve are not armstrong numbers"
   ]
  },
  {
   "cell_type": "code",
   "execution_count": 50,
   "id": "eee2cd6b",
   "metadata": {},
   "outputs": [
    {
     "data": {
      "text/plain": [
       "1"
      ]
     },
     "execution_count": 50,
     "metadata": {},
     "output_type": "execute_result"
    }
   ],
   "source": [
    "(153%1000)//100"
   ]
  },
  {
   "cell_type": "code",
   "execution_count": 51,
   "id": "6a84b73b",
   "metadata": {},
   "outputs": [
    {
     "data": {
      "text/plain": [
       "5"
      ]
     },
     "execution_count": 51,
     "metadata": {},
     "output_type": "execute_result"
    }
   ],
   "source": [
    "(153%100)//10"
   ]
  },
  {
   "cell_type": "code",
   "execution_count": 52,
   "id": "d8b6ea17",
   "metadata": {},
   "outputs": [
    {
     "data": {
      "text/plain": [
       "3"
      ]
     },
     "execution_count": 52,
     "metadata": {},
     "output_type": "execute_result"
    }
   ],
   "source": [
    "(153%10)//1"
   ]
  },
  {
   "cell_type": "code",
   "execution_count": 54,
   "id": "59156ea7",
   "metadata": {},
   "outputs": [
    {
     "name": "stdout",
     "output_type": "stream",
     "text": [
      "Enter a number : 456463223\n"
     ]
    },
    {
     "data": {
      "text/plain": [
       "9"
      ]
     },
     "execution_count": 54,
     "metadata": {},
     "output_type": "execute_result"
    }
   ],
   "source": [
    "num=int(input(\"Enter a number : \"))\n",
    "power=len(str(num))\n",
    "power\n",
    "    "
   ]
  },
  {
   "cell_type": "code",
   "execution_count": 55,
   "id": "ec6eed89",
   "metadata": {},
   "outputs": [
    {
     "data": {
      "text/plain": [
       "1"
      ]
     },
     "execution_count": 55,
     "metadata": {},
     "output_type": "execute_result"
    }
   ],
   "source": [
    "num=153\n",
    "power=3\n",
    "\n",
    "(num%(10**power))//(10**(power-1))"
   ]
  },
  {
   "cell_type": "code",
   "execution_count": 56,
   "id": "681c0496",
   "metadata": {},
   "outputs": [
    {
     "name": "stdout",
     "output_type": "stream",
     "text": [
      "3\n",
      "5\n",
      "1\n"
     ]
    }
   ],
   "source": [
    "num=153\n",
    "power=3\n",
    "\n",
    "for i in range(1,power+1):\n",
    "    x=(num%(10**i))//(10**(i-1))\n",
    "    print(x)"
   ]
  },
  {
   "cell_type": "code",
   "execution_count": 57,
   "id": "4d5642c6",
   "metadata": {},
   "outputs": [
    {
     "name": "stdout",
     "output_type": "stream",
     "text": [
      "27\n",
      "125\n",
      "1\n"
     ]
    }
   ],
   "source": [
    "num=153\n",
    "power=3\n",
    "\n",
    "for i in range(1,power+1):\n",
    "    x=((num%(10**i))//(10**(i-1)))**power\n",
    "    print(x)"
   ]
  },
  {
   "cell_type": "code",
   "execution_count": 63,
   "id": "c7355a4a",
   "metadata": {},
   "outputs": [
    {
     "name": "stdout",
     "output_type": "stream",
     "text": [
      "Enter a number : 153\n",
      "153 is an armstrong number\n"
     ]
    }
   ],
   "source": [
    "num=int(input(\"Enter a number : \"))\n",
    "power=len(str(num))\n",
    "\n",
    "sum=0\n",
    "\n",
    "for i in range(1,power+1):\n",
    "    x=((num%(10**i))//(10**(i-1)))**power\n",
    "    sum=sum+x\n",
    "\n",
    "\n",
    "if num==sum:\n",
    "    print(f\"{num} is an armstrong number\")\n",
    "else:\n",
    "    print(f\"{num} is not an armstrong number\")"
   ]
  },
  {
   "cell_type": "markdown",
   "id": "e668788a",
   "metadata": {},
   "source": [
    "# 11. Python program to count the number of even and odd numbers from a series of numbers"
   ]
  },
  {
   "cell_type": "code",
   "execution_count": 71,
   "id": "3da8e3a9",
   "metadata": {},
   "outputs": [],
   "source": [
    "# 0 is an even number \n",
    "# because odd numbers are integers that are not divisible by 2, meaning they leave a remainder of 1 when divided by 2\n",
    "# since 0%2==0 , it is even"
   ]
  },
  {
   "cell_type": "code",
   "execution_count": 73,
   "id": "8d675ac1",
   "metadata": {},
   "outputs": [
    {
     "name": "stdout",
     "output_type": "stream",
     "text": [
      "The number of even numbers is 4 and odd numbers is 4\n"
     ]
    }
   ],
   "source": [
    "num_list=[2,52,45,10,69,3,71,0]\n",
    "even=[]\n",
    "odd=[]\n",
    "\n",
    "for i in num_list:\n",
    "    if i%2==0:\n",
    "        even.append(i)\n",
    "    else:\n",
    "        odd.append(i)\n",
    "        \n",
    "print(f\"The number of even numbers is {len(even)} and odd numbers is {len(odd)}\")"
   ]
  },
  {
   "cell_type": "markdown",
   "id": "684bb189",
   "metadata": {},
   "source": [
    "# 12. Python program to display all numbers within a range except the prime numbers"
   ]
  },
  {
   "cell_type": "code",
   "execution_count": 2,
   "id": "9bc49b47",
   "metadata": {},
   "outputs": [],
   "source": [
    "# 2,3,5,7,11,13,17,19,23,29,31,.............."
   ]
  },
  {
   "cell_type": "code",
   "execution_count": 3,
   "id": "b0acb892",
   "metadata": {},
   "outputs": [],
   "source": [
    "# prime numbers have factors 1 and itself only:"
   ]
  },
  {
   "cell_type": "code",
   "execution_count": 9,
   "id": "df1ed39b",
   "metadata": {},
   "outputs": [
    {
     "name": "stdout",
     "output_type": "stream",
     "text": [
      "Enter a range : 20\n",
      "0\n",
      "1\n",
      "2\n",
      "3\n",
      "4\n",
      "5\n",
      "6\n",
      "7\n",
      "8\n",
      "9\n",
      "10\n",
      "11\n",
      "12\n",
      "13\n",
      "14\n",
      "15\n",
      "16\n",
      "17\n",
      "18\n",
      "19\n"
     ]
    }
   ],
   "source": [
    "n=int(input(\"Enter a range : \"))\n",
    "\n",
    "for i in range(n):\n",
    "    print(i)"
   ]
  },
  {
   "cell_type": "code",
   "execution_count": 24,
   "id": "7b802071",
   "metadata": {},
   "outputs": [
    {
     "name": "stdout",
     "output_type": "stream",
     "text": [
      "Enter a range : 9\n",
      "3\n",
      "5\n",
      "7\n"
     ]
    }
   ],
   "source": [
    "n=int(input(\"Enter a range : \"))\n",
    "\n",
    "\n",
    "for i in range(n):\n",
    "    if i==0 or i==1:    # 0 and 1 are not prime numbers\n",
    "        continue\n",
    "    if i%2==0:\n",
    "        j+=1\n",
    "        continue\n",
    "    print(i)"
   ]
  },
  {
   "cell_type": "code",
   "execution_count": 3,
   "id": "b74ec904",
   "metadata": {},
   "outputs": [
    {
     "name": "stdout",
     "output_type": "stream",
     "text": [
      "Enter a range : 11\n",
      "2\n",
      "3\n",
      "4\n",
      "5\n",
      "6\n",
      "7\n",
      "8\n",
      "9\n",
      "10\n"
     ]
    }
   ],
   "source": [
    "n=int(input(\"Enter a range : \"))\n",
    "\n",
    "for i in range(2,):\n",
    "    "
   ]
  },
  {
   "cell_type": "code",
   "execution_count": 5,
   "id": "9ec39a01",
   "metadata": {},
   "outputs": [
    {
     "data": {
      "text/plain": [
       "3"
      ]
     },
     "execution_count": 5,
     "metadata": {},
     "output_type": "execute_result"
    }
   ],
   "source": [
    "import math\n",
    "int(math.sqrt(10))+1"
   ]
  },
  {
   "cell_type": "code",
   "execution_count": 6,
   "id": "105db05c",
   "metadata": {},
   "outputs": [
    {
     "name": "stdout",
     "output_type": "stream",
     "text": [
      "2\n",
      "3\n",
      "4\n",
      "5\n",
      "6\n",
      "7\n",
      "8\n",
      "9\n"
     ]
    }
   ],
   "source": [
    "for i in range(2,10):\n",
    "    print(i)"
   ]
  },
  {
   "cell_type": "code",
   "execution_count": 36,
   "id": "3bd3b1f6",
   "metadata": {},
   "outputs": [
    {
     "name": "stdout",
     "output_type": "stream",
     "text": [
      "Enter a range : 15\n",
      "2\n",
      "3\n",
      "4\n",
      "5\n",
      "6\n",
      "7\n",
      "8\n",
      "9\n",
      "10\n",
      "11\n",
      "12\n",
      "13\n",
      "14\n"
     ]
    }
   ],
   "source": [
    "n=int(input(\"Enter a range : \"))\n",
    "\n",
    "for i in range(2,n):\n",
    "    print(i)"
   ]
  },
  {
   "cell_type": "code",
   "execution_count": 28,
   "id": "70fc7a5f",
   "metadata": {},
   "outputs": [
    {
     "name": "stdout",
     "output_type": "stream",
     "text": [
      "2\n",
      "3\n",
      "4\n",
      "5\n"
     ]
    }
   ],
   "source": [
    "for j in range(2,n):\n",
    "    print(j)"
   ]
  },
  {
   "cell_type": "code",
   "execution_count": 32,
   "id": "b75553b2",
   "metadata": {},
   "outputs": [
    {
     "data": {
      "text/plain": [
       "1"
      ]
     },
     "execution_count": 32,
     "metadata": {},
     "output_type": "execute_result"
    }
   ],
   "source": [
    "1%2"
   ]
  },
  {
   "cell_type": "code",
   "execution_count": 33,
   "id": "04e4d5ff",
   "metadata": {},
   "outputs": [
    {
     "data": {
      "text/plain": [
       "0"
      ]
     },
     "execution_count": 33,
     "metadata": {},
     "output_type": "execute_result"
    }
   ],
   "source": [
    "2%2"
   ]
  },
  {
   "cell_type": "code",
   "execution_count": 34,
   "id": "7ae0b832",
   "metadata": {},
   "outputs": [
    {
     "data": {
      "text/plain": [
       "1"
      ]
     },
     "execution_count": 34,
     "metadata": {},
     "output_type": "execute_result"
    }
   ],
   "source": [
    "3%2"
   ]
  },
  {
   "cell_type": "code",
   "execution_count": 35,
   "id": "8483f3b5",
   "metadata": {},
   "outputs": [
    {
     "data": {
      "text/plain": [
       "0"
      ]
     },
     "execution_count": 35,
     "metadata": {},
     "output_type": "execute_result"
    }
   ],
   "source": [
    "0%2"
   ]
  },
  {
   "cell_type": "markdown",
   "id": "7cbb9c83",
   "metadata": {},
   "source": [
    "# 13. Python program to get the Fibonacci series between 0 to 50"
   ]
  },
  {
   "cell_type": "code",
   "execution_count": 1,
   "id": "fbddbd97",
   "metadata": {},
   "outputs": [],
   "source": [
    "# Fibonacci series is a sequence of numbers where each number is the sum of the two preceding ones,usually starting with 0 and 1"
   ]
  },
  {
   "cell_type": "code",
   "execution_count": 3,
   "id": "46eb9e6f",
   "metadata": {},
   "outputs": [],
   "source": [
    "# 0,1,1,2,3,5,8,13,21,........."
   ]
  },
  {
   "cell_type": "code",
   "execution_count": 17,
   "id": "e7d689f8",
   "metadata": {},
   "outputs": [],
   "source": [
    "# 0, 1, 1(=0+1), 2(=1+1), 3(=1+2), 5(=2+3), 8(=3+5),....................."
   ]
  },
  {
   "cell_type": "code",
   "execution_count": 19,
   "id": "765d08b4",
   "metadata": {},
   "outputs": [
    {
     "data": {
      "text/plain": [
       "[0, 1, 1, 2, 3, 5, 8, 13, 21, 34]"
      ]
     },
     "execution_count": 19,
     "metadata": {},
     "output_type": "execute_result"
    }
   ],
   "source": [
    "def fibonaaci(n):\n",
    "    fib_series=[]\n",
    "    a,b=0,1\n",
    "    for i in range(n):\n",
    "        if a>50:\n",
    "            break\n",
    "        else:\n",
    "            fib_series.append(a)\n",
    "            a,b=b,a+b\n",
    "    return fib_series\n",
    "\n",
    "fibonaaci(50)"
   ]
  },
  {
   "cell_type": "markdown",
   "id": "4cdf80b1",
   "metadata": {},
   "source": [
    "# 14. Python program to find the factorial of a given number."
   ]
  },
  {
   "cell_type": "code",
   "execution_count": null,
   "id": "1c649c5f",
   "metadata": {},
   "outputs": [],
   "source": [
    "# fact of 4 = 4*3*2*1"
   ]
  },
  {
   "cell_type": "code",
   "execution_count": 24,
   "id": "0a689540",
   "metadata": {},
   "outputs": [
    {
     "name": "stdout",
     "output_type": "stream",
     "text": [
      "1\n",
      "2\n",
      "3\n",
      "4\n",
      "5\n",
      "6\n"
     ]
    }
   ],
   "source": [
    "n=6\n",
    "\n",
    "for i in range(1,n+1):\n",
    "    print(i)\n",
    "    "
   ]
  },
  {
   "cell_type": "code",
   "execution_count": 25,
   "id": "e9dc16cf",
   "metadata": {},
   "outputs": [],
   "source": [
    "# fact of 0 = 1"
   ]
  },
  {
   "cell_type": "code",
   "execution_count": 29,
   "id": "466a5a12",
   "metadata": {},
   "outputs": [
    {
     "name": "stdout",
     "output_type": "stream",
     "text": [
      "9\n",
      "8\n",
      "7\n",
      "6\n",
      "5\n",
      "4\n",
      "3\n",
      "2\n",
      "1\n"
     ]
    }
   ],
   "source": [
    "n=9\n",
    "for i in range(n,0,-1):\n",
    "    print(i)"
   ]
  },
  {
   "cell_type": "code",
   "execution_count": 47,
   "id": "ab8e6dc5",
   "metadata": {},
   "outputs": [
    {
     "name": "stdout",
     "output_type": "stream",
     "text": [
      "Enter a number: 5\n"
     ]
    },
    {
     "data": {
      "text/plain": [
       "120"
      ]
     },
     "execution_count": 47,
     "metadata": {},
     "output_type": "execute_result"
    }
   ],
   "source": [
    "\n",
    "n=int(input(\"Enter a number: \"))\n",
    "fact=1\n",
    "\n",
    "for i in range(n,0,-1):\n",
    "    fact=fact*i\n",
    "fact"
   ]
  },
  {
   "cell_type": "code",
   "execution_count": 45,
   "id": "062d7c49",
   "metadata": {},
   "outputs": [
    {
     "data": {
      "text/plain": [
       "120"
      ]
     },
     "execution_count": 45,
     "metadata": {},
     "output_type": "execute_result"
    }
   ],
   "source": [
    "import math\n",
    "math.factorial(5)"
   ]
  },
  {
   "cell_type": "markdown",
   "id": "641ebdf0",
   "metadata": {},
   "source": [
    "# 15. Python program that accepts a string and calculates the number of digits and letters"
   ]
  },
  {
   "cell_type": "code",
   "execution_count": 48,
   "id": "b4784a97",
   "metadata": {},
   "outputs": [
    {
     "name": "stdout",
     "output_type": "stream",
     "text": [
      "Enter a string: gfdsjrj\n",
      "g\n",
      "f\n",
      "d\n",
      "s\n",
      "j\n",
      "r\n",
      "j\n"
     ]
    }
   ],
   "source": [
    "string=str(input(\"Enter a string: \"))\n",
    "\n",
    "for i in string:\n",
    "    print(i)"
   ]
  },
  {
   "cell_type": "code",
   "execution_count": 51,
   "id": "945a4a38",
   "metadata": {},
   "outputs": [
    {
     "name": "stdout",
     "output_type": "stream",
     "text": [
      "Enter a string: zd45bnbhg123\n",
      "zd45bnbhg123 has 5 no.of digits and 7 no.of letters\n"
     ]
    }
   ],
   "source": [
    "string=str(input(\"Enter a string: \"))\n",
    "\n",
    "letters=0\n",
    "digits=0\n",
    "\n",
    "for i in string:\n",
    "    if i.isdigit(): \n",
    "        digits+=1\n",
    "    elif i.isalpha():\n",
    "        letters+=1\n",
    "        \n",
    "print(f\"{string} has {digits} no.of digits and {letters} no.of letters\")"
   ]
  },
  {
   "cell_type": "markdown",
   "id": "40043f0d",
   "metadata": {},
   "source": [
    "# 16. Write a Python program that iterates the integers from 1 to 25"
   ]
  },
  {
   "cell_type": "code",
   "execution_count": 52,
   "id": "5ace64a9",
   "metadata": {},
   "outputs": [
    {
     "name": "stdout",
     "output_type": "stream",
     "text": [
      "1\n",
      "2\n",
      "3\n",
      "4\n",
      "5\n",
      "6\n",
      "7\n",
      "8\n",
      "9\n",
      "10\n",
      "11\n",
      "12\n",
      "13\n",
      "14\n",
      "15\n",
      "16\n",
      "17\n",
      "18\n",
      "19\n",
      "20\n",
      "21\n",
      "22\n",
      "23\n",
      "24\n",
      "25\n"
     ]
    }
   ],
   "source": [
    "for i in range(1,26):\n",
    "    print(i)"
   ]
  },
  {
   "cell_type": "markdown",
   "id": "b99a147f",
   "metadata": {},
   "source": [
    "# 17. Python program to check the validity of password input by users"
   ]
  },
  {
   "cell_type": "code",
   "execution_count": 53,
   "id": "10bedf79",
   "metadata": {},
   "outputs": [],
   "source": [
    "# It should be a minimum of 8 characters\n",
    "# It should contain a mix of uppercase letters,lowercase letters,numbers, and special characters(such as !,@,#,$,etc)\n",
    "# It shouldn't contain any spaces \n"
   ]
  },
  {
   "cell_type": "code",
   "execution_count": 5,
   "id": "c72d96a0",
   "metadata": {},
   "outputs": [
    {
     "name": "stdout",
     "output_type": "stream",
     "text": [
      "Enter a password: Shayema123@\n",
      "Valid password\n"
     ]
    }
   ],
   "source": [
    "password=input(\"Enter a password: \")\n",
    "\n",
    "has_valid_length=False \n",
    "has_lower_case=False \n",
    "has_upper_case=False \n",
    "has_digits=False \n",
    "has_special_characters=False\n",
    "\n",
    "if (len(password)>=8) and (len(password)<=16):\n",
    "    has_valid_length=True  \n",
    "    for i in password:\n",
    "        if i.isupper():\n",
    "            has_upper_case=True    \n",
    "        if i.islower():\n",
    "            has_lower_case=True\n",
    "        if i.isdigit():\n",
    "            has_digits=True\n",
    "        if(i==\"!\" or i==\"@\" or i==\"#\" or i==\"$\" or i==\"^\" or i==\"&\" or i==\"*\"):\n",
    "            has_special_characters=True\n",
    "\n",
    "            \n",
    "if (has_valid_length==True and has_upper_case==True and has_lower_case==True and has_digits==True and has_special_characters==True):\n",
    "    print(\"Valid password\")\n",
    "else:\n",
    "    print(\"Invalid password\")"
   ]
  },
  {
   "cell_type": "markdown",
   "id": "7391decf",
   "metadata": {},
   "source": [
    "# 18. Python program to convert the month name to a number of days"
   ]
  },
  {
   "cell_type": "code",
   "execution_count": 7,
   "id": "d028d169",
   "metadata": {},
   "outputs": [
    {
     "name": "stdout",
     "output_type": "stream",
     "text": [
      "January has 31 days\n",
      "April has 30 days\n",
      "December has 31 days\n",
      "Moye is incorrect name of month\n"
     ]
    }
   ],
   "source": [
    "month=[\"January\",\"April\",\"December\",\"Moye\"]\n",
    "\n",
    "for i in month:\n",
    "    if i==\"February\":\n",
    "        print(f\"{i} has 28/29 days\")\n",
    "    elif i in (\"January\",\"March\",\"May\",\"July\",\"August\",\"October\",\"December\"):\n",
    "        print(f\"{i} has 31 days\")\n",
    "    elif i in (\"April\",\"June\",\"September\",\"November\"): \n",
    "        print(f\"{i} has 30 days\")\n",
    "    else:\n",
    "        print(f\"{i} is incorrect name of month\")\n",
    "                    \n",
    "            "
   ]
  },
  {
   "cell_type": "markdown",
   "id": "0e8062a1",
   "metadata": {},
   "source": [
    "# while loop\n",
    "\n",
    "\n",
    "It is used to execute a block of statements repeatedly until a given condition is satisfied. When the condition becomes false, the line immediately after the loop is executed.\n",
    "\n",
    "\n",
    "\n",
    "while expression:\n",
    "\n",
    "    statement(s)\n",
    "    \n",
    "    \n",
    "    \n",
    "    \n",
    "while loop falls under the category of indefinite iteration. Indefinite iteration means that the number of times the loop is executed isn't specified explicitly in advance.\n",
    "\n"
   ]
  },
  {
   "cell_type": "markdown",
   "id": "f4bb6e4e",
   "metadata": {},
   "source": [
    "# Difference between for loop and while loop\n",
    "\n",
    "The main difference is that for loop is usually used when the number of iterations is known, whereas while loop is used when the number of iterations is unknown"
   ]
  },
  {
   "cell_type": "markdown",
   "id": "6aaf7712",
   "metadata": {},
   "source": [
    "# Applications of loop:\n",
    "    \n",
    "1.Iterating over data: Loops are used to traverse through lists,arrays,or other data structures to perform operations on each item\n",
    "    \n",
    "2.Input validation: They can be used to validate user input until valid data is provided\n",
    "    \n",
    "3.Automation: Loops are essential in automation tasks, like processing a large number of files or performing repetitive tasks\n",
    "    \n",
    "4.Calculations: They help in performing calculations iteratively, such as summing a series of numbers or generating a sequence\n",
    "    \n",
    "5.Game development: Loops are crucial for game development to update game states, handle user input, and simulate game worlds\n",
    "    \n",
    "6.Control flow: Loops are used for control flow, such as executing a set of instructions until a specific condition is met or processing elements until reaching the end of a sequence\n",
    "\n",
    "7.User interfaces: They are used in graphical user interfaces(GUIs) to handle events and update interface elements based on user actions\n",
    "\n",
    "8.Simulation and modeling: Loops are used extensively in simulations and modeling to iterate through time steps and update simulation state"
   ]
  },
  {
   "cell_type": "code",
   "execution_count": 1,
   "id": "4ad39c06",
   "metadata": {},
   "outputs": [],
   "source": [
    "# Real life application of loops:\n",
    "    \n",
    "# Whenever we go to any application then the format of displaying products is 'loops'"
   ]
  },
  {
   "cell_type": "markdown",
   "id": "4216c325",
   "metadata": {},
   "source": [
    "# 1. Take 10 integers from user using loop and print their average value"
   ]
  },
  {
   "cell_type": "code",
   "execution_count": 2,
   "id": "6628eace",
   "metadata": {},
   "outputs": [
    {
     "name": "stdout",
     "output_type": "stream",
     "text": [
      "1\n",
      "2\n",
      "3\n",
      "4\n",
      "5\n",
      "6\n",
      "7\n",
      "8\n",
      "9\n",
      "10\n"
     ]
    }
   ],
   "source": [
    "i=1\n",
    "\n",
    "while i<11:     # when this condition becomes False , the loop ends\n",
    "    print(i)\n",
    "    i+=1        # This is necessary to write , otherwise the loop becomes infinite"
   ]
  },
  {
   "cell_type": "code",
   "execution_count": 6,
   "id": "15a5a96f",
   "metadata": {},
   "outputs": [
    {
     "name": "stdout",
     "output_type": "stream",
     "text": [
      "1\n",
      "2\n",
      "3\n",
      "4\n",
      "5\n",
      "6\n",
      "7\n",
      "8\n",
      "9\n",
      "10\n",
      "The average is 6.5\n"
     ]
    }
   ],
   "source": [
    "i=1\n",
    "sum=0\n",
    "\n",
    "while i<11:    \n",
    "    print(i)\n",
    "    i+=1\n",
    "    sum=(sum+i)\n",
    "print(f\"The average is {sum/10}\")"
   ]
  },
  {
   "cell_type": "raw",
   "id": "ed69aa6d",
   "metadata": {},
   "source": [
    "# 2. Print the following patterns using loop:\n",
    "\n",
    "a.\n",
    "*\n",
    "**\n",
    "***\n",
    "****\n",
    "\n",
    "b.\n",
    "  *\n",
    " ***\n",
    "*****\n",
    " ***\n",
    "  *\n",
    "\n",
    "c.\n",
    "1010101\n",
    " 10101\n",
    "  101\n",
    "   1"
   ]
  },
  {
   "cell_type": "code",
   "execution_count": 5,
   "id": "6d3407f7",
   "metadata": {},
   "outputs": [
    {
     "name": "stdout",
     "output_type": "stream",
     "text": [
      "*\n",
      "**\n",
      "***\n",
      "****\n"
     ]
    }
   ],
   "source": [
    "# a.\n",
    "\n",
    "i=1\n",
    "\n",
    "while i<5:\n",
    "    print('*'*i,end='')\n",
    "    i+=1\n",
    "    print()    "
   ]
  },
  {
   "cell_type": "code",
   "execution_count": 10,
   "id": "9776622c",
   "metadata": {},
   "outputs": [
    {
     "name": "stdout",
     "output_type": "stream",
     "text": [
      "  *\n",
      " ***\n",
      "*****\n"
     ]
    }
   ],
   "source": [
    "# b.\n",
    "\n",
    "num=3\n",
    "\n",
    "row=0\n",
    "i=1\n",
    "while row<num: \n",
    "    spaces=(num-row-1)\n",
    "    while spaces>0:\n",
    "        print(' ',end='')\n",
    "        spaces-=1\n",
    "    star=(row+i)\n",
    "    while star>0:\n",
    "        print('*',end='')\n",
    "        star-=1\n",
    "    i+=1\n",
    "    row+=1\n",
    "    print()"
   ]
  },
  {
   "cell_type": "code",
   "execution_count": 12,
   "id": "a71704b6",
   "metadata": {},
   "outputs": [
    {
     "name": "stdout",
     "output_type": "stream",
     "text": [
      "***\n",
      " *\n",
      "  \n"
     ]
    }
   ],
   "source": [
    "num=3\n",
    "\n",
    "row=0\n",
    "i=0\n",
    "while row<num: \n",
    "    spaces=row\n",
    "    while spaces>0:\n",
    "        print(' ',end='')\n",
    "        spaces-=1\n",
    "    star=(num-row-i)\n",
    "    while star>0:\n",
    "        print('*',end='')\n",
    "        star-=1\n",
    "    i+=1\n",
    "    row+=1\n",
    "    print()"
   ]
  },
  {
   "cell_type": "code",
   "execution_count": 14,
   "id": "82eff293",
   "metadata": {},
   "outputs": [
    {
     "name": "stdout",
     "output_type": "stream",
     "text": [
      "  *\n",
      " ***\n",
      "*****\n",
      " ***\n",
      "  *\n",
      "   \n"
     ]
    }
   ],
   "source": [
    "num=3\n",
    "\n",
    "row=0\n",
    "i=1\n",
    "while row<num: \n",
    "    spaces=(num-row-1)\n",
    "    while spaces>0:\n",
    "        print(' ',end='')\n",
    "        spaces-=1\n",
    "    star=(row+i)\n",
    "    while star>0:\n",
    "        print('*',end='')\n",
    "        star-=1\n",
    "    i+=1\n",
    "    row+=1\n",
    "    print()\n",
    "    \n",
    "row=0\n",
    "i=0\n",
    "while row<num: \n",
    "    spaces=row+1\n",
    "    while spaces>0:\n",
    "        print(' ',end='')\n",
    "        spaces-=1\n",
    "    star=(num-row-i)\n",
    "    while star>0:\n",
    "        print('*',end='')\n",
    "        star-=1\n",
    "    i+=1\n",
    "    row+=1\n",
    "    print()"
   ]
  },
  {
   "cell_type": "code",
   "execution_count": 18,
   "id": "de632cfe",
   "metadata": {},
   "outputs": [
    {
     "name": "stdout",
     "output_type": "stream",
     "text": [
      "1010101\n",
      " 10101\n",
      "  101\n",
      "   1\n",
      "    \n",
      "     \n",
      "      \n"
     ]
    }
   ],
   "source": [
    "# c.\n",
    "\n",
    "num=7\n",
    "\n",
    "row=0\n",
    "i=0\n",
    "while row<num: \n",
    "    spaces=row\n",
    "    while spaces>0:\n",
    "        print(' ',end='')\n",
    "        spaces-=1\n",
    "    star=(num-row-i)\n",
    "    j=0\n",
    "    while star>0:\n",
    "        if j%2==0:  \n",
    "            print('1',end='')\n",
    "        else:\n",
    "            print('0',end='')\n",
    "        star-=1\n",
    "        j+=1\n",
    "    i+=1\n",
    "    row+=1\n",
    "    print()"
   ]
  },
  {
   "cell_type": "markdown",
   "id": "63f6d1bd",
   "metadata": {},
   "source": [
    "# 3. Print multiplication table of 24, 50 and 29 using loop."
   ]
  },
  {
   "cell_type": "code",
   "execution_count": 25,
   "id": "770d96a0",
   "metadata": {},
   "outputs": [
    {
     "name": "stdout",
     "output_type": "stream",
     "text": [
      "Enter a number : 24\n",
      "24 * 1 = 24\n",
      "24 * 2 = 48\n",
      "24 * 3 = 72\n",
      "24 * 4 = 96\n",
      "24 * 5 = 120\n",
      "24 * 6 = 144\n",
      "24 * 7 = 168\n",
      "24 * 8 = 192\n",
      "24 * 9 = 216\n",
      "24 * 10 = 240\n"
     ]
    }
   ],
   "source": [
    "num=int(input(\"Enter a number : \"))\n",
    "i=1\n",
    "\n",
    "while i<=10:\n",
    "    result=num*i\n",
    "    print(f'{num} * {i} = {result}')\n",
    "    i+=1"
   ]
  },
  {
   "cell_type": "code",
   "execution_count": 26,
   "id": "3fc19ac6",
   "metadata": {},
   "outputs": [
    {
     "name": "stdout",
     "output_type": "stream",
     "text": [
      "Enter a number : 50\n",
      "50 * 1 = 50\n",
      "50 * 2 = 100\n",
      "50 * 3 = 150\n",
      "50 * 4 = 200\n",
      "50 * 5 = 250\n",
      "50 * 6 = 300\n",
      "50 * 7 = 350\n",
      "50 * 8 = 400\n",
      "50 * 9 = 450\n",
      "50 * 10 = 500\n"
     ]
    }
   ],
   "source": [
    "num=int(input(\"Enter a number : \"))\n",
    "i=1\n",
    "\n",
    "while i<=10:\n",
    "    result=num*i\n",
    "    print(f'{num} * {i} = {result}')\n",
    "    i+=1"
   ]
  },
  {
   "cell_type": "code",
   "execution_count": 27,
   "id": "70a633a0",
   "metadata": {},
   "outputs": [
    {
     "name": "stdout",
     "output_type": "stream",
     "text": [
      "Enter a number : 29\n",
      "29 * 1 = 29\n",
      "29 * 2 = 58\n",
      "29 * 3 = 87\n",
      "29 * 4 = 116\n",
      "29 * 5 = 145\n",
      "29 * 6 = 174\n",
      "29 * 7 = 203\n",
      "29 * 8 = 232\n",
      "29 * 9 = 261\n",
      "29 * 10 = 290\n"
     ]
    }
   ],
   "source": [
    "num=int(input(\"Enter a number : \"))\n",
    "i=1\n",
    "\n",
    "while i<=10:\n",
    "    result=num*i\n",
    "    print(f'{num} * {i} = {result}')\n",
    "    i+=1"
   ]
  },
  {
   "cell_type": "markdown",
   "id": "92e990b5",
   "metadata": {},
   "source": [
    "# 4. Write an infinite loop.\n",
    "A infinite loop never ends. Condition is always true.\n",
    "\n",
    "Answer:\n",
    "\n",
    "while True:\n",
    "\n",
    "    print(\"Infinte\")"
   ]
  },
  {
   "cell_type": "markdown",
   "id": "77b2077f",
   "metadata": {},
   "source": [
    "# 5.Factorial of any number n is represented by n! and is equal to 1*2*3*....*(n-1)*n. \n",
    "E.g.-\n",
    "\n",
    "4! = 1*2*3*4 = 24\n",
    "\n",
    "3! = 3*2*1 = 6\n",
    "\n",
    "2! = 2*1 = 2\n",
    "\n",
    "Also,\n",
    "\n",
    "1! = 1\n",
    "\n",
    "0! = 1\n",
    "\n",
    "Write a program to calculate factorial of a number."
   ]
  },
  {
   "cell_type": "code",
   "execution_count": 4,
   "id": "c12604e9",
   "metadata": {},
   "outputs": [
    {
     "name": "stdout",
     "output_type": "stream",
     "text": [
      "Enter a number : 5\n",
      "120\n"
     ]
    }
   ],
   "source": [
    "num=int(input(\"Enter a number : \"))\n",
    "fact=1\n",
    "\n",
    "while num>=1:\n",
    "    fact=fact*num\n",
    "    num-=1\n",
    "print(fact)"
   ]
  },
  {
   "cell_type": "markdown",
   "id": "a7db108f",
   "metadata": {},
   "source": [
    "# 6. Write a program to find greatest common divisor (GCD) or highest common factor (HCF) of given two numbers.\n",
    "\n",
    "Example;\n",
    "\n",
    "a=48 , b=18\n",
    "\n",
    "First iteration; a=18, b=48%18=12\n",
    "\n",
    "Second iteration; a=12, b=18%12=6\n",
    "\n",
    "Third iteration; a=6, b=12%6=0\n",
    "\n",
    "The loop exits and the GCD is a = 6"
   ]
  },
  {
   "cell_type": "code",
   "execution_count": 9,
   "id": "19442ab3",
   "metadata": {},
   "outputs": [
    {
     "name": "stdout",
     "output_type": "stream",
     "text": [
      "Enter first number : 12\n",
      "Enter second number : 48\n",
      "The HCF/GCD of 12 and 48 is 12\n"
     ]
    }
   ],
   "source": [
    "x=int(input(\"Enter first number : \"))\n",
    "y=int(input(\"Enter second number : \"))\n",
    "\n",
    "def gcd(x,y):    \n",
    "    while y!=0:\n",
    "        x,y=y,x%y\n",
    "    return x\n",
    "\n",
    "print(f\"The HCF/GCD of {x} and {y} is {gcd(x,y)}\")"
   ]
  },
  {
   "cell_type": "markdown",
   "id": "8ee24c0e",
   "metadata": {},
   "source": [
    "# 7. Take integer inputs from user until he/she presses q ( Ask to press q to quit after every integer input ). Print average and product of all numbers."
   ]
  },
  {
   "cell_type": "code",
   "execution_count": 4,
   "id": "fadaf019",
   "metadata": {},
   "outputs": [
    {
     "name": "stdout",
     "output_type": "stream",
     "text": [
      "Enter any integer and enter 'q' to 'quit' : 5\n",
      "The average of [5] is 5.0\n",
      "The product of [5] is 5\n",
      "Enter any integer and enter 'q' to 'quit' : 9\n",
      "The average of [5, 9] is 7.0\n",
      "The product of [5, 9] is 45\n",
      "Enter any integer and enter 'q' to 'quit' : 1\n",
      "The average of [5, 9, 1] is 5.0\n",
      "The product of [5, 9, 1] is 45\n",
      "Enter any integer and enter 'q' to 'quit' : 10\n",
      "The average of [5, 9, 1, 10] is 6.25\n",
      "The product of [5, 9, 1, 10] is 450\n",
      "Enter any integer and enter 'q' to 'quit' : q\n"
     ]
    }
   ],
   "source": [
    "def main():\n",
    "    numbers=[]\n",
    "    product=1\n",
    "    \n",
    "    while True:\n",
    "        user_input=input(\"Enter any integer and enter 'q' to 'quit' : \")\n",
    "        if user_input.lower()=='q':\n",
    "            break\n",
    "        try:\n",
    "            num=int(user_input)\n",
    "            numbers.append(num)\n",
    "            product=product*num\n",
    "        except ValueError:\n",
    "            print(\"Invalid input. Please enter a valid integer.\")\n",
    "            \n",
    "        if numbers:\n",
    "            average=sum(numbers)/len(numbers)\n",
    "            print(f\"The average of {numbers} is {average}\")\n",
    "            print(f\"The product of {numbers} is {product}\")\n",
    "        else:\n",
    "            print(\"No numbers were entered\")\n",
    "            \n",
    "if __name__==\"__main__\":\n",
    "    main() "
   ]
  },
  {
   "cell_type": "markdown",
   "id": "7c5dddbf",
   "metadata": {},
   "source": [
    "# 8. Calculate the sum of digits of a number given by user. E.g.-\n",
    "\n",
    "INUPT : 123        OUPUT : 6\n",
    "        \n",
    "INUPT : 12345        OUPUT : 15\n"
   ]
  },
  {
   "cell_type": "code",
   "execution_count": 14,
   "id": "7315f745",
   "metadata": {},
   "outputs": [
    {
     "name": "stdout",
     "output_type": "stream",
     "text": [
      "Enter a number : 1844233\n"
     ]
    },
    {
     "data": {
      "text/plain": [
       "7"
      ]
     },
     "execution_count": 14,
     "metadata": {},
     "output_type": "execute_result"
    }
   ],
   "source": [
    "num=int(input(\"Enter a number : \"))\n",
    "power=len(str(num))\n",
    "power    "
   ]
  },
  {
   "cell_type": "code",
   "execution_count": 15,
   "id": "f5b9c663",
   "metadata": {},
   "outputs": [
    {
     "data": {
      "text/plain": [
       "1"
      ]
     },
     "execution_count": 15,
     "metadata": {},
     "output_type": "execute_result"
    }
   ],
   "source": [
    "(153%1000)//100"
   ]
  },
  {
   "cell_type": "code",
   "execution_count": 16,
   "id": "8a1da268",
   "metadata": {},
   "outputs": [
    {
     "data": {
      "text/plain": [
       "5"
      ]
     },
     "execution_count": 16,
     "metadata": {},
     "output_type": "execute_result"
    }
   ],
   "source": [
    "(153%100)//10"
   ]
  },
  {
   "cell_type": "code",
   "execution_count": 17,
   "id": "9467e9ea",
   "metadata": {},
   "outputs": [
    {
     "data": {
      "text/plain": [
       "3"
      ]
     },
     "execution_count": 17,
     "metadata": {},
     "output_type": "execute_result"
    }
   ],
   "source": [
    "(153%10)//1"
   ]
  },
  {
   "cell_type": "code",
   "execution_count": 18,
   "id": "ba46fc5c",
   "metadata": {},
   "outputs": [
    {
     "name": "stdout",
     "output_type": "stream",
     "text": [
      "3\n",
      "5\n",
      "1\n"
     ]
    }
   ],
   "source": [
    "num=153\n",
    "power=3\n",
    "\n",
    "for i in range(1,power+1):\n",
    "    x=(num%(10**i))//(10**(i-1))\n",
    "    print(x)"
   ]
  },
  {
   "cell_type": "code",
   "execution_count": 27,
   "id": "dea8b923",
   "metadata": {},
   "outputs": [
    {
     "name": "stdout",
     "output_type": "stream",
     "text": [
      "Enter any number : 123456\n",
      "6\n",
      "5\n",
      "4\n",
      "3\n",
      "2\n",
      "1\n"
     ]
    }
   ],
   "source": [
    "num=int(input(\"Enter any number : \"))\n",
    "power=len(str(num))\n",
    "\n",
    "i=1\n",
    "\n",
    "while i<=power:\n",
    "    x=((num%(10**i))//(10**(i-1)))\n",
    "    print(x)\n",
    "    i+=1    "
   ]
  },
  {
   "cell_type": "code",
   "execution_count": 30,
   "id": "a1b1823c",
   "metadata": {},
   "outputs": [
    {
     "name": "stdout",
     "output_type": "stream",
     "text": [
      "Enter any number : 12345\n",
      "15\n"
     ]
    }
   ],
   "source": [
    "num=int(input(\"Enter any number : \"))\n",
    "power=len(str(num))\n",
    "sum=0\n",
    "i=1\n",
    "\n",
    "while i<=power:\n",
    "    x=((num%(10**i))//(10**(i-1)))\n",
    "    sum=sum+x\n",
    "    i+=1 \n",
    "print(sum)"
   ]
  },
  {
   "cell_type": "markdown",
   "id": "a9430209",
   "metadata": {},
   "source": [
    "# 9. A three digit number is called Armstrong number if sum of cube of its digit is equal to number itself.\n",
    "\n",
    "E.g.- 153 is an Armstrong number because (13)+(53)+(33) = 153.\n",
    "\n",
    "Write all Armstrong numbers between 100 to 500"
   ]
  },
  {
   "cell_type": "code",
   "execution_count": 31,
   "id": "0c0cd710",
   "metadata": {},
   "outputs": [
    {
     "name": "stdout",
     "output_type": "stream",
     "text": [
      "Enter any number : 153\n",
      "3\n",
      "5\n",
      "1\n"
     ]
    }
   ],
   "source": [
    "num=int(input(\"Enter any number : \"))\n",
    "power=len(str(num))\n",
    "\n",
    "i=1\n",
    "\n",
    "while i<=power:\n",
    "    x=((num%(10**i))//(10**(i-1)))\n",
    "    print(x)\n",
    "    i+=1  "
   ]
  },
  {
   "cell_type": "code",
   "execution_count": 32,
   "id": "b04b1bd6",
   "metadata": {},
   "outputs": [
    {
     "name": "stdout",
     "output_type": "stream",
     "text": [
      "Enter any number : 153\n",
      "27\n",
      "125\n",
      "1\n"
     ]
    }
   ],
   "source": [
    "num=int(input(\"Enter any number : \"))\n",
    "power=len(str(num))\n",
    "\n",
    "i=1\n",
    "\n",
    "while i<=power:\n",
    "    x=((num%(10**i))//(10**(i-1)))**power\n",
    "    print(x)\n",
    "    i+=1  "
   ]
  },
  {
   "cell_type": "code",
   "execution_count": 37,
   "id": "b909928d",
   "metadata": {},
   "outputs": [
    {
     "name": "stdout",
     "output_type": "stream",
     "text": [
      "Enter any number : 153\n",
      "153\n"
     ]
    }
   ],
   "source": [
    "num=int(input(\"Enter any number : \"))\n",
    "power=len(str(num))\n",
    "sum=0\n",
    "i=1\n",
    "\n",
    "while i<=power:\n",
    "    x=((num%(10**i))//(10**(i-1)))**power\n",
    "    sum=sum+x\n",
    "    i+=1\n",
    "print(sum)"
   ]
  },
  {
   "cell_type": "code",
   "execution_count": 36,
   "id": "11bc7af7",
   "metadata": {},
   "outputs": [
    {
     "name": "stdout",
     "output_type": "stream",
     "text": [
      "Enter any number : 100\n",
      "100 is not an armstrong number\n"
     ]
    }
   ],
   "source": [
    "num=int(input(\"Enter any number : \"))\n",
    "power=len(str(num))\n",
    "sum=0\n",
    "i=1\n",
    "\n",
    "while i<=power:\n",
    "    x=((num%(10**i))//(10**(i-1)))**power\n",
    "    sum=sum+x\n",
    "    i+=1\n",
    "    \n",
    "if sum==num:\n",
    "    print(f\"{num} is an armstrong number\")\n",
    "else:\n",
    "    print(f\"{num} is not an armstrong number\")"
   ]
  },
  {
   "cell_type": "markdown",
   "id": "602b2936",
   "metadata": {},
   "source": [
    "# 10. Write a program to print a number given by user but digits reversed. E.g.-\n",
    "\n",
    "INPUT : 123        OUTPUT : 321\n",
    "        \n",
    "INPUT : 12345        OUTPUT : 54321"
   ]
  },
  {
   "cell_type": "code",
   "execution_count": 38,
   "id": "ac3c5da5",
   "metadata": {},
   "outputs": [
    {
     "name": "stdout",
     "output_type": "stream",
     "text": [
      "Enter any number : 1234\n",
      "4\n",
      "3\n",
      "2\n",
      "1\n"
     ]
    }
   ],
   "source": [
    "num=int(input(\"Enter any number : \"))\n",
    "power=len(str(num))\n",
    "\n",
    "i=1\n",
    "\n",
    "while i<=power:\n",
    "    x=((num%(10**i))//(10**(i-1)))\n",
    "    print(x)\n",
    "    i+=1  "
   ]
  },
  {
   "cell_type": "code",
   "execution_count": 3,
   "id": "14d334da",
   "metadata": {},
   "outputs": [
    {
     "name": "stdout",
     "output_type": "stream",
     "text": [
      "Enter any number : 1234566\n",
      "[6, 6, 5, 4, 3, 2, 1]\n"
     ]
    }
   ],
   "source": [
    "num=int(input(\"Enter any number : \"))\n",
    "power=len(str(num))\n",
    "reverse=[]\n",
    "i=1\n",
    "\n",
    "while i<=power:\n",
    "    x=((num%(10**i))//(10**(i-1)))\n",
    "    reverse.append(x)\n",
    "    i+=1\n",
    "print(reverse)"
   ]
  },
  {
   "cell_type": "code",
   "execution_count": null,
   "id": "853bb875",
   "metadata": {},
   "outputs": [],
   "source": []
  },
  {
   "cell_type": "code",
   "execution_count": null,
   "id": "3ce2cb88",
   "metadata": {},
   "outputs": [],
   "source": []
  },
  {
   "cell_type": "code",
   "execution_count": null,
   "id": "17d2ea80",
   "metadata": {},
   "outputs": [],
   "source": []
  },
  {
   "cell_type": "code",
   "execution_count": null,
   "id": "c73fcb40",
   "metadata": {},
   "outputs": [],
   "source": []
  },
  {
   "cell_type": "code",
   "execution_count": null,
   "id": "b70c9ff2",
   "metadata": {},
   "outputs": [],
   "source": []
  },
  {
   "cell_type": "code",
   "execution_count": null,
   "id": "417e3b9a",
   "metadata": {},
   "outputs": [],
   "source": []
  },
  {
   "cell_type": "code",
   "execution_count": null,
   "id": "b05e547c",
   "metadata": {},
   "outputs": [],
   "source": []
  },
  {
   "cell_type": "code",
   "execution_count": null,
   "id": "664c9163",
   "metadata": {},
   "outputs": [],
   "source": []
  },
  {
   "cell_type": "code",
   "execution_count": null,
   "id": "fc388d75",
   "metadata": {},
   "outputs": [],
   "source": []
  },
  {
   "cell_type": "code",
   "execution_count": null,
   "id": "cbce6b64",
   "metadata": {},
   "outputs": [],
   "source": []
  },
  {
   "cell_type": "code",
   "execution_count": null,
   "id": "ea533dbd",
   "metadata": {},
   "outputs": [],
   "source": []
  },
  {
   "cell_type": "code",
   "execution_count": null,
   "id": "1a73765e",
   "metadata": {},
   "outputs": [],
   "source": []
  },
  {
   "cell_type": "code",
   "execution_count": null,
   "id": "203a4ca5",
   "metadata": {},
   "outputs": [],
   "source": []
  },
  {
   "cell_type": "markdown",
   "id": "4173c901",
   "metadata": {},
   "source": [
    "# Solve any star pattern question in Python ( Using for loop ) "
   ]
  },
  {
   "cell_type": "code",
   "execution_count": 2,
   "id": "7a48c0de",
   "metadata": {},
   "outputs": [
    {
     "name": "stdout",
     "output_type": "stream",
     "text": [
      "*****\n"
     ]
    }
   ],
   "source": [
    "# putting together nested loops\n",
    "\n",
    "n=5\n",
    "print('*'*n)      # for printing n no.of stars"
   ]
  },
  {
   "cell_type": "code",
   "execution_count": 3,
   "id": "4eb35aae",
   "metadata": {},
   "outputs": [
    {
     "name": "stdout",
     "output_type": "stream",
     "text": [
      "*\n",
      "*\n",
      "*\n",
      "*\n",
      "*\n"
     ]
    }
   ],
   "source": [
    "n=5\n",
    "\n",
    "for j in range(n):\n",
    "    print('*')"
   ]
  },
  {
   "cell_type": "code",
   "execution_count": 5,
   "id": "f6a88ac0",
   "metadata": {},
   "outputs": [
    {
     "name": "stdout",
     "output_type": "stream",
     "text": [
      "* * * * * "
     ]
    }
   ],
   "source": [
    "# but we wan't this in same line, not in newline\n",
    "\n",
    "n=5\n",
    "for j in range(n):\n",
    "    print('*',end=' ')"
   ]
  },
  {
   "cell_type": "code",
   "execution_count": 6,
   "id": "a27f143b",
   "metadata": {},
   "outputs": [],
   "source": [
    "# Now we want this row , 5 times , to get a square pattern"
   ]
  },
  {
   "cell_type": "code",
   "execution_count": 7,
   "id": "c9630c15",
   "metadata": {},
   "outputs": [
    {
     "name": "stdout",
     "output_type": "stream",
     "text": [
      "*************************"
     ]
    }
   ],
   "source": [
    "n=5\n",
    "\n",
    "for i in range(n):\n",
    "    for j in range(n):\n",
    "        print('*',end='')"
   ]
  },
  {
   "cell_type": "code",
   "execution_count": 8,
   "id": "3e3b2175",
   "metadata": {},
   "outputs": [
    {
     "name": "stdout",
     "output_type": "stream",
     "text": [
      "*\n",
      "*\n",
      "*\n",
      "*\n",
      "*\n",
      "*\n",
      "*\n",
      "*\n",
      "*\n",
      "*\n",
      "*\n",
      "*\n",
      "*\n",
      "*\n",
      "*\n",
      "*\n",
      "*\n",
      "*\n",
      "*\n",
      "*\n",
      "*\n",
      "*\n",
      "*\n",
      "*\n",
      "*\n"
     ]
    }
   ],
   "source": [
    "n=5\n",
    "\n",
    "for i in range(n):\n",
    "    for j in range(n):\n",
    "        print('*')"
   ]
  },
  {
   "cell_type": "code",
   "execution_count": 10,
   "id": "875d14c4",
   "metadata": {},
   "outputs": [
    {
     "name": "stdout",
     "output_type": "stream",
     "text": [
      "* * * * * \n",
      "* * * * * \n",
      "* * * * * \n",
      "* * * * * \n",
      "* * * * * \n"
     ]
    }
   ],
   "source": [
    "n=5\n",
    "\n",
    "for i in range(n):\n",
    "    for j in range(n):\n",
    "        print('*',end=' ')\n",
    "    print()"
   ]
  },
  {
   "cell_type": "code",
   "execution_count": 12,
   "id": "ab1c61b2",
   "metadata": {},
   "outputs": [],
   "source": [
    "# Increasing triangle pattern\n",
    "# i=0   *           -------> 0+1 = i+1\n",
    "# i=1   * *         -------> 1+1 = i+1\n",
    "# i=2   * * *       -------> 2+1 = i+1\n",
    "# i=3   * * * *     -------> 3+1 = i+1\n",
    "# i=4   * * * * *    ------> 4+1 = i+1"
   ]
  },
  {
   "cell_type": "code",
   "execution_count": 16,
   "id": "639d93e9",
   "metadata": {},
   "outputs": [
    {
     "name": "stdout",
     "output_type": "stream",
     "text": [
      "* \n",
      "* * \n",
      "* * * \n",
      "* * * * \n",
      "* * * * * \n"
     ]
    }
   ],
   "source": [
    "# So the code is quite correct\n",
    "\n",
    "n=5\n",
    "for i in range(n):             # ---------> row number\n",
    "    for j in range(i+1):       # ---------> column number\n",
    "        print('*',end=' ')\n",
    "    print()"
   ]
  },
  {
   "cell_type": "code",
   "execution_count": 18,
   "id": "65d473a9",
   "metadata": {},
   "outputs": [],
   "source": [
    "# Decreasing triangle pattern\n",
    "\n",
    "# (0 to 5) * * * * *\n",
    "# (1 to 5) * * * *\n",
    "# (2 to 5) * * *\n",
    "# (3 to 5) * *\n",
    "# (4 to 5) *"
   ]
  },
  {
   "cell_type": "code",
   "execution_count": 19,
   "id": "cf5f38ba",
   "metadata": {},
   "outputs": [
    {
     "name": "stdout",
     "output_type": "stream",
     "text": [
      "* * * * * \n",
      "* * * * \n",
      "* * * \n",
      "* * \n",
      "* \n"
     ]
    }
   ],
   "source": [
    "n=5\n",
    "for i in range(n):             # ---------> row number\n",
    "    for j in range(i,n):       # ---------> column number\n",
    "        print('*',end=' ')\n",
    "    print()"
   ]
  },
  {
   "cell_type": "code",
   "execution_count": 25,
   "id": "65cbd904",
   "metadata": {},
   "outputs": [],
   "source": [
    "# Right sided triangle (increasing)\n",
    "#            *\n",
    "#          * *\n",
    "#        * * *\n",
    "#      * * * *\n",
    "#    * * * * *\n",
    "\n",
    "# 1. decreasing space\n",
    "# 2. increasing star"
   ]
  },
  {
   "cell_type": "code",
   "execution_count": 50,
   "id": "7c5c386b",
   "metadata": {},
   "outputs": [
    {
     "name": "stdout",
     "output_type": "stream",
     "text": [
      "     *\n",
      "    **\n",
      "   ***\n",
      "  ****\n",
      " *****\n"
     ]
    }
   ],
   "source": [
    "n=5\n",
    "\n",
    "for i in range(n):    \n",
    "    for j in range(i,n):\n",
    "        print(' ',end='')    \n",
    "    for j in range(i+1):\n",
    "        print('*',end='')   \n",
    "    print()"
   ]
  },
  {
   "cell_type": "code",
   "execution_count": 52,
   "id": "f5a3176e",
   "metadata": {},
   "outputs": [],
   "source": [
    "# Right sided triangle (decreasing)\n",
    "\n",
    "# * * * * *\n",
    "#   * * * *\n",
    "#     * * *\n",
    "#       * *\n",
    "#         *\n",
    "\n",
    "# 1. increasing space\n",
    "# 2. decreasing star"
   ]
  },
  {
   "cell_type": "code",
   "execution_count": 53,
   "id": "faba8229",
   "metadata": {},
   "outputs": [
    {
     "name": "stdout",
     "output_type": "stream",
     "text": [
      " *****\n",
      "  ****\n",
      "   ***\n",
      "    **\n",
      "     *\n"
     ]
    }
   ],
   "source": [
    "n=5\n",
    "\n",
    "for i in range(n):\n",
    "    \n",
    "    for j in range(i+1):\n",
    "        print(' ',end='')\n",
    "        \n",
    "    for j in range(i,n):\n",
    "        print('*',end='')\n",
    "        \n",
    "    print()"
   ]
  },
  {
   "cell_type": "code",
   "execution_count": 54,
   "id": "98aaf28c",
   "metadata": {},
   "outputs": [],
   "source": [
    "# Hill pattern\n",
    "\n",
    "#         *\n",
    "#       * * *\n",
    "#     * * * * *\n",
    "#   * * * * * * *\n",
    "# * * * * * * * * *\n",
    "\n",
    "# 1. decreasing space \n",
    "# 2. increasing star\n",
    "# 3. increasing star"
   ]
  },
  {
   "cell_type": "code",
   "execution_count": 58,
   "id": "a7c3badc",
   "metadata": {},
   "outputs": [
    {
     "name": "stdout",
     "output_type": "stream",
     "text": [
      "     *\n",
      "    ***\n",
      "   *****\n",
      "  *******\n",
      " *********\n"
     ]
    }
   ],
   "source": [
    "n=5\n",
    "\n",
    "for i in range(n):\n",
    "    \n",
    "    for j in range(i,n):\n",
    "        print(' ',end='')\n",
    "    \n",
    "    for j in range(i):\n",
    "        print('*',end='')\n",
    "    \n",
    "    for j in range(i+1):\n",
    "        print('*',end='')\n",
    "    \n",
    "    print()"
   ]
  },
  {
   "cell_type": "code",
   "execution_count": 59,
   "id": "7b2ce666",
   "metadata": {},
   "outputs": [],
   "source": [
    "# Reverse Hill pattern\n",
    "\n",
    "# * * * * * * * * *\n",
    "#  * * * * * * *\n",
    "#    * * * * *\n",
    "#      * * *\n",
    "#        *\n",
    "\n",
    "# 1. Increasing space\n",
    "# 2. Decreasing star\n",
    "# 3. Decreasing star "
   ]
  },
  {
   "cell_type": "code",
   "execution_count": 64,
   "id": "65f777dd",
   "metadata": {},
   "outputs": [
    {
     "name": "stdout",
     "output_type": "stream",
     "text": [
      "*********\n",
      " *******\n",
      "  *****\n",
      "   ***\n",
      "    *\n"
     ]
    }
   ],
   "source": [
    "n=5\n",
    "\n",
    "for i in range(n):\n",
    "    \n",
    "    for j in range(i):\n",
    "        print(' ',end='')\n",
    "        \n",
    "    for j in range(i,n-1):\n",
    "        print('*',end='')\n",
    "        \n",
    "    for j in range(i,n):\n",
    "        print('*',end='')\n",
    "        \n",
    "    print()"
   ]
  },
  {
   "cell_type": "code",
   "execution_count": 65,
   "id": "807d39f1",
   "metadata": {},
   "outputs": [],
   "source": [
    "# Diamond pattern"
   ]
  },
  {
   "cell_type": "code",
   "execution_count": 71,
   "id": "25baac22",
   "metadata": {},
   "outputs": [
    {
     "name": "stdout",
     "output_type": "stream",
     "text": [
      "     *\n",
      "    ***\n",
      "   *****\n",
      "  *******\n",
      " *********\n",
      " *********\n",
      "  *******\n",
      "   *****\n",
      "    ***\n",
      "     *\n"
     ]
    }
   ],
   "source": [
    "n=5\n",
    "\n",
    "for i in range(n):\n",
    "    \n",
    "    for j in range(i,n):\n",
    "        print(' ',end='')\n",
    "    \n",
    "    for j in range(i):\n",
    "        print('*',end='')\n",
    "    \n",
    "    for j in range(i+1):\n",
    "        print('*',end='')\n",
    "    print()\n",
    "        \n",
    "for i in range(n):\n",
    "    \n",
    "    for j in range(i+1):\n",
    "        print(' ',end='')\n",
    "        \n",
    "    for j in range(i,n-1):\n",
    "        print('*',end='')\n",
    "        \n",
    "    for j in range(i,n):\n",
    "        print('*',end='')\n",
    "        \n",
    "    print()\n",
    "    "
   ]
  },
  {
   "cell_type": "code",
   "execution_count": 72,
   "id": "f9890b12",
   "metadata": {},
   "outputs": [
    {
     "name": "stdout",
     "output_type": "stream",
     "text": [
      "     *\n",
      "    ***\n",
      "   *****\n",
      "  *******\n",
      " *********\n",
      "  *******\n",
      "   *****\n",
      "    ***\n",
      "     *\n"
     ]
    }
   ],
   "source": [
    "n=5\n",
    "\n",
    "for i in range(n-1):    # change this\n",
    "    \n",
    "    for j in range(i,n):\n",
    "        print(' ',end='')\n",
    "    \n",
    "    for j in range(i):\n",
    "        print('*',end='')\n",
    "    \n",
    "    for j in range(i+1):\n",
    "        print('*',end='')\n",
    "    print()\n",
    "        \n",
    "for i in range(n):\n",
    "    \n",
    "    for j in range(i+1):\n",
    "        print(' ',end='')\n",
    "        \n",
    "    for j in range(i,n-1):\n",
    "        print('*',end='')\n",
    "        \n",
    "    for j in range(i,n):\n",
    "        print('*',end='')\n",
    "        \n",
    "    print()\n",
    "    "
   ]
  },
  {
   "cell_type": "code",
   "execution_count": 1,
   "id": "febb983a",
   "metadata": {},
   "outputs": [],
   "source": [
    "# Double hill"
   ]
  },
  {
   "cell_type": "code",
   "execution_count": 38,
   "id": "0e382d0e",
   "metadata": {},
   "outputs": [
    {
     "name": "stdout",
     "output_type": "stream",
     "text": [
      "    \n",
      "   *\n",
      "  ***\n",
      " *****\n",
      "*******\n"
     ]
    }
   ],
   "source": [
    "n=5\n",
    "\n",
    "for i in range(n):\n",
    "    \n",
    "    for j in range(i,n-1):\n",
    "        print(' ',end='')\n",
    "        \n",
    "    for j in range(i-1):\n",
    "        print('*',end='')\n",
    "          \n",
    "    for j in range(i):\n",
    "        print('*',end='')\n",
    "    \n",
    "    print()\n",
    "    "
   ]
  },
  {
   "cell_type": "code",
   "execution_count": 44,
   "id": "517b335f",
   "metadata": {},
   "outputs": [
    {
     "name": "stdout",
     "output_type": "stream",
     "text": [
      "     *        *\n",
      "    ***      ***\n",
      "   *****    *****\n",
      "  *******  *******\n",
      " ******************\n"
     ]
    }
   ],
   "source": [
    "n=5\n",
    "\n",
    "for i in range(n):\n",
    "    \n",
    "    for j in range(i,n):\n",
    "        print(' ',end='')\n",
    "        \n",
    "    for j in range(i):\n",
    "        print('*',end='')\n",
    "          \n",
    "    for j in range(i+1):\n",
    "        print('*',end='')\n",
    "   \n",
    "    for j in range(i,n-1):\n",
    "        print(' ',end='')\n",
    "        \n",
    "    for j in range(i,n-1):\n",
    "        print(' ',end='')\n",
    "        \n",
    "    for j in range(i+1):\n",
    "        print('*',end='')\n",
    "        \n",
    "    for j in range(i):\n",
    "        print('*',end='')\n",
    "    \n",
    "    print()"
   ]
  },
  {
   "cell_type": "code",
   "execution_count": 46,
   "id": "a5815b59",
   "metadata": {},
   "outputs": [],
   "source": [
    "# Butterfly"
   ]
  },
  {
   "cell_type": "code",
   "execution_count": 19,
   "id": "3b9c5381",
   "metadata": {},
   "outputs": [
    {
     "name": "stdout",
     "output_type": "stream",
     "text": [
      "*        *\n",
      "**      **\n",
      "***    ***\n",
      "****  ****\n",
      "**********\n"
     ]
    }
   ],
   "source": [
    "def butterfly_pattern(rows):\n",
    "    \n",
    "    for i in range(1,rows+1):\n",
    "        for j in range(1,i+1):\n",
    "            print('*',end='')\n",
    "        for j in range(1,(2*rows-2*i)+1):\n",
    "            print(\" \",end='')\n",
    "        for j in range(1,i+1):\n",
    "            print('*',end='')\n",
    "        print()\n",
    "        \n",
    "butterfly_pattern(5)                                                                                                                                                                     "
   ]
  },
  {
   "cell_type": "code",
   "execution_count": 25,
   "id": "20e98ec0",
   "metadata": {},
   "outputs": [
    {
     "name": "stdout",
     "output_type": "stream",
     "text": [
      "*        *\n",
      "**      **\n",
      "***    ***\n",
      "****  ****\n",
      "**********\n",
      "****  ****\n",
      "***    ***\n",
      "**      **\n",
      "*        *\n"
     ]
    }
   ],
   "source": [
    "def butterfly_pattern(rows):\n",
    "    \n",
    "    for i in range(1,rows+1):\n",
    "        for j in range(1,i+1):\n",
    "            print('*',end='')\n",
    "        for j in range(1,(2*rows-2*i)+1):\n",
    "            print(\" \",end='')\n",
    "        for j in range(1,i+1):\n",
    "            print('*',end='')\n",
    "        print()\n",
    "        \n",
    "        \n",
    "    for i in range(rows-1,0,-1):\n",
    "        for j in range(1,i+1):\n",
    "            print('*',end='')\n",
    "        for j in range(1,(2*rows-2*i)+1):\n",
    "            print(' ',end='')\n",
    "        for j in range(1,i+1):\n",
    "            print('*',end='')\n",
    "        print()\n",
    "        \n",
    "butterfly_pattern(5) "
   ]
  },
  {
   "cell_type": "code",
   "execution_count": 12,
   "id": "d9002768",
   "metadata": {},
   "outputs": [],
   "source": [
    "# sandglass"
   ]
  },
  {
   "cell_type": "code",
   "execution_count": 23,
   "id": "3b67c90d",
   "metadata": {},
   "outputs": [
    {
     "name": "stdout",
     "output_type": "stream",
     "text": [
      "*********\n",
      " *******\n",
      "  *****\n",
      "   ***\n",
      "    *\n"
     ]
    }
   ],
   "source": [
    "n=5\n",
    "\n",
    "for i in range(n):\n",
    "    \n",
    "    for j in range(i):\n",
    "        print(' ',end='')\n",
    "        \n",
    "    for j in range(i,n-1):\n",
    "        print('*',end='')\n",
    "        \n",
    "    for j in range(i,n):\n",
    "        print('*',end='')\n",
    "        \n",
    "    print()"
   ]
  },
  {
   "cell_type": "code",
   "execution_count": 24,
   "id": "4ec03b31",
   "metadata": {},
   "outputs": [
    {
     "name": "stdout",
     "output_type": "stream",
     "text": [
      "     *\n",
      "    ***\n",
      "   *****\n",
      "  *******\n",
      " *********\n"
     ]
    }
   ],
   "source": [
    "n=5\n",
    "\n",
    "for i in range(n):\n",
    "    \n",
    "    for j in range(i,n):\n",
    "        print(' ',end='')\n",
    "    \n",
    "    for j in range(i):\n",
    "        print('*',end='')\n",
    "    \n",
    "    for j in range(i+1):\n",
    "        print('*',end='')\n",
    "    \n",
    "    print()"
   ]
  },
  {
   "cell_type": "code",
   "execution_count": 41,
   "id": "651679f4",
   "metadata": {},
   "outputs": [
    {
     "name": "stdout",
     "output_type": "stream",
     "text": [
      "*********\n",
      " *******\n",
      "  *****\n",
      "   ***\n",
      "    *\n",
      "   ***\n",
      "  *****\n",
      " *******\n",
      "*********\n"
     ]
    }
   ],
   "source": [
    "n=5\n",
    "\n",
    "for i in range(n-1):  # \n",
    "    \n",
    "    for j in range(i):\n",
    "        print(' ',end='')\n",
    "        \n",
    "    for j in range(i,n-1):\n",
    "        print('*',end='')\n",
    "        \n",
    "    for j in range(i,n):\n",
    "        print('*',end='')\n",
    "        \n",
    "    print()\n",
    "    \n",
    "for i in range(n):\n",
    "    \n",
    "    for j in range(i,n-1):  #\n",
    "        print(' ',end='')\n",
    "    \n",
    "    for j in range(i):\n",
    "        print('*',end='')\n",
    "    \n",
    "    for j in range(i+1):\n",
    "        print('*',end='')\n",
    "    \n",
    "    print()"
   ]
  },
  {
   "cell_type": "code",
   "execution_count": 42,
   "id": "51cac7fa",
   "metadata": {},
   "outputs": [],
   "source": [
    "# Left pascal's triangle"
   ]
  },
  {
   "cell_type": "code",
   "execution_count": 47,
   "id": "7b77dddf",
   "metadata": {},
   "outputs": [
    {
     "name": "stdout",
     "output_type": "stream",
     "text": [
      "\n",
      "*\n",
      "**\n",
      "***\n",
      "****\n"
     ]
    }
   ],
   "source": [
    "n=5\n",
    "\n",
    "for i in range(n):\n",
    "    for j in range(i):\n",
    "        print('*',end='')\n",
    "    print()                   # increasing triangle"
   ]
  },
  {
   "cell_type": "code",
   "execution_count": 51,
   "id": "0b3fa529",
   "metadata": {},
   "outputs": [
    {
     "name": "stdout",
     "output_type": "stream",
     "text": [
      "*****\n",
      "****\n",
      "***\n",
      "**\n",
      "*\n"
     ]
    }
   ],
   "source": [
    "n=5\n",
    "\n",
    "for i in range(n):\n",
    "    for j in range(i,n):\n",
    "        print('*',end='')\n",
    "    print()                   # decreasing triangle"
   ]
  },
  {
   "cell_type": "code",
   "execution_count": 53,
   "id": "30b4e3fb",
   "metadata": {},
   "outputs": [
    {
     "name": "stdout",
     "output_type": "stream",
     "text": [
      "\n",
      "*\n",
      "**\n",
      "***\n",
      "****\n",
      "*****\n",
      "****\n",
      "***\n",
      "**\n",
      "*\n"
     ]
    }
   ],
   "source": [
    "n=5\n",
    "\n",
    "for i in range(n):\n",
    "    for j in range(i):\n",
    "        print('*',end='')\n",
    "    print()                   # increasing triangle\n",
    "    \n",
    "for i in range(n):\n",
    "    for j in range(i,n):\n",
    "        print('*',end='')\n",
    "    print()                   # decreasing triangle\n",
    "    \n",
    "# combining increasing and decreasing triangle we get Left pascal's triangle"
   ]
  },
  {
   "cell_type": "code",
   "execution_count": 54,
   "id": "b0167f27",
   "metadata": {},
   "outputs": [],
   "source": [
    "# Right pascal's triangle"
   ]
  },
  {
   "cell_type": "code",
   "execution_count": 55,
   "id": "03b5594a",
   "metadata": {},
   "outputs": [
    {
     "name": "stdout",
     "output_type": "stream",
     "text": [
      "     \n",
      "    *\n",
      "   **\n",
      "  ***\n",
      " ****\n"
     ]
    }
   ],
   "source": [
    "n=5\n",
    "\n",
    "for i in range(n):\n",
    "    for j in range(i,n):\n",
    "        print(' ',end='')\n",
    "    for j in range(i):\n",
    "        print('*',end='')\n",
    "    print()                   # right sided triangle(increasing)"
   ]
  },
  {
   "cell_type": "code",
   "execution_count": 58,
   "id": "559563e9",
   "metadata": {},
   "outputs": [
    {
     "name": "stdout",
     "output_type": "stream",
     "text": [
      "*****\n",
      " ****\n",
      "  ***\n",
      "   **\n",
      "    *\n"
     ]
    }
   ],
   "source": [
    "n=5\n",
    "\n",
    "for i in range(n):\n",
    "    for j in range(i):\n",
    "        print(' ',end='')\n",
    "    for j in range(i,n):\n",
    "        print('*',end='')\n",
    "    print()                   # right sided triangle(decreasing)\n",
    "    "
   ]
  },
  {
   "cell_type": "code",
   "execution_count": 60,
   "id": "59e82ab6",
   "metadata": {},
   "outputs": [
    {
     "name": "stdout",
     "output_type": "stream",
     "text": [
      "     \n",
      "    *\n",
      "   **\n",
      "  ***\n",
      " ****\n",
      "*****\n",
      " ****\n",
      "  ***\n",
      "   **\n",
      "    *\n"
     ]
    }
   ],
   "source": [
    "n=5\n",
    "\n",
    "for i in range(n):\n",
    "    for j in range(i,n):\n",
    "        print(' ',end='')\n",
    "    for j in range(i):\n",
    "        print('*',end='')\n",
    "    print()\n",
    "    \n",
    "for i in range(n):\n",
    "    for j in range(i):\n",
    "        print(' ',end='')\n",
    "    for j in range(i,n):\n",
    "        print('*',end='')\n",
    "    print()\n",
    "# combining right sided triangle(increasing) and right sided triangle(decreasing) we get Right pascal's triangle    "
   ]
  },
  {
   "cell_type": "markdown",
   "id": "5f6e6b68",
   "metadata": {},
   "source": [
    "# Solve any number pattern program in Python ( Using for loop )"
   ]
  },
  {
   "cell_type": "code",
   "execution_count": 2,
   "id": "4fbc473b",
   "metadata": {},
   "outputs": [],
   "source": [
    "# Do not mix code for number and pattern \n",
    "# Pattern + Number"
   ]
  },
  {
   "cell_type": "code",
   "execution_count": 7,
   "id": "cf0b5dd5",
   "metadata": {},
   "outputs": [],
   "source": [
    "# <1>"
   ]
  },
  {
   "cell_type": "code",
   "execution_count": 8,
   "id": "e8092f6a",
   "metadata": {},
   "outputs": [
    {
     "name": "stdout",
     "output_type": "stream",
     "text": [
      "*\n",
      "**\n",
      "***\n",
      "****\n",
      "*****\n"
     ]
    }
   ],
   "source": [
    "n=5\n",
    "\n",
    "for i in range(n):\n",
    "    for j in range(i+1):\n",
    "        print('*',end='')\n",
    "    print()"
   ]
  },
  {
   "cell_type": "code",
   "execution_count": 9,
   "id": "ca6758b1",
   "metadata": {},
   "outputs": [
    {
     "name": "stdout",
     "output_type": "stream",
     "text": [
      "1\n",
      "11\n",
      "111\n",
      "1111\n",
      "11111\n"
     ]
    }
   ],
   "source": [
    "n=5\n",
    "\n",
    "for i in range(n):\n",
    "    for j in range(i+1):\n",
    "        print('1',end='')\n",
    "    print()"
   ]
  },
  {
   "cell_type": "code",
   "execution_count": 11,
   "id": "4d3c8715",
   "metadata": {},
   "outputs": [],
   "source": [
    "# <2>\n",
    "\n",
    "# Increasing triangle\n",
    "# Incrementing rows"
   ]
  },
  {
   "cell_type": "code",
   "execution_count": 12,
   "id": "35761b63",
   "metadata": {},
   "outputs": [
    {
     "name": "stdout",
     "output_type": "stream",
     "text": [
      "1\n",
      "22\n",
      "333\n",
      "4444\n",
      "55555\n"
     ]
    }
   ],
   "source": [
    "n=5\n",
    "p=1\n",
    "for i in range(n):\n",
    "    for j in range(i+1):\n",
    "        print(p,end='')\n",
    "    p+=1\n",
    "    print()"
   ]
  },
  {
   "cell_type": "code",
   "execution_count": 13,
   "id": "e2894e7e",
   "metadata": {},
   "outputs": [],
   "source": [
    "# <2>\n",
    "\n",
    "# Increasing triangle\n",
    "# Decrementing rows"
   ]
  },
  {
   "cell_type": "code",
   "execution_count": 14,
   "id": "51482fbb",
   "metadata": {},
   "outputs": [
    {
     "name": "stdout",
     "output_type": "stream",
     "text": [
      "5\n",
      "44\n",
      "333\n",
      "2222\n",
      "11111\n"
     ]
    }
   ],
   "source": [
    "n=5\n",
    "p=5\n",
    "for i in range(n):\n",
    "    for j in range(i+1):\n",
    "        print(p,end='')\n",
    "    p-=1\n",
    "    print()"
   ]
  },
  {
   "cell_type": "code",
   "execution_count": 15,
   "id": "2e34ebde",
   "metadata": {},
   "outputs": [],
   "source": [
    "# <3>\n",
    "\n",
    "# Increasing triangle\n",
    "# Incrementing rows by 2"
   ]
  },
  {
   "cell_type": "code",
   "execution_count": 16,
   "id": "f712998d",
   "metadata": {},
   "outputs": [
    {
     "name": "stdout",
     "output_type": "stream",
     "text": [
      "0\n",
      "22\n",
      "444\n",
      "6666\n",
      "88888\n"
     ]
    }
   ],
   "source": [
    "n=5\n",
    "p=0\n",
    "for i in range(n):\n",
    "    for j in range(i+1):\n",
    "        print(p,end='')\n",
    "    p+=2\n",
    "    print()"
   ]
  },
  {
   "cell_type": "code",
   "execution_count": 17,
   "id": "4859d268",
   "metadata": {},
   "outputs": [],
   "source": [
    "# <4>"
   ]
  },
  {
   "cell_type": "code",
   "execution_count": 18,
   "id": "b598f3ec",
   "metadata": {},
   "outputs": [
    {
     "name": "stdout",
     "output_type": "stream",
     "text": [
      "1\n",
      "22\n",
      "111\n",
      "2222\n",
      "11111\n"
     ]
    }
   ],
   "source": [
    "n=5\n",
    "\n",
    "for i in range(n):\n",
    "    for j in range(i+1):\n",
    "        if i%2==0:\n",
    "            print('1',end='')\n",
    "        else:\n",
    "            print('2',end='')\n",
    "    print()"
   ]
  },
  {
   "cell_type": "code",
   "execution_count": 19,
   "id": "51a3a59f",
   "metadata": {},
   "outputs": [],
   "source": [
    "# <5>\n",
    "\n",
    "# Diamond pattern\n",
    "# Incrementing rows"
   ]
  },
  {
   "cell_type": "code",
   "execution_count": 26,
   "id": "c049f014",
   "metadata": {},
   "outputs": [
    {
     "name": "stdout",
     "output_type": "stream",
     "text": [
      "     \n",
      "    *\n",
      "   **\n",
      "  ***\n",
      " ****\n"
     ]
    }
   ],
   "source": [
    "n=5\n",
    "\n",
    "for i in range(n):\n",
    "    for j in range(i,n):\n",
    "        print(' ',end='')\n",
    "    for j in range(i):\n",
    "        print('*',end='')\n",
    "    print()"
   ]
  },
  {
   "cell_type": "code",
   "execution_count": 27,
   "id": "265aacee",
   "metadata": {},
   "outputs": [
    {
     "name": "stdout",
     "output_type": "stream",
     "text": [
      "     *\n",
      "    ***\n",
      "   *****\n",
      "  *******\n",
      " *********\n"
     ]
    }
   ],
   "source": [
    "n=5\n",
    "\n",
    "for i in range(n):\n",
    "    for j in range(i,n):\n",
    "        print(' ',end='')\n",
    "    for j in range(i):\n",
    "        print('*',end='')\n",
    "    for j in range(i+1):\n",
    "        print('*',end='')\n",
    "    print()"
   ]
  },
  {
   "cell_type": "code",
   "execution_count": 29,
   "id": "3db61017",
   "metadata": {},
   "outputs": [
    {
     "name": "stdout",
     "output_type": "stream",
     "text": [
      "*****\n",
      " ****\n",
      "  ***\n",
      "   **\n",
      "    *\n"
     ]
    }
   ],
   "source": [
    "n=5\n",
    "\n",
    "for i in range(n):\n",
    "    for j in range(i):\n",
    "        print(' ',end='')\n",
    "    for j in range(i,n):\n",
    "        print('*',end='')\n",
    "    print()"
   ]
  },
  {
   "cell_type": "code",
   "execution_count": 35,
   "id": "b9e16788",
   "metadata": {},
   "outputs": [
    {
     "name": "stdout",
     "output_type": "stream",
     "text": [
      "*********\n",
      " *******\n",
      "  *****\n",
      "   ***\n",
      "    *\n"
     ]
    }
   ],
   "source": [
    "n=5\n",
    "\n",
    "for i in range(n):\n",
    "    for j in range(i):\n",
    "        print(' ',end='')\n",
    "    for j in range(i,n):\n",
    "        print('*',end='')\n",
    "    for j in range(i+1,n):\n",
    "        print('*',end='')\n",
    "    print()"
   ]
  },
  {
   "cell_type": "code",
   "execution_count": 42,
   "id": "1ca88a44",
   "metadata": {},
   "outputs": [
    {
     "name": "stdout",
     "output_type": "stream",
     "text": [
      "     *\n",
      "    ***\n",
      "   *****\n",
      "  *******\n",
      " *********\n",
      "  *******\n",
      "   *****\n",
      "    ***\n",
      "     *\n"
     ]
    }
   ],
   "source": [
    "n=5\n",
    "\n",
    "for i in range(n-1):   #\n",
    "    for j in range(i,n):\n",
    "        print(' ',end='')\n",
    "    for j in range(i):\n",
    "        print('*',end='')\n",
    "    for j in range(i+1):\n",
    "        print('*',end='')\n",
    "    print()\n",
    "    \n",
    "for i in range(n):\n",
    "    for j in range(i+1):   # \n",
    "        print(' ',end='')\n",
    "    for j in range(i,n):\n",
    "        print('*',end='')\n",
    "    for j in range(i+1,n):\n",
    "        print('*',end='')\n",
    "    print()"
   ]
  },
  {
   "cell_type": "code",
   "execution_count": 50,
   "id": "917dee0d",
   "metadata": {},
   "outputs": [
    {
     "name": "stdout",
     "output_type": "stream",
     "text": [
      "     1\n",
      "    222\n",
      "   33333\n",
      "  4444444\n",
      " 555555555\n",
      "  6666666\n",
      "   77777\n",
      "    888\n",
      "     9\n"
     ]
    }
   ],
   "source": [
    "n=5\n",
    "p=1\n",
    "for i in range(n-1):    #\n",
    "    for j in range(i,n):\n",
    "        print(' ',end='')\n",
    "    for j in range(i):\n",
    "        print(p,end='')\n",
    "    for j in range(i+1):\n",
    "        print(p,end='')\n",
    "    p+=1\n",
    "    print()\n",
    "    \n",
    "for i in range(n):\n",
    "    for j in range(i+1):       # \n",
    "        print(' ',end='')\n",
    "    for j in range(i,n):\n",
    "        print(p,end='')\n",
    "    for j in range(i+1,n):\n",
    "        print(p,end='')\n",
    "    p+=1\n",
    "    print()"
   ]
  },
  {
   "cell_type": "code",
   "execution_count": 51,
   "id": "a792a2db",
   "metadata": {},
   "outputs": [],
   "source": [
    "# <6>"
   ]
  },
  {
   "cell_type": "code",
   "execution_count": 52,
   "id": "4fd796a3",
   "metadata": {},
   "outputs": [
    {
     "name": "stdout",
     "output_type": "stream",
     "text": [
      "     1\n",
      "    222\n",
      "   33333\n",
      "  4444444\n",
      " 555555555\n",
      "  4444444\n",
      "   33333\n",
      "    222\n",
      "     1\n"
     ]
    }
   ],
   "source": [
    "n=5\n",
    "p=1\n",
    "\n",
    "for i in range(n-1):          #\n",
    "    for j in range(i,n):\n",
    "        print(' ',end='')\n",
    "    for j in range(i):\n",
    "        print(p,end='')\n",
    "    for j in range(i+1):\n",
    "        print(p,end='')\n",
    "    p+=1\n",
    "    print()\n",
    "    \n",
    "for i in range(n):\n",
    "    for j in range(i+1):       # \n",
    "        print(' ',end='')\n",
    "    for j in range(i,n):\n",
    "        print(p,end='')\n",
    "    for j in range(i+1,n):\n",
    "        print(p,end='')\n",
    "    p-=1\n",
    "    print()                "
   ]
  },
  {
   "cell_type": "code",
   "execution_count": 57,
   "id": "8fa3df3e",
   "metadata": {},
   "outputs": [],
   "source": [
    "# <7>\n",
    "# Pattern : Increasing triangle\n",
    "# Number : Incrementing columns\n",
    "\n",
    "# Pattern : change in column numbers"
   ]
  },
  {
   "cell_type": "code",
   "execution_count": 58,
   "id": "ca424f13",
   "metadata": {},
   "outputs": [
    {
     "name": "stdout",
     "output_type": "stream",
     "text": [
      "*\n",
      "**\n",
      "***\n",
      "****\n",
      "*****\n"
     ]
    }
   ],
   "source": [
    "n=5\n",
    "\n",
    "for i in range(n):\n",
    "    for j in range(i+1):\n",
    "        print('*',end='')\n",
    "    print()"
   ]
  },
  {
   "cell_type": "code",
   "execution_count": 61,
   "id": "97d0c8a9",
   "metadata": {},
   "outputs": [
    {
     "name": "stdout",
     "output_type": "stream",
     "text": [
      "1\n",
      "12\n",
      "123\n",
      "1234\n",
      "12345\n"
     ]
    }
   ],
   "source": [
    "n=5\n",
    "\n",
    "for i in range(n):      # ----------> rows\n",
    "    p=1\n",
    "    for j in range(i+1):    # ------------> columns\n",
    "        print(p,end='')\n",
    "        p+=1\n",
    "    print()"
   ]
  },
  {
   "cell_type": "code",
   "execution_count": 1,
   "id": "37c35630",
   "metadata": {},
   "outputs": [],
   "source": [
    "# <8>\n",
    "\n",
    "# Pattern: Decreasing triangle \n",
    "# Number : Decrementing columns"
   ]
  },
  {
   "cell_type": "code",
   "execution_count": 3,
   "id": "5800d9be",
   "metadata": {},
   "outputs": [
    {
     "name": "stdout",
     "output_type": "stream",
     "text": [
      "*****\n",
      " ****\n",
      "  ***\n",
      "   **\n",
      "    *\n"
     ]
    }
   ],
   "source": [
    "n=5\n",
    "\n",
    "for i in range(n):\n",
    "    for j in range(i):\n",
    "        print(' ',end='')\n",
    "    for j in range(i,n):\n",
    "        print('*',end='')\n",
    "    print()"
   ]
  },
  {
   "cell_type": "code",
   "execution_count": 10,
   "id": "f328f2ff",
   "metadata": {},
   "outputs": [
    {
     "name": "stdout",
     "output_type": "stream",
     "text": [
      "12345\n",
      " 1234\n",
      "  123\n",
      "   12\n",
      "    1\n"
     ]
    }
   ],
   "source": [
    "n=5\n",
    "\n",
    "for i in range(n):           # ----------> rows\n",
    "    p=1\n",
    "    for j in range(i):       # ------------> columns\n",
    "        print(' ',end='')\n",
    "    for j in range(i,n):\n",
    "        print(p,end='')\n",
    "        p+=1\n",
    "    print()"
   ]
  },
  {
   "cell_type": "code",
   "execution_count": 11,
   "id": "a7b48ed7",
   "metadata": {},
   "outputs": [],
   "source": [
    "# <9>\n",
    "\n",
    "# Pattern: Hill triangle\n",
    "# number: incrementing columns"
   ]
  },
  {
   "cell_type": "code",
   "execution_count": 14,
   "id": "50902909",
   "metadata": {},
   "outputs": [
    {
     "name": "stdout",
     "output_type": "stream",
     "text": [
      "     *\n",
      "    ***\n",
      "   *****\n",
      "  *******\n",
      " *********\n"
     ]
    }
   ],
   "source": [
    "n=5\n",
    "\n",
    "for i in range(n):\n",
    "    for j in range(i,n):\n",
    "        print(' ',end='')\n",
    "    for j in range(i):\n",
    "        print('*',end='')\n",
    "    for j in range(i+1):\n",
    "        print('*',end='')\n",
    "    print()"
   ]
  },
  {
   "cell_type": "code",
   "execution_count": 21,
   "id": "29d3fb6a",
   "metadata": {},
   "outputs": [
    {
     "name": "stdout",
     "output_type": "stream",
     "text": [
      "     1\n",
      "    123\n",
      "   12345\n",
      "  1234567\n",
      " 123456789\n"
     ]
    }
   ],
   "source": [
    "n=5\n",
    "\n",
    "for i in range(n):\n",
    "    p=1\n",
    "    for j in range(i,n):\n",
    "        print(' ',end='')\n",
    "    for j in range(i):\n",
    "        print(p,end='')\n",
    "        p+=1\n",
    "    for j in range(i+1):\n",
    "        print(p,end='')\n",
    "        p+=1\n",
    "    print()"
   ]
  },
  {
   "cell_type": "code",
   "execution_count": 27,
   "id": "6492c31b",
   "metadata": {},
   "outputs": [],
   "source": [
    "# <10>\n",
    "\n",
    "# Pattern: Increasing triangle\n",
    "# Number : Decrementing columns"
   ]
  },
  {
   "cell_type": "code",
   "execution_count": 28,
   "id": "0121bcbb",
   "metadata": {},
   "outputs": [
    {
     "name": "stdout",
     "output_type": "stream",
     "text": [
      "*\n",
      "**\n",
      "***\n",
      "****\n",
      "*****\n"
     ]
    }
   ],
   "source": [
    "n=5\n",
    "\n",
    "for i in range(n):\n",
    "    for j in range(i+1):\n",
    "        print('*',end='')\n",
    "    print()"
   ]
  },
  {
   "cell_type": "code",
   "execution_count": 30,
   "id": "8257f505",
   "metadata": {},
   "outputs": [
    {
     "name": "stdout",
     "output_type": "stream",
     "text": [
      "5\n",
      "54\n",
      "543\n",
      "5432\n",
      "54321\n"
     ]
    }
   ],
   "source": [
    "n=5\n",
    "\n",
    "\n",
    "for i in range(n):           # ----------> rows\n",
    "    p=5\n",
    "    for j in range(i+1):     # ------------> columns\n",
    "        print(p,end='')\n",
    "        p-=1\n",
    "    print()"
   ]
  },
  {
   "cell_type": "code",
   "execution_count": 31,
   "id": "d10f92b4",
   "metadata": {},
   "outputs": [],
   "source": [
    "# <11>\n",
    "\n",
    "# Pattern: Decrementing triangle\n",
    "# Number: Decrementing columns"
   ]
  },
  {
   "cell_type": "code",
   "execution_count": 32,
   "id": "01354808",
   "metadata": {},
   "outputs": [
    {
     "name": "stdout",
     "output_type": "stream",
     "text": [
      "*****\n",
      " ****\n",
      "  ***\n",
      "   **\n",
      "    *\n"
     ]
    }
   ],
   "source": [
    "n=5\n",
    "\n",
    "for i in range(n):\n",
    "    for j in range(i):\n",
    "        print(' ',end='')\n",
    "    for j in range(i,n):\n",
    "        print('*',end='')\n",
    "    print()"
   ]
  },
  {
   "cell_type": "code",
   "execution_count": 33,
   "id": "5abf0c2f",
   "metadata": {},
   "outputs": [
    {
     "name": "stdout",
     "output_type": "stream",
     "text": [
      "54321\n",
      " 5432\n",
      "  543\n",
      "   54\n",
      "    5\n"
     ]
    }
   ],
   "source": [
    "n=5\n",
    "\n",
    "for i in range(n):\n",
    "    p=5\n",
    "    for j in range(i):\n",
    "        print(' ',end='')\n",
    "    for j in range(i,n):\n",
    "        print(p,end='')\n",
    "        p-=1\n",
    "    print()"
   ]
  },
  {
   "cell_type": "code",
   "execution_count": 34,
   "id": "d81a20fa",
   "metadata": {},
   "outputs": [],
   "source": [
    "# <12>\n",
    "\n",
    "# Pattern: Hill triangle\n",
    "# Number: Increasing and decreasing columns"
   ]
  },
  {
   "cell_type": "code",
   "execution_count": 42,
   "id": "b0f2c0c8",
   "metadata": {},
   "outputs": [
    {
     "name": "stdout",
     "output_type": "stream",
     "text": [
      "     *\n",
      "    1**\n",
      "   12***\n",
      "  123****\n",
      " 1234*****\n"
     ]
    }
   ],
   "source": [
    "n=5\n",
    "\n",
    "for i in range(n):      \n",
    "    p=1\n",
    "    for j in range(i,n):\n",
    "        print(' ',end='')\n",
    "    for j in range(i):\n",
    "        print(p,end='')\n",
    "        p+=1\n",
    "    for j in range(i+1):\n",
    "        print('*',end='')\n",
    "    print()"
   ]
  },
  {
   "cell_type": "code",
   "execution_count": 43,
   "id": "eac00950",
   "metadata": {},
   "outputs": [
    {
     "name": "stdout",
     "output_type": "stream",
     "text": [
      "     1\n",
      "    121\n",
      "   12321\n",
      "  1234321\n",
      " 123454321\n"
     ]
    }
   ],
   "source": [
    "n=5\n",
    "\n",
    "for i in range(n):             # ----------> rows\n",
    "    p=1\n",
    "    for j in range(i,n):       # ------------> columns\n",
    "        print(' ',end='')\n",
    "    for j in range(i):\n",
    "        print(p,end='')\n",
    "        p+=1\n",
    "    for j in range(i+1):\n",
    "        print(p,end='')\n",
    "        p-=1\n",
    "    print()"
   ]
  },
  {
   "cell_type": "code",
   "execution_count": 44,
   "id": "7fa0c03a",
   "metadata": {},
   "outputs": [],
   "source": [
    "# <13>\n",
    "\n",
    "# Floyd triangle\n",
    "\n",
    "# Pattern: Increasing triangle\n",
    "# Number : Increasing number"
   ]
  },
  {
   "cell_type": "code",
   "execution_count": 46,
   "id": "f320ca51",
   "metadata": {},
   "outputs": [
    {
     "name": "stdout",
     "output_type": "stream",
     "text": [
      "*\n",
      "**\n",
      "***\n",
      "****\n",
      "*****\n"
     ]
    }
   ],
   "source": [
    "n=5\n",
    "\n",
    "for i in range(n):\n",
    "    for j in range(i+1):\n",
    "        print('*',end='')\n",
    "    print()"
   ]
  },
  {
   "cell_type": "code",
   "execution_count": 49,
   "id": "9625a4af",
   "metadata": {},
   "outputs": [
    {
     "name": "stdout",
     "output_type": "stream",
     "text": [
      "\n",
      "1\n",
      "23\n",
      "456\n",
      "78910\n"
     ]
    }
   ],
   "source": [
    "n=5\n",
    "p=1\n",
    "for i in range(n):             # ----------> rows\n",
    "    for j in range(i):         # ------------> columns\n",
    "        print(p,end='')\n",
    "        p+=1\n",
    "    print()"
   ]
  },
  {
   "cell_type": "code",
   "execution_count": 50,
   "id": "fc2d510e",
   "metadata": {},
   "outputs": [],
   "source": [
    "# <14>\n",
    "\n",
    "# Diamond 🔹 pattern"
   ]
  },
  {
   "cell_type": "code",
   "execution_count": 58,
   "id": "fe6403a0",
   "metadata": {},
   "outputs": [
    {
     "name": "stdout",
     "output_type": "stream",
     "text": [
      "     *\n",
      "    ***\n",
      "   *****\n",
      "  *******\n"
     ]
    }
   ],
   "source": [
    "n=5\n",
    "\n",
    "for i in range(n-1):\n",
    "    for j in range(i,n):\n",
    "        print(' ',end='')\n",
    "    for j in range(i):\n",
    "        print('*',end='')\n",
    "    for j in range(i+1):\n",
    "        print('*',end='')\n",
    "    print()"
   ]
  },
  {
   "cell_type": "code",
   "execution_count": 57,
   "id": "71f07ba6",
   "metadata": {},
   "outputs": [
    {
     "name": "stdout",
     "output_type": "stream",
     "text": [
      "*********\n",
      " *******\n",
      "  *****\n",
      "   ***\n",
      "    *\n"
     ]
    }
   ],
   "source": [
    "n=5\n",
    "\n",
    "for i in range(n):\n",
    "    for j in range(i):\n",
    "        print(' ',end='')\n",
    "    for j in range(i+1,n):\n",
    "        print('*',end='')\n",
    "    for j in range(i,n):\n",
    "        print('*',end='')\n",
    "    print()"
   ]
  },
  {
   "cell_type": "code",
   "execution_count": 60,
   "id": "ae2b461e",
   "metadata": {},
   "outputs": [
    {
     "name": "stdout",
     "output_type": "stream",
     "text": [
      "     *\n",
      "    ***\n",
      "   *****\n",
      "  *******\n",
      " *********\n",
      "  *******\n",
      "   *****\n",
      "    ***\n",
      "     *\n"
     ]
    }
   ],
   "source": [
    "n=5\n",
    "\n",
    "for i in range(n-1):\n",
    "    for j in range(i,n):\n",
    "        print(' ',end='')\n",
    "    for j in range(i):\n",
    "        print('*',end='')\n",
    "    for j in range(i+1):\n",
    "        print('*',end='')\n",
    "    print()\n",
    "    \n",
    "for i in range(n):\n",
    "    for j in range(i+1):\n",
    "        print(' ',end='')\n",
    "    for j in range(i+1,n):\n",
    "        print('*',end='')\n",
    "    for j in range(i,n):\n",
    "        print('*',end='')\n",
    "    print()"
   ]
  },
  {
   "cell_type": "code",
   "execution_count": 63,
   "id": "a8a4d522",
   "metadata": {},
   "outputs": [
    {
     "name": "stdout",
     "output_type": "stream",
     "text": [
      "     *\n",
      "    1**\n",
      "   12***\n",
      "  123****\n",
      " *********\n",
      "  *******\n",
      "   *****\n",
      "    ***\n",
      "     *\n"
     ]
    }
   ],
   "source": [
    "n=5\n",
    "\n",
    "for i in range(n-1):\n",
    "    p=1\n",
    "    for j in range(i,n):\n",
    "        print(' ',end='')\n",
    "    for j in range(i):\n",
    "        print(p,end='')\n",
    "        p+=1\n",
    "    for j in range(i+1):\n",
    "        print('*',end='')\n",
    "    print()\n",
    "    \n",
    "for i in range(n):\n",
    "    for j in range(i+1):\n",
    "        print(' ',end='')\n",
    "    for j in range(i+1,n):\n",
    "        print('*',end='')\n",
    "    for j in range(i,n):\n",
    "        print('*',end='')\n",
    "    print()"
   ]
  },
  {
   "cell_type": "code",
   "execution_count": 62,
   "id": "39d7144b",
   "metadata": {},
   "outputs": [
    {
     "name": "stdout",
     "output_type": "stream",
     "text": [
      "     1\n",
      "    123\n",
      "   12345\n",
      "  1234567\n",
      " *********\n",
      "  *******\n",
      "   *****\n",
      "    ***\n",
      "     *\n"
     ]
    }
   ],
   "source": [
    "n=5\n",
    "\n",
    "for i in range(n-1):\n",
    "    p=1\n",
    "    for j in range(i,n):\n",
    "        print(' ',end='')\n",
    "    for j in range(i):\n",
    "        print(p,end='')\n",
    "        p+=1\n",
    "    for j in range(i+1):\n",
    "        print(p,end='')\n",
    "        p+=1\n",
    "    print()\n",
    "    \n",
    "for i in range(n):\n",
    "    for j in range(i+1):\n",
    "        print(' ',end='')\n",
    "    for j in range(i+1,n):\n",
    "        print('*',end='')\n",
    "    for j in range(i,n):\n",
    "        print('*',end='')\n",
    "    print()"
   ]
  },
  {
   "cell_type": "code",
   "execution_count": 65,
   "id": "15e14a3e",
   "metadata": {},
   "outputs": [
    {
     "name": "stdout",
     "output_type": "stream",
     "text": [
      "     1\n",
      "    123\n",
      "   12345\n",
      "  1234567\n",
      " 123456789\n",
      "  1234567\n",
      "   12345\n",
      "    123\n",
      "     1\n"
     ]
    }
   ],
   "source": [
    "n=5\n",
    "\n",
    "for i in range(n-1):\n",
    "    p=1\n",
    "    for j in range(i,n):\n",
    "        print(' ',end='')\n",
    "    for j in range(i):\n",
    "        print(p,end='')\n",
    "        p+=1\n",
    "    for j in range(i+1):\n",
    "        print(p,end='')\n",
    "        p+=1\n",
    "    print()\n",
    "    \n",
    "for i in range(n):\n",
    "    p=1\n",
    "    for j in range(i+1):\n",
    "        print(' ',end='')\n",
    "    for j in range(i+1,n):\n",
    "        print(p,end='')\n",
    "        p+=1\n",
    "    for j in range(i,n):\n",
    "        print(p,end='')\n",
    "        p+=1\n",
    "    print()"
   ]
  },
  {
   "cell_type": "code",
   "execution_count": 67,
   "id": "67895541",
   "metadata": {},
   "outputs": [],
   "source": [
    "# <15>\n",
    "\n",
    "# Butterfly  "
   ]
  },
  {
   "cell_type": "code",
   "execution_count": 6,
   "id": "43b747e5",
   "metadata": {},
   "outputs": [
    {
     "name": "stdout",
     "output_type": "stream",
     "text": [
      "*        *\n",
      "**      **\n",
      "***    ***\n",
      "****  ****\n",
      "**********\n",
      "****  ****\n",
      "***    ***\n",
      "**      **\n",
      "*        *\n"
     ]
    }
   ],
   "source": [
    "rows=5\n",
    "\n",
    "for i in range(1,rows+1):\n",
    "        for j in range(1,i+1):\n",
    "            print('*',end='')\n",
    "        for j in range(1,(2*rows-2*i)+1):\n",
    "            print(\" \",end='')\n",
    "        for j in range(1,i+1):\n",
    "            print('*',end='')\n",
    "        print()\n",
    "        \n",
    "        \n",
    "for i in range(rows-1,0,-1):\n",
    "    for j in range(1,i+1):\n",
    "        print('*',end='')\n",
    "    for j in range(1,(2*rows-2*i)+1):\n",
    "        print(' ',end='')\n",
    "    for j in range(1,i+1):\n",
    "        print('*',end='')\n",
    "    print()\n",
    "        "
   ]
  },
  {
   "cell_type": "code",
   "execution_count": 13,
   "id": "41595f68",
   "metadata": {},
   "outputs": [
    {
     "name": "stdout",
     "output_type": "stream",
     "text": [
      "1        1\n",
      "12      12\n",
      "123    123\n",
      "1234  1234\n",
      "1234512345\n",
      "1234  ****\n",
      "123    ***\n",
      "12      **\n",
      "1        *\n"
     ]
    }
   ],
   "source": [
    "rows=5\n",
    "\n",
    "for i in range(1,rows+1):\n",
    "    p=1\n",
    "    for j in range(1,i+1):\n",
    "        print(p,end='')\n",
    "        p+=1\n",
    "        \n",
    "    for j in range(1,(2*rows-2*i)+1):\n",
    "        print(\" \",end='')\n",
    "        \n",
    "    p=1\n",
    "    for j in range(1,i+1):\n",
    "        print(p,end='')\n",
    "        p+=1\n",
    "    print()\n",
    "        \n",
    "        \n",
    "for i in range(rows-1,0,-1):\n",
    "    p=1\n",
    "    for j in range(1,i+1):\n",
    "        print(p,end='')\n",
    "        p+=1\n",
    "    for j in range(1,(2*rows-2*i)+1):\n",
    "        print(' ',end='')\n",
    "    for j in range(1,i+1):\n",
    "        print('*',end='')\n",
    "    print()"
   ]
  },
  {
   "cell_type": "code",
   "execution_count": 15,
   "id": "615d8b35",
   "metadata": {},
   "outputs": [
    {
     "name": "stdout",
     "output_type": "stream",
     "text": [
      "1        1\n",
      "12      12\n",
      "123    123\n",
      "1234  1234\n",
      "1234512345\n",
      "1234  1234\n",
      "123    123\n",
      "12      12\n",
      "1        1\n"
     ]
    }
   ],
   "source": [
    "rows=5\n",
    "\n",
    "for i in range(1,rows+1):\n",
    "    p=1\n",
    "    for j in range(1,i+1):\n",
    "        print(p,end='')\n",
    "        p+=1\n",
    "        \n",
    "    for j in range(1,(2*rows-2*i)+1):\n",
    "        print(\" \",end='')\n",
    "        \n",
    "    p=1\n",
    "    for j in range(1,i+1):\n",
    "        print(p,end='')\n",
    "        p+=1\n",
    "    print()\n",
    "        \n",
    "        \n",
    "for i in range(rows-1,0,-1):\n",
    "    p=1\n",
    "    for j in range(1,i+1):\n",
    "        print(p,end='')\n",
    "        p+=1\n",
    "        \n",
    "    for j in range(1,(2*rows-2*i)+1):\n",
    "        print(' ',end='')\n",
    "        \n",
    "    p=1\n",
    "    for j in range(1,i+1):\n",
    "        print(p,end='')\n",
    "        p+=1\n",
    "    print()"
   ]
  },
  {
   "cell_type": "code",
   "execution_count": 16,
   "id": "3ac4044b",
   "metadata": {},
   "outputs": [],
   "source": [
    "# <16>\n",
    "\n",
    "# pattern: Decreasing triangle\n",
    "# number: Decrementing columns\n",
    "\n",
    "\n",
    "# n=5   54321\n",
    "# n-1    4321\n",
    "# n-2     321\n",
    "# n-3      21\n",
    "# n-4       1"
   ]
  },
  {
   "cell_type": "code",
   "execution_count": 17,
   "id": "06bdeeaa",
   "metadata": {},
   "outputs": [
    {
     "name": "stdout",
     "output_type": "stream",
     "text": [
      "*****\n",
      " ****\n",
      "  ***\n",
      "   **\n",
      "    *\n"
     ]
    }
   ],
   "source": [
    "n=5\n",
    "\n",
    "for i in range(n):\n",
    "    for j in range(i):\n",
    "        print(' ',end='')\n",
    "    for j in range(i,n):\n",
    "        print('*',end='')\n",
    "    print()"
   ]
  },
  {
   "cell_type": "code",
   "execution_count": 19,
   "id": "25d2f2fd",
   "metadata": {},
   "outputs": [
    {
     "name": "stdout",
     "output_type": "stream",
     "text": [
      "54321\n",
      " 5432\n",
      "  543\n",
      "   54\n",
      "    5\n"
     ]
    }
   ],
   "source": [
    "n=5\n",
    "\n",
    "for i in range(n):\n",
    "    for j in range(i):\n",
    "        print(' ',end='')\n",
    "    p=5\n",
    "    for j in range(i,n):\n",
    "        print(p,end='')\n",
    "        p-=1\n",
    "    print()"
   ]
  },
  {
   "cell_type": "code",
   "execution_count": 20,
   "id": "28f3ac18",
   "metadata": {},
   "outputs": [
    {
     "name": "stdout",
     "output_type": "stream",
     "text": [
      "54321\n",
      " 4321\n",
      "  321\n",
      "   21\n",
      "    1\n"
     ]
    }
   ],
   "source": [
    "n=5\n",
    "k=5\n",
    "\n",
    "for i in range(n):       # ---------> rows\n",
    "    p=k\n",
    "    for j in range(i):   # ----------> columns\n",
    "        print(' ',end='')\n",
    "    for j in range(i,n):\n",
    "        print(p,end='')\n",
    "        p-=1\n",
    "    k-=1\n",
    "    print()"
   ]
  },
  {
   "cell_type": "code",
   "execution_count": 21,
   "id": "4f38bb0c",
   "metadata": {},
   "outputs": [],
   "source": [
    "# <17>\n",
    "\n",
    "# pattern: Hill triangle\n",
    "# number: increasing and decreasing column"
   ]
  },
  {
   "cell_type": "code",
   "execution_count": 23,
   "id": "eaba07d0",
   "metadata": {},
   "outputs": [
    {
     "name": "stdout",
     "output_type": "stream",
     "text": [
      "     *\n",
      "    ***\n",
      "   *****\n",
      "  *******\n",
      " *********\n"
     ]
    }
   ],
   "source": [
    "n=5\n",
    "\n",
    "for i in range(n):\n",
    "    for j in range(i,n):\n",
    "        print(' ',end='')\n",
    "    for j in range(i):\n",
    "        print('*',end='')\n",
    "    for j in range(i+1):\n",
    "        print('*',end='')\n",
    "    print()"
   ]
  },
  {
   "cell_type": "code",
   "execution_count": 26,
   "id": "30109971",
   "metadata": {},
   "outputs": [
    {
     "name": "stdout",
     "output_type": "stream",
     "text": [
      "     1\n",
      "    121\n",
      "   12321\n",
      "  1234321\n",
      " 123454321\n"
     ]
    }
   ],
   "source": [
    "n=5\n",
    "\n",
    "for i in range(n):\n",
    "    \n",
    "    for j in range(i,n):\n",
    "        print(' ',end='')\n",
    "        \n",
    "    p=1\n",
    "    for j in range(i):\n",
    "        print(p,end='')\n",
    "        p+=1\n",
    "    \n",
    "    \n",
    "    for j in range(i+1):\n",
    "        print(p,end='')\n",
    "        p-=1\n",
    "    print()"
   ]
  },
  {
   "cell_type": "markdown",
   "id": "f8f52550",
   "metadata": {},
   "source": [
    "# Solve any character pattern in Python ( Using for loop )"
   ]
  },
  {
   "cell_type": "code",
   "execution_count": 3,
   "id": "307b0725",
   "metadata": {},
   "outputs": [],
   "source": [
    "# <1> \n",
    "\n",
    "# Pattern: Increasing triangle\n",
    "# Character: A's"
   ]
  },
  {
   "cell_type": "code",
   "execution_count": 4,
   "id": "c68a2be8",
   "metadata": {},
   "outputs": [
    {
     "name": "stdout",
     "output_type": "stream",
     "text": [
      "A\n",
      "AA\n",
      "AAA\n",
      "AAAA\n",
      "AAAAA\n"
     ]
    }
   ],
   "source": [
    "n=5\n",
    "\n",
    "for i in range(n):\n",
    "    \n",
    "    for j in range(i+1):\n",
    "        print('A',end='')\n",
    "    print()"
   ]
  },
  {
   "cell_type": "code",
   "execution_count": 5,
   "id": "4a74d185",
   "metadata": {},
   "outputs": [],
   "source": [
    "# <2>\n",
    "\n",
    "# Pattern: Increasing triangle\n",
    "# Character: Incrementing rows"
   ]
  },
  {
   "cell_type": "code",
   "execution_count": 8,
   "id": "64e5e95a",
   "metadata": {},
   "outputs": [
    {
     "name": "stdout",
     "output_type": "stream",
     "text": [
      "A\n",
      "BB\n",
      "CCC\n",
      "DDDD\n",
      "EEEEE\n"
     ]
    }
   ],
   "source": [
    "n=5\n",
    "p=65                       # asci value for 'A'\n",
    "\n",
    "for i in range(n):\n",
    "    for j in range(i+1):\n",
    "        print(chr(p),end='')\n",
    "    p+=1\n",
    "    print()"
   ]
  },
  {
   "cell_type": "code",
   "execution_count": 1,
   "id": "365d6330",
   "metadata": {},
   "outputs": [],
   "source": [
    "# <3>\n",
    "\n",
    "# pattern: Left traingle \n",
    "# character: Incrementing rows"
   ]
  },
  {
   "cell_type": "code",
   "execution_count": 7,
   "id": "1403d78b",
   "metadata": {},
   "outputs": [
    {
     "name": "stdout",
     "output_type": "stream",
     "text": [
      "AAAAA\n",
      " BBBB\n",
      "  CCC\n",
      "   DD\n",
      "    E\n"
     ]
    }
   ],
   "source": [
    "n=5\n",
    "p=65\n",
    "\n",
    "for i in range(n):   # ------> rows\n",
    "    for j in range(i):     # ------>columns \n",
    "        print(' ',end='')\n",
    "    for j in range(i,n):\n",
    "        print(chr(p),end='')\n",
    "    p+=1\n",
    "    print()    "
   ]
  },
  {
   "cell_type": "code",
   "execution_count": 9,
   "id": "7b029c56",
   "metadata": {},
   "outputs": [],
   "source": [
    "# <4>\n",
    "\n",
    "# pattern: Hill pattern\n",
    "# character: Incrementing rows"
   ]
  },
  {
   "cell_type": "code",
   "execution_count": 11,
   "id": "69964ae9",
   "metadata": {},
   "outputs": [
    {
     "name": "stdout",
     "output_type": "stream",
     "text": [
      "     A\n",
      "    BBB\n",
      "   CCCCC\n",
      "  DDDDDDD\n",
      " EEEEEEEEE\n"
     ]
    }
   ],
   "source": [
    "n=5\n",
    "p=65\n",
    "\n",
    "for i in range(n):\n",
    "    for j in range(i,n):\n",
    "        print(' ',end='')\n",
    "    for j in range(i):\n",
    "        print(chr(p),end='')\n",
    "    for j in range(i+1):\n",
    "        print(chr(p),end='')\n",
    "    p+=1\n",
    "    print()"
   ]
  },
  {
   "cell_type": "code",
   "execution_count": 12,
   "id": "64d5e605",
   "metadata": {},
   "outputs": [],
   "source": [
    "# <5>\n",
    "\n",
    "# pattern: Reverse Hill pattern\n",
    "# character: Incrementing rows"
   ]
  },
  {
   "cell_type": "code",
   "execution_count": 16,
   "id": "f7d48094",
   "metadata": {},
   "outputs": [
    {
     "name": "stdout",
     "output_type": "stream",
     "text": [
      "AAAAAAAAA\n",
      " BBBBBBB\n",
      "  CCCCC\n",
      "   DDD\n",
      "    E\n"
     ]
    }
   ],
   "source": [
    "n=5\n",
    "p=65\n",
    "\n",
    "for i in range(n):\n",
    "    for j in range(i):\n",
    "        print(' ',end='')\n",
    "    for j in range(i,n):\n",
    "        print(chr(p),end='')\n",
    "    for j in range(i,n-1):\n",
    "        print(chr(p),end='')\n",
    "    p+=1\n",
    "    print()"
   ]
  },
  {
   "cell_type": "code",
   "execution_count": 1,
   "id": "f236c7aa",
   "metadata": {},
   "outputs": [],
   "source": [
    "# <6>\n",
    "\n",
    "# pattern: Increasing triangle\n",
    "# character: Decrementing rows"
   ]
  },
  {
   "cell_type": "code",
   "execution_count": 2,
   "id": "89f2b2cb",
   "metadata": {},
   "outputs": [
    {
     "name": "stdout",
     "output_type": "stream",
     "text": [
      "E\n",
      "DD\n",
      "CCC\n",
      "BBBB\n",
      "AAAAA\n"
     ]
    }
   ],
   "source": [
    "n=5\n",
    "p=69\n",
    "\n",
    "for i in range(n):\n",
    "    for j in range(i+1):\n",
    "        print(chr(p),end='')\n",
    "    p-=1\n",
    "    print()\n",
    "        "
   ]
  },
  {
   "cell_type": "code",
   "execution_count": 3,
   "id": "e3a8b2b8",
   "metadata": {},
   "outputs": [],
   "source": [
    "# <7>\n",
    "\n",
    "# pattern: Left triangle\n",
    "# character: Decrementing rows"
   ]
  },
  {
   "cell_type": "code",
   "execution_count": 5,
   "id": "55ba934d",
   "metadata": {},
   "outputs": [
    {
     "name": "stdout",
     "output_type": "stream",
     "text": [
      "EEEEE\n",
      " DDDD\n",
      "  CCC\n",
      "   BB\n",
      "    A\n"
     ]
    }
   ],
   "source": [
    "n=5\n",
    "p=69\n",
    "\n",
    "for i in range(n):\n",
    "    for j in range(i):\n",
    "        print(' ',end='')\n",
    "    for j in range(i,n):\n",
    "        print(chr(p),end='')\n",
    "    p-=1\n",
    "    print()\n",
    "        "
   ]
  },
  {
   "cell_type": "code",
   "execution_count": 6,
   "id": "b9b374c7",
   "metadata": {},
   "outputs": [],
   "source": [
    "# <8>\n",
    "\n",
    "# pattern: Hill pattern\n",
    "# character: Decrementing rows"
   ]
  },
  {
   "cell_type": "code",
   "execution_count": 8,
   "id": "b5d7cec9",
   "metadata": {},
   "outputs": [
    {
     "name": "stdout",
     "output_type": "stream",
     "text": [
      "     E\n",
      "    DDD\n",
      "   CCCCC\n",
      "  BBBBBBB\n",
      " AAAAAAAAA\n"
     ]
    }
   ],
   "source": [
    "n=5\n",
    "p=69\n",
    "\n",
    "for i in range(n):\n",
    "    for j in range(i,n):\n",
    "        print(' ',end='')\n",
    "    for j in range(i):\n",
    "        print(chr(p),end='')\n",
    "    for j in range(i+1):\n",
    "        print(chr(p),end='')\n",
    "    p-=1\n",
    "    print()"
   ]
  },
  {
   "cell_type": "code",
   "execution_count": 9,
   "id": "8f227720",
   "metadata": {},
   "outputs": [],
   "source": [
    "# <9>\n",
    "\n",
    "# pattern:Reverse Hill pattern\n",
    "# character: Decrementing rows"
   ]
  },
  {
   "cell_type": "code",
   "execution_count": 11,
   "id": "f77f9026",
   "metadata": {},
   "outputs": [
    {
     "name": "stdout",
     "output_type": "stream",
     "text": [
      "EEEEEEEEE\n",
      " DDDDDDD\n",
      "  CCCCC\n",
      "   BBB\n",
      "    A\n"
     ]
    }
   ],
   "source": [
    "n=5\n",
    "p=69\n",
    "\n",
    "for i in range(n):\n",
    "    for j in range(i):\n",
    "        print(' ',end='')\n",
    "    for j in range(i,n):\n",
    "        print(chr(p),end='')\n",
    "    for j in range(i,n-1):\n",
    "        print(chr(p),end='')\n",
    "    p-=1\n",
    "    print()"
   ]
  },
  {
   "cell_type": "code",
   "execution_count": 12,
   "id": "ad89636e",
   "metadata": {},
   "outputs": [],
   "source": [
    "# <10>\n",
    "\n",
    "# pattern:Increasing triangle\n",
    "# character: Rows incrementing by 2"
   ]
  },
  {
   "cell_type": "code",
   "execution_count": 15,
   "id": "39e9e95f",
   "metadata": {},
   "outputs": [
    {
     "name": "stdout",
     "output_type": "stream",
     "text": [
      "A\n",
      "CC\n",
      "EEE\n",
      "GGGG\n",
      "IIIII\n"
     ]
    }
   ],
   "source": [
    "n=5\n",
    "p=65\n",
    "\n",
    "for i in range(n):\n",
    "    for j in range(i+1):\n",
    "        print(chr(p),end='')\n",
    "    p+=2\n",
    "    print()"
   ]
  },
  {
   "cell_type": "code",
   "execution_count": 16,
   "id": "c913fa67",
   "metadata": {},
   "outputs": [],
   "source": [
    "# <11>\n",
    "\n",
    "# pattern:Right triangle\n",
    "# character: Rows odd = A and Even= B"
   ]
  },
  {
   "cell_type": "code",
   "execution_count": 17,
   "id": "5526f07c",
   "metadata": {},
   "outputs": [
    {
     "name": "stdout",
     "output_type": "stream",
     "text": [
      "A\n",
      "BB\n",
      "AAA\n",
      "BBBB\n",
      "AAAAA\n"
     ]
    }
   ],
   "source": [
    "n=5\n",
    "\n",
    "for i in range(n):\n",
    "    for j in range(i+1):\n",
    "        if i%2==0:\n",
    "            print('A',end='')\n",
    "        else:\n",
    "            print('B',end='')\n",
    "    print()"
   ]
  },
  {
   "cell_type": "code",
   "execution_count": 1,
   "id": "db07eada",
   "metadata": {},
   "outputs": [],
   "source": [
    "# <12>\n",
    "\n",
    "# pattern: Left triangle\n",
    "# character: Rows odd = Z and Even = 0"
   ]
  },
  {
   "cell_type": "code",
   "execution_count": 2,
   "id": "de36e72b",
   "metadata": {},
   "outputs": [
    {
     "name": "stdout",
     "output_type": "stream",
     "text": [
      " ZZZZZ\n",
      "  0000\n",
      "   ZZZ\n",
      "    00\n",
      "     Z\n"
     ]
    }
   ],
   "source": [
    "n=5\n",
    "\n",
    "for i in range(n):\n",
    "    for j in range(i+1):\n",
    "        print(' ',end='')\n",
    "    for j in range(i,n):\n",
    "        if i%2==0:\n",
    "            print('Z',end='')\n",
    "        else:\n",
    "            print('0',end='')\n",
    "    print()"
   ]
  },
  {
   "cell_type": "code",
   "execution_count": 3,
   "id": "e8f3fe8b",
   "metadata": {},
   "outputs": [],
   "source": [
    "# <13>\n",
    "\n",
    "# pattern: Hill pattern\n",
    "# character: Rows odd = A and Even = #"
   ]
  },
  {
   "cell_type": "code",
   "execution_count": 5,
   "id": "0b835d5f",
   "metadata": {},
   "outputs": [
    {
     "name": "stdout",
     "output_type": "stream",
     "text": [
      "     A\n",
      "    ###\n",
      "   AAAAA\n",
      "  #######\n",
      " AAAAAAAAA\n"
     ]
    }
   ],
   "source": [
    "n=5\n",
    "\n",
    "for i in range(n):\n",
    "    for j in range(i,n):\n",
    "        print(' ',end='')\n",
    "    for j in range(i):\n",
    "        if i%2==0: \n",
    "            print('A',end='')\n",
    "        else:\n",
    "            print('#',end='')\n",
    "    for j in range(i+1):\n",
    "        if i%2==0:   \n",
    "            print('A',end='')\n",
    "        else:\n",
    "            print('#',end='')\n",
    "    print()"
   ]
  },
  {
   "cell_type": "code",
   "execution_count": 6,
   "id": "c2977be3",
   "metadata": {},
   "outputs": [],
   "source": [
    "# <14>\n",
    "\n",
    "# pattern:Reverse Hill pattern\n",
    "# character: Rows odd = Z and Even = 0"
   ]
  },
  {
   "cell_type": "code",
   "execution_count": 8,
   "id": "88bad562",
   "metadata": {},
   "outputs": [
    {
     "name": "stdout",
     "output_type": "stream",
     "text": [
      "ZZZZZZZZZ\n",
      " 0000000\n",
      "  ZZZZZ\n",
      "   000\n",
      "    Z\n"
     ]
    }
   ],
   "source": [
    "n=5\n",
    "\n",
    "for i in range(n):\n",
    "    for j in range(i):\n",
    "        print(' ',end='')\n",
    "    for j in range(i,n):\n",
    "        if i%2==0:\n",
    "            print('Z',end='')\n",
    "        else:\n",
    "            print('0',end='')\n",
    "    for j in range(i,n-1):\n",
    "        if i%2==0:    \n",
    "            print('Z',end='')\n",
    "        else:\n",
    "            print('0',end='')\n",
    "    print()"
   ]
  },
  {
   "cell_type": "code",
   "execution_count": 9,
   "id": "7d08caf5",
   "metadata": {},
   "outputs": [],
   "source": [
    "# <15>\n",
    "\n",
    "# pattern: Diamond\n",
    "# character: incrementing rows"
   ]
  },
  {
   "cell_type": "code",
   "execution_count": 10,
   "id": "db0a604e",
   "metadata": {},
   "outputs": [
    {
     "name": "stdout",
     "output_type": "stream",
     "text": [
      "     A\n",
      "    BBB\n",
      "   CCCCC\n",
      "  DDDDDDD\n",
      " EEEEEEEEE\n",
      "  FFFFFFF\n",
      "   GGGGG\n",
      "    HHH\n",
      "     I\n"
     ]
    }
   ],
   "source": [
    "n=5\n",
    "p=65\n",
    "\n",
    "for i in range(n-1):\n",
    "    for j in range(i,n):\n",
    "        print(' ',end='')\n",
    "    for j in range(i):\n",
    "        print(chr(p),end='')\n",
    "    for j in range(i+1):\n",
    "        print(chr(p),end='')\n",
    "    p+=1\n",
    "    print()\n",
    "    \n",
    "for i in range(n):\n",
    "    for j in range(i+1):\n",
    "        print(' ',end='')\n",
    "    for j in range(i+1,n):\n",
    "        print(chr(p),end='')\n",
    "    for j in range(i,n):\n",
    "        print(chr(p),end='')\n",
    "    p+=1\n",
    "    print()"
   ]
  },
  {
   "cell_type": "code",
   "execution_count": 11,
   "id": "708a0173",
   "metadata": {},
   "outputs": [],
   "source": [
    "# <16>\n",
    "\n",
    "# pattern: Butterfly\n",
    "# character: incrementing rows"
   ]
  },
  {
   "cell_type": "code",
   "execution_count": 12,
   "id": "b3bf9d96",
   "metadata": {},
   "outputs": [
    {
     "name": "stdout",
     "output_type": "stream",
     "text": [
      "A        A\n",
      "BB      BB\n",
      "CCC    CCC\n",
      "DDDD  DDDD\n",
      "EEEEEEEEEE\n",
      "FFFF  FFFF\n",
      "GGG    GGG\n",
      "HH      HH\n",
      "I        I\n"
     ]
    }
   ],
   "source": [
    "rows=5\n",
    "p=65\n",
    "\n",
    "for i in range(1,rows+1):\n",
    "        for j in range(1,i+1):\n",
    "            print(chr(p),end='')\n",
    "        for j in range(1,(2*rows-2*i)+1):\n",
    "            print(\" \",end='')\n",
    "        for j in range(1,i+1):\n",
    "            print(chr(p),end='')\n",
    "        p+=1\n",
    "        print()\n",
    "        \n",
    "        \n",
    "for i in range(rows-1,0,-1):\n",
    "    for j in range(1,i+1):\n",
    "        print(chr(p),end='')\n",
    "    for j in range(1,(2*rows-2*i)+1):\n",
    "        print(' ',end='')\n",
    "    for j in range(1,i+1):\n",
    "        print(chr(p),end='')\n",
    "    p+=1\n",
    "    print()\n",
    "        "
   ]
  },
  {
   "cell_type": "code",
   "execution_count": 13,
   "id": "71a3f571",
   "metadata": {},
   "outputs": [],
   "source": [
    "# <17>\n",
    "\n",
    "# pattern: Diamond\n",
    "# character: incrementing rows and decrementing rows"
   ]
  },
  {
   "cell_type": "code",
   "execution_count": 14,
   "id": "0a3fcb4c",
   "metadata": {},
   "outputs": [
    {
     "name": "stdout",
     "output_type": "stream",
     "text": [
      "     A\n",
      "    BBB\n",
      "   CCCCC\n",
      "  DDDDDDD\n",
      " EEEEEEEEE\n",
      "  DDDDDDD\n",
      "   CCCCC\n",
      "    BBB\n",
      "     A\n"
     ]
    }
   ],
   "source": [
    "n=5\n",
    "p=65\n",
    "\n",
    "for i in range(n-1):\n",
    "    for j in range(i,n):\n",
    "        print(' ',end='')\n",
    "    for j in range(i):\n",
    "        print(chr(p),end='')\n",
    "    for j in range(i+1):\n",
    "        print(chr(p),end='')\n",
    "    p+=1\n",
    "    print()\n",
    "    \n",
    "for i in range(n):\n",
    "    for j in range(i+1):\n",
    "        print(' ',end='')\n",
    "    for j in range(i+1,n):\n",
    "        print(chr(p),end='')\n",
    "    for j in range(i,n):\n",
    "        print(chr(p),end='')\n",
    "    p-=1\n",
    "    print()"
   ]
  },
  {
   "cell_type": "code",
   "execution_count": 15,
   "id": "10337de2",
   "metadata": {},
   "outputs": [],
   "source": [
    "# <18>\n",
    "\n",
    "# pattern: Right triangle\n",
    "# character: change in column characters"
   ]
  },
  {
   "cell_type": "code",
   "execution_count": 5,
   "id": "92b45ed1",
   "metadata": {},
   "outputs": [
    {
     "name": "stdout",
     "output_type": "stream",
     "text": [
      "A\n",
      "AB\n",
      "ABC\n",
      "ABCD\n",
      "ABCDE\n"
     ]
    }
   ],
   "source": [
    "n=5\n",
    "\n",
    "\n",
    "for i in range(n):              # --------> rows\n",
    "    p=65\n",
    "    for j in range(i+1):        # --------> columns\n",
    "        print(chr(p),end='')\n",
    "        p+=1\n",
    "    \n",
    "    print()"
   ]
  },
  {
   "cell_type": "code",
   "execution_count": 6,
   "id": "9bac01cc",
   "metadata": {},
   "outputs": [],
   "source": [
    "# <19>\n",
    "\n",
    "# pattern:Left triangle \n",
    "# character:change in column characters"
   ]
  },
  {
   "cell_type": "code",
   "execution_count": 8,
   "id": "afffe097",
   "metadata": {},
   "outputs": [
    {
     "name": "stdout",
     "output_type": "stream",
     "text": [
      "ABCDE\n",
      " ABCD\n",
      "  ABC\n",
      "   AB\n",
      "    A\n"
     ]
    }
   ],
   "source": [
    "n=5\n",
    "\n",
    "for i in range(n):\n",
    "    p=65\n",
    "    for j in range(i):\n",
    "        print(' ',end='')\n",
    "    for j in range(i,n):\n",
    "        print(chr(p),end='')\n",
    "        p+=1\n",
    "    print()"
   ]
  },
  {
   "cell_type": "code",
   "execution_count": 1,
   "id": "ac2195c0",
   "metadata": {},
   "outputs": [],
   "source": [
    "# <20>\n",
    "\n",
    "# pattern: Hill pattern\n",
    "# character: Incrementing columns"
   ]
  },
  {
   "cell_type": "code",
   "execution_count": 3,
   "id": "f7ff777c",
   "metadata": {},
   "outputs": [
    {
     "name": "stdout",
     "output_type": "stream",
     "text": [
      "     A\n",
      "    ABC\n",
      "   ABCDE\n",
      "  ABCDEFG\n",
      " ABCDEFGHI\n"
     ]
    }
   ],
   "source": [
    "n=5\n",
    "\n",
    "for i in range(n):              # rows\n",
    "    p=65\n",
    "    for j in range(i,n):        # columns\n",
    "        print(' ',end='')\n",
    "    for j in range(i):\n",
    "        print(chr(p),end='')\n",
    "        p+=1\n",
    "    for j in range(i+1):\n",
    "        print(chr(p),end='')\n",
    "        p+=1\n",
    "    print()"
   ]
  },
  {
   "cell_type": "code",
   "execution_count": 4,
   "id": "661003af",
   "metadata": {},
   "outputs": [],
   "source": [
    "# <21>\n",
    "\n",
    "# pattern: Diamond\n",
    "# character: Incrementing columns"
   ]
  },
  {
   "cell_type": "code",
   "execution_count": 6,
   "id": "f06c3636",
   "metadata": {},
   "outputs": [
    {
     "name": "stdout",
     "output_type": "stream",
     "text": [
      "     A\n",
      "    ABC\n",
      "   ABCDE\n",
      "  ABCDEFG\n",
      " ABCDEFGHI\n",
      "  ABCDEFG\n",
      "   ABCDE\n",
      "    ABC\n",
      "     A\n"
     ]
    }
   ],
   "source": [
    "n=5\n",
    "\n",
    "for i in range(n-1):\n",
    "    p=65\n",
    "    for j in range(i,n):\n",
    "        print(' ',end='')\n",
    "    for j in range(i):\n",
    "        print(chr(p),end='')\n",
    "        p+=1\n",
    "    for j in range(i+1):\n",
    "        print(chr(p),end='')\n",
    "        p+=1\n",
    "    print()\n",
    "    \n",
    "for i in range(n):\n",
    "    p=65\n",
    "    for j in range(i+1):\n",
    "        print(' ',end='')\n",
    "    for j in range(i+1,n):\n",
    "        print(chr(p),end='')\n",
    "        p+=1\n",
    "    for j in range(i,n):\n",
    "        print(chr(p),end='')\n",
    "        p+=1\n",
    "    print()"
   ]
  },
  {
   "cell_type": "code",
   "execution_count": 7,
   "id": "fbfedde8",
   "metadata": {},
   "outputs": [],
   "source": [
    "# <22>       \n",
    "\n",
    "# pattern: Butterfly\n",
    "# character: Incrementing columns"
   ]
  },
  {
   "cell_type": "code",
   "execution_count": 15,
   "id": "f21a70c3",
   "metadata": {},
   "outputs": [
    {
     "name": "stdout",
     "output_type": "stream",
     "text": [
      "A        B\n",
      "AB      CD\n",
      "ABC    DEF\n",
      "ABCD  EFGH\n",
      "ABCDEFGHIJ\n",
      "ABCD  EFGH\n",
      "ABC    DEF\n",
      "AB      CD\n",
      "A        B\n"
     ]
    }
   ],
   "source": [
    "rows=5     ######\n",
    "    \n",
    "for i in range(1,rows+1):\n",
    "    p=65\n",
    "    for j in range(1,i+1):\n",
    "        print(chr(p),end='')\n",
    "        p+=1\n",
    "    for j in range(1,(2*rows-2*i)+1):\n",
    "        print(\" \",end='')\n",
    "    for j in range(1,i+1):\n",
    "        print(chr(p),end='')\n",
    "        p+=1\n",
    "    print()\n",
    "        \n",
    "        \n",
    "for i in range(rows-1,0,-1):\n",
    "    p=65\n",
    "    for j in range(1,i+1):\n",
    "        print(chr(p),end='')\n",
    "        p+=1\n",
    "    for j in range(1,(2*rows-2*i)+1):\n",
    "        print(' ',end='')\n",
    "    for j in range(1,i+1):\n",
    "        print(chr(p),end='')\n",
    "        p+=1\n",
    "    print()"
   ]
  },
  {
   "cell_type": "code",
   "execution_count": 16,
   "id": "d080d8a4",
   "metadata": {},
   "outputs": [],
   "source": [
    "# <23>\n",
    "\n",
    "# pattern:  Right triangle\n",
    "# character: Starting character is same"
   ]
  },
  {
   "cell_type": "code",
   "execution_count": 18,
   "id": "39a5bbd1",
   "metadata": {},
   "outputs": [
    {
     "name": "stdout",
     "output_type": "stream",
     "text": [
      "E\n",
      "ED\n",
      "EDC\n",
      "EDCB\n",
      "EDCBA\n"
     ]
    }
   ],
   "source": [
    "n=5\n",
    "\n",
    "for i in range(n):\n",
    "    p=69\n",
    "    for j in range(i+1):\n",
    "        print(chr(p),end='')\n",
    "        p-=1\n",
    "    print()"
   ]
  },
  {
   "cell_type": "code",
   "execution_count": 19,
   "id": "b186319c",
   "metadata": {},
   "outputs": [],
   "source": [
    "# <24>\n",
    "\n",
    "# pattern: Left triangle\n",
    "# character:Ending character is same "
   ]
  },
  {
   "cell_type": "code",
   "execution_count": 27,
   "id": "fede32bb",
   "metadata": {},
   "outputs": [
    {
     "name": "stdout",
     "output_type": "stream",
     "text": [
      "EDCBA\n",
      " DCBA\n",
      "  CBA\n",
      "   BA\n",
      "    A\n"
     ]
    }
   ],
   "source": [
    "n=5\n",
    "k=69\n",
    "\n",
    "for i in range(n):\n",
    "    p=k\n",
    "    for j in range(i):\n",
    "        print(' ',end='')\n",
    "    for j in range(i,n):\n",
    "        print(chr(p),end='')\n",
    "        p-=1\n",
    "    k-=1\n",
    "    print()"
   ]
  },
  {
   "cell_type": "code",
   "execution_count": 28,
   "id": "207b9d4a",
   "metadata": {},
   "outputs": [],
   "source": [
    "# <25>\n",
    "\n",
    "# pattern: Hill pattern\n",
    "# character:Ending character is same "
   ]
  },
  {
   "cell_type": "code",
   "execution_count": 43,
   "id": "c73dc775",
   "metadata": {},
   "outputs": [
    {
     "name": "stdout",
     "output_type": "stream",
     "text": [
      "     A\n",
      "    ABA\n",
      "   ABCBA\n",
      "  ABCDCBA\n",
      " ABCDEDCBA\n"
     ]
    }
   ],
   "source": [
    "n=5\n",
    "\n",
    "for i in range(n):\n",
    "    p=65\n",
    "    for j in range(i,n):\n",
    "        print(' ',end='')\n",
    "    for j in range(i):\n",
    "        print(chr(p),end='')\n",
    "        p+=1\n",
    "    for j in range(i+1):\n",
    "        print(chr(p),end='')\n",
    "        p-=1\n",
    "    \n",
    "    print()"
   ]
  },
  {
   "cell_type": "code",
   "execution_count": 44,
   "id": "5cdf6c1f",
   "metadata": {},
   "outputs": [],
   "source": [
    "# <26>\n",
    "\n",
    "# pattern: Right triangle\n",
    "# character: Form a pattern with specific word CODER "
   ]
  },
  {
   "cell_type": "code",
   "execution_count": 1,
   "id": "f56aea71",
   "metadata": {},
   "outputs": [
    {
     "name": "stdout",
     "output_type": "stream",
     "text": [
      "C\n",
      "OO\n",
      "DDD\n",
      "EEEE\n",
      "RRRRR\n"
     ]
    }
   ],
   "source": [
    "s=\"CODER\"\n",
    "n=len(s)\n",
    "p=0\n",
    "\n",
    "for i in range(n):\n",
    "    for j in range(i+1):\n",
    "        print(s[p],end='')\n",
    "    p+=1\n",
    "    print()"
   ]
  },
  {
   "cell_type": "code",
   "execution_count": 2,
   "id": "0b837ebc",
   "metadata": {},
   "outputs": [],
   "source": [
    "# <27>\n",
    "\n",
    "# pattern: Left triangle\n",
    "# character: Form a pattern with specific word CODER"
   ]
  },
  {
   "cell_type": "code",
   "execution_count": 3,
   "id": "e558a33e",
   "metadata": {},
   "outputs": [
    {
     "name": "stdout",
     "output_type": "stream",
     "text": [
      "CCCCC\n",
      " OOOO\n",
      "  DDD\n",
      "   EE\n",
      "    R\n"
     ]
    }
   ],
   "source": [
    "s=\"CODER\"\n",
    "n=len(s)\n",
    "p=0\n",
    "\n",
    "for i in range(n):\n",
    "    for j in range(i):\n",
    "        print(' ',end='')\n",
    "    for j in range(i,n):\n",
    "        print(s[p],end='')\n",
    "    p+=1\n",
    "    print()"
   ]
  },
  {
   "cell_type": "code",
   "execution_count": 4,
   "id": "528490c7",
   "metadata": {},
   "outputs": [],
   "source": [
    "# <28>\n",
    "\n",
    "# pattern: Hill pattern\n",
    "# character: Form a pattern with specific word CODER"
   ]
  },
  {
   "cell_type": "code",
   "execution_count": 5,
   "id": "81dc6778",
   "metadata": {},
   "outputs": [
    {
     "name": "stdout",
     "output_type": "stream",
     "text": [
      "     C\n",
      "    OOO\n",
      "   DDDDD\n",
      "  EEEEEEE\n",
      " RRRRRRRRR\n"
     ]
    }
   ],
   "source": [
    "s=\"CODER\"\n",
    "n=len(s)\n",
    "p=0\n",
    "\n",
    "for i in range(n):\n",
    "    for j in range(i,n):\n",
    "        print(' ',end='')\n",
    "    for j in range(i):\n",
    "        print(s[p],end='')\n",
    "    for j in range(i+1):\n",
    "        print(s[p],end='')\n",
    "    p+=1\n",
    "    print()"
   ]
  },
  {
   "cell_type": "code",
   "execution_count": 6,
   "id": "cdc68058",
   "metadata": {},
   "outputs": [],
   "source": [
    "# <29>\n",
    "\n",
    "# pattern: Right triangle\n",
    "# character: Form a pattern with specific word CODER "
   ]
  },
  {
   "cell_type": "code",
   "execution_count": 8,
   "id": "bdcbfbdb",
   "metadata": {},
   "outputs": [
    {
     "name": "stdout",
     "output_type": "stream",
     "text": [
      "R\n",
      "EE\n",
      "DDD\n",
      "OOOO\n",
      "CCCCC\n"
     ]
    }
   ],
   "source": [
    "s=\"CODER\"\n",
    "n=len(s)\n",
    "p=n-1\n",
    "\n",
    "for i in range(n):\n",
    "    for j in range(i+1):\n",
    "        print(s[p],end='')\n",
    "    p-=1\n",
    "    print()"
   ]
  },
  {
   "cell_type": "code",
   "execution_count": 9,
   "id": "5224bdb3",
   "metadata": {},
   "outputs": [],
   "source": [
    "# <30>\n",
    "\n",
    "# pattern: Left triangle\n",
    "# character: Form a pattern with specific word CODER"
   ]
  },
  {
   "cell_type": "code",
   "execution_count": 10,
   "id": "16cbdcce",
   "metadata": {},
   "outputs": [
    {
     "name": "stdout",
     "output_type": "stream",
     "text": [
      "RRRRR\n",
      " EEEE\n",
      "  DDD\n",
      "   OO\n",
      "    C\n"
     ]
    }
   ],
   "source": [
    "s=\"CODER\"\n",
    "n=len(s)\n",
    "p=n-1\n",
    "\n",
    "for i in range(n):\n",
    "    for j in range(i):\n",
    "        print(' ',end='')\n",
    "    for j in range(i,n):\n",
    "        print(s[p],end='')\n",
    "    p-=1\n",
    "    print()"
   ]
  },
  {
   "cell_type": "code",
   "execution_count": 11,
   "id": "e95d46fd",
   "metadata": {},
   "outputs": [],
   "source": [
    "# <31>\n",
    "\n",
    "# pattern: Hill pattern\n",
    "# character: Form a pattern with specific word CODER"
   ]
  },
  {
   "cell_type": "code",
   "execution_count": 13,
   "id": "ef320279",
   "metadata": {},
   "outputs": [
    {
     "name": "stdout",
     "output_type": "stream",
     "text": [
      "     R\n",
      "    EEE\n",
      "   DDDDD\n",
      "  OOOOOOO\n",
      " CCCCCCCCC\n"
     ]
    }
   ],
   "source": [
    "s=\"CODER\"\n",
    "n=len(s)\n",
    "p=n-1\n",
    "\n",
    "for i in range(n):\n",
    "    for j in range(i,n):\n",
    "        print(' ',end='')\n",
    "    for j in range(i):\n",
    "        print(s[p],end='')\n",
    "    for j in range(i+1):\n",
    "        print(s[p],end='')\n",
    "    p-=1\n",
    "    print()"
   ]
  },
  {
   "cell_type": "code",
   "execution_count": 14,
   "id": "59ae1897",
   "metadata": {},
   "outputs": [],
   "source": [
    "# <32>\n",
    "\n",
    "# pattern: Right triangle\n",
    "# character: Form a pattern with specific word CODER "
   ]
  },
  {
   "cell_type": "code",
   "execution_count": 17,
   "id": "68f34179",
   "metadata": {},
   "outputs": [
    {
     "name": "stdout",
     "output_type": "stream",
     "text": [
      "C\n",
      "CO\n",
      "COD\n",
      "CODE\n",
      "CODER\n"
     ]
    }
   ],
   "source": [
    "s=\"CODER\"\n",
    "n=len(s)\n",
    "\n",
    "for i in range(n):                 # rows\n",
    "    p=0\n",
    "    for j in range(i+1):           # columns\n",
    "        print(s[p],end='')\n",
    "        p+=1\n",
    "    print()"
   ]
  },
  {
   "cell_type": "code",
   "execution_count": 18,
   "id": "8daa2cb3",
   "metadata": {},
   "outputs": [],
   "source": [
    "# <33>\n",
    "\n",
    "# pattern: Left triangle\n",
    "# character: Form a pattern with specific word CODER"
   ]
  },
  {
   "cell_type": "code",
   "execution_count": 19,
   "id": "14996250",
   "metadata": {},
   "outputs": [
    {
     "name": "stdout",
     "output_type": "stream",
     "text": [
      "CODER\n",
      " CODE\n",
      "  COD\n",
      "   CO\n",
      "    C\n"
     ]
    }
   ],
   "source": [
    "s=\"CODER\"\n",
    "n=len(s)\n",
    "\n",
    "for i in range(n):\n",
    "    p=0\n",
    "    for j in range(i):\n",
    "        print(' ',end='')\n",
    "    for j in range(i,n):\n",
    "        print(s[p],end='')\n",
    "        p+=1\n",
    "    print()"
   ]
  },
  {
   "cell_type": "code",
   "execution_count": 20,
   "id": "687f2b7c",
   "metadata": {},
   "outputs": [],
   "source": [
    "# <34>\n",
    "\n",
    "# pattern: Right triangle\n",
    "# character: Form a pattern with specific word CODER (Starting character is same)"
   ]
  },
  {
   "cell_type": "code",
   "execution_count": 21,
   "id": "e406cdc0",
   "metadata": {},
   "outputs": [
    {
     "name": "stdout",
     "output_type": "stream",
     "text": [
      "R\n",
      "RE\n",
      "RED\n",
      "REDO\n",
      "REDOC\n"
     ]
    }
   ],
   "source": [
    "s=\"CODER\"\n",
    "n=len(s)\n",
    "\n",
    "for i in range(n):                 # rows\n",
    "    p=n-1\n",
    "    for j in range(i+1):           # columns\n",
    "        print(s[p],end='')\n",
    "        p-=1\n",
    "    print()"
   ]
  },
  {
   "cell_type": "code",
   "execution_count": 22,
   "id": "5a347925",
   "metadata": {},
   "outputs": [],
   "source": [
    "# <35>\n",
    "\n",
    "# pattern: Left triangle\n",
    "# character: Form a pattern with specific word CODER (Ending character is same)"
   ]
  },
  {
   "cell_type": "code",
   "execution_count": 7,
   "id": "a57a54c3",
   "metadata": {},
   "outputs": [
    {
     "name": "stdout",
     "output_type": "stream",
     "text": [
      "REDOC\n",
      " EDOC\n",
      "  DOC\n",
      "   OC\n",
      "    C\n"
     ]
    }
   ],
   "source": [
    "s=\"CODER\"\n",
    "n=len(s)\n",
    "k=n-1\n",
    "\n",
    "for i in range(n):             # rows\n",
    "    p=k\n",
    "    for j in range(i):         # columns\n",
    "        print(' ',end='')\n",
    "    for j in range(i,n):\n",
    "        print(s[p],end='')\n",
    "        p-=1\n",
    "    k-=1\n",
    "    print()"
   ]
  },
  {
   "cell_type": "markdown",
   "id": "505af80a",
   "metadata": {},
   "source": [
    "# Star pattern program ( Using while loop )"
   ]
  },
  {
   "cell_type": "code",
   "execution_count": 2,
   "id": "295bbb85",
   "metadata": {},
   "outputs": [
    {
     "name": "stdout",
     "output_type": "stream",
     "text": [
      "Enter a number : 5\n",
      "    * \n",
      "   * * \n",
      "  * * * \n",
      " * * * * \n",
      "* * * * * \n"
     ]
    }
   ],
   "source": [
    "num=int(input(\"Enter a number : \"))\n",
    "\n",
    "row=0\n",
    "\n",
    "while row<num:\n",
    "    spaces=num-row-1\n",
    "    while spaces>0:\n",
    "        print(' ',end='')\n",
    "        spaces-=1\n",
    "    star=row+1\n",
    "    while star>0:\n",
    "        print('*',end=' ')\n",
    "        star-=1\n",
    "    row+=1\n",
    "    print()                                                                                                                                                                                                                                                                                                                                                                                                                                                                                                                                                                                                                                                                                                                                                                                                                                                                                                                                                                                                                                                                                                                                                              "
   ]
  },
  {
   "cell_type": "code",
   "execution_count": null,
   "id": "e02ac187",
   "metadata": {},
   "outputs": [],
   "source": []
  }
 ],
 "metadata": {
  "kernelspec": {
   "display_name": "Python 3 (ipykernel)",
   "language": "python",
   "name": "python3"
  },
  "language_info": {
   "codemirror_mode": {
    "name": "ipython",
    "version": 3
   },
   "file_extension": ".py",
   "mimetype": "text/x-python",
   "name": "python",
   "nbconvert_exporter": "python",
   "pygments_lexer": "ipython3",
   "version": "3.7.7"
  }
 },
 "nbformat": 4,
 "nbformat_minor": 5
}
