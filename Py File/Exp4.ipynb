{
 "cells": [
  {
   "cell_type": "markdown",
   "metadata": {},
   "source": [
    "Develop a program that accepts usernames from users and stores them in a set. Ensure that no duplicate usernames are allowed"
   ]
  },
  {
   "cell_type": "code",
   "execution_count": 1,
   "metadata": {},
   "outputs": [
    {
     "name": "stdout",
     "output_type": "stream",
     "text": [
      "['reavi', 'karan', 'karan', 'anju']\n",
      "{'anju', 'reavi', 'karan'}\n"
     ]
    }
   ],
   "source": [
    "usernames=[] \n",
    "n=int(input(\"Enter the number of username :\")) \n",
    "for i in range(n): \n",
    "    username=input(\"Enter username :\") \n",
    "    usernames.append(username) \n",
    "print(usernames)\n",
    "set1=set(usernames)\n",
    "print(set1)\n"
   ]
  },
  {
   "cell_type": "markdown",
   "metadata": {},
   "source": [
    "Write a script to find common elements between two sets of integers and display them."
   ]
  },
  {
   "cell_type": "code",
   "execution_count": 2,
   "metadata": {},
   "outputs": [
    {
     "name": "stdout",
     "output_type": "stream",
     "text": [
      "{40, 50, 60}\n"
     ]
    }
   ],
   "source": [
    "s1={10,20,30,40,50,60}\n",
    "s2={40,50,60,70,80,90,100}\n",
    "print(s1.intersection(s2))"
   ]
  },
  {
   "cell_type": "markdown",
   "metadata": {},
   "source": [
    "Implement a program that performs set operations such as union, intersection, and difference between two sets of strings."
   ]
  },
  {
   "cell_type": "code",
   "execution_count": 9,
   "metadata": {},
   "outputs": [
    {
     "name": "stdout",
     "output_type": "stream",
     "text": [
      "{1, 2, 3, 4, 5, 6, 7, 8, 9, 11, 12, 16, 17}\n",
      "{3, 4, 6, 16, 17}\n",
      "{11, 12, 5}\n",
      "{3, 4, 5, 6, 7, 8, 11, 12, 16, 17}\n",
      "The students dont play any game.\n",
      "{10, 18, 13, 14}\n"
     ]
    }
   ],
   "source": [
    "cricket={1,2,5,7,8,9,11,12}\n",
    "football={3,4,5,6,7,8,11,12,16,17}\n",
    "basketball={2,3,4,6,7,8,15,16,17,19,20}\n",
    "#who plays football and cricket\n",
    "print(cricket.union(football))\n",
    "#who plays football but not cricket\n",
    "print(football.difference(cricket))\n",
    "#who plays football but not basketball\n",
    "print(football.difference(basketball))\n",
    "#count the students who plays at least two games\n",
    "s1=cricket.intersection(football)\n",
    "s2=football.intersection(basketball)\n",
    "print(s1.union(s2))\n",
    "#find the students who dont play any game\n",
    "set1=cricket.union(football)\n",
    "set2=set1.union(basketball)\n",
    "print(\"The students dont play any game.\")\n",
    "set3=set(range(1,21))\n",
    "print(set3.difference(set2))"
   ]
  },
  {
   "cell_type": "markdown",
   "metadata": {},
   "source": [
    "Create a shopping list program that allows users to add, remove, and update items. Use a list to store the items."
   ]
  },
  {
   "cell_type": "code",
   "execution_count": null,
   "metadata": {},
   "outputs": [],
   "source": []
  },
  {
   "cell_type": "markdown",
   "metadata": {},
   "source": [
    "Write a script that reads a list of numbers, sorts them in ascending order, and prints the sorted list."
   ]
  },
  {
   "cell_type": "code",
   "execution_count": 14,
   "metadata": {},
   "outputs": [
    {
     "name": "stdout",
     "output_type": "stream",
     "text": [
      "Sorted list :\n",
      "[2, 13, 21, 23, 47, 53, 64]\n"
     ]
    }
   ],
   "source": [
    "list1=[2,47,21,53,64,23,13]\n",
    "print(\"Sorted list :\")\n",
    "list2=sorted(list1)\n",
    "print(list2)"
   ]
  },
  {
   "cell_type": "markdown",
   "metadata": {},
   "source": [
    "Implement a program that uses list comprehension to generate a list of squares of numbers from 1 to 10."
   ]
  },
  {
   "cell_type": "code",
   "execution_count": 3,
   "metadata": {},
   "outputs": [
    {
     "name": "stdout",
     "output_type": "stream",
     "text": [
      "[1, 4, 9, 16, 25, 36, 49, 64, 81, 100]\n"
     ]
    }
   ],
   "source": [
    "list2=[i**2 for i in range(1,11)]\n",
    "print(list2)"
   ]
  },
  {
   "cell_type": "markdown",
   "metadata": {},
   "source": [
    "Develop a program to store and manipulate coordinates (x, y) using tuples. Implement operations such as addition and subtraction of coordinates."
   ]
  },
  {
   "cell_type": "code",
   "execution_count": 5,
   "metadata": {},
   "outputs": [
    {
     "name": "stdout",
     "output_type": "stream",
     "text": [
      "(5, 10)\n",
      "(1, 0)\n"
     ]
    }
   ],
   "source": [
    "def add_coordinates(a, b):\n",
    "    x1, y1 = a\n",
    "    x2, y2 = b\n",
    "    result_x = x1 + x2\n",
    "    result_y = y1 + y2\n",
    "    return result_x, result_y\n",
    "\n",
    "def subtract_coordinates(a, b):\n",
    "    x1, y1 = a\n",
    "    x2, y2 = b\n",
    "    result_x = x1 - x2\n",
    "    result_y = y1 - y2\n",
    "    return result_x, result_y\n",
    "\n",
    "a = (3, 5)\n",
    "b = (2, 5)\n",
    "\n",
    "print(add_coordinates(a,b))\n",
    "print(subtract_coordinates(a,b))"
   ]
  },
  {
   "cell_type": "markdown",
   "metadata": {},
   "source": [
    "Write a script that uses tuples to store configuration settings for an application. Ensure that the settings cannot be modified once initialized."
   ]
  },
  {
   "cell_type": "code",
   "execution_count": 12,
   "metadata": {},
   "outputs": [
    {
     "name": "stdout",
     "output_type": "stream",
     "text": [
      "(10, 39, 25, 33, 52, 15)\n"
     ]
    },
    {
     "ename": "AttributeError",
     "evalue": "'tuple' object has no attribute 'remove'",
     "output_type": "error",
     "traceback": [
      "\u001b[1;31m---------------------------------------------------------------------------\u001b[0m",
      "\u001b[1;31mAttributeError\u001b[0m                            Traceback (most recent call last)",
      "Cell \u001b[1;32mIn[12], line 4\u001b[0m\n\u001b[0;32m      2\u001b[0m \u001b[38;5;28mprint\u001b[39m(tup)\n\u001b[0;32m      3\u001b[0m \u001b[38;5;66;03m#tuple cannot be changed or modified because it is immutable data structure.\u001b[39;00m\n\u001b[1;32m----> 4\u001b[0m \u001b[43mtup\u001b[49m\u001b[38;5;241;43m.\u001b[39;49m\u001b[43mremove\u001b[49m(\u001b[38;5;241m10\u001b[39m)\n\u001b[0;32m      5\u001b[0m tup\u001b[38;5;241m.\u001b[39msort()\n\u001b[0;32m      6\u001b[0m tup\u001b[38;5;241m.\u001b[39mpop()\n",
      "\u001b[1;31mAttributeError\u001b[0m: 'tuple' object has no attribute 'remove'"
     ]
    }
   ],
   "source": [
    "tup=(10,39,25,33,52,15)\n",
    "print(tup)\n",
    "#tuple cannot be changed or modified because it is immutable data structure.\n",
    "tup.remove(10)\n",
    "tup.sort()\n",
    "tup.pop()\n",
    "tup.insert(3,39)"
   ]
  }
 ],
 "metadata": {
  "kernelspec": {
   "display_name": "Python 3",
   "language": "python",
   "name": "python3"
  },
  "language_info": {
   "codemirror_mode": {
    "name": "ipython",
    "version": 3
   },
   "file_extension": ".py",
   "mimetype": "text/x-python",
   "name": "python",
   "nbconvert_exporter": "python",
   "pygments_lexer": "ipython3",
   "version": "3.12.5"
  }
 },
 "nbformat": 4,
 "nbformat_minor": 2
}
