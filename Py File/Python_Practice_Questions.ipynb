{
  "nbformat": 4,
  "nbformat_minor": 0,
  "metadata": {
    "colab": {
      "provenance": [],
      "authorship_tag": "ABX9TyNd+TuTHDL6Ink10LjmdTIW",
      "include_colab_link": true
    },
    "kernelspec": {
      "name": "python3",
      "display_name": "Python 3"
    },
    "language_info": {
      "name": "python"
    }
  },
  "cells": [
    {
      "cell_type": "markdown",
      "metadata": {
        "id": "view-in-github",
        "colab_type": "text"
      },
      "source": [
        "<a href=\"https://colab.research.google.com/github/Chinuaoku/My-Python-Practice/blob/main/Python_Practice_Questions.ipynb\" target=\"_parent\"><img src=\"https://colab.research.google.com/assets/colab-badge.svg\" alt=\"Open In Colab\"/></a>"
      ]
    },
    {
      "cell_type": "markdown",
      "source": [],
      "metadata": {
        "id": "JVv85p7uAhE6"
      }
    },
    {
      "cell_type": "markdown",
      "source": [
        "* Write a program which will find all such numbers which are divisible by 7 but are not a multiple of 5, between 2000 and 3200 (both included).The numbers obtained should be printed in a comma-separated sequence on a single line."
      ],
      "metadata": {
        "id": "h6W2BMXmAjSS"
      }
    },
    {
      "cell_type": "code",
      "source": [
        "nums = []\n",
        "for i in range(2000,3201):\n",
        "    if i % 7 == 0 and i % 5 != 0:\n",
        "        nums.append(i)\n",
        "print(nums)\n",
        "print(len(nums))"
      ],
      "metadata": {
        "colab": {
          "base_uri": "https://localhost:8080/"
        },
        "id": "NBGZGfGiYac4",
        "outputId": "36a446c7-c369-4384-be4b-8c271ac6cd28"
      },
      "execution_count": null,
      "outputs": [
        {
          "output_type": "stream",
          "name": "stdout",
          "text": [
            "[2002, 2009, 2016, 2023, 2037, 2044, 2051, 2058, 2072, 2079, 2086, 2093, 2107, 2114, 2121, 2128, 2142, 2149, 2156, 2163, 2177, 2184, 2191, 2198, 2212, 2219, 2226, 2233, 2247, 2254, 2261, 2268, 2282, 2289, 2296, 2303, 2317, 2324, 2331, 2338, 2352, 2359, 2366, 2373, 2387, 2394, 2401, 2408, 2422, 2429, 2436, 2443, 2457, 2464, 2471, 2478, 2492, 2499, 2506, 2513, 2527, 2534, 2541, 2548, 2562, 2569, 2576, 2583, 2597, 2604, 2611, 2618, 2632, 2639, 2646, 2653, 2667, 2674, 2681, 2688, 2702, 2709, 2716, 2723, 2737, 2744, 2751, 2758, 2772, 2779, 2786, 2793, 2807, 2814, 2821, 2828, 2842, 2849, 2856, 2863, 2877, 2884, 2891, 2898, 2912, 2919, 2926, 2933, 2947, 2954, 2961, 2968, 2982, 2989, 2996, 3003, 3017, 3024, 3031, 3038, 3052, 3059, 3066, 3073, 3087, 3094, 3101, 3108, 3122, 3129, 3136, 3143, 3157, 3164, 3171, 3178, 3192, 3199]\n",
            "138\n"
          ]
        }
      ]
    },
    {
      "cell_type": "markdown",
      "source": [
        "* Write a python script that requires year of birth input from a user and returns the users age"
      ],
      "metadata": {
        "id": "9H1Z8FJlvxVx"
      }
    },
    {
      "cell_type": "code",
      "source": [
        "yob = int(input(\"Enter your year of birth: \"))\n",
        "age = 2025 - yob\n",
        "print('Your age is:', age)"
      ],
      "metadata": {
        "colab": {
          "base_uri": "https://localhost:8080/"
        },
        "id": "tLmStkujwCbq",
        "outputId": "cfedceb5-4c95-48c2-caaa-31744fdf9b48"
      },
      "execution_count": null,
      "outputs": [
        {
          "output_type": "stream",
          "name": "stdout",
          "text": [
            "Enter your year of birth: 1992\n",
            "Your age is: 33\n"
          ]
        }
      ]
    },
    {
      "cell_type": "code",
      "source": [
        "from datetime import datetime\n",
        "year = datetime.now().year\n",
        "yob = int(input(\"Enter your year of birth: \"))\n",
        "age = year - yob\n",
        "print('Your age is:', age)"
      ],
      "metadata": {
        "colab": {
          "base_uri": "https://localhost:8080/"
        },
        "id": "K4eHt6afP8Ge",
        "outputId": "2ba09933-dabb-4949-9085-b85d8b978ee7"
      },
      "execution_count": null,
      "outputs": [
        {
          "output_type": "stream",
          "name": "stdout",
          "text": [
            "Enter your year of birth: 1992\n",
            "Your age is: 33\n"
          ]
        }
      ]
    },
    {
      "cell_type": "markdown",
      "source": [
        "* Write a program that requests for a username and password from the user  and returns the message Hello username, your passowrd is ***** and the password length is ----"
      ],
      "metadata": {
        "id": "7G_7WdtshVs5"
      }
    },
    {
      "cell_type": "code",
      "source": [
        "username = str(input('Enter your username: '))\n",
        "password = len(input('Enter your password: '))\n",
        "x = password * ('*')\n",
        "print('Hello ', username, 'your password is', x, 'and the password length is', password)"
      ],
      "metadata": {
        "colab": {
          "base_uri": "https://localhost:8080/"
        },
        "id": "NB0DKmgwhY1g",
        "outputId": "87a5dbcb-defe-44d4-ea05-a825a606f66b"
      },
      "execution_count": null,
      "outputs": [
        {
          "output_type": "stream",
          "name": "stdout",
          "text": [
            "Enter your username: Chinua\n",
            "Enter your password: asdfg\n",
            "Hello  Chinua your password is ***** and the password length is 5\n"
          ]
        }
      ]
    },
    {
      "cell_type": "markdown",
      "source": [
        "* Return this array with no duplicates\n",
        "\n",
        "\n",
        "my_array = [1,2,3,4,5,6,7,6,,5,2,7]"
      ],
      "metadata": {
        "id": "-GKJjFdSGQ3O"
      }
    },
    {
      "cell_type": "code",
      "source": [
        "my_array = [1,2,3,4,5,6,7,6,5,2,7,7,8,6,1,1,4,3,2,5,6,7,4,9,8,9,]\n",
        "new_array = []\n",
        "for i in my_array:\n",
        "    if i in new_array: continue\n",
        "    else: new_array.append(i)\n",
        "print(new_array)"
      ],
      "metadata": {
        "colab": {
          "base_uri": "https://localhost:8080/"
        },
        "id": "49UoDQWKGZUf",
        "outputId": "b1545888-680f-4f8f-e0ba-2c9babc95bfc"
      },
      "execution_count": null,
      "outputs": [
        {
          "output_type": "stream",
          "name": "stdout",
          "text": [
            "[1, 2, 3, 4, 5, 6, 7, 8, 9]\n"
          ]
        }
      ]
    },
    {
      "cell_type": "markdown",
      "source": [
        "* is_magician = True\n",
        "* is_expert = False\n",
        "\n",
        "write a program that checks if a user is a magician and an expert returns You are an expert.\n",
        "if user is a magician but not an expert print at least you tried . If user is not a magician print you need magic powers"
      ],
      "metadata": {
        "id": "MWyFespJpzDw"
      }
    },
    {
      "cell_type": "code",
      "source": [
        "a = 'magician'\n",
        "b = 'expert'\n",
        "user = input('what is your skill: ')\n",
        "if user != a:\n",
        "    print('You need magic powers')\n",
        "elif user == a:\n",
        "    ask_again = input('What is your second skill? : ')\n",
        "    if ask_again == b:\n",
        "        print('You are an expert')\n",
        "    else:\n",
        "        print('At least you tried')\n",
        "\n",
        "\n",
        "\n",
        "\n",
        "\n"
      ],
      "metadata": {
        "colab": {
          "base_uri": "https://localhost:8080/"
        },
        "id": "yVf-411vp14U",
        "outputId": "519ba00b-2e9f-4d44-e098-9d7559b0ec44"
      },
      "execution_count": null,
      "outputs": [
        {
          "output_type": "stream",
          "name": "stdout",
          "text": [
            "what is your skill: magician\n",
            "What is your second skill? : expert\n",
            "You are an expert\n"
          ]
        }
      ]
    },
    {
      "cell_type": "code",
      "source": [
        "is_magician = False\n",
        "is_expert = True\n",
        "\n",
        "if is_magician and is_expert:\n",
        "    print('You are an expert')\n",
        "elif is_magician:\n",
        "    print('At least you tried')\n",
        "elif is_expert:\n",
        "    print('You need magical powers')\n",
        "\n",
        "\n",
        "\n"
      ],
      "metadata": {
        "colab": {
          "base_uri": "https://localhost:8080/"
        },
        "id": "z5R3LJ684wjK",
        "outputId": "a7bcd33b-8409-41bb-b876-050510b247ca"
      },
      "execution_count": null,
      "outputs": [
        {
          "output_type": "stream",
          "name": "stdout",
          "text": [
            "You need magical powers\n"
          ]
        }
      ]
    },
    {
      "cell_type": "code",
      "source": [
        "for i in range(1,10):\n",
        "    y = i * ' *'\n",
        "    print(y.center(20))"
      ],
      "metadata": {
        "colab": {
          "base_uri": "https://localhost:8080/"
        },
        "id": "fGafYb6TAfaX",
        "outputId": "01dacc27-e785-4d56-f871-8fb3aff3c79f"
      },
      "execution_count": null,
      "outputs": [
        {
          "output_type": "stream",
          "name": "stdout",
          "text": [
            "          *         \n",
            "         * *        \n",
            "        * * *       \n",
            "       * * * *      \n",
            "      * * * * *     \n",
            "     * * * * * *    \n",
            "    * * * * * * *   \n",
            "   * * * * * * * *  \n",
            "  * * * * * * * * * \n"
          ]
        }
      ]
    },
    {
      "cell_type": "markdown",
      "source": [
        "* Build a simple counter that counts the items in our list, and sum the list using a for loop."
      ],
      "metadata": {
        "id": "2i1ZxbJEZp7Y"
      }
    },
    {
      "cell_type": "code",
      "source": [
        "sum = 0\n",
        "total_list = 0\n",
        "my_list = [1,2,3,4,5,6,7,8,9,10]\n",
        "for i in my_list:\n",
        "    total_list = total_list + 1\n",
        "    sum = sum + i\n",
        "print(total_list, sum)"
      ],
      "metadata": {
        "colab": {
          "base_uri": "https://localhost:8080/"
        },
        "id": "C7RE-tWXZ4mW",
        "outputId": "e1e841e1-37ee-43df-b7a7-0250668174a6"
      },
      "execution_count": null,
      "outputs": [
        {
          "output_type": "stream",
          "name": "stdout",
          "text": [
            "10 55\n"
          ]
        }
      ]
    },
    {
      "cell_type": "code",
      "source": [
        "# Check for duplicates in the list\n",
        "\n",
        "alist = ['a' , 'b' , 'c', 'b' ,  'd', 'm', 'n' , 'n']\n",
        "clean = []\n",
        "duplicates = []\n",
        "\n",
        "for item in alist:\n",
        "    #clean.append(item)\n",
        "    if item in clean:\n",
        "        duplicates.append(item)\n",
        "        continue\n",
        "    else:\n",
        "        clean.append(item)\n",
        "print(clean)\n",
        "print(duplicates)"
      ],
      "metadata": {
        "colab": {
          "base_uri": "https://localhost:8080/"
        },
        "id": "Zw7ESY85Mw74",
        "outputId": "b15bf5f8-84ef-4537-ed22-ab4b06d6cbbd"
      },
      "execution_count": null,
      "outputs": [
        {
          "output_type": "stream",
          "name": "stdout",
          "text": [
            "['a', 'b', 'c', 'd', 'm', 'n']\n",
            "['b', 'n']\n"
          ]
        }
      ]
    },
    {
      "cell_type": "markdown",
      "source": [
        "*\n",
        "```\n",
        "age = input(\"What is your age?: \")\n",
        "if int(age) < 18:\n",
        "\tprint(\"Sorry, you are too young to drive this car. Powering off\")\n",
        "elif int(age) > 18:\n",
        "\tprint(\"Powering On. Enjoy the ride!\");\n",
        "elif int(age) == 18:\n",
        "\tprint(\"Congratulations on your first year of driving. Enjoy the ride!\")\n",
        "```\n",
        "\n",
        "1. Wrap the above code in a function called checkDriverAge(). Whenever you call this function, you will get prompted for age.\n",
        " Notice the benefit in having checkDriverAge() instead of copying and pasting the function everytime?\n",
        "\n",
        "2. Instead of using the input(). Now, make the checkDriverAge() function accept an argument of age, so that if you enter:\n",
        "checkDriverAge(92);\n",
        "it returns \"Powering On. Enjoy the ride!\"\n",
        "also make it so that the default age is set to 0 if no argument is given.\n"
      ],
      "metadata": {
        "id": "sW0bQT51pEXN"
      }
    },
    {
      "cell_type": "code",
      "source": [
        "def checkDriverAge(age=0):\n",
        "\n",
        "    #age = input(\"What is your age?: \")\n",
        "    if int(age) < 18:\n",
        "        print(\"Sorry, you are too young to drive this car. Powering off\")\n",
        "    elif int(age) > 18:\n",
        "        print(\"Powering On. Enjoy the ride!\")\n",
        "    elif int(age) == 18:\n",
        "        print(\"Congratulations on your first year of driving. Enjoy the ride!\")\n",
        "\n",
        "checkDriverAge()"
      ],
      "metadata": {
        "colab": {
          "base_uri": "https://localhost:8080/"
        },
        "id": "huEFk7-PrRp3",
        "outputId": "968da328-8dd4-4b13-8dfa-68cc963b7e64"
      },
      "execution_count": null,
      "outputs": [
        {
          "output_type": "stream",
          "name": "stdout",
          "text": [
            "Sorry, you are too young to drive this car. Powering off\n"
          ]
        }
      ]
    },
    {
      "cell_type": "markdown",
      "source": [
        "* Write code using find() and string slicing (see section 6.10) to extract the number at the end of the line below. Convert the extracted value to a floating point number and print it out."
      ],
      "metadata": {
        "id": "gSnf-kAZgCWz"
      }
    },
    {
      "cell_type": "code",
      "source": [
        "text = \"X-DSPAM-Confidence:    0.8475\"\n",
        "x = text.find('0')\n",
        "print(text[x:x+6])"
      ],
      "metadata": {
        "colab": {
          "base_uri": "https://localhost:8080/"
        },
        "id": "5CTc9m5ggGgH",
        "outputId": "269ff3a7-cb6d-4751-93f1-f20816acb957"
      },
      "execution_count": 8,
      "outputs": [
        {
          "output_type": "stream",
          "name": "stdout",
          "text": [
            "0.8475\n"
          ]
        }
      ]
    },
    {
      "cell_type": "code",
      "source": [
        "text = \"X-DSPAM-Confidence:    0.8475\"\n",
        "x = text.find('0')\n",
        "y = text[x:]\n",
        "z = float(y)\n",
        "print(z)"
      ],
      "metadata": {
        "colab": {
          "base_uri": "https://localhost:8080/"
        },
        "id": "XKb4gYmRiJS-",
        "outputId": "a40c5ed6-0320-4202-c4fe-bfe74d6442aa"
      },
      "execution_count": 9,
      "outputs": [
        {
          "output_type": "stream",
          "name": "stdout",
          "text": [
            "0.8475\n"
          ]
        }
      ]
    },
    {
      "cell_type": "markdown",
      "source": [
        "* Write a program that prompts for a file name, then opens that file and reads through the file, looking for lines of the form:\n",
        "X-DSPAM-Confidence:    0.8475\n",
        "Count these lines and extract the floating point values from each of the lines and compute the average of those values and produce an output as shown below. Do not use the sum() function or a variable named sum in your solution.\n",
        "You can download the sample data at http://www.py4e.com/code3/mbox-short.txt when you are testing below enter mbox-short.txt as the file name."
      ],
      "metadata": {
        "id": "ySY674SA_u0_"
      }
    },
    {
      "cell_type": "code",
      "source": [
        "file_name = input(\"Enter file name: \")\n",
        "file = open(file_name, \"r\")\n",
        "total = 0\n",
        "count = 0\n",
        "\n",
        "for line in file:\n",
        "    if line.startswith(\"X-DSPAM-Confidence:\"):\n",
        "        value = float(line.split(\":\")[1].strip())\n",
        "        total += value\n",
        "        count += 1\n",
        "\n",
        "if count > 0:\n",
        "    average = total / count\n",
        "    print(\"Average spam confidence:\", average)"
      ],
      "metadata": {
        "colab": {
          "base_uri": "https://localhost:8080/"
        },
        "id": "uwvwri5A_x6K",
        "outputId": "6ce83920-27ad-43a9-eb22-128a820dba16"
      },
      "execution_count": 1,
      "outputs": [
        {
          "output_type": "stream",
          "name": "stdout",
          "text": [
            "Enter file name: mbox-short.txt\n",
            "Average spam confidence: 0.7507185185185187\n"
          ]
        }
      ]
    }
  ]
}