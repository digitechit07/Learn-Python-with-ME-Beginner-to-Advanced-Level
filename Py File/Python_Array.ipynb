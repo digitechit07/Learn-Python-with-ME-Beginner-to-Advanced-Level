{
 "cells": [
  {
   "cell_type": "code",
   "execution_count": 4,
   "metadata": {},
   "outputs": [
    {
     "name": "stdout",
     "output_type": "stream",
     "text": [
      "Elements of array:\n",
      "1\n",
      "2\n",
      "4\n",
      "5\n",
      "8\n",
      "Access individual elements through indexes:\n",
      "arr[0]: 1\n",
      "arr[1]: 2\n",
      "arr[2]: 4\n",
      "arr[3]: 5\n",
      "arr[4]: 8\n"
     ]
    }
   ],
   "source": [
    "'''Write a Python program to create an array of 5 integers and display the array items. Access individual element through indexes.'''\n",
    "from array import *\n",
    "arr = array('i',[1,2,4,5,8])\n",
    "print(\"Elements of array:\")\n",
    "for i in arr:\n",
    "    print(i)\n",
    "print(\"Access individual elements through indexes:\")\n",
    "print(\"arr[0]: \"+str(arr[0]))\n",
    "print(\"arr[1]: \"+str(arr[1]))\n",
    "print(\"arr[2]: \"+str(arr[2]))\n",
    "print(\"arr[3]: \"+str(arr[3]))\n",
    "print(\"arr[4]: \"+str(arr[4]))"
   ]
  },
  {
   "cell_type": "code",
   "execution_count": 9,
   "metadata": {},
   "outputs": [
    {
     "name": "stdout",
     "output_type": "stream",
     "text": [
      "arr1: array('i', [8, 9, 6, 7, 5])\n",
      "Updated arr1:array('i', [8, 9, 6, 7, 5, 11])\n"
     ]
    }
   ],
   "source": [
    "'''Write a Python program to append a new item to the end of the array.'''\n",
    "arr1 = array('i',[8,9,6,7,5])\n",
    "print(\"arr1: \"+str(arr1))\n",
    "arr1.append(11)\n",
    "print(\"Updated arr1:\" + str(arr1))"
   ]
  },
  {
   "cell_type": "code",
   "execution_count": 10,
   "metadata": {},
   "outputs": [
    {
     "name": "stdout",
     "output_type": "stream",
     "text": [
      "array('i', [11, 5, 7, 6, 9, 8])\n"
     ]
    }
   ],
   "source": [
    "'''Write a Python program to reverse the order of the items in the array.'''\n",
    "arr1.reverse()\n",
    "print(arr1)"
   ]
  },
  {
   "cell_type": "code",
   "execution_count": 11,
   "metadata": {},
   "outputs": [
    {
     "name": "stdout",
     "output_type": "stream",
     "text": [
      "Length in bytes of one array item: 4\n"
     ]
    }
   ],
   "source": [
    "'''Write a Python program to get the length in bytes of one array item in the internal representation.'''\n",
    "print(\"Length in bytes of one array item: \"+str(arr1.itemsize))"
   ]
  },
  {
   "cell_type": "code",
   "execution_count": 20,
   "metadata": {},
   "outputs": [
    {
     "name": "stdout",
     "output_type": "stream",
     "text": [
      "Current memory address and the length in elements of the buffer: (2109459618048, 6)\n",
      "Size of the memory buffer in bytes: 24\n"
     ]
    }
   ],
   "source": [
    "'''Write a Python program to get the current memory address and the length in elements of the buffer used to hold an array's contents and also find the size of the memory buffer in bytes.'''\n",
    "print(\"Current memory address and the length in elements of the buffer: \"+ str(arr1.buffer_info()))\n",
    "print(\"Size of the memory buffer in bytes: \"+str(arr1.buffer_info()[1]*arr1.itemsize))"
   ]
  },
  {
   "cell_type": "code",
   "execution_count": 22,
   "metadata": {},
   "outputs": [
    {
     "name": "stdout",
     "output_type": "stream",
     "text": [
      "arr2: array('i', [1, 5, 1, 9, 6, 2, 4, 1])\n",
      "Number of ocurrences of number 1 in arr2: 3\n"
     ]
    }
   ],
   "source": [
    "'''Write a Python program to get the number of occurrences of a specified element in an array.'''\n",
    "arr2 = array('i',[1,5,1,9,6,2,4,1])\n",
    "print(\"arr2: \"+str(arr2))\n",
    "print(\"Number of ocurrences of number 1 in arr2: \"+str(arr2.count(1)))"
   ]
  },
  {
   "cell_type": "code",
   "execution_count": 23,
   "metadata": {},
   "outputs": [
    {
     "name": "stdout",
     "output_type": "stream",
     "text": [
      "arr3: array('i', [5, 4, 7, 9, 6])\n",
      "Extended arr3:array('i', [5, 4, 7, 9, 6, 5, 4, 7, 9, 6])\n"
     ]
    }
   ],
   "source": [
    "'''Write a Python program to append items from inerrable to the end of the array.'''\n",
    "arr3 = array('i',[5,4,7,9,6])\n",
    "print(\"arr3: \"+str(arr3))\n",
    "arr3.extend(arr3)\n",
    "print(\"Extended arr3:\"+str(arr3))"
   ]
  },
  {
   "cell_type": "code",
   "execution_count": 27,
   "metadata": {},
   "outputs": [
    {
     "name": "stdout",
     "output_type": "stream",
     "text": [
      "Append items from the list:\n",
      "arr4: array('i', [56, 1, 5, 9, 7, 6])\n"
     ]
    }
   ],
   "source": [
    "'''Write a Python program to append items from a specified list. '''\n",
    "num_list = [1,5,9,7,6]\n",
    "arr4 = array('i',[])\n",
    "print(\"Append items from the list:\")\n",
    "arr4.fromlist(num_list)\n",
    "print(\"arr4: \"+ str(arr4))"
   ]
  },
  {
   "cell_type": "code",
   "execution_count": 28,
   "metadata": {},
   "outputs": [
    {
     "name": "stdout",
     "output_type": "stream",
     "text": [
      "Updated arr4: array('i', [56, 92, 1, 5, 9, 7, 6])\n"
     ]
    }
   ],
   "source": [
    "'''Write a Python program to insert a new item before the second element in an existing array.'''\n",
    "arr4.insert(1,92)\n",
    "print(\"Updated arr4: \"+str(arr4))"
   ]
  },
  {
   "cell_type": "code",
   "execution_count": 29,
   "metadata": {},
   "outputs": [
    {
     "name": "stdout",
     "output_type": "stream",
     "text": [
      "arr4: array('i', [56, 92, 1, 5, 9, 7, 6])\n",
      "Updated arr4: array('i', [56, 92, 1, 9, 7, 6])\n"
     ]
    }
   ],
   "source": [
    "'''Write a Python program to remove a specified item using the index from an array.'''\n",
    "print(\"arr4: \"+str(arr4))\n",
    "arr4.pop(3)\n",
    "print(\"Updated arr4: \"+str(arr4))"
   ]
  },
  {
   "cell_type": "code",
   "execution_count": 30,
   "metadata": {},
   "outputs": [
    {
     "name": "stdout",
     "output_type": "stream",
     "text": [
      "arr2: array('i', [1, 5, 1, 9, 6, 2, 4, 1])\n",
      "Remove the first occurrence of 1 from arr2: \n",
      "New arr2: array('i', [5, 1, 9, 6, 2, 4, 1])\n"
     ]
    }
   ],
   "source": [
    "'''Write a Python program to remove the first occurrence of a specified element from an array.'''\n",
    "print(\"arr2: \"+str(arr2))\n",
    "print(\"Remove the first occurrence of 1 from arr2: \")\n",
    "arr2.remove(1)\n",
    "print(\"New arr2: \"+str(arr2))"
   ]
  },
  {
   "cell_type": "code",
   "execution_count": 33,
   "metadata": {},
   "outputs": [
    {
     "name": "stdout",
     "output_type": "stream",
     "text": [
      "arr4: array('i', [56, 92, 1, 9, 7, 6])\n",
      "lst: [56, 92, 1, 9, 7, 6]\n"
     ]
    }
   ],
   "source": [
    "'''Write a Python program to convert an array to an ordinary list with the same items.'''\n",
    "print(\"arr4: \"+str(arr4))\n",
    "lst = arr4.tolist()\n",
    "print(\"lst: \"+str(lst))"
   ]
  },
  {
   "cell_type": "code",
   "execution_count": null,
   "metadata": {},
   "outputs": [],
   "source": []
  }
 ],
 "metadata": {
  "kernelspec": {
   "display_name": "Python 3",
   "language": "python",
   "name": "python3"
  },
  "language_info": {
   "codemirror_mode": {
    "name": "ipython",
    "version": 3
   },
   "file_extension": ".py",
   "mimetype": "text/x-python",
   "name": "python",
   "nbconvert_exporter": "python",
   "pygments_lexer": "ipython3",
   "version": "3.7.6"
  }
 },
 "nbformat": 4,
 "nbformat_minor": 4
}
