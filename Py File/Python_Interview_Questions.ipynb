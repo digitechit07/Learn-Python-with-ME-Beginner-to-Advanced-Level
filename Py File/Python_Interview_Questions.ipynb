{
  "nbformat": 4,
  "nbformat_minor": 0,
  "metadata": {
    "colab": {
      "provenance": []
    },
    "kernelspec": {
      "name": "python3",
      "display_name": "Python 3"
    },
    "language_info": {
      "name": "python"
    }
  },
  "cells": [
    {
      "cell_type": "code",
      "execution_count": null,
      "metadata": {
        "colab": {
          "base_uri": "https://localhost:8080/"
        },
        "id": "wXRiFX3faYcX",
        "outputId": "1521fef6-736c-44b9-f2b7-bfadf773aded"
      },
      "outputs": [
        {
          "output_type": "stream",
          "name": "stdout",
          "text": [
            "6\n",
            "45\n"
          ]
        }
      ],
      "source": [
        "def sum(a): #123 '123' 3\n",
        "\n",
        "  sum=0\n",
        "\n",
        "  for i in range(len(str(a))): #range(3)\n",
        "    digit = a%10 #123%10  #3 #2 #1\n",
        "    sum+=digit #3 #3+2 #3+2+1\n",
        "    a = int(a/10) #12\n",
        "\n",
        "  print(sum)\n",
        "\n",
        "sum(123)\n",
        "\n",
        "sum(123456789)"
      ]
    },
    {
      "cell_type": "code",
      "source": [
        "def factors(b):\n",
        "\n",
        "  for i in range(1,b+1):\n",
        "    if b%i==0:\n",
        "      print(i,end=\" \")\n",
        "  print()\n",
        "\n",
        "factors(12)\n",
        "factors(24)"
      ],
      "metadata": {
        "colab": {
          "base_uri": "https://localhost:8080/"
        },
        "id": "cioZZMlaaxVd",
        "outputId": "1d3e8b14-063f-43b2-aa82-b9d1c20ee71e"
      },
      "execution_count": null,
      "outputs": [
        {
          "output_type": "stream",
          "name": "stdout",
          "text": [
            "1 2 3 4 6 12 \n",
            "1 2 3 4 6 8 12 24 \n"
          ]
        }
      ]
    },
    {
      "cell_type": "code",
      "source": [
        "a = input()\n",
        "\n",
        "list1 = list(map(int,a.split()))\n",
        "\n",
        "sort_list = sorted(list1) #1 24 25  # 1 # 25\n",
        "\n",
        "for i in range(sort_list[0],sort_list[-1]):\n",
        "  if i%2==0:\n",
        "    print(i,end=\" \")"
      ],
      "metadata": {
        "colab": {
          "base_uri": "https://localhost:8080/"
        },
        "id": "Po-51ftZc28x",
        "outputId": "aa45402e-0b17-4d81-bb80-e4b7b95311c9"
      },
      "execution_count": null,
      "outputs": [
        {
          "output_type": "stream",
          "name": "stdout",
          "text": [
            "1 24 25\n",
            "2 4 6 8 10 12 14 16 18 20 22 24 "
          ]
        }
      ]
    },
    {
      "cell_type": "code",
      "source": [
        "def anagram(str1,str2):\n",
        "  if sorted(str1) == sorted(str2):\n",
        "    print(\"the strings are anagrams\")\n",
        "  else:\n",
        "    print(\"the strings are not anagrams\")\n",
        "\n",
        "anagram(\"listen\",\"silent\")\n",
        "\n",
        "anagram(\"school master\",\"the classroom\")"
      ],
      "metadata": {
        "colab": {
          "base_uri": "https://localhost:8080/"
        },
        "id": "dHTWvqqpd5WK",
        "outputId": "608cc444-8a82-461b-8c67-a4fb04864746"
      },
      "execution_count": null,
      "outputs": [
        {
          "output_type": "stream",
          "name": "stdout",
          "text": [
            "the strings are anagrams\n",
            "the strings are anagrams\n"
          ]
        }
      ]
    },
    {
      "cell_type": "code",
      "source": [
        "def greet(user=\"Guest\"):\n",
        "  print(\"Hello,\",user)\n",
        "\n",
        "greet(\"Prashanth\")\n",
        "greet()\n"
      ],
      "metadata": {
        "colab": {
          "base_uri": "https://localhost:8080/"
        },
        "id": "FKded4l8fx_J",
        "outputId": "adb2ca67-3e59-41ea-f0e3-30600255917f"
      },
      "execution_count": null,
      "outputs": [
        {
          "output_type": "stream",
          "name": "stdout",
          "text": [
            "Hello, Prashanth\n",
            "Hello, Guest\n"
          ]
        }
      ]
    },
    {
      "cell_type": "code",
      "source": [
        "def power(base,exponent=2):\n",
        "  return base**exponent\n",
        "\n",
        "\n",
        "power(10,3)\n",
        "power(5)\n",
        "power(2,8)"
      ],
      "metadata": {
        "colab": {
          "base_uri": "https://localhost:8080/"
        },
        "id": "Ov2ZDjSolL_O",
        "outputId": "777db3e8-09ec-49f0-9d2b-32a40d4073a9"
      },
      "execution_count": null,
      "outputs": [
        {
          "output_type": "execute_result",
          "data": {
            "text/plain": [
              "256"
            ]
          },
          "metadata": {},
          "execution_count": 48
        }
      ]
    },
    {
      "cell_type": "code",
      "source": [
        "def multiply(list1,multiplier=1):\n",
        "  sum = 0\n",
        "  for i in list1:\n",
        "    sum+=i\n",
        "  multiplied_sum = multiplier*sum\n",
        "\n",
        "  print(multiplied_sum)\n",
        "\n",
        "multiply([1,2,3],2)\n",
        "\n",
        "multiply([2,3,4],3)\n",
        "\n",
        "multiply([1,4,3])"
      ],
      "metadata": {
        "colab": {
          "base_uri": "https://localhost:8080/"
        },
        "id": "T_HDox0eldr6",
        "outputId": "19d065df-a01d-4cb0-a555-ca5ac9abc6c6"
      },
      "execution_count": null,
      "outputs": [
        {
          "output_type": "stream",
          "name": "stdout",
          "text": [
            "12\n",
            "27\n",
            "8\n"
          ]
        }
      ]
    },
    {
      "cell_type": "code",
      "source": [
        "def log(message,level='INFO'):\n",
        "  print(f\"[{level}],{message}\")\n",
        "\n",
        "log(\"server crashed\")\n",
        "\n",
        "log(\"client request accepted successfully\")\n",
        "\n",
        "log(\"account is in danger\",\"Warning\")"
      ],
      "metadata": {
        "colab": {
          "base_uri": "https://localhost:8080/"
        },
        "id": "pchb-Zc5x57L",
        "outputId": "312f8b55-f470-4c48-cc8d-05bafe6f6df1"
      },
      "execution_count": null,
      "outputs": [
        {
          "output_type": "stream",
          "name": "stdout",
          "text": [
            "[INFO],server crashed\n",
            "[INFO],client request accepted successfully\n",
            "[Warning],account is in danger\n"
          ]
        }
      ]
    },
    {
      "cell_type": "code",
      "source": [
        "def area(length,width=None):\n",
        "  if width:\n",
        "    print(\"Area of rectangle\",length*width)\n",
        "  else:\n",
        "    print(\"Area of square\",length*length)\n",
        "\n",
        "area(5,2)\n",
        "area(5)"
      ],
      "metadata": {
        "id": "qk3BvMgC5qre",
        "colab": {
          "base_uri": "https://localhost:8080/"
        },
        "outputId": "b89b43e0-e652-45f8-cfe5-5de00058060a"
      },
      "execution_count": null,
      "outputs": [
        {
          "output_type": "stream",
          "name": "stdout",
          "text": [
            "Area of rectangle 10\n",
            "Area of square 25\n"
          ]
        }
      ]
    },
    {
      "cell_type": "code",
      "source": [
        "class Rectangle():\n",
        "\n",
        "  def __init__(self,length,width):\n",
        "    self.length=length\n",
        "    self.width=width\n",
        "    print(\"Length is,\",self.length)\n",
        "    print(\"Width is\",self.width)\n",
        "  def perimeter(self):\n",
        "    print(\"The perimeter is :\",2*(self.length+self.width))\n",
        "  def area(self):\n",
        "    print(\"The area is:\",self.length*self.width)\n",
        "\n",
        "r1 = Rectangle(12,2)\n",
        "r1.perimeter()\n",
        "r1.area()\n",
        "\n",
        "r2=Rectangle(12,4)\n",
        "r2.perimeter()\n",
        "r2.area()"
      ],
      "metadata": {
        "colab": {
          "base_uri": "https://localhost:8080/"
        },
        "id": "6YA9Ia70e1sF",
        "outputId": "49e63fd6-84b6-449e-83c8-4b0bc3d6a4a8"
      },
      "execution_count": null,
      "outputs": [
        {
          "output_type": "stream",
          "name": "stdout",
          "text": [
            "Length is, 12\n",
            "Width is 2\n",
            "The perimeter is : 28\n",
            "The area is: 24\n",
            "Length is, 12\n",
            "Width is 4\n",
            "The perimeter is : 32\n",
            "The area is: 48\n"
          ]
        }
      ]
    },
    {
      "cell_type": "code",
      "source": [
        "class BankAccount():\n",
        "  def __init__(self,balance):\n",
        "    self.balance = balance\n",
        "    print(\"Account created with Balance\",self.balance)\n",
        "  def deposit(self,deposit_amount):\n",
        "    self.deposit_amount = deposit_amount\n",
        "    print(self.deposit_amount,\"deposited from\",self.balance)\n",
        "    self.balance = self.balance - self.deposit_amount\n",
        "  def withdraw(self,withdraw_amount):\n",
        "    self.withdraw_amount= withdraw_amount\n",
        "    print(self.withdraw_amount,\"credited to\",self.balance)\n",
        "    self.balance = self.balance + self.withdraw_amount\n",
        "  def get_balance(self):\n",
        "    print(\"Available balance is\",self.balance)\n",
        "\n",
        "b1=BankAccount(1000)\n",
        "b1.deposit(500)\n",
        "b1.withdraw(1500)\n",
        "b1.get_balance()"
      ],
      "metadata": {
        "colab": {
          "base_uri": "https://localhost:8080/"
        },
        "id": "fBuvGG6IiMqm",
        "outputId": "5be86cfe-ded6-4b12-cedd-b141465e19c6"
      },
      "execution_count": null,
      "outputs": [
        {
          "output_type": "stream",
          "name": "stdout",
          "text": [
            "Account created with Balance 1000\n",
            "500 deposited from 1000\n",
            "1500 credited to 500\n",
            "Available balance is 2000\n"
          ]
        }
      ]
    },
    {
      "cell_type": "code",
      "source": [
        "class Grades():\n",
        "  def __init__(self,name,number_of_subjects):\n",
        "    self.name=name\n",
        "    self.number_of_subjects=number_of_subjects\n",
        "    self.sum=0\n",
        "    print(\"Student name is\",self.name)\n",
        "    for i in range(self.number_of_subjects):\n",
        "      self.grades=int(input(\"Enter marks\"))\n",
        "      self.sum+=self.grades\n",
        "  def average(self):\n",
        "    print(self.sum/self.number_of_subjects)\n",
        "\n",
        "c1= Grades(\"Prashanth\",5)\n",
        "c1.average()\n",
        "\n",
        "c2=Grades(\"RatnaTej\",6)\n",
        "c2.average()"
      ],
      "metadata": {
        "colab": {
          "base_uri": "https://localhost:8080/"
        },
        "id": "it44p8qfmJJx",
        "outputId": "61367e38-64d7-4fdf-897c-ab8b8652535a"
      },
      "execution_count": null,
      "outputs": [
        {
          "output_type": "stream",
          "name": "stdout",
          "text": [
            "Student name is Prashanth\n",
            "Enter marks22\n",
            "Enter marks33\n",
            "Enter marks44\n",
            "Enter marks55\n",
            "Enter marks66\n",
            "44.0\n",
            "Student name is RatnaTej\n",
            "Enter marks22\n",
            "Enter marks44\n",
            "Enter marks66\n",
            "Enter marks88\n",
            "Enter marks100\n",
            "Enter marks99\n",
            "69.83333333333333\n"
          ]
        }
      ]
    },
    {
      "cell_type": "code",
      "source": [
        "class circle():\n",
        "  pi=3.14\n",
        "  def area(self,radius):\n",
        "    self.radius=radius\n",
        "    print(circle.pi*self.radius**2)\n",
        "\n",
        "c1=circle()\n",
        "c1.area(2)\n",
        "c1.area(3)"
      ],
      "metadata": {
        "colab": {
          "base_uri": "https://localhost:8080/"
        },
        "id": "AZ-6JRymsLiB",
        "outputId": "79496e8e-74a2-4b50-c804-81929166fb9f"
      },
      "execution_count": null,
      "outputs": [
        {
          "output_type": "stream",
          "name": "stdout",
          "text": [
            "12.56\n",
            "28.26\n"
          ]
        }
      ]
    },
    {
      "cell_type": "code",
      "source": [
        "class count():\n",
        "  value=int(input(\"enter value\"))\n",
        "  def increment(self):\n",
        "    count.value+=1\n",
        "    print(count.value)\n",
        "  def decrement(self):\n",
        "    count.value-=1\n",
        "    print(count.value)\n",
        "\n",
        "c1=count()\n",
        "c1.increment()\n",
        "c1.increment()\n",
        "c1.decrement()"
      ],
      "metadata": {
        "colab": {
          "base_uri": "https://localhost:8080/"
        },
        "id": "Xr4ZhjOZvRD0",
        "outputId": "b88f97cd-b7ba-44bf-a55a-3e03e2c47694"
      },
      "execution_count": null,
      "outputs": [
        {
          "output_type": "stream",
          "name": "stdout",
          "text": [
            "enter value23\n",
            "24\n",
            "25\n",
            "24\n"
          ]
        }
      ]
    },
    {
      "cell_type": "code",
      "source": [
        "class Book():\n",
        "  def __init__(self,title,author,year):\n",
        "    self.title=title\n",
        "    self.author=author\n",
        "    self.year=year\n",
        "  def display(self):\n",
        "    print(\"The title of the book is\",self.title)\n",
        "    print(\"The author of the book is\",self.author)\n",
        "    print(\"The year the book is published on is\",self.year)\n",
        "\n",
        "b1=Book(\"nenu naa picchi\",\"nenu\",1989)\n",
        "b1.display()"
      ],
      "metadata": {
        "colab": {
          "base_uri": "https://localhost:8080/"
        },
        "id": "VsZtqV0GxTiS",
        "outputId": "b086ed18-c1b4-4a62-ced7-8044d8008aaa"
      },
      "execution_count": null,
      "outputs": [
        {
          "output_type": "stream",
          "name": "stdout",
          "text": [
            "The title of the book is nenu naa picchi\n",
            "The author of the book is nenu\n",
            "The year the book is published on is 1989\n"
          ]
        }
      ]
    },
    {
      "cell_type": "code",
      "source": [
        "class Employee():\n",
        "  id_count=0\n",
        "  def __init__(self,name):\n",
        "    Employee.id_count+=1\n",
        "\n",
        "    self.user_id=Employee.id_count\n",
        "    self.name=name\n",
        "\n",
        "    print(f\"Employee id: {self.user_id} Employee name: {self.name}\")\n",
        "\n",
        "\n",
        "e1=Employee(\"Prashanth\")\n",
        "e2=Employee(\"Poornima\")\n",
        "e3=Employee(\"RatnaTej\")"
      ],
      "metadata": {
        "colab": {
          "base_uri": "https://localhost:8080/"
        },
        "id": "squHLhnyx_Gu",
        "outputId": "cb9e59fc-4547-473a-d941-6f5d052ef807"
      },
      "execution_count": null,
      "outputs": [
        {
          "output_type": "stream",
          "name": "stdout",
          "text": [
            "Employee id: 1 Employee name: Prashanth\n",
            "Employee id: 2 Employee name: Poornima\n",
            "Employee id: 3 Employee name: RatnaTej\n"
          ]
        }
      ]
    },
    {
      "cell_type": "code",
      "source": [
        "class temp():\n",
        "  def __init__(self,celsius):\n",
        "    self.celsius=celsius\n",
        "    print(\"Temperature in celsius\",self.celsius)\n",
        "\n",
        "\n",
        "  def farenheit(self):\n",
        "\n",
        "    # (0°C x 9/5) + 32 = 32°F\n",
        "\n",
        "    self.farenheit= (self.celsius * (9/5)) + 32\n",
        "    print(\"Temperature in Farenheit\",self.farenheit)\n",
        "\n",
        "  def kelvin(self):\n",
        "\n",
        "    # 0°C + 273.15 = 273.15K\n",
        "\n",
        "    self.kelvin = (self.celsius + 273.15)\n",
        "    print(\"Temperature in Kelvin\",self.kelvin)\n",
        "\n",
        "\n",
        "cel_temp=int(input(\"Enter temperature in celsius: \"))\n",
        "\n",
        "t1=temp(cel_temp)\n",
        "t1.farenheit()\n",
        "t1.kelvin()"
      ],
      "metadata": {
        "colab": {
          "base_uri": "https://localhost:8080/"
        },
        "id": "oW5x27s6z2_V",
        "outputId": "c9e10280-3b44-465d-b6f7-b9b79bbe8a42"
      },
      "execution_count": null,
      "outputs": [
        {
          "output_type": "stream",
          "name": "stdout",
          "text": [
            "Enter temperature in celsius: 39\n",
            "Temperature in celsius 39\n",
            "Temperature in Farenheit 102.2\n",
            "Temperature in Kelvin 312.15\n"
          ]
        }
      ]
    },
    {
      "cell_type": "code",
      "source": [
        "class list_cons():\n",
        "  def __init__(self,list1):\n",
        "    self.list1=list1\n",
        "    print(self.list1)\n",
        "  def sum(self):\n",
        "    self.sum=0\n",
        "    for i in self.list1:\n",
        "      self.sum=self.sum+i\n",
        "    print(self.sum)\n",
        "  def max(self):\n",
        "    print(max(self.list1))\n",
        "\n",
        "l1=list_cons([1,2,3,4,5,6,7,8,9,10])\n",
        "l1.sum()\n",
        "l1.max()"
      ],
      "metadata": {
        "colab": {
          "base_uri": "https://localhost:8080/"
        },
        "id": "Twr0-AE_1cRO",
        "outputId": "fc3b6e88-be79-4bf2-dbae-41d3ce1c2293"
      },
      "execution_count": null,
      "outputs": [
        {
          "output_type": "stream",
          "name": "stdout",
          "text": [
            "[1, 2, 3, 4, 5, 6, 7, 8, 9, 10]\n",
            "55\n",
            "10\n"
          ]
        }
      ]
    },
    {
      "cell_type": "code",
      "source": [
        "class Shapes():\n",
        "  def __init__(self,name):\n",
        "    self.name = name\n",
        "    print(self.name)\n",
        "\n",
        "class circle(Shapes):\n",
        "  def __init__(self):\n",
        "    super().__init__(\"Circle\")\n",
        "\n",
        "class rectangle(Shapes):\n",
        "  def __init__(self):\n",
        "    super().__init__(\"Rectangle\")\n",
        "\n",
        "\n",
        "c = circle()\n",
        "r = rectangle()"
      ],
      "metadata": {
        "colab": {
          "base_uri": "https://localhost:8080/"
        },
        "id": "mUng6bBV3K5M",
        "outputId": "c7eefb0d-8fad-44d5-97d5-db9c5c18ea6a"
      },
      "execution_count": null,
      "outputs": [
        {
          "output_type": "stream",
          "name": "stdout",
          "text": [
            "Circle\n",
            "Rectangle\n"
          ]
        }
      ]
    }
  ]
}